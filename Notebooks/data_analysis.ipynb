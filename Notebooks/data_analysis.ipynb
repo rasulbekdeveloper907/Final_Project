{
 "cells": [
  {
   "cell_type": "code",
   "execution_count": 1,
   "id": "9047cddb",
   "metadata": {},
   "outputs": [],
   "source": [
    "import pandas as pd\n",
    "import logging\n",
    "\n",
    "# Log fayl manzili\n",
    "log_path = r\"C:\\Users\\Rasulbek907\\Desktop\\Final_Project\\Log\\data_loader.log\"\n",
    "\n",
    "# Log sozlamalari\n",
    "logging.basicConfig(\n",
    "    filename=log_path,\n",
    "    filemode='a',  # Append mode\n",
    "    format='%(asctime)s - %(levelname)s - %(message)s',\n",
    "    level=logging.INFO\n",
    ")\n",
    "\n",
    "try:\n",
    "    logging.info(\"CSV fayl o'qilmoqda:...\")\n",
    "    df = pd.read_csv(r\"C:\\Users\\Rasulbek907\\Desktop\\Final_Project\\Data\\Preprosessed_data\\Clustering.csv\")\n",
    "    logging.info(f\"Fayl muvaffaqiyatli o'qildi. Satırlar soni: {len(df)} ustunlar soni: {len(df.columns)}\")\n",
    "except Exception as e:\n",
    "    logging.error(f\"CSV faylni o'qishda xatolik: {e}\")"
   ]
  },
  {
   "cell_type": "code",
   "execution_count": 2,
   "id": "17afbd59",
   "metadata": {},
   "outputs": [
    {
     "data": {
      "text/html": [
       "<div>\n",
       "<style scoped>\n",
       "    .dataframe tbody tr th:only-of-type {\n",
       "        vertical-align: middle;\n",
       "    }\n",
       "\n",
       "    .dataframe tbody tr th {\n",
       "        vertical-align: top;\n",
       "    }\n",
       "\n",
       "    .dataframe thead th {\n",
       "        text-align: right;\n",
       "    }\n",
       "</style>\n",
       "<table border=\"1\" class=\"dataframe\">\n",
       "  <thead>\n",
       "    <tr style=\"text-align: right;\">\n",
       "      <th></th>\n",
       "      <th>Unnamed: 0.1</th>\n",
       "      <th>Unnamed: 0</th>\n",
       "      <th>name</th>\n",
       "      <th>birth_date</th>\n",
       "      <th>birth_place</th>\n",
       "      <th>death_date</th>\n",
       "      <th>death_place</th>\n",
       "      <th>occupation</th>\n",
       "      <th>awards</th>\n",
       "      <th>alma_mater</th>\n",
       "      <th>education</th>\n",
       "      <th>spouse</th>\n",
       "      <th>children</th>\n",
       "      <th>occupation_cluster</th>\n",
       "      <th>birth_year</th>\n",
       "      <th>death_year</th>\n",
       "      <th>life_span</th>\n",
       "      <th>life_span_cluster</th>\n",
       "      <th>edu_award_cluster</th>\n",
       "      <th>bio_cluster</th>\n",
       "    </tr>\n",
       "  </thead>\n",
       "  <tbody>\n",
       "    <tr>\n",
       "      <th>0</th>\n",
       "      <td>0</td>\n",
       "      <td>0</td>\n",
       "      <td>Isaac Newton</td>\n",
       "      <td>{{Birth date|df=y|1643|01|04}}</td>\n",
       "      <td>{{nowrap|[[Woolsthorpe-by-Colsterworth]],}} Li...</td>\n",
       "      <td>{{Death date and age|df=y|1727|03|31|1643|01|04}}</td>\n",
       "      <td>[[Kensington]], Middlesex, England</td>\n",
       "      <td>Composer</td>\n",
       "      <td>{{unbulleted list | [[Fellow of the Royal Soci...</td>\n",
       "      <td>[[King's College London]]</td>\n",
       "      <td>[[Trinity College, Cambridge]] ([[Bachelor of ...</td>\n",
       "      <td>{{plainlist|</td>\n",
       "      <td>2</td>\n",
       "      <td>0</td>\n",
       "      <td>1643.0</td>\n",
       "      <td>1727.0</td>\n",
       "      <td>84.0</td>\n",
       "      <td>2.0</td>\n",
       "      <td>3</td>\n",
       "      <td>1</td>\n",
       "    </tr>\n",
       "    <tr>\n",
       "      <th>1</th>\n",
       "      <td>1</td>\n",
       "      <td>1</td>\n",
       "      <td>Marie Curie</td>\n",
       "      <td>{{birth date|df=y|1867|11|7}}</td>\n",
       "      <td>[[Warsaw]], [[Congress Poland|Poland]], Russia...</td>\n",
       "      <td>{{death date and age|df=y|1934|7|4|1867|11|7}}</td>\n",
       "      <td>[[Passy, Haute-Savoie|Passy]], [[Rhône-Alpes]]...</td>\n",
       "      <td>Composer</td>\n",
       "      <td>}}</td>\n",
       "      <td>[[University of Paris]]</td>\n",
       "      <td>[[Visva-Bharati University]] (dropped out)&lt;ref...</td>\n",
       "      <td>{{plainlist|</td>\n",
       "      <td>2</td>\n",
       "      <td>0</td>\n",
       "      <td>1867.0</td>\n",
       "      <td>1934.0</td>\n",
       "      <td>67.0</td>\n",
       "      <td>2.0</td>\n",
       "      <td>1</td>\n",
       "      <td>0</td>\n",
       "    </tr>\n",
       "    <tr>\n",
       "      <th>2</th>\n",
       "      <td>2</td>\n",
       "      <td>2</td>\n",
       "      <td>Albert Einstein</td>\n",
       "      <td>{{Birth date|df=yes|1879|3|14}}</td>\n",
       "      <td>[[Ulm]], [[Kingdom of Württemberg]], Germany&lt;r...</td>\n",
       "      <td>{{Death date and age|df=yes|1955|4|18|1879|3|14}}</td>\n",
       "      <td>[[Princeton, New Jersey]], U.S.</td>\n",
       "      <td>Composer</td>\n",
       "      <td>}}</td>\n",
       "      <td>[[King's College London]]</td>\n",
       "      <td>[[Visva-Bharati University]] (dropped out)&lt;ref...</td>\n",
       "      <td>{{plainlist|</td>\n",
       "      <td>{{flatlist|</td>\n",
       "      <td>0</td>\n",
       "      <td>1879.0</td>\n",
       "      <td>1955.0</td>\n",
       "      <td>76.0</td>\n",
       "      <td>2.0</td>\n",
       "      <td>1</td>\n",
       "      <td>0</td>\n",
       "    </tr>\n",
       "    <tr>\n",
       "      <th>3</th>\n",
       "      <td>3</td>\n",
       "      <td>3</td>\n",
       "      <td>The Countess of Lovelace</td>\n",
       "      <td>{{birth date|df=y|1815|12|10}}</td>\n",
       "      <td>London, England</td>\n",
       "      <td>{{death date and age|df=y|1852|11|27|1815|12|10}}</td>\n",
       "      <td>[[Marylebone]], London, England</td>\n",
       "      <td>Composer</td>\n",
       "      <td>}}</td>\n",
       "      <td>[[King's College London]]</td>\n",
       "      <td>[[Visva-Bharati University]] (dropped out)&lt;ref...</td>\n",
       "      <td>{{marriage|[[William King-Noel, 1st Earl of Lo...</td>\n",
       "      <td>{{plainlist|</td>\n",
       "      <td>0</td>\n",
       "      <td>1815.0</td>\n",
       "      <td>1852.0</td>\n",
       "      <td>37.0</td>\n",
       "      <td>2.0</td>\n",
       "      <td>1</td>\n",
       "      <td>0</td>\n",
       "    </tr>\n",
       "    <tr>\n",
       "      <th>4</th>\n",
       "      <td>4</td>\n",
       "      <td>4</td>\n",
       "      <td>Leonardo da Vinci</td>\n",
       "      <td>{{birth date|df=yes|1452|04|15}}</td>\n",
       "      <td>possibly [[Anchiano]],{{efn|name=Birthplace}} ...</td>\n",
       "      <td>{{death date and age|df=yes|1519|5|2|1452|4|15}}</td>\n",
       "      <td>[[Clos Lucé]], [[Amboise]], {{awrap|[[Kingdom ...</td>\n",
       "      <td>Composer</td>\n",
       "      <td>}}</td>\n",
       "      <td>[[King's College London]]</td>\n",
       "      <td>Studio of [[Andrea del Verrocchio]]</td>\n",
       "      <td>{{plainlist|</td>\n",
       "      <td>2</td>\n",
       "      <td>0</td>\n",
       "      <td>1452.0</td>\n",
       "      <td>1519.0</td>\n",
       "      <td>67.0</td>\n",
       "      <td>5.0</td>\n",
       "      <td>3</td>\n",
       "      <td>3</td>\n",
       "    </tr>\n",
       "  </tbody>\n",
       "</table>\n",
       "</div>"
      ],
      "text/plain": [
       "   Unnamed: 0.1  Unnamed: 0                      name  \\\n",
       "0             0           0              Isaac Newton   \n",
       "1             1           1               Marie Curie   \n",
       "2             2           2           Albert Einstein   \n",
       "3             3           3  The Countess of Lovelace   \n",
       "4             4           4         Leonardo da Vinci   \n",
       "\n",
       "                         birth_date  \\\n",
       "0    {{Birth date|df=y|1643|01|04}}   \n",
       "1     {{birth date|df=y|1867|11|7}}   \n",
       "2   {{Birth date|df=yes|1879|3|14}}   \n",
       "3    {{birth date|df=y|1815|12|10}}   \n",
       "4  {{birth date|df=yes|1452|04|15}}   \n",
       "\n",
       "                                         birth_place  \\\n",
       "0  {{nowrap|[[Woolsthorpe-by-Colsterworth]],}} Li...   \n",
       "1  [[Warsaw]], [[Congress Poland|Poland]], Russia...   \n",
       "2  [[Ulm]], [[Kingdom of Württemberg]], Germany<r...   \n",
       "3                                    London, England   \n",
       "4  possibly [[Anchiano]],{{efn|name=Birthplace}} ...   \n",
       "\n",
       "                                          death_date  \\\n",
       "0  {{Death date and age|df=y|1727|03|31|1643|01|04}}   \n",
       "1     {{death date and age|df=y|1934|7|4|1867|11|7}}   \n",
       "2  {{Death date and age|df=yes|1955|4|18|1879|3|14}}   \n",
       "3  {{death date and age|df=y|1852|11|27|1815|12|10}}   \n",
       "4   {{death date and age|df=yes|1519|5|2|1452|4|15}}   \n",
       "\n",
       "                                         death_place occupation  \\\n",
       "0                 [[Kensington]], Middlesex, England   Composer   \n",
       "1  [[Passy, Haute-Savoie|Passy]], [[Rhône-Alpes]]...   Composer   \n",
       "2                    [[Princeton, New Jersey]], U.S.   Composer   \n",
       "3                    [[Marylebone]], London, England   Composer   \n",
       "4  [[Clos Lucé]], [[Amboise]], {{awrap|[[Kingdom ...   Composer   \n",
       "\n",
       "                                              awards  \\\n",
       "0  {{unbulleted list | [[Fellow of the Royal Soci...   \n",
       "1                                                 }}   \n",
       "2                                                 }}   \n",
       "3                                                 }}   \n",
       "4                                                 }}   \n",
       "\n",
       "                  alma_mater  \\\n",
       "0  [[King's College London]]   \n",
       "1    [[University of Paris]]   \n",
       "2  [[King's College London]]   \n",
       "3  [[King's College London]]   \n",
       "4  [[King's College London]]   \n",
       "\n",
       "                                           education  \\\n",
       "0  [[Trinity College, Cambridge]] ([[Bachelor of ...   \n",
       "1  [[Visva-Bharati University]] (dropped out)<ref...   \n",
       "2  [[Visva-Bharati University]] (dropped out)<ref...   \n",
       "3  [[Visva-Bharati University]] (dropped out)<ref...   \n",
       "4                Studio of [[Andrea del Verrocchio]]   \n",
       "\n",
       "                                              spouse      children  \\\n",
       "0                                       {{plainlist|             2   \n",
       "1                                       {{plainlist|             2   \n",
       "2                                       {{plainlist|   {{flatlist|   \n",
       "3  {{marriage|[[William King-Noel, 1st Earl of Lo...  {{plainlist|   \n",
       "4                                       {{plainlist|             2   \n",
       "\n",
       "   occupation_cluster  birth_year  death_year  life_span  life_span_cluster  \\\n",
       "0                   0      1643.0      1727.0       84.0                2.0   \n",
       "1                   0      1867.0      1934.0       67.0                2.0   \n",
       "2                   0      1879.0      1955.0       76.0                2.0   \n",
       "3                   0      1815.0      1852.0       37.0                2.0   \n",
       "4                   0      1452.0      1519.0       67.0                5.0   \n",
       "\n",
       "   edu_award_cluster  bio_cluster  \n",
       "0                  3            1  \n",
       "1                  1            0  \n",
       "2                  1            0  \n",
       "3                  1            0  \n",
       "4                  3            3  "
      ]
     },
     "execution_count": 2,
     "metadata": {},
     "output_type": "execute_result"
    }
   ],
   "source": [
    "df.head()"
   ]
  },
  {
   "cell_type": "code",
   "execution_count": 3,
   "id": "9836b8ab",
   "metadata": {},
   "outputs": [
    {
     "name": "stdout",
     "output_type": "stream",
     "text": [
      "<class 'pandas.core.frame.DataFrame'>\n",
      "RangeIndex: 2022 entries, 0 to 2021\n",
      "Data columns (total 20 columns):\n",
      " #   Column              Non-Null Count  Dtype  \n",
      "---  ------              --------------  -----  \n",
      " 0   Unnamed: 0.1        2022 non-null   int64  \n",
      " 1   Unnamed: 0          2022 non-null   int64  \n",
      " 2   name                2022 non-null   object \n",
      " 3   birth_date          2022 non-null   object \n",
      " 4   birth_place         2022 non-null   object \n",
      " 5   death_date          2022 non-null   object \n",
      " 6   death_place         2022 non-null   object \n",
      " 7   occupation          2022 non-null   object \n",
      " 8   awards              2022 non-null   object \n",
      " 9   alma_mater          2022 non-null   object \n",
      " 10  education           2022 non-null   object \n",
      " 11  spouse              2022 non-null   object \n",
      " 12  children            2022 non-null   object \n",
      " 13  occupation_cluster  2022 non-null   int64  \n",
      " 14  birth_year          2022 non-null   float64\n",
      " 15  death_year          2022 non-null   float64\n",
      " 16  life_span           2022 non-null   float64\n",
      " 17  life_span_cluster   2022 non-null   float64\n",
      " 18  edu_award_cluster   2022 non-null   int64  \n",
      " 19  bio_cluster         2022 non-null   int64  \n",
      "dtypes: float64(4), int64(5), object(11)\n",
      "memory usage: 316.1+ KB\n"
     ]
    }
   ],
   "source": [
    "df.info()"
   ]
  },
  {
   "cell_type": "code",
   "execution_count": 3,
   "id": "1254e5f9",
   "metadata": {},
   "outputs": [],
   "source": [
    "df = df.drop(['Unnamed: 0.1', 'Unnamed: 0'], axis=1)\n"
   ]
  },
  {
   "cell_type": "code",
   "execution_count": 4,
   "id": "8709b6bf",
   "metadata": {},
   "outputs": [
    {
     "name": "stdout",
     "output_type": "stream",
     "text": [
      "<class 'pandas.core.frame.DataFrame'>\n",
      "RangeIndex: 2022 entries, 0 to 2021\n",
      "Data columns (total 18 columns):\n",
      " #   Column              Non-Null Count  Dtype  \n",
      "---  ------              --------------  -----  \n",
      " 0   name                2022 non-null   object \n",
      " 1   birth_date          2022 non-null   object \n",
      " 2   birth_place         2022 non-null   object \n",
      " 3   death_date          2022 non-null   object \n",
      " 4   death_place         2022 non-null   object \n",
      " 5   occupation          2022 non-null   object \n",
      " 6   awards              2022 non-null   object \n",
      " 7   alma_mater          2022 non-null   object \n",
      " 8   education           2022 non-null   object \n",
      " 9   spouse              2022 non-null   object \n",
      " 10  children            2022 non-null   object \n",
      " 11  occupation_cluster  2022 non-null   int64  \n",
      " 12  birth_year          2022 non-null   float64\n",
      " 13  death_year          2022 non-null   float64\n",
      " 14  life_span           2022 non-null   float64\n",
      " 15  life_span_cluster   2022 non-null   float64\n",
      " 16  edu_award_cluster   2022 non-null   int64  \n",
      " 17  bio_cluster         2022 non-null   int64  \n",
      "dtypes: float64(4), int64(3), object(11)\n",
      "memory usage: 284.5+ KB\n"
     ]
    }
   ],
   "source": [
    "df.info()"
   ]
  },
  {
   "cell_type": "code",
   "execution_count": 5,
   "id": "1c5e2418",
   "metadata": {},
   "outputs": [],
   "source": [
    "df['life_span'] = df['life_span'].abs()"
   ]
  },
  {
   "cell_type": "markdown",
   "id": "72922029",
   "metadata": {},
   "source": [
    "# Histogramma – odamlar nechchi yil yashaganini ko'rish:"
   ]
  },
  {
   "cell_type": "code",
   "execution_count": 8,
   "id": "444c3aaf",
   "metadata": {},
   "outputs": [
    {
     "data": {
      "application/vnd.plotly.v1+json": {
       "config": {
        "plotlyServerURL": "https://plot.ly"
       },
       "data": [
        {
         "bingroup": "x",
         "hovertemplate": "Yillar=%{x}<br>count=%{y}<extra></extra>",
         "legendgroup": "",
         "marker": {
          "color": "#636efa",
          "pattern": {
           "shape": ""
          }
         },
         "name": "",
         "nbinsx": 20,
         "orientation": "v",
         "showlegend": false,
         "type": "histogram",
         "x": {
          "bdata": "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",
          "dtype": "f8"
         },
         "xaxis": "x",
         "yaxis": "y"
        }
       ],
       "layout": {
        "bargap": 0.1,
        "barmode": "relative",
        "legend": {
         "tracegroupgap": 0
        },
        "template": {
         "data": {
          "bar": [
           {
            "error_x": {
             "color": "#2a3f5f"
            },
            "error_y": {
             "color": "#2a3f5f"
            },
            "marker": {
             "line": {
              "color": "#E5ECF6",
              "width": 0.5
             },
             "pattern": {
              "fillmode": "overlay",
              "size": 10,
              "solidity": 0.2
             }
            },
            "type": "bar"
           }
          ],
          "barpolar": [
           {
            "marker": {
             "line": {
              "color": "#E5ECF6",
              "width": 0.5
             },
             "pattern": {
              "fillmode": "overlay",
              "size": 10,
              "solidity": 0.2
             }
            },
            "type": "barpolar"
           }
          ],
          "carpet": [
           {
            "aaxis": {
             "endlinecolor": "#2a3f5f",
             "gridcolor": "white",
             "linecolor": "white",
             "minorgridcolor": "white",
             "startlinecolor": "#2a3f5f"
            },
            "baxis": {
             "endlinecolor": "#2a3f5f",
             "gridcolor": "white",
             "linecolor": "white",
             "minorgridcolor": "white",
             "startlinecolor": "#2a3f5f"
            },
            "type": "carpet"
           }
          ],
          "choropleth": [
           {
            "colorbar": {
             "outlinewidth": 0,
             "ticks": ""
            },
            "type": "choropleth"
           }
          ],
          "contour": [
           {
            "colorbar": {
             "outlinewidth": 0,
             "ticks": ""
            },
            "colorscale": [
             [
              0,
              "#0d0887"
             ],
             [
              0.1111111111111111,
              "#46039f"
             ],
             [
              0.2222222222222222,
              "#7201a8"
             ],
             [
              0.3333333333333333,
              "#9c179e"
             ],
             [
              0.4444444444444444,
              "#bd3786"
             ],
             [
              0.5555555555555556,
              "#d8576b"
             ],
             [
              0.6666666666666666,
              "#ed7953"
             ],
             [
              0.7777777777777778,
              "#fb9f3a"
             ],
             [
              0.8888888888888888,
              "#fdca26"
             ],
             [
              1,
              "#f0f921"
             ]
            ],
            "type": "contour"
           }
          ],
          "contourcarpet": [
           {
            "colorbar": {
             "outlinewidth": 0,
             "ticks": ""
            },
            "type": "contourcarpet"
           }
          ],
          "heatmap": [
           {
            "colorbar": {
             "outlinewidth": 0,
             "ticks": ""
            },
            "colorscale": [
             [
              0,
              "#0d0887"
             ],
             [
              0.1111111111111111,
              "#46039f"
             ],
             [
              0.2222222222222222,
              "#7201a8"
             ],
             [
              0.3333333333333333,
              "#9c179e"
             ],
             [
              0.4444444444444444,
              "#bd3786"
             ],
             [
              0.5555555555555556,
              "#d8576b"
             ],
             [
              0.6666666666666666,
              "#ed7953"
             ],
             [
              0.7777777777777778,
              "#fb9f3a"
             ],
             [
              0.8888888888888888,
              "#fdca26"
             ],
             [
              1,
              "#f0f921"
             ]
            ],
            "type": "heatmap"
           }
          ],
          "histogram": [
           {
            "marker": {
             "pattern": {
              "fillmode": "overlay",
              "size": 10,
              "solidity": 0.2
             }
            },
            "type": "histogram"
           }
          ],
          "histogram2d": [
           {
            "colorbar": {
             "outlinewidth": 0,
             "ticks": ""
            },
            "colorscale": [
             [
              0,
              "#0d0887"
             ],
             [
              0.1111111111111111,
              "#46039f"
             ],
             [
              0.2222222222222222,
              "#7201a8"
             ],
             [
              0.3333333333333333,
              "#9c179e"
             ],
             [
              0.4444444444444444,
              "#bd3786"
             ],
             [
              0.5555555555555556,
              "#d8576b"
             ],
             [
              0.6666666666666666,
              "#ed7953"
             ],
             [
              0.7777777777777778,
              "#fb9f3a"
             ],
             [
              0.8888888888888888,
              "#fdca26"
             ],
             [
              1,
              "#f0f921"
             ]
            ],
            "type": "histogram2d"
           }
          ],
          "histogram2dcontour": [
           {
            "colorbar": {
             "outlinewidth": 0,
             "ticks": ""
            },
            "colorscale": [
             [
              0,
              "#0d0887"
             ],
             [
              0.1111111111111111,
              "#46039f"
             ],
             [
              0.2222222222222222,
              "#7201a8"
             ],
             [
              0.3333333333333333,
              "#9c179e"
             ],
             [
              0.4444444444444444,
              "#bd3786"
             ],
             [
              0.5555555555555556,
              "#d8576b"
             ],
             [
              0.6666666666666666,
              "#ed7953"
             ],
             [
              0.7777777777777778,
              "#fb9f3a"
             ],
             [
              0.8888888888888888,
              "#fdca26"
             ],
             [
              1,
              "#f0f921"
             ]
            ],
            "type": "histogram2dcontour"
           }
          ],
          "mesh3d": [
           {
            "colorbar": {
             "outlinewidth": 0,
             "ticks": ""
            },
            "type": "mesh3d"
           }
          ],
          "parcoords": [
           {
            "line": {
             "colorbar": {
              "outlinewidth": 0,
              "ticks": ""
             }
            },
            "type": "parcoords"
           }
          ],
          "pie": [
           {
            "automargin": true,
            "type": "pie"
           }
          ],
          "scatter": [
           {
            "fillpattern": {
             "fillmode": "overlay",
             "size": 10,
             "solidity": 0.2
            },
            "type": "scatter"
           }
          ],
          "scatter3d": [
           {
            "line": {
             "colorbar": {
              "outlinewidth": 0,
              "ticks": ""
             }
            },
            "marker": {
             "colorbar": {
              "outlinewidth": 0,
              "ticks": ""
             }
            },
            "type": "scatter3d"
           }
          ],
          "scattercarpet": [
           {
            "marker": {
             "colorbar": {
              "outlinewidth": 0,
              "ticks": ""
             }
            },
            "type": "scattercarpet"
           }
          ],
          "scattergeo": [
           {
            "marker": {
             "colorbar": {
              "outlinewidth": 0,
              "ticks": ""
             }
            },
            "type": "scattergeo"
           }
          ],
          "scattergl": [
           {
            "marker": {
             "colorbar": {
              "outlinewidth": 0,
              "ticks": ""
             }
            },
            "type": "scattergl"
           }
          ],
          "scattermap": [
           {
            "marker": {
             "colorbar": {
              "outlinewidth": 0,
              "ticks": ""
             }
            },
            "type": "scattermap"
           }
          ],
          "scattermapbox": [
           {
            "marker": {
             "colorbar": {
              "outlinewidth": 0,
              "ticks": ""
             }
            },
            "type": "scattermapbox"
           }
          ],
          "scatterpolar": [
           {
            "marker": {
             "colorbar": {
              "outlinewidth": 0,
              "ticks": ""
             }
            },
            "type": "scatterpolar"
           }
          ],
          "scatterpolargl": [
           {
            "marker": {
             "colorbar": {
              "outlinewidth": 0,
              "ticks": ""
             }
            },
            "type": "scatterpolargl"
           }
          ],
          "scatterternary": [
           {
            "marker": {
             "colorbar": {
              "outlinewidth": 0,
              "ticks": ""
             }
            },
            "type": "scatterternary"
           }
          ],
          "surface": [
           {
            "colorbar": {
             "outlinewidth": 0,
             "ticks": ""
            },
            "colorscale": [
             [
              0,
              "#0d0887"
             ],
             [
              0.1111111111111111,
              "#46039f"
             ],
             [
              0.2222222222222222,
              "#7201a8"
             ],
             [
              0.3333333333333333,
              "#9c179e"
             ],
             [
              0.4444444444444444,
              "#bd3786"
             ],
             [
              0.5555555555555556,
              "#d8576b"
             ],
             [
              0.6666666666666666,
              "#ed7953"
             ],
             [
              0.7777777777777778,
              "#fb9f3a"
             ],
             [
              0.8888888888888888,
              "#fdca26"
             ],
             [
              1,
              "#f0f921"
             ]
            ],
            "type": "surface"
           }
          ],
          "table": [
           {
            "cells": {
             "fill": {
              "color": "#EBF0F8"
             },
             "line": {
              "color": "white"
             }
            },
            "header": {
             "fill": {
              "color": "#C8D4E3"
             },
             "line": {
              "color": "white"
             }
            },
            "type": "table"
           }
          ]
         },
         "layout": {
          "annotationdefaults": {
           "arrowcolor": "#2a3f5f",
           "arrowhead": 0,
           "arrowwidth": 1
          },
          "autotypenumbers": "strict",
          "coloraxis": {
           "colorbar": {
            "outlinewidth": 0,
            "ticks": ""
           }
          },
          "colorscale": {
           "diverging": [
            [
             0,
             "#8e0152"
            ],
            [
             0.1,
             "#c51b7d"
            ],
            [
             0.2,
             "#de77ae"
            ],
            [
             0.3,
             "#f1b6da"
            ],
            [
             0.4,
             "#fde0ef"
            ],
            [
             0.5,
             "#f7f7f7"
            ],
            [
             0.6,
             "#e6f5d0"
            ],
            [
             0.7,
             "#b8e186"
            ],
            [
             0.8,
             "#7fbc41"
            ],
            [
             0.9,
             "#4d9221"
            ],
            [
             1,
             "#276419"
            ]
           ],
           "sequential": [
            [
             0,
             "#0d0887"
            ],
            [
             0.1111111111111111,
             "#46039f"
            ],
            [
             0.2222222222222222,
             "#7201a8"
            ],
            [
             0.3333333333333333,
             "#9c179e"
            ],
            [
             0.4444444444444444,
             "#bd3786"
            ],
            [
             0.5555555555555556,
             "#d8576b"
            ],
            [
             0.6666666666666666,
             "#ed7953"
            ],
            [
             0.7777777777777778,
             "#fb9f3a"
            ],
            [
             0.8888888888888888,
             "#fdca26"
            ],
            [
             1,
             "#f0f921"
            ]
           ],
           "sequentialminus": [
            [
             0,
             "#0d0887"
            ],
            [
             0.1111111111111111,
             "#46039f"
            ],
            [
             0.2222222222222222,
             "#7201a8"
            ],
            [
             0.3333333333333333,
             "#9c179e"
            ],
            [
             0.4444444444444444,
             "#bd3786"
            ],
            [
             0.5555555555555556,
             "#d8576b"
            ],
            [
             0.6666666666666666,
             "#ed7953"
            ],
            [
             0.7777777777777778,
             "#fb9f3a"
            ],
            [
             0.8888888888888888,
             "#fdca26"
            ],
            [
             1,
             "#f0f921"
            ]
           ]
          },
          "colorway": [
           "#636efa",
           "#EF553B",
           "#00cc96",
           "#ab63fa",
           "#FFA15A",
           "#19d3f3",
           "#FF6692",
           "#B6E880",
           "#FF97FF",
           "#FECB52"
          ],
          "font": {
           "color": "#2a3f5f"
          },
          "geo": {
           "bgcolor": "white",
           "lakecolor": "white",
           "landcolor": "#E5ECF6",
           "showlakes": true,
           "showland": true,
           "subunitcolor": "white"
          },
          "hoverlabel": {
           "align": "left"
          },
          "hovermode": "closest",
          "mapbox": {
           "style": "light"
          },
          "paper_bgcolor": "white",
          "plot_bgcolor": "#E5ECF6",
          "polar": {
           "angularaxis": {
            "gridcolor": "white",
            "linecolor": "white",
            "ticks": ""
           },
           "bgcolor": "#E5ECF6",
           "radialaxis": {
            "gridcolor": "white",
            "linecolor": "white",
            "ticks": ""
           }
          },
          "scene": {
           "xaxis": {
            "backgroundcolor": "#E5ECF6",
            "gridcolor": "white",
            "gridwidth": 2,
            "linecolor": "white",
            "showbackground": true,
            "ticks": "",
            "zerolinecolor": "white"
           },
           "yaxis": {
            "backgroundcolor": "#E5ECF6",
            "gridcolor": "white",
            "gridwidth": 2,
            "linecolor": "white",
            "showbackground": true,
            "ticks": "",
            "zerolinecolor": "white"
           },
           "zaxis": {
            "backgroundcolor": "#E5ECF6",
            "gridcolor": "white",
            "gridwidth": 2,
            "linecolor": "white",
            "showbackground": true,
            "ticks": "",
            "zerolinecolor": "white"
           }
          },
          "shapedefaults": {
           "line": {
            "color": "#2a3f5f"
           }
          },
          "ternary": {
           "aaxis": {
            "gridcolor": "white",
            "linecolor": "white",
            "ticks": ""
           },
           "baxis": {
            "gridcolor": "white",
            "linecolor": "white",
            "ticks": ""
           },
           "bgcolor": "#E5ECF6",
           "caxis": {
            "gridcolor": "white",
            "linecolor": "white",
            "ticks": ""
           }
          },
          "title": {
           "x": 0.05
          },
          "xaxis": {
           "automargin": true,
           "gridcolor": "white",
           "linecolor": "white",
           "ticks": "",
           "title": {
            "standoff": 15
           },
           "zerolinecolor": "white",
           "zerolinewidth": 2
          },
          "yaxis": {
           "automargin": true,
           "gridcolor": "white",
           "linecolor": "white",
           "ticks": "",
           "title": {
            "standoff": 15
           },
           "zerolinecolor": "white",
           "zerolinewidth": 2
          }
         }
        },
        "title": {
         "text": "Umr davomiyligi taqsimoti (120 yilgacha)"
        },
        "xaxis": {
         "anchor": "y",
         "domain": [
          0,
          1
         ],
         "title": {
          "text": "Yillar"
         }
        },
        "yaxis": {
         "anchor": "x",
         "domain": [
          0,
          1
         ],
         "title": {
          "text": "Odamlar soni"
         }
        }
       }
      }
     },
     "metadata": {},
     "output_type": "display_data"
    }
   ],
   "source": [
    "import plotly.express as px\n",
    "\n",
    "# 120 yilgacha bo'lgan qiymatlarni olish\n",
    "filtered_life_span = df[df['life_span'] <= 120]\n",
    "\n",
    "# Plotly histogrammasi\n",
    "fig = px.histogram(\n",
    "    filtered_life_span,\n",
    "    x='life_span',\n",
    "    nbins=20,\n",
    "    title='Umr davomiyligi taqsimoti (120 yilgacha)',\n",
    "    labels={'life_span': 'Yillar'}\n",
    ")\n",
    "\n",
    "fig.update_layout(\n",
    "    xaxis_title='Yillar',\n",
    "    yaxis_title='Odamlar soni',\n",
    "    bargap=0.1\n",
    ")\n",
    "\n",
    "fig.show()\n"
   ]
  },
  {
   "cell_type": "markdown",
   "id": "f77c83ac",
   "metadata": {},
   "source": [
    "# Liniya grafigi – vaqt o‘tishi bilan tug‘ilgan/olganlar soni:"
   ]
  },
  {
   "cell_type": "markdown",
   "id": "816d39ed",
   "metadata": {},
   "source": [
    "# Bu orqali tarixiy trendlarni ko‘rish mumkin (masalan, qaysi davrda mashhurlar ko‘p tug‘ilgan)."
   ]
  },
  {
   "cell_type": "code",
   "execution_count": 9,
   "id": "8c8598b7",
   "metadata": {},
   "outputs": [
    {
     "data": {
      "application/vnd.plotly.v1+json": {
       "config": {
        "plotlyServerURL": "https://plot.ly"
       },
       "data": [
        {
         "hovertemplate": "Tug'ilgan yil=%{x}<br>Tug'ilganlar soni=%{y}<extra></extra>",
         "legendgroup": "",
         "line": {
          "color": "#636efa",
          "dash": "solid"
         },
         "marker": {
          "symbol": "circle"
         },
         "mode": "lines",
         "name": "",
         "orientation": "v",
         "showlegend": false,
         "type": "scatter",
         "x": {
          "bdata": "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",
          "dtype": "f8"
         },
         "xaxis": "x",
         "y": {
          "bdata": "AwADAAIAAwADAAMAAwADAAIAAwAEAAQABAAIAAQABQADAAEABAAGAAMAAQAGAAIAAQAEAAYAAwACAAIAAQACAAIAAQAGAAEABAABAAEABwAIAAEAAwABAAIAAQABAAQAAQACAAQAAgABAAMAAwABAAIABgADAAYAAgACAAIAAgABAAQABwADAAMAAgACAAIAAwACAAIAAwACAAEAAgACAAIAAgACAAIAAwAEAAIAAQALAAEABAAEAAEAAwACAAcAAgACAAMABwABAAMADgAEAAYADQABAAQABAADAAIABwAFAAUACAAGAAMAAgADAAgAAwAGAAIAAwAFAAcAEAADAAgACAADAAIAAwADAAQAAgAGAAsABgAGAAIABAADAAgAAQBcAAQABAAKAAcABgARAAYABgAEAAkAHAAEAAIACwADAAUACAAJAAMAAQAHAA8ACAADABMABAAJABcAAQASAAcABwAMABUAAwAPAAgAAwAFAAkAIAAMAAkAEAAEAAgAAwAGAAUAEgACAAkAEQAJAAkACgAHABcACwAEAA4ABgAJAAoAEAAJAA0ADAAGABYAFQAJAAcADAAMAAsACQAdAA0AFwANAAsABwARABYADwAIAA4ADwAGAAQABgADAAMABQAEAAEABgAIAAgABwANAAgAAgAFAAYAAgARAQMACwAHAAYABQAEAAQAAgAGAAQAAgAMAAgAAwACAAMAAgACAAMAAgABAAIA",
          "dtype": "i2"
         },
         "yaxis": "y"
        }
       ],
       "layout": {
        "legend": {
         "tracegroupgap": 0
        },
        "template": {
         "data": {
          "bar": [
           {
            "error_x": {
             "color": "#2a3f5f"
            },
            "error_y": {
             "color": "#2a3f5f"
            },
            "marker": {
             "line": {
              "color": "#E5ECF6",
              "width": 0.5
             },
             "pattern": {
              "fillmode": "overlay",
              "size": 10,
              "solidity": 0.2
             }
            },
            "type": "bar"
           }
          ],
          "barpolar": [
           {
            "marker": {
             "line": {
              "color": "#E5ECF6",
              "width": 0.5
             },
             "pattern": {
              "fillmode": "overlay",
              "size": 10,
              "solidity": 0.2
             }
            },
            "type": "barpolar"
           }
          ],
          "carpet": [
           {
            "aaxis": {
             "endlinecolor": "#2a3f5f",
             "gridcolor": "white",
             "linecolor": "white",
             "minorgridcolor": "white",
             "startlinecolor": "#2a3f5f"
            },
            "baxis": {
             "endlinecolor": "#2a3f5f",
             "gridcolor": "white",
             "linecolor": "white",
             "minorgridcolor": "white",
             "startlinecolor": "#2a3f5f"
            },
            "type": "carpet"
           }
          ],
          "choropleth": [
           {
            "colorbar": {
             "outlinewidth": 0,
             "ticks": ""
            },
            "type": "choropleth"
           }
          ],
          "contour": [
           {
            "colorbar": {
             "outlinewidth": 0,
             "ticks": ""
            },
            "colorscale": [
             [
              0,
              "#0d0887"
             ],
             [
              0.1111111111111111,
              "#46039f"
             ],
             [
              0.2222222222222222,
              "#7201a8"
             ],
             [
              0.3333333333333333,
              "#9c179e"
             ],
             [
              0.4444444444444444,
              "#bd3786"
             ],
             [
              0.5555555555555556,
              "#d8576b"
             ],
             [
              0.6666666666666666,
              "#ed7953"
             ],
             [
              0.7777777777777778,
              "#fb9f3a"
             ],
             [
              0.8888888888888888,
              "#fdca26"
             ],
             [
              1,
              "#f0f921"
             ]
            ],
            "type": "contour"
           }
          ],
          "contourcarpet": [
           {
            "colorbar": {
             "outlinewidth": 0,
             "ticks": ""
            },
            "type": "contourcarpet"
           }
          ],
          "heatmap": [
           {
            "colorbar": {
             "outlinewidth": 0,
             "ticks": ""
            },
            "colorscale": [
             [
              0,
              "#0d0887"
             ],
             [
              0.1111111111111111,
              "#46039f"
             ],
             [
              0.2222222222222222,
              "#7201a8"
             ],
             [
              0.3333333333333333,
              "#9c179e"
             ],
             [
              0.4444444444444444,
              "#bd3786"
             ],
             [
              0.5555555555555556,
              "#d8576b"
             ],
             [
              0.6666666666666666,
              "#ed7953"
             ],
             [
              0.7777777777777778,
              "#fb9f3a"
             ],
             [
              0.8888888888888888,
              "#fdca26"
             ],
             [
              1,
              "#f0f921"
             ]
            ],
            "type": "heatmap"
           }
          ],
          "histogram": [
           {
            "marker": {
             "pattern": {
              "fillmode": "overlay",
              "size": 10,
              "solidity": 0.2
             }
            },
            "type": "histogram"
           }
          ],
          "histogram2d": [
           {
            "colorbar": {
             "outlinewidth": 0,
             "ticks": ""
            },
            "colorscale": [
             [
              0,
              "#0d0887"
             ],
             [
              0.1111111111111111,
              "#46039f"
             ],
             [
              0.2222222222222222,
              "#7201a8"
             ],
             [
              0.3333333333333333,
              "#9c179e"
             ],
             [
              0.4444444444444444,
              "#bd3786"
             ],
             [
              0.5555555555555556,
              "#d8576b"
             ],
             [
              0.6666666666666666,
              "#ed7953"
             ],
             [
              0.7777777777777778,
              "#fb9f3a"
             ],
             [
              0.8888888888888888,
              "#fdca26"
             ],
             [
              1,
              "#f0f921"
             ]
            ],
            "type": "histogram2d"
           }
          ],
          "histogram2dcontour": [
           {
            "colorbar": {
             "outlinewidth": 0,
             "ticks": ""
            },
            "colorscale": [
             [
              0,
              "#0d0887"
             ],
             [
              0.1111111111111111,
              "#46039f"
             ],
             [
              0.2222222222222222,
              "#7201a8"
             ],
             [
              0.3333333333333333,
              "#9c179e"
             ],
             [
              0.4444444444444444,
              "#bd3786"
             ],
             [
              0.5555555555555556,
              "#d8576b"
             ],
             [
              0.6666666666666666,
              "#ed7953"
             ],
             [
              0.7777777777777778,
              "#fb9f3a"
             ],
             [
              0.8888888888888888,
              "#fdca26"
             ],
             [
              1,
              "#f0f921"
             ]
            ],
            "type": "histogram2dcontour"
           }
          ],
          "mesh3d": [
           {
            "colorbar": {
             "outlinewidth": 0,
             "ticks": ""
            },
            "type": "mesh3d"
           }
          ],
          "parcoords": [
           {
            "line": {
             "colorbar": {
              "outlinewidth": 0,
              "ticks": ""
             }
            },
            "type": "parcoords"
           }
          ],
          "pie": [
           {
            "automargin": true,
            "type": "pie"
           }
          ],
          "scatter": [
           {
            "fillpattern": {
             "fillmode": "overlay",
             "size": 10,
             "solidity": 0.2
            },
            "type": "scatter"
           }
          ],
          "scatter3d": [
           {
            "line": {
             "colorbar": {
              "outlinewidth": 0,
              "ticks": ""
             }
            },
            "marker": {
             "colorbar": {
              "outlinewidth": 0,
              "ticks": ""
             }
            },
            "type": "scatter3d"
           }
          ],
          "scattercarpet": [
           {
            "marker": {
             "colorbar": {
              "outlinewidth": 0,
              "ticks": ""
             }
            },
            "type": "scattercarpet"
           }
          ],
          "scattergeo": [
           {
            "marker": {
             "colorbar": {
              "outlinewidth": 0,
              "ticks": ""
             }
            },
            "type": "scattergeo"
           }
          ],
          "scattergl": [
           {
            "marker": {
             "colorbar": {
              "outlinewidth": 0,
              "ticks": ""
             }
            },
            "type": "scattergl"
           }
          ],
          "scattermap": [
           {
            "marker": {
             "colorbar": {
              "outlinewidth": 0,
              "ticks": ""
             }
            },
            "type": "scattermap"
           }
          ],
          "scattermapbox": [
           {
            "marker": {
             "colorbar": {
              "outlinewidth": 0,
              "ticks": ""
             }
            },
            "type": "scattermapbox"
           }
          ],
          "scatterpolar": [
           {
            "marker": {
             "colorbar": {
              "outlinewidth": 0,
              "ticks": ""
             }
            },
            "type": "scatterpolar"
           }
          ],
          "scatterpolargl": [
           {
            "marker": {
             "colorbar": {
              "outlinewidth": 0,
              "ticks": ""
             }
            },
            "type": "scatterpolargl"
           }
          ],
          "scatterternary": [
           {
            "marker": {
             "colorbar": {
              "outlinewidth": 0,
              "ticks": ""
             }
            },
            "type": "scatterternary"
           }
          ],
          "surface": [
           {
            "colorbar": {
             "outlinewidth": 0,
             "ticks": ""
            },
            "colorscale": [
             [
              0,
              "#0d0887"
             ],
             [
              0.1111111111111111,
              "#46039f"
             ],
             [
              0.2222222222222222,
              "#7201a8"
             ],
             [
              0.3333333333333333,
              "#9c179e"
             ],
             [
              0.4444444444444444,
              "#bd3786"
             ],
             [
              0.5555555555555556,
              "#d8576b"
             ],
             [
              0.6666666666666666,
              "#ed7953"
             ],
             [
              0.7777777777777778,
              "#fb9f3a"
             ],
             [
              0.8888888888888888,
              "#fdca26"
             ],
             [
              1,
              "#f0f921"
             ]
            ],
            "type": "surface"
           }
          ],
          "table": [
           {
            "cells": {
             "fill": {
              "color": "#EBF0F8"
             },
             "line": {
              "color": "white"
             }
            },
            "header": {
             "fill": {
              "color": "#C8D4E3"
             },
             "line": {
              "color": "white"
             }
            },
            "type": "table"
           }
          ]
         },
         "layout": {
          "annotationdefaults": {
           "arrowcolor": "#2a3f5f",
           "arrowhead": 0,
           "arrowwidth": 1
          },
          "autotypenumbers": "strict",
          "coloraxis": {
           "colorbar": {
            "outlinewidth": 0,
            "ticks": ""
           }
          },
          "colorscale": {
           "diverging": [
            [
             0,
             "#8e0152"
            ],
            [
             0.1,
             "#c51b7d"
            ],
            [
             0.2,
             "#de77ae"
            ],
            [
             0.3,
             "#f1b6da"
            ],
            [
             0.4,
             "#fde0ef"
            ],
            [
             0.5,
             "#f7f7f7"
            ],
            [
             0.6,
             "#e6f5d0"
            ],
            [
             0.7,
             "#b8e186"
            ],
            [
             0.8,
             "#7fbc41"
            ],
            [
             0.9,
             "#4d9221"
            ],
            [
             1,
             "#276419"
            ]
           ],
           "sequential": [
            [
             0,
             "#0d0887"
            ],
            [
             0.1111111111111111,
             "#46039f"
            ],
            [
             0.2222222222222222,
             "#7201a8"
            ],
            [
             0.3333333333333333,
             "#9c179e"
            ],
            [
             0.4444444444444444,
             "#bd3786"
            ],
            [
             0.5555555555555556,
             "#d8576b"
            ],
            [
             0.6666666666666666,
             "#ed7953"
            ],
            [
             0.7777777777777778,
             "#fb9f3a"
            ],
            [
             0.8888888888888888,
             "#fdca26"
            ],
            [
             1,
             "#f0f921"
            ]
           ],
           "sequentialminus": [
            [
             0,
             "#0d0887"
            ],
            [
             0.1111111111111111,
             "#46039f"
            ],
            [
             0.2222222222222222,
             "#7201a8"
            ],
            [
             0.3333333333333333,
             "#9c179e"
            ],
            [
             0.4444444444444444,
             "#bd3786"
            ],
            [
             0.5555555555555556,
             "#d8576b"
            ],
            [
             0.6666666666666666,
             "#ed7953"
            ],
            [
             0.7777777777777778,
             "#fb9f3a"
            ],
            [
             0.8888888888888888,
             "#fdca26"
            ],
            [
             1,
             "#f0f921"
            ]
           ]
          },
          "colorway": [
           "#636efa",
           "#EF553B",
           "#00cc96",
           "#ab63fa",
           "#FFA15A",
           "#19d3f3",
           "#FF6692",
           "#B6E880",
           "#FF97FF",
           "#FECB52"
          ],
          "font": {
           "color": "#2a3f5f"
          },
          "geo": {
           "bgcolor": "white",
           "lakecolor": "white",
           "landcolor": "#E5ECF6",
           "showlakes": true,
           "showland": true,
           "subunitcolor": "white"
          },
          "hoverlabel": {
           "align": "left"
          },
          "hovermode": "closest",
          "mapbox": {
           "style": "light"
          },
          "paper_bgcolor": "white",
          "plot_bgcolor": "#E5ECF6",
          "polar": {
           "angularaxis": {
            "gridcolor": "white",
            "linecolor": "white",
            "ticks": ""
           },
           "bgcolor": "#E5ECF6",
           "radialaxis": {
            "gridcolor": "white",
            "linecolor": "white",
            "ticks": ""
           }
          },
          "scene": {
           "xaxis": {
            "backgroundcolor": "#E5ECF6",
            "gridcolor": "white",
            "gridwidth": 2,
            "linecolor": "white",
            "showbackground": true,
            "ticks": "",
            "zerolinecolor": "white"
           },
           "yaxis": {
            "backgroundcolor": "#E5ECF6",
            "gridcolor": "white",
            "gridwidth": 2,
            "linecolor": "white",
            "showbackground": true,
            "ticks": "",
            "zerolinecolor": "white"
           },
           "zaxis": {
            "backgroundcolor": "#E5ECF6",
            "gridcolor": "white",
            "gridwidth": 2,
            "linecolor": "white",
            "showbackground": true,
            "ticks": "",
            "zerolinecolor": "white"
           }
          },
          "shapedefaults": {
           "line": {
            "color": "#2a3f5f"
           }
          },
          "ternary": {
           "aaxis": {
            "gridcolor": "white",
            "linecolor": "white",
            "ticks": ""
           },
           "baxis": {
            "gridcolor": "white",
            "linecolor": "white",
            "ticks": ""
           },
           "bgcolor": "#E5ECF6",
           "caxis": {
            "gridcolor": "white",
            "linecolor": "white",
            "ticks": ""
           }
          },
          "title": {
           "x": 0.05
          },
          "xaxis": {
           "automargin": true,
           "gridcolor": "white",
           "linecolor": "white",
           "ticks": "",
           "title": {
            "standoff": 15
           },
           "zerolinecolor": "white",
           "zerolinewidth": 2
          },
          "yaxis": {
           "automargin": true,
           "gridcolor": "white",
           "linecolor": "white",
           "ticks": "",
           "title": {
            "standoff": 15
           },
           "zerolinecolor": "white",
           "zerolinewidth": 2
          }
         }
        },
        "title": {
         "text": "Vaqt o'tishi bilan tug'ilganlar soni"
        },
        "xaxis": {
         "anchor": "y",
         "domain": [
          0,
          1
         ],
         "title": {
          "text": "Tug'ilgan yil"
         }
        },
        "yaxis": {
         "anchor": "x",
         "domain": [
          0,
          1
         ],
         "title": {
          "text": "Tug'ilganlar soni"
         }
        }
       }
      }
     },
     "metadata": {},
     "output_type": "display_data"
    }
   ],
   "source": [
    "import plotly.express as px\n",
    "import pandas as pd\n",
    "\n",
    "# Yillar bo‘yicha tug‘ilganlar sonini hisoblash\n",
    "birth_counts = df.groupby('birth_year').size().reset_index(name='count')\n",
    "\n",
    "# Liniya grafik chizish\n",
    "fig = px.line(\n",
    "    birth_counts,\n",
    "    x='birth_year',\n",
    "    y='count',\n",
    "    title=\"Vaqt o'tishi bilan tug'ilganlar soni\",\n",
    "    labels={'birth_year': 'Tug\\'ilgan yil', 'count': 'Tug\\'ilganlar soni'}\n",
    ")\n",
    "\n",
    "fig.show()\n"
   ]
  },
  {
   "cell_type": "markdown",
   "id": "6b16387a",
   "metadata": {},
   "source": [
    "# eng ko‘p uchraydigan kasblar:"
   ]
  },
  {
   "cell_type": "code",
   "execution_count": 10,
   "id": "dffbda43",
   "metadata": {},
   "outputs": [
    {
     "data": {
      "application/vnd.plotly.v1+json": {
       "config": {
        "plotlyServerURL": "https://plot.ly"
       },
       "data": [
        {
         "hovertemplate": "Kasb=%{x}<br>Shaxslar soni=%{text}<extra></extra>",
         "legendgroup": "",
         "marker": {
          "color": "#636efa",
          "pattern": {
           "shape": ""
          }
         },
         "name": "",
         "orientation": "v",
         "showlegend": false,
         "text": {
          "bdata": "AAAAAAD8lUAAAAAAAAAsQAAAAAAAACJAAAAAAAAAIkAAAAAAAAAgQAAAAAAAACBAAAAAAAAAIEAAAAAAAAAgQAAAAAAAABhAAAAAAAAAGEA=",
          "dtype": "f8"
         },
         "textposition": "outside",
         "type": "bar",
         "x": [
          "Composer",
          "Poet",
          "{{hlist|Composer|pianist}}",
          "Novelist",
          "[[Politician]]",
          "Writer",
          "{{hlist|Musician|composer|educator|bandleader}}",
          "Architect",
          "Musician",
          "{{hlist|Pianist|composer|songwriter|bandleader|arranger|conductor|actor}}"
         ],
         "xaxis": "x",
         "y": {
          "bdata": "fwUOAAkACQAIAAgACAAIAAYABgA=",
          "dtype": "i2"
         },
         "yaxis": "y"
        }
       ],
       "layout": {
        "barmode": "relative",
        "legend": {
         "tracegroupgap": 0
        },
        "template": {
         "data": {
          "bar": [
           {
            "error_x": {
             "color": "#2a3f5f"
            },
            "error_y": {
             "color": "#2a3f5f"
            },
            "marker": {
             "line": {
              "color": "#E5ECF6",
              "width": 0.5
             },
             "pattern": {
              "fillmode": "overlay",
              "size": 10,
              "solidity": 0.2
             }
            },
            "type": "bar"
           }
          ],
          "barpolar": [
           {
            "marker": {
             "line": {
              "color": "#E5ECF6",
              "width": 0.5
             },
             "pattern": {
              "fillmode": "overlay",
              "size": 10,
              "solidity": 0.2
             }
            },
            "type": "barpolar"
           }
          ],
          "carpet": [
           {
            "aaxis": {
             "endlinecolor": "#2a3f5f",
             "gridcolor": "white",
             "linecolor": "white",
             "minorgridcolor": "white",
             "startlinecolor": "#2a3f5f"
            },
            "baxis": {
             "endlinecolor": "#2a3f5f",
             "gridcolor": "white",
             "linecolor": "white",
             "minorgridcolor": "white",
             "startlinecolor": "#2a3f5f"
            },
            "type": "carpet"
           }
          ],
          "choropleth": [
           {
            "colorbar": {
             "outlinewidth": 0,
             "ticks": ""
            },
            "type": "choropleth"
           }
          ],
          "contour": [
           {
            "colorbar": {
             "outlinewidth": 0,
             "ticks": ""
            },
            "colorscale": [
             [
              0,
              "#0d0887"
             ],
             [
              0.1111111111111111,
              "#46039f"
             ],
             [
              0.2222222222222222,
              "#7201a8"
             ],
             [
              0.3333333333333333,
              "#9c179e"
             ],
             [
              0.4444444444444444,
              "#bd3786"
             ],
             [
              0.5555555555555556,
              "#d8576b"
             ],
             [
              0.6666666666666666,
              "#ed7953"
             ],
             [
              0.7777777777777778,
              "#fb9f3a"
             ],
             [
              0.8888888888888888,
              "#fdca26"
             ],
             [
              1,
              "#f0f921"
             ]
            ],
            "type": "contour"
           }
          ],
          "contourcarpet": [
           {
            "colorbar": {
             "outlinewidth": 0,
             "ticks": ""
            },
            "type": "contourcarpet"
           }
          ],
          "heatmap": [
           {
            "colorbar": {
             "outlinewidth": 0,
             "ticks": ""
            },
            "colorscale": [
             [
              0,
              "#0d0887"
             ],
             [
              0.1111111111111111,
              "#46039f"
             ],
             [
              0.2222222222222222,
              "#7201a8"
             ],
             [
              0.3333333333333333,
              "#9c179e"
             ],
             [
              0.4444444444444444,
              "#bd3786"
             ],
             [
              0.5555555555555556,
              "#d8576b"
             ],
             [
              0.6666666666666666,
              "#ed7953"
             ],
             [
              0.7777777777777778,
              "#fb9f3a"
             ],
             [
              0.8888888888888888,
              "#fdca26"
             ],
             [
              1,
              "#f0f921"
             ]
            ],
            "type": "heatmap"
           }
          ],
          "histogram": [
           {
            "marker": {
             "pattern": {
              "fillmode": "overlay",
              "size": 10,
              "solidity": 0.2
             }
            },
            "type": "histogram"
           }
          ],
          "histogram2d": [
           {
            "colorbar": {
             "outlinewidth": 0,
             "ticks": ""
            },
            "colorscale": [
             [
              0,
              "#0d0887"
             ],
             [
              0.1111111111111111,
              "#46039f"
             ],
             [
              0.2222222222222222,
              "#7201a8"
             ],
             [
              0.3333333333333333,
              "#9c179e"
             ],
             [
              0.4444444444444444,
              "#bd3786"
             ],
             [
              0.5555555555555556,
              "#d8576b"
             ],
             [
              0.6666666666666666,
              "#ed7953"
             ],
             [
              0.7777777777777778,
              "#fb9f3a"
             ],
             [
              0.8888888888888888,
              "#fdca26"
             ],
             [
              1,
              "#f0f921"
             ]
            ],
            "type": "histogram2d"
           }
          ],
          "histogram2dcontour": [
           {
            "colorbar": {
             "outlinewidth": 0,
             "ticks": ""
            },
            "colorscale": [
             [
              0,
              "#0d0887"
             ],
             [
              0.1111111111111111,
              "#46039f"
             ],
             [
              0.2222222222222222,
              "#7201a8"
             ],
             [
              0.3333333333333333,
              "#9c179e"
             ],
             [
              0.4444444444444444,
              "#bd3786"
             ],
             [
              0.5555555555555556,
              "#d8576b"
             ],
             [
              0.6666666666666666,
              "#ed7953"
             ],
             [
              0.7777777777777778,
              "#fb9f3a"
             ],
             [
              0.8888888888888888,
              "#fdca26"
             ],
             [
              1,
              "#f0f921"
             ]
            ],
            "type": "histogram2dcontour"
           }
          ],
          "mesh3d": [
           {
            "colorbar": {
             "outlinewidth": 0,
             "ticks": ""
            },
            "type": "mesh3d"
           }
          ],
          "parcoords": [
           {
            "line": {
             "colorbar": {
              "outlinewidth": 0,
              "ticks": ""
             }
            },
            "type": "parcoords"
           }
          ],
          "pie": [
           {
            "automargin": true,
            "type": "pie"
           }
          ],
          "scatter": [
           {
            "fillpattern": {
             "fillmode": "overlay",
             "size": 10,
             "solidity": 0.2
            },
            "type": "scatter"
           }
          ],
          "scatter3d": [
           {
            "line": {
             "colorbar": {
              "outlinewidth": 0,
              "ticks": ""
             }
            },
            "marker": {
             "colorbar": {
              "outlinewidth": 0,
              "ticks": ""
             }
            },
            "type": "scatter3d"
           }
          ],
          "scattercarpet": [
           {
            "marker": {
             "colorbar": {
              "outlinewidth": 0,
              "ticks": ""
             }
            },
            "type": "scattercarpet"
           }
          ],
          "scattergeo": [
           {
            "marker": {
             "colorbar": {
              "outlinewidth": 0,
              "ticks": ""
             }
            },
            "type": "scattergeo"
           }
          ],
          "scattergl": [
           {
            "marker": {
             "colorbar": {
              "outlinewidth": 0,
              "ticks": ""
             }
            },
            "type": "scattergl"
           }
          ],
          "scattermap": [
           {
            "marker": {
             "colorbar": {
              "outlinewidth": 0,
              "ticks": ""
             }
            },
            "type": "scattermap"
           }
          ],
          "scattermapbox": [
           {
            "marker": {
             "colorbar": {
              "outlinewidth": 0,
              "ticks": ""
             }
            },
            "type": "scattermapbox"
           }
          ],
          "scatterpolar": [
           {
            "marker": {
             "colorbar": {
              "outlinewidth": 0,
              "ticks": ""
             }
            },
            "type": "scatterpolar"
           }
          ],
          "scatterpolargl": [
           {
            "marker": {
             "colorbar": {
              "outlinewidth": 0,
              "ticks": ""
             }
            },
            "type": "scatterpolargl"
           }
          ],
          "scatterternary": [
           {
            "marker": {
             "colorbar": {
              "outlinewidth": 0,
              "ticks": ""
             }
            },
            "type": "scatterternary"
           }
          ],
          "surface": [
           {
            "colorbar": {
             "outlinewidth": 0,
             "ticks": ""
            },
            "colorscale": [
             [
              0,
              "#0d0887"
             ],
             [
              0.1111111111111111,
              "#46039f"
             ],
             [
              0.2222222222222222,
              "#7201a8"
             ],
             [
              0.3333333333333333,
              "#9c179e"
             ],
             [
              0.4444444444444444,
              "#bd3786"
             ],
             [
              0.5555555555555556,
              "#d8576b"
             ],
             [
              0.6666666666666666,
              "#ed7953"
             ],
             [
              0.7777777777777778,
              "#fb9f3a"
             ],
             [
              0.8888888888888888,
              "#fdca26"
             ],
             [
              1,
              "#f0f921"
             ]
            ],
            "type": "surface"
           }
          ],
          "table": [
           {
            "cells": {
             "fill": {
              "color": "#EBF0F8"
             },
             "line": {
              "color": "white"
             }
            },
            "header": {
             "fill": {
              "color": "#C8D4E3"
             },
             "line": {
              "color": "white"
             }
            },
            "type": "table"
           }
          ]
         },
         "layout": {
          "annotationdefaults": {
           "arrowcolor": "#2a3f5f",
           "arrowhead": 0,
           "arrowwidth": 1
          },
          "autotypenumbers": "strict",
          "coloraxis": {
           "colorbar": {
            "outlinewidth": 0,
            "ticks": ""
           }
          },
          "colorscale": {
           "diverging": [
            [
             0,
             "#8e0152"
            ],
            [
             0.1,
             "#c51b7d"
            ],
            [
             0.2,
             "#de77ae"
            ],
            [
             0.3,
             "#f1b6da"
            ],
            [
             0.4,
             "#fde0ef"
            ],
            [
             0.5,
             "#f7f7f7"
            ],
            [
             0.6,
             "#e6f5d0"
            ],
            [
             0.7,
             "#b8e186"
            ],
            [
             0.8,
             "#7fbc41"
            ],
            [
             0.9,
             "#4d9221"
            ],
            [
             1,
             "#276419"
            ]
           ],
           "sequential": [
            [
             0,
             "#0d0887"
            ],
            [
             0.1111111111111111,
             "#46039f"
            ],
            [
             0.2222222222222222,
             "#7201a8"
            ],
            [
             0.3333333333333333,
             "#9c179e"
            ],
            [
             0.4444444444444444,
             "#bd3786"
            ],
            [
             0.5555555555555556,
             "#d8576b"
            ],
            [
             0.6666666666666666,
             "#ed7953"
            ],
            [
             0.7777777777777778,
             "#fb9f3a"
            ],
            [
             0.8888888888888888,
             "#fdca26"
            ],
            [
             1,
             "#f0f921"
            ]
           ],
           "sequentialminus": [
            [
             0,
             "#0d0887"
            ],
            [
             0.1111111111111111,
             "#46039f"
            ],
            [
             0.2222222222222222,
             "#7201a8"
            ],
            [
             0.3333333333333333,
             "#9c179e"
            ],
            [
             0.4444444444444444,
             "#bd3786"
            ],
            [
             0.5555555555555556,
             "#d8576b"
            ],
            [
             0.6666666666666666,
             "#ed7953"
            ],
            [
             0.7777777777777778,
             "#fb9f3a"
            ],
            [
             0.8888888888888888,
             "#fdca26"
            ],
            [
             1,
             "#f0f921"
            ]
           ]
          },
          "colorway": [
           "#636efa",
           "#EF553B",
           "#00cc96",
           "#ab63fa",
           "#FFA15A",
           "#19d3f3",
           "#FF6692",
           "#B6E880",
           "#FF97FF",
           "#FECB52"
          ],
          "font": {
           "color": "#2a3f5f"
          },
          "geo": {
           "bgcolor": "white",
           "lakecolor": "white",
           "landcolor": "#E5ECF6",
           "showlakes": true,
           "showland": true,
           "subunitcolor": "white"
          },
          "hoverlabel": {
           "align": "left"
          },
          "hovermode": "closest",
          "mapbox": {
           "style": "light"
          },
          "paper_bgcolor": "white",
          "plot_bgcolor": "#E5ECF6",
          "polar": {
           "angularaxis": {
            "gridcolor": "white",
            "linecolor": "white",
            "ticks": ""
           },
           "bgcolor": "#E5ECF6",
           "radialaxis": {
            "gridcolor": "white",
            "linecolor": "white",
            "ticks": ""
           }
          },
          "scene": {
           "xaxis": {
            "backgroundcolor": "#E5ECF6",
            "gridcolor": "white",
            "gridwidth": 2,
            "linecolor": "white",
            "showbackground": true,
            "ticks": "",
            "zerolinecolor": "white"
           },
           "yaxis": {
            "backgroundcolor": "#E5ECF6",
            "gridcolor": "white",
            "gridwidth": 2,
            "linecolor": "white",
            "showbackground": true,
            "ticks": "",
            "zerolinecolor": "white"
           },
           "zaxis": {
            "backgroundcolor": "#E5ECF6",
            "gridcolor": "white",
            "gridwidth": 2,
            "linecolor": "white",
            "showbackground": true,
            "ticks": "",
            "zerolinecolor": "white"
           }
          },
          "shapedefaults": {
           "line": {
            "color": "#2a3f5f"
           }
          },
          "ternary": {
           "aaxis": {
            "gridcolor": "white",
            "linecolor": "white",
            "ticks": ""
           },
           "baxis": {
            "gridcolor": "white",
            "linecolor": "white",
            "ticks": ""
           },
           "bgcolor": "#E5ECF6",
           "caxis": {
            "gridcolor": "white",
            "linecolor": "white",
            "ticks": ""
           }
          },
          "title": {
           "x": 0.05
          },
          "xaxis": {
           "automargin": true,
           "gridcolor": "white",
           "linecolor": "white",
           "ticks": "",
           "title": {
            "standoff": 15
           },
           "zerolinecolor": "white",
           "zerolinewidth": 2
          },
          "yaxis": {
           "automargin": true,
           "gridcolor": "white",
           "linecolor": "white",
           "ticks": "",
           "title": {
            "standoff": 15
           },
           "zerolinecolor": "white",
           "zerolinewidth": 2
          }
         }
        },
        "title": {
         "text": "Eng ko‘p uchraydigan 10 ta kasb"
        },
        "xaxis": {
         "anchor": "y",
         "domain": [
          0,
          1
         ],
         "tickangle": -45,
         "title": {
          "text": "Kasb"
         }
        },
        "yaxis": {
         "anchor": "x",
         "domain": [
          0,
          1
         ],
         "title": {
          "text": "Shaxslar soni"
         }
        }
       }
      }
     },
     "metadata": {},
     "output_type": "display_data"
    }
   ],
   "source": [
    "import plotly.express as px\n",
    "\n",
    "# Kasblar bo'yicha guruhlash va sonini hisoblash\n",
    "occupation_counts = df['occupation'].value_counts().reset_index()\n",
    "occupation_counts.columns = ['occupation', 'count']\n",
    "\n",
    "# Eng ko'p uchraydigan kasblarni topish uchun, masalan, yuqori 10 tasi\n",
    "top_occupations = occupation_counts.head(10)\n",
    "\n",
    "# Bar chart chizish\n",
    "fig = px.bar(\n",
    "    top_occupations,\n",
    "    x='occupation',\n",
    "    y='count',\n",
    "    title='Eng ko‘p uchraydigan 10 ta kasb',\n",
    "    labels={'occupation': 'Kasb', 'count': 'Shaxslar soni'},\n",
    "    text='count'\n",
    ")\n",
    "\n",
    "fig.update_traces(textposition='outside')\n",
    "fig.update_layout(xaxis_tickangle=-45)  # Kasb nomlarini 45 gradus burish\n",
    "\n",
    "fig.show()\n",
    "\n"
   ]
  },
  {
   "cell_type": "markdown",
   "id": "307b2617",
   "metadata": {},
   "source": [
    "# qayerda tug‘ilgan va vafot etganlar statistikasi:"
   ]
  },
  {
   "cell_type": "code",
   "execution_count": 11,
   "id": "a9acce89",
   "metadata": {},
   "outputs": [
    {
     "data": {
      "application/vnd.plotly.v1+json": {
       "config": {
        "plotlyServerURL": "https://plot.ly"
       },
       "data": [
        {
         "hovertemplate": "Tug‘ilgan joy=%{x}<br>Shaxslar soni=%{text}<extra></extra>",
         "legendgroup": "",
         "marker": {
          "color": "#636efa",
          "pattern": {
           "shape": ""
          }
         },
         "name": "",
         "orientation": "v",
         "showlegend": false,
         "text": {
          "bdata": "AAAAAACAc0AAAAAAAAAsQAAAAAAAACxAAAAAAAAAKkAAAAAAAAAmQAAAAAAAACZAAAAAAAAAJEAAAAAAAAAkQAAAAAAAACRAAAAAAAAAIkA=",
          "dtype": "f8"
         },
         "textposition": "outside",
         "type": "bar",
         "x": [
          "Paris, France",
          "New York City, U.S.",
          "London, England",
          "[[Boston]], Massachusetts, U.S.",
          "[[Paris]], France",
          "[[London]], England",
          "[[Portland, Oregon]], U.S.",
          "[[Tokyo]], Japan",
          "[[Damascus]], [[Ayyubid Sultanate]]",
          "[[Philadelphia]], [[Pennsylvania]], U.S."
         ],
         "xaxis": "x",
         "y": {
          "bdata": "OAEOAA4ADQALAAsACgAKAAoACQA=",
          "dtype": "i2"
         },
         "yaxis": "y"
        }
       ],
       "layout": {
        "barmode": "relative",
        "legend": {
         "tracegroupgap": 0
        },
        "template": {
         "data": {
          "bar": [
           {
            "error_x": {
             "color": "#2a3f5f"
            },
            "error_y": {
             "color": "#2a3f5f"
            },
            "marker": {
             "line": {
              "color": "#E5ECF6",
              "width": 0.5
             },
             "pattern": {
              "fillmode": "overlay",
              "size": 10,
              "solidity": 0.2
             }
            },
            "type": "bar"
           }
          ],
          "barpolar": [
           {
            "marker": {
             "line": {
              "color": "#E5ECF6",
              "width": 0.5
             },
             "pattern": {
              "fillmode": "overlay",
              "size": 10,
              "solidity": 0.2
             }
            },
            "type": "barpolar"
           }
          ],
          "carpet": [
           {
            "aaxis": {
             "endlinecolor": "#2a3f5f",
             "gridcolor": "white",
             "linecolor": "white",
             "minorgridcolor": "white",
             "startlinecolor": "#2a3f5f"
            },
            "baxis": {
             "endlinecolor": "#2a3f5f",
             "gridcolor": "white",
             "linecolor": "white",
             "minorgridcolor": "white",
             "startlinecolor": "#2a3f5f"
            },
            "type": "carpet"
           }
          ],
          "choropleth": [
           {
            "colorbar": {
             "outlinewidth": 0,
             "ticks": ""
            },
            "type": "choropleth"
           }
          ],
          "contour": [
           {
            "colorbar": {
             "outlinewidth": 0,
             "ticks": ""
            },
            "colorscale": [
             [
              0,
              "#0d0887"
             ],
             [
              0.1111111111111111,
              "#46039f"
             ],
             [
              0.2222222222222222,
              "#7201a8"
             ],
             [
              0.3333333333333333,
              "#9c179e"
             ],
             [
              0.4444444444444444,
              "#bd3786"
             ],
             [
              0.5555555555555556,
              "#d8576b"
             ],
             [
              0.6666666666666666,
              "#ed7953"
             ],
             [
              0.7777777777777778,
              "#fb9f3a"
             ],
             [
              0.8888888888888888,
              "#fdca26"
             ],
             [
              1,
              "#f0f921"
             ]
            ],
            "type": "contour"
           }
          ],
          "contourcarpet": [
           {
            "colorbar": {
             "outlinewidth": 0,
             "ticks": ""
            },
            "type": "contourcarpet"
           }
          ],
          "heatmap": [
           {
            "colorbar": {
             "outlinewidth": 0,
             "ticks": ""
            },
            "colorscale": [
             [
              0,
              "#0d0887"
             ],
             [
              0.1111111111111111,
              "#46039f"
             ],
             [
              0.2222222222222222,
              "#7201a8"
             ],
             [
              0.3333333333333333,
              "#9c179e"
             ],
             [
              0.4444444444444444,
              "#bd3786"
             ],
             [
              0.5555555555555556,
              "#d8576b"
             ],
             [
              0.6666666666666666,
              "#ed7953"
             ],
             [
              0.7777777777777778,
              "#fb9f3a"
             ],
             [
              0.8888888888888888,
              "#fdca26"
             ],
             [
              1,
              "#f0f921"
             ]
            ],
            "type": "heatmap"
           }
          ],
          "histogram": [
           {
            "marker": {
             "pattern": {
              "fillmode": "overlay",
              "size": 10,
              "solidity": 0.2
             }
            },
            "type": "histogram"
           }
          ],
          "histogram2d": [
           {
            "colorbar": {
             "outlinewidth": 0,
             "ticks": ""
            },
            "colorscale": [
             [
              0,
              "#0d0887"
             ],
             [
              0.1111111111111111,
              "#46039f"
             ],
             [
              0.2222222222222222,
              "#7201a8"
             ],
             [
              0.3333333333333333,
              "#9c179e"
             ],
             [
              0.4444444444444444,
              "#bd3786"
             ],
             [
              0.5555555555555556,
              "#d8576b"
             ],
             [
              0.6666666666666666,
              "#ed7953"
             ],
             [
              0.7777777777777778,
              "#fb9f3a"
             ],
             [
              0.8888888888888888,
              "#fdca26"
             ],
             [
              1,
              "#f0f921"
             ]
            ],
            "type": "histogram2d"
           }
          ],
          "histogram2dcontour": [
           {
            "colorbar": {
             "outlinewidth": 0,
             "ticks": ""
            },
            "colorscale": [
             [
              0,
              "#0d0887"
             ],
             [
              0.1111111111111111,
              "#46039f"
             ],
             [
              0.2222222222222222,
              "#7201a8"
             ],
             [
              0.3333333333333333,
              "#9c179e"
             ],
             [
              0.4444444444444444,
              "#bd3786"
             ],
             [
              0.5555555555555556,
              "#d8576b"
             ],
             [
              0.6666666666666666,
              "#ed7953"
             ],
             [
              0.7777777777777778,
              "#fb9f3a"
             ],
             [
              0.8888888888888888,
              "#fdca26"
             ],
             [
              1,
              "#f0f921"
             ]
            ],
            "type": "histogram2dcontour"
           }
          ],
          "mesh3d": [
           {
            "colorbar": {
             "outlinewidth": 0,
             "ticks": ""
            },
            "type": "mesh3d"
           }
          ],
          "parcoords": [
           {
            "line": {
             "colorbar": {
              "outlinewidth": 0,
              "ticks": ""
             }
            },
            "type": "parcoords"
           }
          ],
          "pie": [
           {
            "automargin": true,
            "type": "pie"
           }
          ],
          "scatter": [
           {
            "fillpattern": {
             "fillmode": "overlay",
             "size": 10,
             "solidity": 0.2
            },
            "type": "scatter"
           }
          ],
          "scatter3d": [
           {
            "line": {
             "colorbar": {
              "outlinewidth": 0,
              "ticks": ""
             }
            },
            "marker": {
             "colorbar": {
              "outlinewidth": 0,
              "ticks": ""
             }
            },
            "type": "scatter3d"
           }
          ],
          "scattercarpet": [
           {
            "marker": {
             "colorbar": {
              "outlinewidth": 0,
              "ticks": ""
             }
            },
            "type": "scattercarpet"
           }
          ],
          "scattergeo": [
           {
            "marker": {
             "colorbar": {
              "outlinewidth": 0,
              "ticks": ""
             }
            },
            "type": "scattergeo"
           }
          ],
          "scattergl": [
           {
            "marker": {
             "colorbar": {
              "outlinewidth": 0,
              "ticks": ""
             }
            },
            "type": "scattergl"
           }
          ],
          "scattermap": [
           {
            "marker": {
             "colorbar": {
              "outlinewidth": 0,
              "ticks": ""
             }
            },
            "type": "scattermap"
           }
          ],
          "scattermapbox": [
           {
            "marker": {
             "colorbar": {
              "outlinewidth": 0,
              "ticks": ""
             }
            },
            "type": "scattermapbox"
           }
          ],
          "scatterpolar": [
           {
            "marker": {
             "colorbar": {
              "outlinewidth": 0,
              "ticks": ""
             }
            },
            "type": "scatterpolar"
           }
          ],
          "scatterpolargl": [
           {
            "marker": {
             "colorbar": {
              "outlinewidth": 0,
              "ticks": ""
             }
            },
            "type": "scatterpolargl"
           }
          ],
          "scatterternary": [
           {
            "marker": {
             "colorbar": {
              "outlinewidth": 0,
              "ticks": ""
             }
            },
            "type": "scatterternary"
           }
          ],
          "surface": [
           {
            "colorbar": {
             "outlinewidth": 0,
             "ticks": ""
            },
            "colorscale": [
             [
              0,
              "#0d0887"
             ],
             [
              0.1111111111111111,
              "#46039f"
             ],
             [
              0.2222222222222222,
              "#7201a8"
             ],
             [
              0.3333333333333333,
              "#9c179e"
             ],
             [
              0.4444444444444444,
              "#bd3786"
             ],
             [
              0.5555555555555556,
              "#d8576b"
             ],
             [
              0.6666666666666666,
              "#ed7953"
             ],
             [
              0.7777777777777778,
              "#fb9f3a"
             ],
             [
              0.8888888888888888,
              "#fdca26"
             ],
             [
              1,
              "#f0f921"
             ]
            ],
            "type": "surface"
           }
          ],
          "table": [
           {
            "cells": {
             "fill": {
              "color": "#EBF0F8"
             },
             "line": {
              "color": "white"
             }
            },
            "header": {
             "fill": {
              "color": "#C8D4E3"
             },
             "line": {
              "color": "white"
             }
            },
            "type": "table"
           }
          ]
         },
         "layout": {
          "annotationdefaults": {
           "arrowcolor": "#2a3f5f",
           "arrowhead": 0,
           "arrowwidth": 1
          },
          "autotypenumbers": "strict",
          "coloraxis": {
           "colorbar": {
            "outlinewidth": 0,
            "ticks": ""
           }
          },
          "colorscale": {
           "diverging": [
            [
             0,
             "#8e0152"
            ],
            [
             0.1,
             "#c51b7d"
            ],
            [
             0.2,
             "#de77ae"
            ],
            [
             0.3,
             "#f1b6da"
            ],
            [
             0.4,
             "#fde0ef"
            ],
            [
             0.5,
             "#f7f7f7"
            ],
            [
             0.6,
             "#e6f5d0"
            ],
            [
             0.7,
             "#b8e186"
            ],
            [
             0.8,
             "#7fbc41"
            ],
            [
             0.9,
             "#4d9221"
            ],
            [
             1,
             "#276419"
            ]
           ],
           "sequential": [
            [
             0,
             "#0d0887"
            ],
            [
             0.1111111111111111,
             "#46039f"
            ],
            [
             0.2222222222222222,
             "#7201a8"
            ],
            [
             0.3333333333333333,
             "#9c179e"
            ],
            [
             0.4444444444444444,
             "#bd3786"
            ],
            [
             0.5555555555555556,
             "#d8576b"
            ],
            [
             0.6666666666666666,
             "#ed7953"
            ],
            [
             0.7777777777777778,
             "#fb9f3a"
            ],
            [
             0.8888888888888888,
             "#fdca26"
            ],
            [
             1,
             "#f0f921"
            ]
           ],
           "sequentialminus": [
            [
             0,
             "#0d0887"
            ],
            [
             0.1111111111111111,
             "#46039f"
            ],
            [
             0.2222222222222222,
             "#7201a8"
            ],
            [
             0.3333333333333333,
             "#9c179e"
            ],
            [
             0.4444444444444444,
             "#bd3786"
            ],
            [
             0.5555555555555556,
             "#d8576b"
            ],
            [
             0.6666666666666666,
             "#ed7953"
            ],
            [
             0.7777777777777778,
             "#fb9f3a"
            ],
            [
             0.8888888888888888,
             "#fdca26"
            ],
            [
             1,
             "#f0f921"
            ]
           ]
          },
          "colorway": [
           "#636efa",
           "#EF553B",
           "#00cc96",
           "#ab63fa",
           "#FFA15A",
           "#19d3f3",
           "#FF6692",
           "#B6E880",
           "#FF97FF",
           "#FECB52"
          ],
          "font": {
           "color": "#2a3f5f"
          },
          "geo": {
           "bgcolor": "white",
           "lakecolor": "white",
           "landcolor": "#E5ECF6",
           "showlakes": true,
           "showland": true,
           "subunitcolor": "white"
          },
          "hoverlabel": {
           "align": "left"
          },
          "hovermode": "closest",
          "mapbox": {
           "style": "light"
          },
          "paper_bgcolor": "white",
          "plot_bgcolor": "#E5ECF6",
          "polar": {
           "angularaxis": {
            "gridcolor": "white",
            "linecolor": "white",
            "ticks": ""
           },
           "bgcolor": "#E5ECF6",
           "radialaxis": {
            "gridcolor": "white",
            "linecolor": "white",
            "ticks": ""
           }
          },
          "scene": {
           "xaxis": {
            "backgroundcolor": "#E5ECF6",
            "gridcolor": "white",
            "gridwidth": 2,
            "linecolor": "white",
            "showbackground": true,
            "ticks": "",
            "zerolinecolor": "white"
           },
           "yaxis": {
            "backgroundcolor": "#E5ECF6",
            "gridcolor": "white",
            "gridwidth": 2,
            "linecolor": "white",
            "showbackground": true,
            "ticks": "",
            "zerolinecolor": "white"
           },
           "zaxis": {
            "backgroundcolor": "#E5ECF6",
            "gridcolor": "white",
            "gridwidth": 2,
            "linecolor": "white",
            "showbackground": true,
            "ticks": "",
            "zerolinecolor": "white"
           }
          },
          "shapedefaults": {
           "line": {
            "color": "#2a3f5f"
           }
          },
          "ternary": {
           "aaxis": {
            "gridcolor": "white",
            "linecolor": "white",
            "ticks": ""
           },
           "baxis": {
            "gridcolor": "white",
            "linecolor": "white",
            "ticks": ""
           },
           "bgcolor": "#E5ECF6",
           "caxis": {
            "gridcolor": "white",
            "linecolor": "white",
            "ticks": ""
           }
          },
          "title": {
           "x": 0.05
          },
          "xaxis": {
           "automargin": true,
           "gridcolor": "white",
           "linecolor": "white",
           "ticks": "",
           "title": {
            "standoff": 15
           },
           "zerolinecolor": "white",
           "zerolinewidth": 2
          },
          "yaxis": {
           "automargin": true,
           "gridcolor": "white",
           "linecolor": "white",
           "ticks": "",
           "title": {
            "standoff": 15
           },
           "zerolinecolor": "white",
           "zerolinewidth": 2
          }
         }
        },
        "title": {
         "text": "Eng ko‘p tug‘ilgan joylar (top 10)"
        },
        "xaxis": {
         "anchor": "y",
         "domain": [
          0,
          1
         ],
         "tickangle": -45,
         "title": {
          "text": "Tug‘ilgan joy"
         }
        },
        "yaxis": {
         "anchor": "x",
         "domain": [
          0,
          1
         ],
         "title": {
          "text": "Shaxslar soni"
         }
        }
       }
      }
     },
     "metadata": {},
     "output_type": "display_data"
    }
   ],
   "source": [
    "import plotly.express as px\n",
    "\n",
    "birth_place_counts = df['birth_place'].value_counts().reset_index()\n",
    "birth_place_counts.columns = ['birth_place', 'count']\n",
    "top_birth_places = birth_place_counts.head(10)\n",
    "\n",
    "fig = px.bar(\n",
    "    top_birth_places,\n",
    "    x='birth_place',\n",
    "    y='count',\n",
    "    title='Eng ko‘p tug‘ilgan joylar (top 10)',\n",
    "    labels={'birth_place': 'Tug‘ilgan joy', 'count': 'Shaxslar soni'},\n",
    "    text='count'\n",
    ")\n",
    "\n",
    "fig.update_traces(textposition='outside')\n",
    "fig.update_layout(xaxis_tickangle=-45)\n",
    "fig.show()\n"
   ]
  },
  {
   "cell_type": "markdown",
   "id": "110a24dd",
   "metadata": {},
   "source": [
    "# eng ko‘p uchraydigan ta’lim muassasalari va mukofotlar:"
   ]
  },
  {
   "cell_type": "code",
   "execution_count": 12,
   "id": "9b49c290",
   "metadata": {},
   "outputs": [
    {
     "data": {
      "application/vnd.plotly.v1+json": {
       "config": {
        "plotlyServerURL": "https://plot.ly"
       },
       "data": [
        {
         "hovertemplate": "Ta’lim muassasasi=%{x}<br>Shaxslar soni=%{text}<extra></extra>",
         "legendgroup": "",
         "marker": {
          "color": "#636efa",
          "pattern": {
           "shape": ""
          }
         },
         "name": "",
         "orientation": "v",
         "showlegend": false,
         "text": {
          "bdata": "AAAAAAB4mkAAAAAAAAAcQAAAAAAAABxAAAAAAAAAHEAAAAAAAAAcQAAAAAAAABhAAAAAAAAAGEAAAAAAAAAYQAAAAAAAABhAAAAAAAAAGEA=",
          "dtype": "f8"
         },
         "textposition": "outside",
         "type": "bar",
         "x": [
          "[[King's College London]]",
          "[[University of Paris]]",
          "[[Milwaukee State Normal School]]",
          "{{ubl|[[Eden Mohila College]]|[[University of Dhaka]]}}",
          "[[St Hugh's College, Oxford]]",
          "[[Balliol College, Oxford]]",
          "{{ubl|[[Kyoto University]]|[[University of Tokyo]]}}",
          "[[University of Tokyo]] (1954 and 1961)",
          "{{plainlist| * [[University of Tokyo]] * [[Columbia University]]}}",
          "[[Royal Danish Academy of Fine Arts, School of Architecture]]"
         ],
         "xaxis": "x",
         "y": {
          "bdata": "ngYHAAcABwAHAAYABgAGAAYABgA=",
          "dtype": "i2"
         },
         "yaxis": "y"
        }
       ],
       "layout": {
        "barmode": "relative",
        "legend": {
         "tracegroupgap": 0
        },
        "template": {
         "data": {
          "bar": [
           {
            "error_x": {
             "color": "#2a3f5f"
            },
            "error_y": {
             "color": "#2a3f5f"
            },
            "marker": {
             "line": {
              "color": "#E5ECF6",
              "width": 0.5
             },
             "pattern": {
              "fillmode": "overlay",
              "size": 10,
              "solidity": 0.2
             }
            },
            "type": "bar"
           }
          ],
          "barpolar": [
           {
            "marker": {
             "line": {
              "color": "#E5ECF6",
              "width": 0.5
             },
             "pattern": {
              "fillmode": "overlay",
              "size": 10,
              "solidity": 0.2
             }
            },
            "type": "barpolar"
           }
          ],
          "carpet": [
           {
            "aaxis": {
             "endlinecolor": "#2a3f5f",
             "gridcolor": "white",
             "linecolor": "white",
             "minorgridcolor": "white",
             "startlinecolor": "#2a3f5f"
            },
            "baxis": {
             "endlinecolor": "#2a3f5f",
             "gridcolor": "white",
             "linecolor": "white",
             "minorgridcolor": "white",
             "startlinecolor": "#2a3f5f"
            },
            "type": "carpet"
           }
          ],
          "choropleth": [
           {
            "colorbar": {
             "outlinewidth": 0,
             "ticks": ""
            },
            "type": "choropleth"
           }
          ],
          "contour": [
           {
            "colorbar": {
             "outlinewidth": 0,
             "ticks": ""
            },
            "colorscale": [
             [
              0,
              "#0d0887"
             ],
             [
              0.1111111111111111,
              "#46039f"
             ],
             [
              0.2222222222222222,
              "#7201a8"
             ],
             [
              0.3333333333333333,
              "#9c179e"
             ],
             [
              0.4444444444444444,
              "#bd3786"
             ],
             [
              0.5555555555555556,
              "#d8576b"
             ],
             [
              0.6666666666666666,
              "#ed7953"
             ],
             [
              0.7777777777777778,
              "#fb9f3a"
             ],
             [
              0.8888888888888888,
              "#fdca26"
             ],
             [
              1,
              "#f0f921"
             ]
            ],
            "type": "contour"
           }
          ],
          "contourcarpet": [
           {
            "colorbar": {
             "outlinewidth": 0,
             "ticks": ""
            },
            "type": "contourcarpet"
           }
          ],
          "heatmap": [
           {
            "colorbar": {
             "outlinewidth": 0,
             "ticks": ""
            },
            "colorscale": [
             [
              0,
              "#0d0887"
             ],
             [
              0.1111111111111111,
              "#46039f"
             ],
             [
              0.2222222222222222,
              "#7201a8"
             ],
             [
              0.3333333333333333,
              "#9c179e"
             ],
             [
              0.4444444444444444,
              "#bd3786"
             ],
             [
              0.5555555555555556,
              "#d8576b"
             ],
             [
              0.6666666666666666,
              "#ed7953"
             ],
             [
              0.7777777777777778,
              "#fb9f3a"
             ],
             [
              0.8888888888888888,
              "#fdca26"
             ],
             [
              1,
              "#f0f921"
             ]
            ],
            "type": "heatmap"
           }
          ],
          "histogram": [
           {
            "marker": {
             "pattern": {
              "fillmode": "overlay",
              "size": 10,
              "solidity": 0.2
             }
            },
            "type": "histogram"
           }
          ],
          "histogram2d": [
           {
            "colorbar": {
             "outlinewidth": 0,
             "ticks": ""
            },
            "colorscale": [
             [
              0,
              "#0d0887"
             ],
             [
              0.1111111111111111,
              "#46039f"
             ],
             [
              0.2222222222222222,
              "#7201a8"
             ],
             [
              0.3333333333333333,
              "#9c179e"
             ],
             [
              0.4444444444444444,
              "#bd3786"
             ],
             [
              0.5555555555555556,
              "#d8576b"
             ],
             [
              0.6666666666666666,
              "#ed7953"
             ],
             [
              0.7777777777777778,
              "#fb9f3a"
             ],
             [
              0.8888888888888888,
              "#fdca26"
             ],
             [
              1,
              "#f0f921"
             ]
            ],
            "type": "histogram2d"
           }
          ],
          "histogram2dcontour": [
           {
            "colorbar": {
             "outlinewidth": 0,
             "ticks": ""
            },
            "colorscale": [
             [
              0,
              "#0d0887"
             ],
             [
              0.1111111111111111,
              "#46039f"
             ],
             [
              0.2222222222222222,
              "#7201a8"
             ],
             [
              0.3333333333333333,
              "#9c179e"
             ],
             [
              0.4444444444444444,
              "#bd3786"
             ],
             [
              0.5555555555555556,
              "#d8576b"
             ],
             [
              0.6666666666666666,
              "#ed7953"
             ],
             [
              0.7777777777777778,
              "#fb9f3a"
             ],
             [
              0.8888888888888888,
              "#fdca26"
             ],
             [
              1,
              "#f0f921"
             ]
            ],
            "type": "histogram2dcontour"
           }
          ],
          "mesh3d": [
           {
            "colorbar": {
             "outlinewidth": 0,
             "ticks": ""
            },
            "type": "mesh3d"
           }
          ],
          "parcoords": [
           {
            "line": {
             "colorbar": {
              "outlinewidth": 0,
              "ticks": ""
             }
            },
            "type": "parcoords"
           }
          ],
          "pie": [
           {
            "automargin": true,
            "type": "pie"
           }
          ],
          "scatter": [
           {
            "fillpattern": {
             "fillmode": "overlay",
             "size": 10,
             "solidity": 0.2
            },
            "type": "scatter"
           }
          ],
          "scatter3d": [
           {
            "line": {
             "colorbar": {
              "outlinewidth": 0,
              "ticks": ""
             }
            },
            "marker": {
             "colorbar": {
              "outlinewidth": 0,
              "ticks": ""
             }
            },
            "type": "scatter3d"
           }
          ],
          "scattercarpet": [
           {
            "marker": {
             "colorbar": {
              "outlinewidth": 0,
              "ticks": ""
             }
            },
            "type": "scattercarpet"
           }
          ],
          "scattergeo": [
           {
            "marker": {
             "colorbar": {
              "outlinewidth": 0,
              "ticks": ""
             }
            },
            "type": "scattergeo"
           }
          ],
          "scattergl": [
           {
            "marker": {
             "colorbar": {
              "outlinewidth": 0,
              "ticks": ""
             }
            },
            "type": "scattergl"
           }
          ],
          "scattermap": [
           {
            "marker": {
             "colorbar": {
              "outlinewidth": 0,
              "ticks": ""
             }
            },
            "type": "scattermap"
           }
          ],
          "scattermapbox": [
           {
            "marker": {
             "colorbar": {
              "outlinewidth": 0,
              "ticks": ""
             }
            },
            "type": "scattermapbox"
           }
          ],
          "scatterpolar": [
           {
            "marker": {
             "colorbar": {
              "outlinewidth": 0,
              "ticks": ""
             }
            },
            "type": "scatterpolar"
           }
          ],
          "scatterpolargl": [
           {
            "marker": {
             "colorbar": {
              "outlinewidth": 0,
              "ticks": ""
             }
            },
            "type": "scatterpolargl"
           }
          ],
          "scatterternary": [
           {
            "marker": {
             "colorbar": {
              "outlinewidth": 0,
              "ticks": ""
             }
            },
            "type": "scatterternary"
           }
          ],
          "surface": [
           {
            "colorbar": {
             "outlinewidth": 0,
             "ticks": ""
            },
            "colorscale": [
             [
              0,
              "#0d0887"
             ],
             [
              0.1111111111111111,
              "#46039f"
             ],
             [
              0.2222222222222222,
              "#7201a8"
             ],
             [
              0.3333333333333333,
              "#9c179e"
             ],
             [
              0.4444444444444444,
              "#bd3786"
             ],
             [
              0.5555555555555556,
              "#d8576b"
             ],
             [
              0.6666666666666666,
              "#ed7953"
             ],
             [
              0.7777777777777778,
              "#fb9f3a"
             ],
             [
              0.8888888888888888,
              "#fdca26"
             ],
             [
              1,
              "#f0f921"
             ]
            ],
            "type": "surface"
           }
          ],
          "table": [
           {
            "cells": {
             "fill": {
              "color": "#EBF0F8"
             },
             "line": {
              "color": "white"
             }
            },
            "header": {
             "fill": {
              "color": "#C8D4E3"
             },
             "line": {
              "color": "white"
             }
            },
            "type": "table"
           }
          ]
         },
         "layout": {
          "annotationdefaults": {
           "arrowcolor": "#2a3f5f",
           "arrowhead": 0,
           "arrowwidth": 1
          },
          "autotypenumbers": "strict",
          "coloraxis": {
           "colorbar": {
            "outlinewidth": 0,
            "ticks": ""
           }
          },
          "colorscale": {
           "diverging": [
            [
             0,
             "#8e0152"
            ],
            [
             0.1,
             "#c51b7d"
            ],
            [
             0.2,
             "#de77ae"
            ],
            [
             0.3,
             "#f1b6da"
            ],
            [
             0.4,
             "#fde0ef"
            ],
            [
             0.5,
             "#f7f7f7"
            ],
            [
             0.6,
             "#e6f5d0"
            ],
            [
             0.7,
             "#b8e186"
            ],
            [
             0.8,
             "#7fbc41"
            ],
            [
             0.9,
             "#4d9221"
            ],
            [
             1,
             "#276419"
            ]
           ],
           "sequential": [
            [
             0,
             "#0d0887"
            ],
            [
             0.1111111111111111,
             "#46039f"
            ],
            [
             0.2222222222222222,
             "#7201a8"
            ],
            [
             0.3333333333333333,
             "#9c179e"
            ],
            [
             0.4444444444444444,
             "#bd3786"
            ],
            [
             0.5555555555555556,
             "#d8576b"
            ],
            [
             0.6666666666666666,
             "#ed7953"
            ],
            [
             0.7777777777777778,
             "#fb9f3a"
            ],
            [
             0.8888888888888888,
             "#fdca26"
            ],
            [
             1,
             "#f0f921"
            ]
           ],
           "sequentialminus": [
            [
             0,
             "#0d0887"
            ],
            [
             0.1111111111111111,
             "#46039f"
            ],
            [
             0.2222222222222222,
             "#7201a8"
            ],
            [
             0.3333333333333333,
             "#9c179e"
            ],
            [
             0.4444444444444444,
             "#bd3786"
            ],
            [
             0.5555555555555556,
             "#d8576b"
            ],
            [
             0.6666666666666666,
             "#ed7953"
            ],
            [
             0.7777777777777778,
             "#fb9f3a"
            ],
            [
             0.8888888888888888,
             "#fdca26"
            ],
            [
             1,
             "#f0f921"
            ]
           ]
          },
          "colorway": [
           "#636efa",
           "#EF553B",
           "#00cc96",
           "#ab63fa",
           "#FFA15A",
           "#19d3f3",
           "#FF6692",
           "#B6E880",
           "#FF97FF",
           "#FECB52"
          ],
          "font": {
           "color": "#2a3f5f"
          },
          "geo": {
           "bgcolor": "white",
           "lakecolor": "white",
           "landcolor": "#E5ECF6",
           "showlakes": true,
           "showland": true,
           "subunitcolor": "white"
          },
          "hoverlabel": {
           "align": "left"
          },
          "hovermode": "closest",
          "mapbox": {
           "style": "light"
          },
          "paper_bgcolor": "white",
          "plot_bgcolor": "#E5ECF6",
          "polar": {
           "angularaxis": {
            "gridcolor": "white",
            "linecolor": "white",
            "ticks": ""
           },
           "bgcolor": "#E5ECF6",
           "radialaxis": {
            "gridcolor": "white",
            "linecolor": "white",
            "ticks": ""
           }
          },
          "scene": {
           "xaxis": {
            "backgroundcolor": "#E5ECF6",
            "gridcolor": "white",
            "gridwidth": 2,
            "linecolor": "white",
            "showbackground": true,
            "ticks": "",
            "zerolinecolor": "white"
           },
           "yaxis": {
            "backgroundcolor": "#E5ECF6",
            "gridcolor": "white",
            "gridwidth": 2,
            "linecolor": "white",
            "showbackground": true,
            "ticks": "",
            "zerolinecolor": "white"
           },
           "zaxis": {
            "backgroundcolor": "#E5ECF6",
            "gridcolor": "white",
            "gridwidth": 2,
            "linecolor": "white",
            "showbackground": true,
            "ticks": "",
            "zerolinecolor": "white"
           }
          },
          "shapedefaults": {
           "line": {
            "color": "#2a3f5f"
           }
          },
          "ternary": {
           "aaxis": {
            "gridcolor": "white",
            "linecolor": "white",
            "ticks": ""
           },
           "baxis": {
            "gridcolor": "white",
            "linecolor": "white",
            "ticks": ""
           },
           "bgcolor": "#E5ECF6",
           "caxis": {
            "gridcolor": "white",
            "linecolor": "white",
            "ticks": ""
           }
          },
          "title": {
           "x": 0.05
          },
          "xaxis": {
           "automargin": true,
           "gridcolor": "white",
           "linecolor": "white",
           "ticks": "",
           "title": {
            "standoff": 15
           },
           "zerolinecolor": "white",
           "zerolinewidth": 2
          },
          "yaxis": {
           "automargin": true,
           "gridcolor": "white",
           "linecolor": "white",
           "ticks": "",
           "title": {
            "standoff": 15
           },
           "zerolinecolor": "white",
           "zerolinewidth": 2
          }
         }
        },
        "title": {
         "text": "Eng ko‘p uchraydigan ta’lim muassasalari (top 10)"
        },
        "xaxis": {
         "anchor": "y",
         "domain": [
          0,
          1
         ],
         "tickangle": -45,
         "title": {
          "text": "Ta’lim muassasasi"
         }
        },
        "yaxis": {
         "anchor": "x",
         "domain": [
          0,
          1
         ],
         "title": {
          "text": "Shaxslar soni"
         }
        }
       }
      }
     },
     "metadata": {},
     "output_type": "display_data"
    }
   ],
   "source": [
    "import plotly.express as px\n",
    "\n",
    "alma_mater_counts = df['alma_mater'].value_counts().reset_index()\n",
    "alma_mater_counts.columns = ['alma_mater', 'count']\n",
    "top_alma_mater = alma_mater_counts.head(10)\n",
    "\n",
    "fig = px.bar(\n",
    "    top_alma_mater,\n",
    "    x='alma_mater',\n",
    "    y='count',\n",
    "    title='Eng ko‘p uchraydigan ta’lim muassasalari (top 10)',\n",
    "    labels={'alma_mater': 'Ta’lim muassasasi', 'count': 'Shaxslar soni'},\n",
    "    text='count'\n",
    ")\n",
    "\n",
    "fig.update_traces(textposition='outside')\n",
    "fig.update_layout(xaxis_tickangle=-45)\n",
    "fig.show()\n"
   ]
  },
  {
   "cell_type": "markdown",
   "id": "1090baca",
   "metadata": {},
   "source": [
    "# klasterlar bo‘yicha taqsimot:"
   ]
  },
  {
   "cell_type": "code",
   "execution_count": 13,
   "id": "636545bf",
   "metadata": {},
   "outputs": [
    {
     "data": {
      "application/vnd.plotly.v1+json": {
       "config": {
        "plotlyServerURL": "https://plot.ly"
       },
       "data": [
        {
         "hovertemplate": "Klaster raqami=%{x}<br>Elementlar soni=%{text}<extra></extra>",
         "legendgroup": "",
         "marker": {
          "color": "#636efa",
          "pattern": {
           "shape": ""
          }
         },
         "name": "",
         "orientation": "v",
         "showlegend": false,
         "text": {
          "bdata": "AAAAAAD8lUAAAAAAANB5QAAAAAAAAFNAAAAAAACAUEAAAAAAAABOQA==",
          "dtype": "f8"
         },
         "textposition": "outside",
         "type": "bar",
         "x": {
          "bdata": "AAMEAgE=",
          "dtype": "i1"
         },
         "xaxis": "x",
         "y": {
          "bdata": "fwWdAUwAQgA8AA==",
          "dtype": "i2"
         },
         "yaxis": "y"
        }
       ],
       "layout": {
        "barmode": "relative",
        "legend": {
         "tracegroupgap": 0
        },
        "template": {
         "data": {
          "bar": [
           {
            "error_x": {
             "color": "#2a3f5f"
            },
            "error_y": {
             "color": "#2a3f5f"
            },
            "marker": {
             "line": {
              "color": "#E5ECF6",
              "width": 0.5
             },
             "pattern": {
              "fillmode": "overlay",
              "size": 10,
              "solidity": 0.2
             }
            },
            "type": "bar"
           }
          ],
          "barpolar": [
           {
            "marker": {
             "line": {
              "color": "#E5ECF6",
              "width": 0.5
             },
             "pattern": {
              "fillmode": "overlay",
              "size": 10,
              "solidity": 0.2
             }
            },
            "type": "barpolar"
           }
          ],
          "carpet": [
           {
            "aaxis": {
             "endlinecolor": "#2a3f5f",
             "gridcolor": "white",
             "linecolor": "white",
             "minorgridcolor": "white",
             "startlinecolor": "#2a3f5f"
            },
            "baxis": {
             "endlinecolor": "#2a3f5f",
             "gridcolor": "white",
             "linecolor": "white",
             "minorgridcolor": "white",
             "startlinecolor": "#2a3f5f"
            },
            "type": "carpet"
           }
          ],
          "choropleth": [
           {
            "colorbar": {
             "outlinewidth": 0,
             "ticks": ""
            },
            "type": "choropleth"
           }
          ],
          "contour": [
           {
            "colorbar": {
             "outlinewidth": 0,
             "ticks": ""
            },
            "colorscale": [
             [
              0,
              "#0d0887"
             ],
             [
              0.1111111111111111,
              "#46039f"
             ],
             [
              0.2222222222222222,
              "#7201a8"
             ],
             [
              0.3333333333333333,
              "#9c179e"
             ],
             [
              0.4444444444444444,
              "#bd3786"
             ],
             [
              0.5555555555555556,
              "#d8576b"
             ],
             [
              0.6666666666666666,
              "#ed7953"
             ],
             [
              0.7777777777777778,
              "#fb9f3a"
             ],
             [
              0.8888888888888888,
              "#fdca26"
             ],
             [
              1,
              "#f0f921"
             ]
            ],
            "type": "contour"
           }
          ],
          "contourcarpet": [
           {
            "colorbar": {
             "outlinewidth": 0,
             "ticks": ""
            },
            "type": "contourcarpet"
           }
          ],
          "heatmap": [
           {
            "colorbar": {
             "outlinewidth": 0,
             "ticks": ""
            },
            "colorscale": [
             [
              0,
              "#0d0887"
             ],
             [
              0.1111111111111111,
              "#46039f"
             ],
             [
              0.2222222222222222,
              "#7201a8"
             ],
             [
              0.3333333333333333,
              "#9c179e"
             ],
             [
              0.4444444444444444,
              "#bd3786"
             ],
             [
              0.5555555555555556,
              "#d8576b"
             ],
             [
              0.6666666666666666,
              "#ed7953"
             ],
             [
              0.7777777777777778,
              "#fb9f3a"
             ],
             [
              0.8888888888888888,
              "#fdca26"
             ],
             [
              1,
              "#f0f921"
             ]
            ],
            "type": "heatmap"
           }
          ],
          "histogram": [
           {
            "marker": {
             "pattern": {
              "fillmode": "overlay",
              "size": 10,
              "solidity": 0.2
             }
            },
            "type": "histogram"
           }
          ],
          "histogram2d": [
           {
            "colorbar": {
             "outlinewidth": 0,
             "ticks": ""
            },
            "colorscale": [
             [
              0,
              "#0d0887"
             ],
             [
              0.1111111111111111,
              "#46039f"
             ],
             [
              0.2222222222222222,
              "#7201a8"
             ],
             [
              0.3333333333333333,
              "#9c179e"
             ],
             [
              0.4444444444444444,
              "#bd3786"
             ],
             [
              0.5555555555555556,
              "#d8576b"
             ],
             [
              0.6666666666666666,
              "#ed7953"
             ],
             [
              0.7777777777777778,
              "#fb9f3a"
             ],
             [
              0.8888888888888888,
              "#fdca26"
             ],
             [
              1,
              "#f0f921"
             ]
            ],
            "type": "histogram2d"
           }
          ],
          "histogram2dcontour": [
           {
            "colorbar": {
             "outlinewidth": 0,
             "ticks": ""
            },
            "colorscale": [
             [
              0,
              "#0d0887"
             ],
             [
              0.1111111111111111,
              "#46039f"
             ],
             [
              0.2222222222222222,
              "#7201a8"
             ],
             [
              0.3333333333333333,
              "#9c179e"
             ],
             [
              0.4444444444444444,
              "#bd3786"
             ],
             [
              0.5555555555555556,
              "#d8576b"
             ],
             [
              0.6666666666666666,
              "#ed7953"
             ],
             [
              0.7777777777777778,
              "#fb9f3a"
             ],
             [
              0.8888888888888888,
              "#fdca26"
             ],
             [
              1,
              "#f0f921"
             ]
            ],
            "type": "histogram2dcontour"
           }
          ],
          "mesh3d": [
           {
            "colorbar": {
             "outlinewidth": 0,
             "ticks": ""
            },
            "type": "mesh3d"
           }
          ],
          "parcoords": [
           {
            "line": {
             "colorbar": {
              "outlinewidth": 0,
              "ticks": ""
             }
            },
            "type": "parcoords"
           }
          ],
          "pie": [
           {
            "automargin": true,
            "type": "pie"
           }
          ],
          "scatter": [
           {
            "fillpattern": {
             "fillmode": "overlay",
             "size": 10,
             "solidity": 0.2
            },
            "type": "scatter"
           }
          ],
          "scatter3d": [
           {
            "line": {
             "colorbar": {
              "outlinewidth": 0,
              "ticks": ""
             }
            },
            "marker": {
             "colorbar": {
              "outlinewidth": 0,
              "ticks": ""
             }
            },
            "type": "scatter3d"
           }
          ],
          "scattercarpet": [
           {
            "marker": {
             "colorbar": {
              "outlinewidth": 0,
              "ticks": ""
             }
            },
            "type": "scattercarpet"
           }
          ],
          "scattergeo": [
           {
            "marker": {
             "colorbar": {
              "outlinewidth": 0,
              "ticks": ""
             }
            },
            "type": "scattergeo"
           }
          ],
          "scattergl": [
           {
            "marker": {
             "colorbar": {
              "outlinewidth": 0,
              "ticks": ""
             }
            },
            "type": "scattergl"
           }
          ],
          "scattermap": [
           {
            "marker": {
             "colorbar": {
              "outlinewidth": 0,
              "ticks": ""
             }
            },
            "type": "scattermap"
           }
          ],
          "scattermapbox": [
           {
            "marker": {
             "colorbar": {
              "outlinewidth": 0,
              "ticks": ""
             }
            },
            "type": "scattermapbox"
           }
          ],
          "scatterpolar": [
           {
            "marker": {
             "colorbar": {
              "outlinewidth": 0,
              "ticks": ""
             }
            },
            "type": "scatterpolar"
           }
          ],
          "scatterpolargl": [
           {
            "marker": {
             "colorbar": {
              "outlinewidth": 0,
              "ticks": ""
             }
            },
            "type": "scatterpolargl"
           }
          ],
          "scatterternary": [
           {
            "marker": {
             "colorbar": {
              "outlinewidth": 0,
              "ticks": ""
             }
            },
            "type": "scatterternary"
           }
          ],
          "surface": [
           {
            "colorbar": {
             "outlinewidth": 0,
             "ticks": ""
            },
            "colorscale": [
             [
              0,
              "#0d0887"
             ],
             [
              0.1111111111111111,
              "#46039f"
             ],
             [
              0.2222222222222222,
              "#7201a8"
             ],
             [
              0.3333333333333333,
              "#9c179e"
             ],
             [
              0.4444444444444444,
              "#bd3786"
             ],
             [
              0.5555555555555556,
              "#d8576b"
             ],
             [
              0.6666666666666666,
              "#ed7953"
             ],
             [
              0.7777777777777778,
              "#fb9f3a"
             ],
             [
              0.8888888888888888,
              "#fdca26"
             ],
             [
              1,
              "#f0f921"
             ]
            ],
            "type": "surface"
           }
          ],
          "table": [
           {
            "cells": {
             "fill": {
              "color": "#EBF0F8"
             },
             "line": {
              "color": "white"
             }
            },
            "header": {
             "fill": {
              "color": "#C8D4E3"
             },
             "line": {
              "color": "white"
             }
            },
            "type": "table"
           }
          ]
         },
         "layout": {
          "annotationdefaults": {
           "arrowcolor": "#2a3f5f",
           "arrowhead": 0,
           "arrowwidth": 1
          },
          "autotypenumbers": "strict",
          "coloraxis": {
           "colorbar": {
            "outlinewidth": 0,
            "ticks": ""
           }
          },
          "colorscale": {
           "diverging": [
            [
             0,
             "#8e0152"
            ],
            [
             0.1,
             "#c51b7d"
            ],
            [
             0.2,
             "#de77ae"
            ],
            [
             0.3,
             "#f1b6da"
            ],
            [
             0.4,
             "#fde0ef"
            ],
            [
             0.5,
             "#f7f7f7"
            ],
            [
             0.6,
             "#e6f5d0"
            ],
            [
             0.7,
             "#b8e186"
            ],
            [
             0.8,
             "#7fbc41"
            ],
            [
             0.9,
             "#4d9221"
            ],
            [
             1,
             "#276419"
            ]
           ],
           "sequential": [
            [
             0,
             "#0d0887"
            ],
            [
             0.1111111111111111,
             "#46039f"
            ],
            [
             0.2222222222222222,
             "#7201a8"
            ],
            [
             0.3333333333333333,
             "#9c179e"
            ],
            [
             0.4444444444444444,
             "#bd3786"
            ],
            [
             0.5555555555555556,
             "#d8576b"
            ],
            [
             0.6666666666666666,
             "#ed7953"
            ],
            [
             0.7777777777777778,
             "#fb9f3a"
            ],
            [
             0.8888888888888888,
             "#fdca26"
            ],
            [
             1,
             "#f0f921"
            ]
           ],
           "sequentialminus": [
            [
             0,
             "#0d0887"
            ],
            [
             0.1111111111111111,
             "#46039f"
            ],
            [
             0.2222222222222222,
             "#7201a8"
            ],
            [
             0.3333333333333333,
             "#9c179e"
            ],
            [
             0.4444444444444444,
             "#bd3786"
            ],
            [
             0.5555555555555556,
             "#d8576b"
            ],
            [
             0.6666666666666666,
             "#ed7953"
            ],
            [
             0.7777777777777778,
             "#fb9f3a"
            ],
            [
             0.8888888888888888,
             "#fdca26"
            ],
            [
             1,
             "#f0f921"
            ]
           ]
          },
          "colorway": [
           "#636efa",
           "#EF553B",
           "#00cc96",
           "#ab63fa",
           "#FFA15A",
           "#19d3f3",
           "#FF6692",
           "#B6E880",
           "#FF97FF",
           "#FECB52"
          ],
          "font": {
           "color": "#2a3f5f"
          },
          "geo": {
           "bgcolor": "white",
           "lakecolor": "white",
           "landcolor": "#E5ECF6",
           "showlakes": true,
           "showland": true,
           "subunitcolor": "white"
          },
          "hoverlabel": {
           "align": "left"
          },
          "hovermode": "closest",
          "mapbox": {
           "style": "light"
          },
          "paper_bgcolor": "white",
          "plot_bgcolor": "#E5ECF6",
          "polar": {
           "angularaxis": {
            "gridcolor": "white",
            "linecolor": "white",
            "ticks": ""
           },
           "bgcolor": "#E5ECF6",
           "radialaxis": {
            "gridcolor": "white",
            "linecolor": "white",
            "ticks": ""
           }
          },
          "scene": {
           "xaxis": {
            "backgroundcolor": "#E5ECF6",
            "gridcolor": "white",
            "gridwidth": 2,
            "linecolor": "white",
            "showbackground": true,
            "ticks": "",
            "zerolinecolor": "white"
           },
           "yaxis": {
            "backgroundcolor": "#E5ECF6",
            "gridcolor": "white",
            "gridwidth": 2,
            "linecolor": "white",
            "showbackground": true,
            "ticks": "",
            "zerolinecolor": "white"
           },
           "zaxis": {
            "backgroundcolor": "#E5ECF6",
            "gridcolor": "white",
            "gridwidth": 2,
            "linecolor": "white",
            "showbackground": true,
            "ticks": "",
            "zerolinecolor": "white"
           }
          },
          "shapedefaults": {
           "line": {
            "color": "#2a3f5f"
           }
          },
          "ternary": {
           "aaxis": {
            "gridcolor": "white",
            "linecolor": "white",
            "ticks": ""
           },
           "baxis": {
            "gridcolor": "white",
            "linecolor": "white",
            "ticks": ""
           },
           "bgcolor": "#E5ECF6",
           "caxis": {
            "gridcolor": "white",
            "linecolor": "white",
            "ticks": ""
           }
          },
          "title": {
           "x": 0.05
          },
          "xaxis": {
           "automargin": true,
           "gridcolor": "white",
           "linecolor": "white",
           "ticks": "",
           "title": {
            "standoff": 15
           },
           "zerolinecolor": "white",
           "zerolinewidth": 2
          },
          "yaxis": {
           "automargin": true,
           "gridcolor": "white",
           "linecolor": "white",
           "ticks": "",
           "title": {
            "standoff": 15
           },
           "zerolinecolor": "white",
           "zerolinewidth": 2
          }
         }
        },
        "title": {
         "text": "Occupation Cluster bo‘yicha taqsimot"
        },
        "xaxis": {
         "anchor": "y",
         "domain": [
          0,
          1
         ],
         "title": {
          "text": "Klaster raqami"
         }
        },
        "yaxis": {
         "anchor": "x",
         "domain": [
          0,
          1
         ],
         "title": {
          "text": "Elementlar soni"
         }
        }
       }
      }
     },
     "metadata": {},
     "output_type": "display_data"
    }
   ],
   "source": [
    "import plotly.express as px\n",
    "\n",
    "cluster_counts = df['occupation_cluster'].value_counts().reset_index()\n",
    "cluster_counts.columns = ['occupation_cluster', 'count']\n",
    "\n",
    "fig = px.bar(\n",
    "    cluster_counts,\n",
    "    x='occupation_cluster',\n",
    "    y='count',\n",
    "    title='Occupation Cluster bo‘yicha taqsimot',\n",
    "    labels={'occupation_cluster': 'Klaster raqami', 'count': 'Elementlar soni'},\n",
    "    text='count'\n",
    ")\n",
    "\n",
    "fig.update_traces(textposition='outside')\n",
    "fig.show()\n"
   ]
  },
  {
   "cell_type": "markdown",
   "id": "68a9e3e9",
   "metadata": {},
   "source": [
    "# Umr davomiyligi kasbga qarab qanday o‘zgaradi?\""
   ]
  },
  {
   "cell_type": "code",
   "execution_count": 15,
   "id": "663036ef",
   "metadata": {},
   "outputs": [
    {
     "data": {
      "application/vnd.plotly.v1+json": {
       "config": {
        "plotlyServerURL": "https://plot.ly"
       },
       "data": [
        {
         "alignmentgroup": "True",
         "hovertemplate": "Kasb=%{x}<br>Umr davomiyligi (yillar)=%{y}<extra></extra>",
         "legendgroup": "",
         "marker": {
          "color": "#636efa"
         },
         "name": "",
         "notched": false,
         "offsetgroup": "",
         "orientation": "v",
         "showlegend": false,
         "type": "box",
         "x": [
          "Composer",
          "Composer",
          "Composer",
          "Composer",
          "Composer",
          "Composer",
          "Composer",
          "Composer",
          "Composer",
          "Composer",
          "Composer",
          "Composer",
          "Composer",
          "Composer",
          "Composer",
          "Composer",
          "Composer",
          "Composer",
          "Composer",
          "Composer",
          "Composer",
          "Composer",
          "Composer",
          "Composer",
          "Composer",
          "Composer",
          "Composer",
          "Composer",
          "Composer",
          "Composer",
          "Composer",
          "Composer",
          "Composer",
          "Composer",
          "Composer",
          "Composer",
          "Composer",
          "Composer",
          "Composer",
          "Composer",
          "Composer",
          "Composer",
          "Composer",
          "Composer",
          "Composer",
          "Composer",
          "Composer",
          "Composer",
          "Composer",
          "Composer",
          "Composer",
          "Composer",
          "Composer",
          "Composer",
          "[[Politician]]",
          "Composer",
          "Composer",
          "Poet",
          "Composer",
          "{{hlist|Composer|pianist}}",
          "Composer",
          "Composer",
          "Composer",
          "Composer",
          "Composer",
          "Composer",
          "Composer",
          "Composer",
          "{{hlist|Pianist|composer|songwriter|bandleader|arranger|conductor|actor}}",
          "Composer",
          "Composer",
          "Composer",
          "Musician",
          "Composer",
          "Composer",
          "Composer",
          "{{hlist|Composer|pianist}}",
          "Composer",
          "Composer",
          "Composer",
          "Composer",
          "{{hlist|Composer|pianist}}",
          "Composer",
          "Composer",
          "Composer",
          "{{hlist|Pianist|composer|songwriter|bandleader|arranger|conductor|actor}}",
          "Composer",
          "Composer",
          "Composer",
          "Composer",
          "Composer",
          "Composer",
          "Composer",
          "Composer",
          "{{hlist|Musician|composer|educator|bandleader}}",
          "Musician",
          "Composer",
          "{{hlist|Musician|composer|educator|bandleader}}",
          "Composer",
          "Composer",
          "Composer",
          "Composer",
          "Composer",
          "Composer",
          "Composer",
          "Composer",
          "Composer",
          "Composer",
          "Composer",
          "Composer",
          "Composer",
          "Composer",
          "Composer",
          "Composer",
          "Composer",
          "Composer",
          "Composer",
          "Composer",
          "Composer",
          "Composer",
          "Composer",
          "Composer",
          "Composer",
          "Composer",
          "Composer",
          "Composer",
          "Composer",
          "Composer",
          "Composer",
          "Composer",
          "Composer",
          "Composer",
          "Composer",
          "Composer",
          "Composer",
          "Composer",
          "Composer",
          "Composer",
          "Composer",
          "Composer",
          "Composer",
          "Composer",
          "Composer",
          "Composer",
          "Composer",
          "Composer",
          "Composer",
          "Composer",
          "Composer",
          "Composer",
          "Composer",
          "Composer",
          "[[Politician]]",
          "Composer",
          "Composer",
          "Poet",
          "Composer",
          "{{hlist|Composer|pianist}}",
          "Composer",
          "Composer",
          "Composer",
          "Composer",
          "Composer",
          "Composer",
          "Composer",
          "Composer",
          "{{hlist|Pianist|composer|songwriter|bandleader|arranger|conductor|actor}}",
          "Composer",
          "Composer",
          "Composer",
          "Musician",
          "Composer",
          "Composer",
          "{{hlist|Composer|pianist}}",
          "Composer",
          "Composer",
          "Composer",
          "Composer",
          "{{hlist|Composer|pianist}}",
          "Composer",
          "Composer",
          "Composer",
          "{{hlist|Pianist|composer|songwriter|bandleader|arranger|conductor|actor}}",
          "Composer",
          "Composer",
          "Composer",
          "Composer",
          "Composer",
          "Composer",
          "Composer",
          "{{hlist|Musician|composer|educator|bandleader}}",
          "Musician",
          "Composer",
          "{{hlist|Musician|composer|educator|bandleader}}",
          "{{hlist|Musician|composer|educator|bandleader}}",
          "{{hlist|Musician|composer|educator|bandleader}}",
          "{{hlist|Musician|composer|educator|bandleader}}",
          "{{hlist|Musician|composer|educator|bandleader}}",
          "Composer",
          "Composer",
          "Composer",
          "Composer",
          "Composer",
          "Composer",
          "Composer",
          "Composer",
          "Composer",
          "Composer",
          "Composer",
          "Composer",
          "Composer",
          "Composer",
          "Composer",
          "Composer",
          "Composer",
          "Composer",
          "Composer",
          "Composer",
          "Composer",
          "Composer",
          "Composer",
          "[[Politician]]",
          "Composer",
          "Composer",
          "Composer",
          "Composer",
          "Composer",
          "Composer",
          "Composer",
          "Composer",
          "Composer",
          "Composer",
          "Composer",
          "Composer",
          "Composer",
          "Composer",
          "Composer",
          "Composer",
          "Composer",
          "Composer",
          "Composer",
          "Composer",
          "Composer",
          "Composer",
          "Composer",
          "Composer",
          "Composer",
          "Composer",
          "Composer",
          "Composer",
          "Composer",
          "Composer",
          "Composer",
          "Composer",
          "Composer",
          "Composer",
          "Composer",
          "Composer",
          "Composer",
          "Composer",
          "Composer",
          "Composer",
          "Composer",
          "Composer",
          "Composer",
          "Composer",
          "Composer",
          "Composer",
          "Composer",
          "Composer",
          "Composer",
          "Composer",
          "Composer",
          "Composer",
          "Composer",
          "Composer",
          "Composer",
          "Composer",
          "Composer",
          "Composer",
          "Composer",
          "Composer",
          "Composer",
          "Composer",
          "Composer",
          "Composer",
          "Composer",
          "Composer",
          "Composer",
          "Composer",
          "Composer",
          "Composer",
          "Composer",
          "Composer",
          "Composer",
          "Composer",
          "Composer",
          "Composer",
          "Composer",
          "Composer",
          "Composer",
          "Composer",
          "Composer",
          "Composer",
          "Composer",
          "Composer",
          "Composer",
          "Composer",
          "Composer",
          "Composer",
          "Composer",
          "Composer",
          "Composer",
          "Composer",
          "Composer",
          "Composer",
          "Composer",
          "Composer",
          "Composer",
          "Composer",
          "Composer",
          "Composer",
          "Composer",
          "Composer",
          "Composer",
          "Composer",
          "Composer",
          "Composer",
          "Composer",
          "Composer",
          "Composer",
          "Composer",
          "Composer",
          "Composer",
          "Composer",
          "Composer",
          "Composer",
          "Composer",
          "Composer",
          "Composer",
          "Composer",
          "Composer",
          "Composer",
          "Composer",
          "Composer",
          "Composer",
          "Composer",
          "Composer",
          "Composer",
          "Composer",
          "Composer",
          "Composer",
          "Composer",
          "Composer",
          "Composer",
          "Composer",
          "Composer",
          "Poet",
          "Poet",
          "Composer",
          "Poet",
          "Poet",
          "Poet",
          "Poet",
          "Composer",
          "Writer",
          "Writer",
          "Composer",
          "Composer",
          "Composer",
          "Composer",
          "Composer",
          "Composer",
          "Composer",
          "Composer",
          "Composer",
          "Poet",
          "Composer",
          "Composer",
          "Novelist",
          "Novelist",
          "Novelist",
          "Writer",
          "Composer",
          "Poet",
          "Writer",
          "Composer",
          "Composer",
          "Composer",
          "Novelist",
          "Composer",
          "Writer",
          "Writer",
          "Composer",
          "Composer",
          "Composer",
          "Novelist",
          "Composer",
          "Composer",
          "Composer",
          "Composer",
          "Composer",
          "Composer",
          "Composer",
          "Composer",
          "Composer",
          "Composer",
          "Composer",
          "Composer",
          "Composer",
          "Composer",
          "Composer",
          "Composer",
          "Composer",
          "Composer",
          "Composer",
          "Composer",
          "Composer",
          "Composer",
          "Composer",
          "Composer",
          "Composer",
          "Composer",
          "Composer",
          "Composer",
          "Composer",
          "Composer",
          "Composer",
          "Composer",
          "Composer",
          "Composer",
          "Composer",
          "Composer",
          "Composer",
          "Composer",
          "Composer",
          "Composer",
          "Composer",
          "Composer",
          "Composer",
          "Composer",
          "Composer",
          "Composer",
          "Composer",
          "Composer",
          "Composer",
          "Composer",
          "Composer",
          "Composer",
          "[[Politician]]",
          "Composer",
          "Composer",
          "Composer",
          "Composer",
          "Composer",
          "Composer",
          "Composer",
          "Composer",
          "Composer",
          "Composer",
          "Composer",
          "Composer",
          "Composer",
          "Composer",
          "Composer",
          "Composer",
          "Composer",
          "Composer",
          "Composer",
          "Composer",
          "Composer",
          "Composer",
          "Composer",
          "Composer",
          "Composer",
          "Composer",
          "Composer",
          "Composer",
          "Composer",
          "Composer",
          "Composer",
          "Composer",
          "Composer",
          "Composer",
          "Composer",
          "Composer",
          "Composer",
          "Composer",
          "Composer",
          "Composer",
          "Composer",
          "Composer",
          "Composer",
          "Composer",
          "Composer",
          "Composer",
          "Composer",
          "Composer",
          "Composer",
          "Composer",
          "Composer",
          "Composer",
          "Composer",
          "Composer",
          "Composer",
          "Composer",
          "Composer",
          "Composer",
          "Composer",
          "Composer",
          "Composer",
          "Composer",
          "Composer",
          "Composer",
          "Composer",
          "Composer",
          "Composer",
          "Composer",
          "Composer",
          "Composer",
          "Composer",
          "Composer",
          "Composer",
          "Composer",
          "Composer",
          "Composer",
          "Composer",
          "Composer",
          "Composer",
          "Composer",
          "Composer",
          "Composer",
          "Composer",
          "Composer",
          "Composer",
          "Composer",
          "Composer",
          "Composer",
          "Composer",
          "Composer",
          "Composer",
          "Composer",
          "Composer",
          "Composer",
          "Composer",
          "Composer",
          "Composer",
          "Composer",
          "Composer",
          "Composer",
          "Composer",
          "Composer",
          "Composer",
          "Composer",
          "Composer",
          "Composer",
          "Composer",
          "Composer",
          "Composer",
          "Composer",
          "Composer",
          "Composer",
          "Composer",
          "Composer",
          "Composer",
          "Composer",
          "Composer",
          "Composer",
          "Composer",
          "Composer",
          "Composer",
          "Composer",
          "Composer",
          "Architect",
          "Composer",
          "Composer",
          "Composer",
          "Composer",
          "Composer",
          "Composer",
          "Composer",
          "Composer",
          "Composer",
          "Composer",
          "Composer",
          "Composer",
          "Architect",
          "Composer",
          "Composer",
          "Composer",
          "Composer",
          "Composer",
          "Composer",
          "Composer",
          "Composer",
          "Composer",
          "Composer",
          "Composer",
          "Composer",
          "Composer",
          "Composer",
          "Composer",
          "Composer",
          "Composer",
          "Composer",
          "Composer",
          "Composer",
          "Composer",
          "Architect",
          "Composer",
          "Composer",
          "Composer",
          "Composer",
          "Composer",
          "Composer",
          "Composer",
          "Composer",
          "Composer",
          "Composer",
          "Composer",
          "Composer",
          "Composer",
          "Composer",
          "Composer",
          "Composer",
          "Composer",
          "Composer",
          "Composer",
          "Composer",
          "Composer",
          "Composer",
          "Composer",
          "Composer",
          "Composer",
          "Composer",
          "Composer",
          "Composer",
          "Composer",
          "Composer",
          "Composer",
          "Composer",
          "Composer",
          "Composer",
          "Composer",
          "Composer",
          "Composer",
          "Composer",
          "Composer",
          "Composer",
          "Composer",
          "Composer",
          "Composer",
          "Composer",
          "Composer",
          "Composer",
          "Composer",
          "Composer",
          "Composer",
          "Composer",
          "Composer",
          "Composer",
          "Composer",
          "Composer",
          "Composer",
          "Composer",
          "Composer",
          "Composer",
          "Composer",
          "Composer",
          "Composer",
          "Composer",
          "Composer",
          "Composer",
          "Composer",
          "Composer",
          "Composer",
          "Composer",
          "Composer",
          "Composer",
          "[[Politician]]",
          "Composer",
          "Composer",
          "Poet",
          "Composer",
          "{{hlist|Composer|pianist}}",
          "Composer",
          "Composer",
          "Composer",
          "Composer",
          "Composer",
          "Composer",
          "Composer",
          "Composer",
          "{{hlist|Pianist|composer|songwriter|bandleader|arranger|conductor|actor}}",
          "Composer",
          "Composer",
          "Composer",
          "Musician",
          "Composer",
          "Composer",
          "{{hlist|Composer|pianist}}",
          "Composer",
          "Composer",
          "Composer",
          "Composer",
          "{{hlist|Composer|pianist}}",
          "Composer",
          "Composer",
          "Composer",
          "{{hlist|Pianist|composer|songwriter|bandleader|arranger|conductor|actor}}",
          "Composer",
          "Composer",
          "Composer",
          "Composer",
          "Composer",
          "Composer",
          "Composer",
          "Musician",
          "Composer",
          "Composer",
          "Composer",
          "Composer",
          "Composer",
          "Composer",
          "Composer",
          "Composer",
          "Composer",
          "Composer",
          "Composer",
          "Composer",
          "Composer",
          "Composer",
          "Composer",
          "Composer",
          "Composer",
          "Composer",
          "Composer",
          "Composer",
          "Composer",
          "Composer",
          "Composer",
          "Composer",
          "Composer",
          "Composer",
          "Composer",
          "Composer",
          "Composer",
          "Composer",
          "Composer",
          "Composer",
          "Composer",
          "Composer",
          "Composer",
          "Composer",
          "Composer",
          "Composer",
          "Composer",
          "Composer",
          "Composer",
          "Architect",
          "Composer",
          "Composer",
          "Composer",
          "Composer",
          "Composer",
          "Composer",
          "Composer",
          "Composer",
          "Composer",
          "Composer",
          "Composer",
          "Composer",
          "Architect",
          "Composer",
          "Composer",
          "Composer",
          "Composer",
          "Composer",
          "Composer",
          "Composer",
          "Composer",
          "Composer",
          "Composer",
          "Composer",
          "Composer",
          "Composer",
          "Composer",
          "Composer",
          "Composer",
          "Composer",
          "Composer",
          "Composer",
          "Composer",
          "Composer",
          "Composer",
          "Composer",
          "Composer",
          "Composer",
          "Composer",
          "Composer",
          "Composer",
          "Composer",
          "Composer",
          "Composer",
          "Composer",
          "Composer",
          "Composer",
          "Composer",
          "Composer",
          "Composer",
          "Composer",
          "Composer",
          "Composer",
          "Composer",
          "Composer",
          "Composer",
          "Composer",
          "Composer",
          "Composer",
          "Composer",
          "Composer",
          "Composer",
          "Composer",
          "Composer",
          "Composer",
          "Composer",
          "Composer",
          "Composer",
          "Composer",
          "Composer",
          "Composer",
          "Composer",
          "Composer",
          "Composer",
          "Composer",
          "Composer",
          "Composer",
          "Composer",
          "Composer",
          "Composer",
          "Composer",
          "Composer",
          "Composer",
          "Composer",
          "Composer",
          "Composer",
          "Composer",
          "Composer",
          "Architect",
          "Composer",
          "Composer",
          "Composer",
          "Composer",
          "Composer",
          "Composer",
          "Composer",
          "Composer",
          "Composer",
          "Composer",
          "Composer",
          "Composer",
          "Composer",
          "Composer",
          "Composer",
          "Composer",
          "Composer",
          "Composer",
          "Composer",
          "Composer",
          "Composer",
          "Composer",
          "Composer",
          "Composer",
          "Composer",
          "Composer",
          "Composer",
          "Composer",
          "Composer",
          "Composer",
          "Composer",
          "Composer",
          "Composer",
          "Composer",
          "Composer",
          "Composer",
          "Composer",
          "Composer",
          "Composer",
          "Composer",
          "Composer",
          "Composer",
          "Composer",
          "Composer",
          "Composer",
          "Composer",
          "Composer",
          "Composer",
          "Composer",
          "Composer",
          "Composer",
          "Composer",
          "Composer",
          "Composer",
          "Composer",
          "Composer",
          "Composer",
          "Composer",
          "Composer",
          "Composer",
          "Composer",
          "Composer",
          "Composer",
          "Composer",
          "Composer",
          "Composer",
          "Composer",
          "Composer",
          "Composer",
          "Composer",
          "Composer",
          "Composer",
          "Composer",
          "Composer",
          "Composer",
          "Composer",
          "Composer",
          "Composer",
          "Composer",
          "Composer",
          "Composer",
          "Composer",
          "Composer",
          "Composer",
          "[[Politician]]",
          "Composer",
          "Composer",
          "Composer",
          "Composer",
          "Composer",
          "Composer",
          "Composer",
          "Composer",
          "Composer",
          "Composer",
          "Composer",
          "Composer",
          "Composer",
          "Composer",
          "Composer",
          "Composer",
          "Composer",
          "Composer",
          "Composer",
          "Composer",
          "Composer",
          "Composer",
          "Composer",
          "Composer",
          "Composer",
          "Composer",
          "Composer",
          "Composer",
          "Composer",
          "Composer",
          "Composer",
          "[[Politician]]",
          "Composer",
          "Composer",
          "Composer",
          "Composer",
          "Composer",
          "Composer",
          "Composer",
          "Composer",
          "Composer",
          "Composer",
          "Composer",
          "Composer",
          "Composer",
          "Composer",
          "Composer",
          "Composer",
          "Composer",
          "Composer",
          "Composer",
          "Composer",
          "Composer",
          "Composer",
          "Composer",
          "Composer",
          "Composer",
          "Composer",
          "Composer",
          "Composer",
          "Composer",
          "Composer",
          "Composer",
          "Composer",
          "Composer",
          "Composer",
          "Composer",
          "Composer",
          "Composer",
          "Composer",
          "Composer",
          "Composer",
          "Composer",
          "Composer",
          "Composer",
          "Composer",
          "Composer",
          "Composer",
          "Composer",
          "Composer",
          "Composer",
          "Composer",
          "Composer",
          "Composer",
          "Composer",
          "Composer",
          "Composer",
          "Composer",
          "Composer",
          "Composer",
          "Architect",
          "Composer",
          "Composer",
          "Composer",
          "Composer",
          "Composer",
          "Composer",
          "Composer",
          "Composer",
          "Composer",
          "Composer",
          "Composer",
          "Composer",
          "Architect",
          "Composer",
          "Composer",
          "Composer",
          "Composer",
          "Composer",
          "Composer",
          "Composer",
          "Composer",
          "Composer",
          "Composer",
          "Composer",
          "Composer",
          "Composer",
          "Composer",
          "Composer",
          "Composer",
          "Composer",
          "Composer",
          "Composer",
          "Composer",
          "Composer",
          "Composer",
          "Composer",
          "Composer",
          "Composer",
          "Composer",
          "Composer",
          "Composer",
          "Composer",
          "Composer",
          "Composer",
          "Composer",
          "Composer",
          "Novelist",
          "Composer",
          "Composer",
          "Composer",
          "Composer",
          "Composer",
          "Writer",
          "Composer",
          "Composer",
          "Composer",
          "Composer",
          "Composer",
          "Composer",
          "Composer",
          "Composer",
          "Composer",
          "Novelist",
          "Composer",
          "Composer",
          "Composer",
          "Composer",
          "Composer",
          "Composer",
          "Composer",
          "Composer",
          "Composer",
          "Composer",
          "Composer",
          "Composer",
          "Composer",
          "Composer",
          "Composer",
          "Composer",
          "Composer",
          "Composer",
          "Composer",
          "Composer",
          "Composer",
          "Composer",
          "Composer",
          "Composer",
          "Composer",
          "Composer",
          "Composer",
          "Composer",
          "Composer",
          "Composer",
          "Composer",
          "Composer",
          "Composer",
          "Composer",
          "Composer",
          "Composer",
          "Composer",
          "Composer",
          "Composer",
          "Composer",
          "Composer",
          "Composer",
          "Composer",
          "Composer",
          "Composer",
          "Composer",
          "Composer",
          "Composer",
          "Composer",
          "Composer",
          "Composer",
          "Composer",
          "Composer",
          "Composer",
          "Composer",
          "Composer",
          "Composer",
          "Composer",
          "Composer",
          "Composer",
          "Composer",
          "[[Politician]]",
          "Composer",
          "Composer",
          "Composer",
          "Composer",
          "Composer",
          "Composer",
          "Composer",
          "Composer",
          "Composer",
          "Composer",
          "Composer",
          "Composer",
          "Composer",
          "Composer",
          "Composer",
          "Composer",
          "Composer",
          "Composer",
          "Composer",
          "Composer",
          "Composer",
          "Composer",
          "Composer",
          "Composer",
          "Composer",
          "Composer",
          "Composer",
          "Composer",
          "Composer",
          "Composer",
          "Composer",
          "Composer",
          "Composer",
          "Composer",
          "Novelist",
          "Composer",
          "Composer",
          "Composer",
          "Composer",
          "Composer",
          "Writer",
          "Composer",
          "Composer",
          "Composer",
          "Composer",
          "Composer",
          "Composer",
          "Composer",
          "Composer",
          "Composer",
          "Novelist",
          "Composer",
          "Composer",
          "Composer",
          "Composer",
          "Composer",
          "Composer",
          "Composer",
          "Composer",
          "Composer",
          "Composer",
          "Composer",
          "Composer",
          "Composer",
          "Composer",
          "Composer",
          "Composer",
          "Composer",
          "Composer",
          "Composer",
          "Composer",
          "Composer",
          "Composer",
          "Composer",
          "Composer",
          "Composer",
          "Composer",
          "Composer",
          "Composer",
          "Composer",
          "Composer",
          "Composer",
          "Composer",
          "Composer",
          "Composer",
          "Composer",
          "Composer",
          "Composer",
          "Composer",
          "Composer",
          "Composer",
          "Composer",
          "Composer",
          "Composer",
          "Composer",
          "Composer",
          "Composer",
          "Composer",
          "Composer",
          "Composer",
          "Composer",
          "Composer",
          "Composer",
          "Composer",
          "Composer",
          "Composer",
          "Composer",
          "Composer",
          "Composer",
          "Composer",
          "Composer",
          "Composer",
          "Composer",
          "Composer",
          "Composer",
          "Composer",
          "Composer",
          "Composer",
          "Composer",
          "Composer",
          "Composer",
          "Composer",
          "Composer",
          "Composer",
          "Composer",
          "Composer",
          "Composer",
          "Composer",
          "Composer",
          "Composer",
          "Composer",
          "Composer",
          "Composer",
          "Composer",
          "Composer",
          "Composer",
          "Composer",
          "Composer",
          "Composer",
          "Composer",
          "Composer",
          "Composer",
          "Composer",
          "Composer",
          "Composer",
          "Composer",
          "Composer",
          "Composer",
          "Composer",
          "Composer",
          "Composer",
          "Composer",
          "Composer",
          "Composer",
          "Composer",
          "Composer",
          "Composer",
          "Composer",
          "Composer",
          "Composer",
          "Composer",
          "Composer",
          "Composer",
          "Composer",
          "Composer",
          "Composer",
          "Composer",
          "Composer",
          "Composer",
          "Composer",
          "Composer",
          "Composer",
          "Composer",
          "Composer",
          "Composer",
          "Composer",
          "Composer",
          "Composer",
          "Composer",
          "Composer",
          "Composer",
          "Composer",
          "Composer",
          "Composer",
          "Composer",
          "Composer",
          "Composer",
          "Composer",
          "Composer",
          "Composer",
          "Composer",
          "Composer",
          "Composer",
          "Composer",
          "Composer",
          "Composer",
          "Composer",
          "Composer",
          "Composer",
          "Composer",
          "Composer",
          "Composer",
          "Composer",
          "Composer",
          "Composer",
          "Composer",
          "Composer",
          "Composer",
          "Composer",
          "Composer",
          "Composer",
          "Composer",
          "Composer",
          "Composer",
          "Composer",
          "Composer",
          "Composer",
          "Composer",
          "Composer",
          "Composer",
          "Composer",
          "Composer",
          "Composer",
          "Composer",
          "Composer",
          "Composer",
          "Composer",
          "Composer",
          "Composer",
          "Composer",
          "Composer",
          "Composer",
          "Composer",
          "Composer",
          "Composer",
          "Composer",
          "Composer",
          "Composer",
          "Composer",
          "Composer",
          "Composer",
          "Composer",
          "Composer",
          "Composer",
          "Composer",
          "Composer",
          "Composer",
          "Composer",
          "Composer",
          "Composer",
          "Composer",
          "Composer",
          "Composer",
          "Composer",
          "Composer",
          "Composer",
          "Composer",
          "Composer",
          "Composer",
          "Composer",
          "Composer",
          "Composer",
          "Composer",
          "Composer",
          "Composer",
          "Composer",
          "Composer",
          "Composer",
          "Composer",
          "Composer",
          "Composer",
          "Composer",
          "Composer",
          "Composer",
          "Composer",
          "Composer",
          "Composer",
          "Composer",
          "Composer",
          "Composer",
          "Composer",
          "Poet",
          "Composer",
          "Composer",
          "Composer",
          "Composer",
          "Composer",
          "Composer",
          "Composer",
          "Composer",
          "Composer",
          "Composer",
          "Composer",
          "Composer",
          "Composer",
          "Composer",
          "Composer",
          "Composer",
          "Composer",
          "Composer",
          "Composer",
          "Poet",
          "Composer",
          "Composer",
          "Composer",
          "Composer",
          "Composer",
          "Composer",
          "Composer",
          "Composer",
          "Composer",
          "Composer",
          "Composer",
          "Composer",
          "Composer",
          "Composer",
          "Composer",
          "Composer",
          "Composer",
          "Composer",
          "Composer",
          "Composer",
          "Composer",
          "Composer",
          "Composer",
          "Composer",
          "Composer",
          "Poet",
          "Composer",
          "Composer",
          "Composer",
          "Composer",
          "Composer"
         ],
         "x0": " ",
         "xaxis": "x",
         "y": {
          "bdata": "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",
          "dtype": "f8"
         },
         "y0": " ",
         "yaxis": "y"
        }
       ],
       "layout": {
        "boxmode": "group",
        "legend": {
         "tracegroupgap": 0
        },
        "template": {
         "data": {
          "bar": [
           {
            "error_x": {
             "color": "#2a3f5f"
            },
            "error_y": {
             "color": "#2a3f5f"
            },
            "marker": {
             "line": {
              "color": "#E5ECF6",
              "width": 0.5
             },
             "pattern": {
              "fillmode": "overlay",
              "size": 10,
              "solidity": 0.2
             }
            },
            "type": "bar"
           }
          ],
          "barpolar": [
           {
            "marker": {
             "line": {
              "color": "#E5ECF6",
              "width": 0.5
             },
             "pattern": {
              "fillmode": "overlay",
              "size": 10,
              "solidity": 0.2
             }
            },
            "type": "barpolar"
           }
          ],
          "carpet": [
           {
            "aaxis": {
             "endlinecolor": "#2a3f5f",
             "gridcolor": "white",
             "linecolor": "white",
             "minorgridcolor": "white",
             "startlinecolor": "#2a3f5f"
            },
            "baxis": {
             "endlinecolor": "#2a3f5f",
             "gridcolor": "white",
             "linecolor": "white",
             "minorgridcolor": "white",
             "startlinecolor": "#2a3f5f"
            },
            "type": "carpet"
           }
          ],
          "choropleth": [
           {
            "colorbar": {
             "outlinewidth": 0,
             "ticks": ""
            },
            "type": "choropleth"
           }
          ],
          "contour": [
           {
            "colorbar": {
             "outlinewidth": 0,
             "ticks": ""
            },
            "colorscale": [
             [
              0,
              "#0d0887"
             ],
             [
              0.1111111111111111,
              "#46039f"
             ],
             [
              0.2222222222222222,
              "#7201a8"
             ],
             [
              0.3333333333333333,
              "#9c179e"
             ],
             [
              0.4444444444444444,
              "#bd3786"
             ],
             [
              0.5555555555555556,
              "#d8576b"
             ],
             [
              0.6666666666666666,
              "#ed7953"
             ],
             [
              0.7777777777777778,
              "#fb9f3a"
             ],
             [
              0.8888888888888888,
              "#fdca26"
             ],
             [
              1,
              "#f0f921"
             ]
            ],
            "type": "contour"
           }
          ],
          "contourcarpet": [
           {
            "colorbar": {
             "outlinewidth": 0,
             "ticks": ""
            },
            "type": "contourcarpet"
           }
          ],
          "heatmap": [
           {
            "colorbar": {
             "outlinewidth": 0,
             "ticks": ""
            },
            "colorscale": [
             [
              0,
              "#0d0887"
             ],
             [
              0.1111111111111111,
              "#46039f"
             ],
             [
              0.2222222222222222,
              "#7201a8"
             ],
             [
              0.3333333333333333,
              "#9c179e"
             ],
             [
              0.4444444444444444,
              "#bd3786"
             ],
             [
              0.5555555555555556,
              "#d8576b"
             ],
             [
              0.6666666666666666,
              "#ed7953"
             ],
             [
              0.7777777777777778,
              "#fb9f3a"
             ],
             [
              0.8888888888888888,
              "#fdca26"
             ],
             [
              1,
              "#f0f921"
             ]
            ],
            "type": "heatmap"
           }
          ],
          "histogram": [
           {
            "marker": {
             "pattern": {
              "fillmode": "overlay",
              "size": 10,
              "solidity": 0.2
             }
            },
            "type": "histogram"
           }
          ],
          "histogram2d": [
           {
            "colorbar": {
             "outlinewidth": 0,
             "ticks": ""
            },
            "colorscale": [
             [
              0,
              "#0d0887"
             ],
             [
              0.1111111111111111,
              "#46039f"
             ],
             [
              0.2222222222222222,
              "#7201a8"
             ],
             [
              0.3333333333333333,
              "#9c179e"
             ],
             [
              0.4444444444444444,
              "#bd3786"
             ],
             [
              0.5555555555555556,
              "#d8576b"
             ],
             [
              0.6666666666666666,
              "#ed7953"
             ],
             [
              0.7777777777777778,
              "#fb9f3a"
             ],
             [
              0.8888888888888888,
              "#fdca26"
             ],
             [
              1,
              "#f0f921"
             ]
            ],
            "type": "histogram2d"
           }
          ],
          "histogram2dcontour": [
           {
            "colorbar": {
             "outlinewidth": 0,
             "ticks": ""
            },
            "colorscale": [
             [
              0,
              "#0d0887"
             ],
             [
              0.1111111111111111,
              "#46039f"
             ],
             [
              0.2222222222222222,
              "#7201a8"
             ],
             [
              0.3333333333333333,
              "#9c179e"
             ],
             [
              0.4444444444444444,
              "#bd3786"
             ],
             [
              0.5555555555555556,
              "#d8576b"
             ],
             [
              0.6666666666666666,
              "#ed7953"
             ],
             [
              0.7777777777777778,
              "#fb9f3a"
             ],
             [
              0.8888888888888888,
              "#fdca26"
             ],
             [
              1,
              "#f0f921"
             ]
            ],
            "type": "histogram2dcontour"
           }
          ],
          "mesh3d": [
           {
            "colorbar": {
             "outlinewidth": 0,
             "ticks": ""
            },
            "type": "mesh3d"
           }
          ],
          "parcoords": [
           {
            "line": {
             "colorbar": {
              "outlinewidth": 0,
              "ticks": ""
             }
            },
            "type": "parcoords"
           }
          ],
          "pie": [
           {
            "automargin": true,
            "type": "pie"
           }
          ],
          "scatter": [
           {
            "fillpattern": {
             "fillmode": "overlay",
             "size": 10,
             "solidity": 0.2
            },
            "type": "scatter"
           }
          ],
          "scatter3d": [
           {
            "line": {
             "colorbar": {
              "outlinewidth": 0,
              "ticks": ""
             }
            },
            "marker": {
             "colorbar": {
              "outlinewidth": 0,
              "ticks": ""
             }
            },
            "type": "scatter3d"
           }
          ],
          "scattercarpet": [
           {
            "marker": {
             "colorbar": {
              "outlinewidth": 0,
              "ticks": ""
             }
            },
            "type": "scattercarpet"
           }
          ],
          "scattergeo": [
           {
            "marker": {
             "colorbar": {
              "outlinewidth": 0,
              "ticks": ""
             }
            },
            "type": "scattergeo"
           }
          ],
          "scattergl": [
           {
            "marker": {
             "colorbar": {
              "outlinewidth": 0,
              "ticks": ""
             }
            },
            "type": "scattergl"
           }
          ],
          "scattermap": [
           {
            "marker": {
             "colorbar": {
              "outlinewidth": 0,
              "ticks": ""
             }
            },
            "type": "scattermap"
           }
          ],
          "scattermapbox": [
           {
            "marker": {
             "colorbar": {
              "outlinewidth": 0,
              "ticks": ""
             }
            },
            "type": "scattermapbox"
           }
          ],
          "scatterpolar": [
           {
            "marker": {
             "colorbar": {
              "outlinewidth": 0,
              "ticks": ""
             }
            },
            "type": "scatterpolar"
           }
          ],
          "scatterpolargl": [
           {
            "marker": {
             "colorbar": {
              "outlinewidth": 0,
              "ticks": ""
             }
            },
            "type": "scatterpolargl"
           }
          ],
          "scatterternary": [
           {
            "marker": {
             "colorbar": {
              "outlinewidth": 0,
              "ticks": ""
             }
            },
            "type": "scatterternary"
           }
          ],
          "surface": [
           {
            "colorbar": {
             "outlinewidth": 0,
             "ticks": ""
            },
            "colorscale": [
             [
              0,
              "#0d0887"
             ],
             [
              0.1111111111111111,
              "#46039f"
             ],
             [
              0.2222222222222222,
              "#7201a8"
             ],
             [
              0.3333333333333333,
              "#9c179e"
             ],
             [
              0.4444444444444444,
              "#bd3786"
             ],
             [
              0.5555555555555556,
              "#d8576b"
             ],
             [
              0.6666666666666666,
              "#ed7953"
             ],
             [
              0.7777777777777778,
              "#fb9f3a"
             ],
             [
              0.8888888888888888,
              "#fdca26"
             ],
             [
              1,
              "#f0f921"
             ]
            ],
            "type": "surface"
           }
          ],
          "table": [
           {
            "cells": {
             "fill": {
              "color": "#EBF0F8"
             },
             "line": {
              "color": "white"
             }
            },
            "header": {
             "fill": {
              "color": "#C8D4E3"
             },
             "line": {
              "color": "white"
             }
            },
            "type": "table"
           }
          ]
         },
         "layout": {
          "annotationdefaults": {
           "arrowcolor": "#2a3f5f",
           "arrowhead": 0,
           "arrowwidth": 1
          },
          "autotypenumbers": "strict",
          "coloraxis": {
           "colorbar": {
            "outlinewidth": 0,
            "ticks": ""
           }
          },
          "colorscale": {
           "diverging": [
            [
             0,
             "#8e0152"
            ],
            [
             0.1,
             "#c51b7d"
            ],
            [
             0.2,
             "#de77ae"
            ],
            [
             0.3,
             "#f1b6da"
            ],
            [
             0.4,
             "#fde0ef"
            ],
            [
             0.5,
             "#f7f7f7"
            ],
            [
             0.6,
             "#e6f5d0"
            ],
            [
             0.7,
             "#b8e186"
            ],
            [
             0.8,
             "#7fbc41"
            ],
            [
             0.9,
             "#4d9221"
            ],
            [
             1,
             "#276419"
            ]
           ],
           "sequential": [
            [
             0,
             "#0d0887"
            ],
            [
             0.1111111111111111,
             "#46039f"
            ],
            [
             0.2222222222222222,
             "#7201a8"
            ],
            [
             0.3333333333333333,
             "#9c179e"
            ],
            [
             0.4444444444444444,
             "#bd3786"
            ],
            [
             0.5555555555555556,
             "#d8576b"
            ],
            [
             0.6666666666666666,
             "#ed7953"
            ],
            [
             0.7777777777777778,
             "#fb9f3a"
            ],
            [
             0.8888888888888888,
             "#fdca26"
            ],
            [
             1,
             "#f0f921"
            ]
           ],
           "sequentialminus": [
            [
             0,
             "#0d0887"
            ],
            [
             0.1111111111111111,
             "#46039f"
            ],
            [
             0.2222222222222222,
             "#7201a8"
            ],
            [
             0.3333333333333333,
             "#9c179e"
            ],
            [
             0.4444444444444444,
             "#bd3786"
            ],
            [
             0.5555555555555556,
             "#d8576b"
            ],
            [
             0.6666666666666666,
             "#ed7953"
            ],
            [
             0.7777777777777778,
             "#fb9f3a"
            ],
            [
             0.8888888888888888,
             "#fdca26"
            ],
            [
             1,
             "#f0f921"
            ]
           ]
          },
          "colorway": [
           "#636efa",
           "#EF553B",
           "#00cc96",
           "#ab63fa",
           "#FFA15A",
           "#19d3f3",
           "#FF6692",
           "#B6E880",
           "#FF97FF",
           "#FECB52"
          ],
          "font": {
           "color": "#2a3f5f"
          },
          "geo": {
           "bgcolor": "white",
           "lakecolor": "white",
           "landcolor": "#E5ECF6",
           "showlakes": true,
           "showland": true,
           "subunitcolor": "white"
          },
          "hoverlabel": {
           "align": "left"
          },
          "hovermode": "closest",
          "mapbox": {
           "style": "light"
          },
          "paper_bgcolor": "white",
          "plot_bgcolor": "#E5ECF6",
          "polar": {
           "angularaxis": {
            "gridcolor": "white",
            "linecolor": "white",
            "ticks": ""
           },
           "bgcolor": "#E5ECF6",
           "radialaxis": {
            "gridcolor": "white",
            "linecolor": "white",
            "ticks": ""
           }
          },
          "scene": {
           "xaxis": {
            "backgroundcolor": "#E5ECF6",
            "gridcolor": "white",
            "gridwidth": 2,
            "linecolor": "white",
            "showbackground": true,
            "ticks": "",
            "zerolinecolor": "white"
           },
           "yaxis": {
            "backgroundcolor": "#E5ECF6",
            "gridcolor": "white",
            "gridwidth": 2,
            "linecolor": "white",
            "showbackground": true,
            "ticks": "",
            "zerolinecolor": "white"
           },
           "zaxis": {
            "backgroundcolor": "#E5ECF6",
            "gridcolor": "white",
            "gridwidth": 2,
            "linecolor": "white",
            "showbackground": true,
            "ticks": "",
            "zerolinecolor": "white"
           }
          },
          "shapedefaults": {
           "line": {
            "color": "#2a3f5f"
           }
          },
          "ternary": {
           "aaxis": {
            "gridcolor": "white",
            "linecolor": "white",
            "ticks": ""
           },
           "baxis": {
            "gridcolor": "white",
            "linecolor": "white",
            "ticks": ""
           },
           "bgcolor": "#E5ECF6",
           "caxis": {
            "gridcolor": "white",
            "linecolor": "white",
            "ticks": ""
           }
          },
          "title": {
           "x": 0.05
          },
          "xaxis": {
           "automargin": true,
           "gridcolor": "white",
           "linecolor": "white",
           "ticks": "",
           "title": {
            "standoff": 15
           },
           "zerolinecolor": "white",
           "zerolinewidth": 2
          },
          "yaxis": {
           "automargin": true,
           "gridcolor": "white",
           "linecolor": "white",
           "ticks": "",
           "title": {
            "standoff": 15
           },
           "zerolinecolor": "white",
           "zerolinewidth": 2
          }
         }
        },
        "title": {
         "text": "Umr davomiyligi kasbga qarab taqsimoti (Top 10 kasb)"
        },
        "xaxis": {
         "anchor": "y",
         "domain": [
          0,
          1
         ],
         "tickangle": -45,
         "title": {
          "text": "Kasb"
         }
        },
        "yaxis": {
         "anchor": "x",
         "domain": [
          0,
          1
         ],
         "title": {
          "text": "Umr davomiyligi (yillar)"
         }
        }
       }
      }
     },
     "metadata": {},
     "output_type": "display_data"
    }
   ],
   "source": [
    "import plotly.express as px\n",
    "\n",
    "# Eng ko'p uchraydigan kasblarni ajratib olish (masalan, top 10)\n",
    "top_occupations = df['occupation'].value_counts().nlargest(10).index\n",
    "df_top_occupations = df[df['occupation'].isin(top_occupations)]\n",
    "\n",
    "fig = px.box(\n",
    "    df_top_occupations,\n",
    "    x='occupation',\n",
    "    y='life_span',\n",
    "    title=\"Umr davomiyligi kasbga qarab taqsimoti (Top 10 kasb)\",\n",
    "    labels={'occupation': 'Kasb', 'life_span': 'Umr davomiyligi (yillar)'},\n",
    ")\n",
    "\n",
    "fig.update_layout(xaxis_tickangle=-45)\n",
    "fig.show()\n"
   ]
  },
  {
   "cell_type": "markdown",
   "id": "5d84fca2",
   "metadata": {},
   "source": [
    " # Yillik tug‘ilishlar trendi "
   ]
  },
  {
   "cell_type": "code",
   "execution_count": 19,
   "id": "dfeae62d",
   "metadata": {},
   "outputs": [
    {
     "data": {
      "application/vnd.plotly.v1+json": {
       "config": {
        "plotlyServerURL": "https://plot.ly"
       },
       "data": [
        {
         "hovertemplate": "Tug‘ilgan yil=%{x}<br>Tug‘ilganlar soni=%{y}<extra></extra>",
         "legendgroup": "",
         "marker": {
          "color": "#636efa",
          "pattern": {
           "shape": ""
          }
         },
         "name": "",
         "orientation": "v",
         "showlegend": false,
         "textposition": "auto",
         "type": "bar",
         "x": {
          "bdata": "AAAAAAAAnUCVg9AWok+dQAAAAAAAaJ1AAAAAAAB8nUAAAAAAALSdQAAAAAAAwJ1AAAAAAADInUAAAAAAANidQAAAAAAA9J1AAAAAAAAYnkAAAAAAACSeQAAAAAAAOJ5AAAAAAABUnkAAAAAAAGieQAAAAAAAbJ5AAAAAAACInkAAAAAAAJCeQAAAAAAAoJ5AAAAAAACknkAAAAAAAACfQA==",
          "dtype": "f8"
         },
         "xaxis": "x",
         "y": {
          "bdata": "EABcABEAHAATABcAEgAVACAAEgARABcAEAAWABUAHQAXABEAFgARAQ==",
          "dtype": "i2"
         },
         "yaxis": "y"
        }
       ],
       "layout": {
        "barmode": "relative",
        "legend": {
         "tracegroupgap": 0
        },
        "template": {
         "data": {
          "bar": [
           {
            "error_x": {
             "color": "#2a3f5f"
            },
            "error_y": {
             "color": "#2a3f5f"
            },
            "marker": {
             "line": {
              "color": "#E5ECF6",
              "width": 0.5
             },
             "pattern": {
              "fillmode": "overlay",
              "size": 10,
              "solidity": 0.2
             }
            },
            "type": "bar"
           }
          ],
          "barpolar": [
           {
            "marker": {
             "line": {
              "color": "#E5ECF6",
              "width": 0.5
             },
             "pattern": {
              "fillmode": "overlay",
              "size": 10,
              "solidity": 0.2
             }
            },
            "type": "barpolar"
           }
          ],
          "carpet": [
           {
            "aaxis": {
             "endlinecolor": "#2a3f5f",
             "gridcolor": "white",
             "linecolor": "white",
             "minorgridcolor": "white",
             "startlinecolor": "#2a3f5f"
            },
            "baxis": {
             "endlinecolor": "#2a3f5f",
             "gridcolor": "white",
             "linecolor": "white",
             "minorgridcolor": "white",
             "startlinecolor": "#2a3f5f"
            },
            "type": "carpet"
           }
          ],
          "choropleth": [
           {
            "colorbar": {
             "outlinewidth": 0,
             "ticks": ""
            },
            "type": "choropleth"
           }
          ],
          "contour": [
           {
            "colorbar": {
             "outlinewidth": 0,
             "ticks": ""
            },
            "colorscale": [
             [
              0,
              "#0d0887"
             ],
             [
              0.1111111111111111,
              "#46039f"
             ],
             [
              0.2222222222222222,
              "#7201a8"
             ],
             [
              0.3333333333333333,
              "#9c179e"
             ],
             [
              0.4444444444444444,
              "#bd3786"
             ],
             [
              0.5555555555555556,
              "#d8576b"
             ],
             [
              0.6666666666666666,
              "#ed7953"
             ],
             [
              0.7777777777777778,
              "#fb9f3a"
             ],
             [
              0.8888888888888888,
              "#fdca26"
             ],
             [
              1,
              "#f0f921"
             ]
            ],
            "type": "contour"
           }
          ],
          "contourcarpet": [
           {
            "colorbar": {
             "outlinewidth": 0,
             "ticks": ""
            },
            "type": "contourcarpet"
           }
          ],
          "heatmap": [
           {
            "colorbar": {
             "outlinewidth": 0,
             "ticks": ""
            },
            "colorscale": [
             [
              0,
              "#0d0887"
             ],
             [
              0.1111111111111111,
              "#46039f"
             ],
             [
              0.2222222222222222,
              "#7201a8"
             ],
             [
              0.3333333333333333,
              "#9c179e"
             ],
             [
              0.4444444444444444,
              "#bd3786"
             ],
             [
              0.5555555555555556,
              "#d8576b"
             ],
             [
              0.6666666666666666,
              "#ed7953"
             ],
             [
              0.7777777777777778,
              "#fb9f3a"
             ],
             [
              0.8888888888888888,
              "#fdca26"
             ],
             [
              1,
              "#f0f921"
             ]
            ],
            "type": "heatmap"
           }
          ],
          "histogram": [
           {
            "marker": {
             "pattern": {
              "fillmode": "overlay",
              "size": 10,
              "solidity": 0.2
             }
            },
            "type": "histogram"
           }
          ],
          "histogram2d": [
           {
            "colorbar": {
             "outlinewidth": 0,
             "ticks": ""
            },
            "colorscale": [
             [
              0,
              "#0d0887"
             ],
             [
              0.1111111111111111,
              "#46039f"
             ],
             [
              0.2222222222222222,
              "#7201a8"
             ],
             [
              0.3333333333333333,
              "#9c179e"
             ],
             [
              0.4444444444444444,
              "#bd3786"
             ],
             [
              0.5555555555555556,
              "#d8576b"
             ],
             [
              0.6666666666666666,
              "#ed7953"
             ],
             [
              0.7777777777777778,
              "#fb9f3a"
             ],
             [
              0.8888888888888888,
              "#fdca26"
             ],
             [
              1,
              "#f0f921"
             ]
            ],
            "type": "histogram2d"
           }
          ],
          "histogram2dcontour": [
           {
            "colorbar": {
             "outlinewidth": 0,
             "ticks": ""
            },
            "colorscale": [
             [
              0,
              "#0d0887"
             ],
             [
              0.1111111111111111,
              "#46039f"
             ],
             [
              0.2222222222222222,
              "#7201a8"
             ],
             [
              0.3333333333333333,
              "#9c179e"
             ],
             [
              0.4444444444444444,
              "#bd3786"
             ],
             [
              0.5555555555555556,
              "#d8576b"
             ],
             [
              0.6666666666666666,
              "#ed7953"
             ],
             [
              0.7777777777777778,
              "#fb9f3a"
             ],
             [
              0.8888888888888888,
              "#fdca26"
             ],
             [
              1,
              "#f0f921"
             ]
            ],
            "type": "histogram2dcontour"
           }
          ],
          "mesh3d": [
           {
            "colorbar": {
             "outlinewidth": 0,
             "ticks": ""
            },
            "type": "mesh3d"
           }
          ],
          "parcoords": [
           {
            "line": {
             "colorbar": {
              "outlinewidth": 0,
              "ticks": ""
             }
            },
            "type": "parcoords"
           }
          ],
          "pie": [
           {
            "automargin": true,
            "type": "pie"
           }
          ],
          "scatter": [
           {
            "fillpattern": {
             "fillmode": "overlay",
             "size": 10,
             "solidity": 0.2
            },
            "type": "scatter"
           }
          ],
          "scatter3d": [
           {
            "line": {
             "colorbar": {
              "outlinewidth": 0,
              "ticks": ""
             }
            },
            "marker": {
             "colorbar": {
              "outlinewidth": 0,
              "ticks": ""
             }
            },
            "type": "scatter3d"
           }
          ],
          "scattercarpet": [
           {
            "marker": {
             "colorbar": {
              "outlinewidth": 0,
              "ticks": ""
             }
            },
            "type": "scattercarpet"
           }
          ],
          "scattergeo": [
           {
            "marker": {
             "colorbar": {
              "outlinewidth": 0,
              "ticks": ""
             }
            },
            "type": "scattergeo"
           }
          ],
          "scattergl": [
           {
            "marker": {
             "colorbar": {
              "outlinewidth": 0,
              "ticks": ""
             }
            },
            "type": "scattergl"
           }
          ],
          "scattermap": [
           {
            "marker": {
             "colorbar": {
              "outlinewidth": 0,
              "ticks": ""
             }
            },
            "type": "scattermap"
           }
          ],
          "scattermapbox": [
           {
            "marker": {
             "colorbar": {
              "outlinewidth": 0,
              "ticks": ""
             }
            },
            "type": "scattermapbox"
           }
          ],
          "scatterpolar": [
           {
            "marker": {
             "colorbar": {
              "outlinewidth": 0,
              "ticks": ""
             }
            },
            "type": "scatterpolar"
           }
          ],
          "scatterpolargl": [
           {
            "marker": {
             "colorbar": {
              "outlinewidth": 0,
              "ticks": ""
             }
            },
            "type": "scatterpolargl"
           }
          ],
          "scatterternary": [
           {
            "marker": {
             "colorbar": {
              "outlinewidth": 0,
              "ticks": ""
             }
            },
            "type": "scatterternary"
           }
          ],
          "surface": [
           {
            "colorbar": {
             "outlinewidth": 0,
             "ticks": ""
            },
            "colorscale": [
             [
              0,
              "#0d0887"
             ],
             [
              0.1111111111111111,
              "#46039f"
             ],
             [
              0.2222222222222222,
              "#7201a8"
             ],
             [
              0.3333333333333333,
              "#9c179e"
             ],
             [
              0.4444444444444444,
              "#bd3786"
             ],
             [
              0.5555555555555556,
              "#d8576b"
             ],
             [
              0.6666666666666666,
              "#ed7953"
             ],
             [
              0.7777777777777778,
              "#fb9f3a"
             ],
             [
              0.8888888888888888,
              "#fdca26"
             ],
             [
              1,
              "#f0f921"
             ]
            ],
            "type": "surface"
           }
          ],
          "table": [
           {
            "cells": {
             "fill": {
              "color": "#EBF0F8"
             },
             "line": {
              "color": "white"
             }
            },
            "header": {
             "fill": {
              "color": "#C8D4E3"
             },
             "line": {
              "color": "white"
             }
            },
            "type": "table"
           }
          ]
         },
         "layout": {
          "annotationdefaults": {
           "arrowcolor": "#2a3f5f",
           "arrowhead": 0,
           "arrowwidth": 1
          },
          "autotypenumbers": "strict",
          "coloraxis": {
           "colorbar": {
            "outlinewidth": 0,
            "ticks": ""
           }
          },
          "colorscale": {
           "diverging": [
            [
             0,
             "#8e0152"
            ],
            [
             0.1,
             "#c51b7d"
            ],
            [
             0.2,
             "#de77ae"
            ],
            [
             0.3,
             "#f1b6da"
            ],
            [
             0.4,
             "#fde0ef"
            ],
            [
             0.5,
             "#f7f7f7"
            ],
            [
             0.6,
             "#e6f5d0"
            ],
            [
             0.7,
             "#b8e186"
            ],
            [
             0.8,
             "#7fbc41"
            ],
            [
             0.9,
             "#4d9221"
            ],
            [
             1,
             "#276419"
            ]
           ],
           "sequential": [
            [
             0,
             "#0d0887"
            ],
            [
             0.1111111111111111,
             "#46039f"
            ],
            [
             0.2222222222222222,
             "#7201a8"
            ],
            [
             0.3333333333333333,
             "#9c179e"
            ],
            [
             0.4444444444444444,
             "#bd3786"
            ],
            [
             0.5555555555555556,
             "#d8576b"
            ],
            [
             0.6666666666666666,
             "#ed7953"
            ],
            [
             0.7777777777777778,
             "#fb9f3a"
            ],
            [
             0.8888888888888888,
             "#fdca26"
            ],
            [
             1,
             "#f0f921"
            ]
           ],
           "sequentialminus": [
            [
             0,
             "#0d0887"
            ],
            [
             0.1111111111111111,
             "#46039f"
            ],
            [
             0.2222222222222222,
             "#7201a8"
            ],
            [
             0.3333333333333333,
             "#9c179e"
            ],
            [
             0.4444444444444444,
             "#bd3786"
            ],
            [
             0.5555555555555556,
             "#d8576b"
            ],
            [
             0.6666666666666666,
             "#ed7953"
            ],
            [
             0.7777777777777778,
             "#fb9f3a"
            ],
            [
             0.8888888888888888,
             "#fdca26"
            ],
            [
             1,
             "#f0f921"
            ]
           ]
          },
          "colorway": [
           "#636efa",
           "#EF553B",
           "#00cc96",
           "#ab63fa",
           "#FFA15A",
           "#19d3f3",
           "#FF6692",
           "#B6E880",
           "#FF97FF",
           "#FECB52"
          ],
          "font": {
           "color": "#2a3f5f"
          },
          "geo": {
           "bgcolor": "white",
           "lakecolor": "white",
           "landcolor": "#E5ECF6",
           "showlakes": true,
           "showland": true,
           "subunitcolor": "white"
          },
          "hoverlabel": {
           "align": "left"
          },
          "hovermode": "closest",
          "mapbox": {
           "style": "light"
          },
          "paper_bgcolor": "white",
          "plot_bgcolor": "#E5ECF6",
          "polar": {
           "angularaxis": {
            "gridcolor": "white",
            "linecolor": "white",
            "ticks": ""
           },
           "bgcolor": "#E5ECF6",
           "radialaxis": {
            "gridcolor": "white",
            "linecolor": "white",
            "ticks": ""
           }
          },
          "scene": {
           "xaxis": {
            "backgroundcolor": "#E5ECF6",
            "gridcolor": "white",
            "gridwidth": 2,
            "linecolor": "white",
            "showbackground": true,
            "ticks": "",
            "zerolinecolor": "white"
           },
           "yaxis": {
            "backgroundcolor": "#E5ECF6",
            "gridcolor": "white",
            "gridwidth": 2,
            "linecolor": "white",
            "showbackground": true,
            "ticks": "",
            "zerolinecolor": "white"
           },
           "zaxis": {
            "backgroundcolor": "#E5ECF6",
            "gridcolor": "white",
            "gridwidth": 2,
            "linecolor": "white",
            "showbackground": true,
            "ticks": "",
            "zerolinecolor": "white"
           }
          },
          "shapedefaults": {
           "line": {
            "color": "#2a3f5f"
           }
          },
          "ternary": {
           "aaxis": {
            "gridcolor": "white",
            "linecolor": "white",
            "ticks": ""
           },
           "baxis": {
            "gridcolor": "white",
            "linecolor": "white",
            "ticks": ""
           },
           "bgcolor": "#E5ECF6",
           "caxis": {
            "gridcolor": "white",
            "linecolor": "white",
            "ticks": ""
           }
          },
          "title": {
           "x": 0.05
          },
          "xaxis": {
           "automargin": true,
           "gridcolor": "white",
           "linecolor": "white",
           "ticks": "",
           "title": {
            "standoff": 15
           },
           "zerolinecolor": "white",
           "zerolinewidth": 2
          },
          "yaxis": {
           "automargin": true,
           "gridcolor": "white",
           "linecolor": "white",
           "ticks": "",
           "title": {
            "standoff": 15
           },
           "zerolinecolor": "white",
           "zerolinewidth": 2
          }
         }
        },
        "title": {
         "text": "Eng ko‘p tug‘ilgan 20 yil"
        },
        "xaxis": {
         "anchor": "y",
         "domain": [
          0,
          1
         ],
         "title": {
          "text": "Tug‘ilgan yil"
         }
        },
        "yaxis": {
         "anchor": "x",
         "domain": [
          0,
          1
         ],
         "title": {
          "text": "Tug‘ilganlar soni"
         }
        }
       }
      }
     },
     "metadata": {},
     "output_type": "display_data"
    }
   ],
   "source": [
    "import plotly.express as px\n",
    "\n",
    "# Tug'ilgan yillar bo'yicha hisoblash\n",
    "birth_year_counts = df['birth_year'].value_counts().reset_index()\n",
    "birth_year_counts.columns = ['birth_year', 'count']\n",
    "\n",
    "# Eng ko'p tug'ilgan 10 yilni olish\n",
    "top_10_birth_years = birth_year_counts.nlargest(20, 'count')\n",
    "\n",
    "# Natijani yillar bo'yicha tartiblash (grafik uchun)\n",
    "top_10_birth_years = top_10_birth_years.sort_values('birth_year')\n",
    "\n",
    "fig = px.bar(\n",
    "    top_10_birth_years,\n",
    "    x='birth_year',\n",
    "    y='count',\n",
    "    title=\"Eng ko‘p tug‘ilgan 20 yil\",\n",
    "    labels={'birth_year': 'Tug‘ilgan yil', 'count': 'Tug‘ilganlar soni'}\n",
    ")\n",
    "\n",
    "fig.show()\n"
   ]
  },
  {
   "cell_type": "markdown",
   "id": "132e8117",
   "metadata": {},
   "source": [
    "# eng ko‘p tug‘ilgan yil va bitta eng kam tug‘ilgan yil"
   ]
  },
  {
   "cell_type": "code",
   "execution_count": 22,
   "id": "ccc5a281",
   "metadata": {},
   "outputs": [
    {
     "data": {
      "application/vnd.plotly.v1+json": {
       "config": {
        "plotlyServerURL": "https://plot.ly"
       },
       "data": [
        {
         "hovertemplate": "Tug‘ilgan yil=%{x}<br>Tug‘ilganlar soni=%{y}<extra></extra>",
         "legendgroup": "",
         "marker": {
          "color": "#636efa",
          "pattern": {
           "shape": ""
          }
         },
         "name": "",
         "orientation": "v",
         "showlegend": false,
         "textposition": "auto",
         "type": "bar",
         "x": {
          "bdata": "AAAAAAAgmUAAAAAAAACfQA==",
          "dtype": "f8"
         },
         "xaxis": "x",
         "y": {
          "bdata": "AAAAAAAA8D8AAAAAABBxQA==",
          "dtype": "f8"
         },
         "yaxis": "y"
        }
       ],
       "layout": {
        "barmode": "relative",
        "legend": {
         "tracegroupgap": 0
        },
        "template": {
         "data": {
          "bar": [
           {
            "error_x": {
             "color": "#2a3f5f"
            },
            "error_y": {
             "color": "#2a3f5f"
            },
            "marker": {
             "line": {
              "color": "#E5ECF6",
              "width": 0.5
             },
             "pattern": {
              "fillmode": "overlay",
              "size": 10,
              "solidity": 0.2
             }
            },
            "type": "bar"
           }
          ],
          "barpolar": [
           {
            "marker": {
             "line": {
              "color": "#E5ECF6",
              "width": 0.5
             },
             "pattern": {
              "fillmode": "overlay",
              "size": 10,
              "solidity": 0.2
             }
            },
            "type": "barpolar"
           }
          ],
          "carpet": [
           {
            "aaxis": {
             "endlinecolor": "#2a3f5f",
             "gridcolor": "white",
             "linecolor": "white",
             "minorgridcolor": "white",
             "startlinecolor": "#2a3f5f"
            },
            "baxis": {
             "endlinecolor": "#2a3f5f",
             "gridcolor": "white",
             "linecolor": "white",
             "minorgridcolor": "white",
             "startlinecolor": "#2a3f5f"
            },
            "type": "carpet"
           }
          ],
          "choropleth": [
           {
            "colorbar": {
             "outlinewidth": 0,
             "ticks": ""
            },
            "type": "choropleth"
           }
          ],
          "contour": [
           {
            "colorbar": {
             "outlinewidth": 0,
             "ticks": ""
            },
            "colorscale": [
             [
              0,
              "#0d0887"
             ],
             [
              0.1111111111111111,
              "#46039f"
             ],
             [
              0.2222222222222222,
              "#7201a8"
             ],
             [
              0.3333333333333333,
              "#9c179e"
             ],
             [
              0.4444444444444444,
              "#bd3786"
             ],
             [
              0.5555555555555556,
              "#d8576b"
             ],
             [
              0.6666666666666666,
              "#ed7953"
             ],
             [
              0.7777777777777778,
              "#fb9f3a"
             ],
             [
              0.8888888888888888,
              "#fdca26"
             ],
             [
              1,
              "#f0f921"
             ]
            ],
            "type": "contour"
           }
          ],
          "contourcarpet": [
           {
            "colorbar": {
             "outlinewidth": 0,
             "ticks": ""
            },
            "type": "contourcarpet"
           }
          ],
          "heatmap": [
           {
            "colorbar": {
             "outlinewidth": 0,
             "ticks": ""
            },
            "colorscale": [
             [
              0,
              "#0d0887"
             ],
             [
              0.1111111111111111,
              "#46039f"
             ],
             [
              0.2222222222222222,
              "#7201a8"
             ],
             [
              0.3333333333333333,
              "#9c179e"
             ],
             [
              0.4444444444444444,
              "#bd3786"
             ],
             [
              0.5555555555555556,
              "#d8576b"
             ],
             [
              0.6666666666666666,
              "#ed7953"
             ],
             [
              0.7777777777777778,
              "#fb9f3a"
             ],
             [
              0.8888888888888888,
              "#fdca26"
             ],
             [
              1,
              "#f0f921"
             ]
            ],
            "type": "heatmap"
           }
          ],
          "histogram": [
           {
            "marker": {
             "pattern": {
              "fillmode": "overlay",
              "size": 10,
              "solidity": 0.2
             }
            },
            "type": "histogram"
           }
          ],
          "histogram2d": [
           {
            "colorbar": {
             "outlinewidth": 0,
             "ticks": ""
            },
            "colorscale": [
             [
              0,
              "#0d0887"
             ],
             [
              0.1111111111111111,
              "#46039f"
             ],
             [
              0.2222222222222222,
              "#7201a8"
             ],
             [
              0.3333333333333333,
              "#9c179e"
             ],
             [
              0.4444444444444444,
              "#bd3786"
             ],
             [
              0.5555555555555556,
              "#d8576b"
             ],
             [
              0.6666666666666666,
              "#ed7953"
             ],
             [
              0.7777777777777778,
              "#fb9f3a"
             ],
             [
              0.8888888888888888,
              "#fdca26"
             ],
             [
              1,
              "#f0f921"
             ]
            ],
            "type": "histogram2d"
           }
          ],
          "histogram2dcontour": [
           {
            "colorbar": {
             "outlinewidth": 0,
             "ticks": ""
            },
            "colorscale": [
             [
              0,
              "#0d0887"
             ],
             [
              0.1111111111111111,
              "#46039f"
             ],
             [
              0.2222222222222222,
              "#7201a8"
             ],
             [
              0.3333333333333333,
              "#9c179e"
             ],
             [
              0.4444444444444444,
              "#bd3786"
             ],
             [
              0.5555555555555556,
              "#d8576b"
             ],
             [
              0.6666666666666666,
              "#ed7953"
             ],
             [
              0.7777777777777778,
              "#fb9f3a"
             ],
             [
              0.8888888888888888,
              "#fdca26"
             ],
             [
              1,
              "#f0f921"
             ]
            ],
            "type": "histogram2dcontour"
           }
          ],
          "mesh3d": [
           {
            "colorbar": {
             "outlinewidth": 0,
             "ticks": ""
            },
            "type": "mesh3d"
           }
          ],
          "parcoords": [
           {
            "line": {
             "colorbar": {
              "outlinewidth": 0,
              "ticks": ""
             }
            },
            "type": "parcoords"
           }
          ],
          "pie": [
           {
            "automargin": true,
            "type": "pie"
           }
          ],
          "scatter": [
           {
            "fillpattern": {
             "fillmode": "overlay",
             "size": 10,
             "solidity": 0.2
            },
            "type": "scatter"
           }
          ],
          "scatter3d": [
           {
            "line": {
             "colorbar": {
              "outlinewidth": 0,
              "ticks": ""
             }
            },
            "marker": {
             "colorbar": {
              "outlinewidth": 0,
              "ticks": ""
             }
            },
            "type": "scatter3d"
           }
          ],
          "scattercarpet": [
           {
            "marker": {
             "colorbar": {
              "outlinewidth": 0,
              "ticks": ""
             }
            },
            "type": "scattercarpet"
           }
          ],
          "scattergeo": [
           {
            "marker": {
             "colorbar": {
              "outlinewidth": 0,
              "ticks": ""
             }
            },
            "type": "scattergeo"
           }
          ],
          "scattergl": [
           {
            "marker": {
             "colorbar": {
              "outlinewidth": 0,
              "ticks": ""
             }
            },
            "type": "scattergl"
           }
          ],
          "scattermap": [
           {
            "marker": {
             "colorbar": {
              "outlinewidth": 0,
              "ticks": ""
             }
            },
            "type": "scattermap"
           }
          ],
          "scattermapbox": [
           {
            "marker": {
             "colorbar": {
              "outlinewidth": 0,
              "ticks": ""
             }
            },
            "type": "scattermapbox"
           }
          ],
          "scatterpolar": [
           {
            "marker": {
             "colorbar": {
              "outlinewidth": 0,
              "ticks": ""
             }
            },
            "type": "scatterpolar"
           }
          ],
          "scatterpolargl": [
           {
            "marker": {
             "colorbar": {
              "outlinewidth": 0,
              "ticks": ""
             }
            },
            "type": "scatterpolargl"
           }
          ],
          "scatterternary": [
           {
            "marker": {
             "colorbar": {
              "outlinewidth": 0,
              "ticks": ""
             }
            },
            "type": "scatterternary"
           }
          ],
          "surface": [
           {
            "colorbar": {
             "outlinewidth": 0,
             "ticks": ""
            },
            "colorscale": [
             [
              0,
              "#0d0887"
             ],
             [
              0.1111111111111111,
              "#46039f"
             ],
             [
              0.2222222222222222,
              "#7201a8"
             ],
             [
              0.3333333333333333,
              "#9c179e"
             ],
             [
              0.4444444444444444,
              "#bd3786"
             ],
             [
              0.5555555555555556,
              "#d8576b"
             ],
             [
              0.6666666666666666,
              "#ed7953"
             ],
             [
              0.7777777777777778,
              "#fb9f3a"
             ],
             [
              0.8888888888888888,
              "#fdca26"
             ],
             [
              1,
              "#f0f921"
             ]
            ],
            "type": "surface"
           }
          ],
          "table": [
           {
            "cells": {
             "fill": {
              "color": "#EBF0F8"
             },
             "line": {
              "color": "white"
             }
            },
            "header": {
             "fill": {
              "color": "#C8D4E3"
             },
             "line": {
              "color": "white"
             }
            },
            "type": "table"
           }
          ]
         },
         "layout": {
          "annotationdefaults": {
           "arrowcolor": "#2a3f5f",
           "arrowhead": 0,
           "arrowwidth": 1
          },
          "autotypenumbers": "strict",
          "coloraxis": {
           "colorbar": {
            "outlinewidth": 0,
            "ticks": ""
           }
          },
          "colorscale": {
           "diverging": [
            [
             0,
             "#8e0152"
            ],
            [
             0.1,
             "#c51b7d"
            ],
            [
             0.2,
             "#de77ae"
            ],
            [
             0.3,
             "#f1b6da"
            ],
            [
             0.4,
             "#fde0ef"
            ],
            [
             0.5,
             "#f7f7f7"
            ],
            [
             0.6,
             "#e6f5d0"
            ],
            [
             0.7,
             "#b8e186"
            ],
            [
             0.8,
             "#7fbc41"
            ],
            [
             0.9,
             "#4d9221"
            ],
            [
             1,
             "#276419"
            ]
           ],
           "sequential": [
            [
             0,
             "#0d0887"
            ],
            [
             0.1111111111111111,
             "#46039f"
            ],
            [
             0.2222222222222222,
             "#7201a8"
            ],
            [
             0.3333333333333333,
             "#9c179e"
            ],
            [
             0.4444444444444444,
             "#bd3786"
            ],
            [
             0.5555555555555556,
             "#d8576b"
            ],
            [
             0.6666666666666666,
             "#ed7953"
            ],
            [
             0.7777777777777778,
             "#fb9f3a"
            ],
            [
             0.8888888888888888,
             "#fdca26"
            ],
            [
             1,
             "#f0f921"
            ]
           ],
           "sequentialminus": [
            [
             0,
             "#0d0887"
            ],
            [
             0.1111111111111111,
             "#46039f"
            ],
            [
             0.2222222222222222,
             "#7201a8"
            ],
            [
             0.3333333333333333,
             "#9c179e"
            ],
            [
             0.4444444444444444,
             "#bd3786"
            ],
            [
             0.5555555555555556,
             "#d8576b"
            ],
            [
             0.6666666666666666,
             "#ed7953"
            ],
            [
             0.7777777777777778,
             "#fb9f3a"
            ],
            [
             0.8888888888888888,
             "#fdca26"
            ],
            [
             1,
             "#f0f921"
            ]
           ]
          },
          "colorway": [
           "#636efa",
           "#EF553B",
           "#00cc96",
           "#ab63fa",
           "#FFA15A",
           "#19d3f3",
           "#FF6692",
           "#B6E880",
           "#FF97FF",
           "#FECB52"
          ],
          "font": {
           "color": "#2a3f5f"
          },
          "geo": {
           "bgcolor": "white",
           "lakecolor": "white",
           "landcolor": "#E5ECF6",
           "showlakes": true,
           "showland": true,
           "subunitcolor": "white"
          },
          "hoverlabel": {
           "align": "left"
          },
          "hovermode": "closest",
          "mapbox": {
           "style": "light"
          },
          "paper_bgcolor": "white",
          "plot_bgcolor": "#E5ECF6",
          "polar": {
           "angularaxis": {
            "gridcolor": "white",
            "linecolor": "white",
            "ticks": ""
           },
           "bgcolor": "#E5ECF6",
           "radialaxis": {
            "gridcolor": "white",
            "linecolor": "white",
            "ticks": ""
           }
          },
          "scene": {
           "xaxis": {
            "backgroundcolor": "#E5ECF6",
            "gridcolor": "white",
            "gridwidth": 2,
            "linecolor": "white",
            "showbackground": true,
            "ticks": "",
            "zerolinecolor": "white"
           },
           "yaxis": {
            "backgroundcolor": "#E5ECF6",
            "gridcolor": "white",
            "gridwidth": 2,
            "linecolor": "white",
            "showbackground": true,
            "ticks": "",
            "zerolinecolor": "white"
           },
           "zaxis": {
            "backgroundcolor": "#E5ECF6",
            "gridcolor": "white",
            "gridwidth": 2,
            "linecolor": "white",
            "showbackground": true,
            "ticks": "",
            "zerolinecolor": "white"
           }
          },
          "shapedefaults": {
           "line": {
            "color": "#2a3f5f"
           }
          },
          "ternary": {
           "aaxis": {
            "gridcolor": "white",
            "linecolor": "white",
            "ticks": ""
           },
           "baxis": {
            "gridcolor": "white",
            "linecolor": "white",
            "ticks": ""
           },
           "bgcolor": "#E5ECF6",
           "caxis": {
            "gridcolor": "white",
            "linecolor": "white",
            "ticks": ""
           }
          },
          "title": {
           "x": 0.05
          },
          "xaxis": {
           "automargin": true,
           "gridcolor": "white",
           "linecolor": "white",
           "ticks": "",
           "title": {
            "standoff": 15
           },
           "zerolinecolor": "white",
           "zerolinewidth": 2
          },
          "yaxis": {
           "automargin": true,
           "gridcolor": "white",
           "linecolor": "white",
           "ticks": "",
           "title": {
            "standoff": 15
           },
           "zerolinecolor": "white",
           "zerolinewidth": 2
          }
         }
        },
        "title": {
         "text": "Eng ko‘p va eng kam tug‘ilgan yil"
        },
        "xaxis": {
         "anchor": "y",
         "domain": [
          0,
          1
         ],
         "title": {
          "text": "Tug‘ilgan yil"
         }
        },
        "yaxis": {
         "anchor": "x",
         "domain": [
          0,
          1
         ],
         "title": {
          "text": "Tug‘ilganlar soni"
         }
        }
       }
      }
     },
     "metadata": {},
     "output_type": "display_data"
    }
   ],
   "source": [
    "import pandas as pd\n",
    "import plotly.express as px\n",
    "\n",
    "# Tug'ilgan yillar bo'yicha hisoblash\n",
    "birth_year_counts = df['birth_year'].value_counts().reset_index()\n",
    "birth_year_counts.columns = ['birth_year', 'count']\n",
    "\n",
    "# Eng ko'p tug'ilgan yil (faqat bitta)\n",
    "max_birth_year = birth_year_counts.loc[birth_year_counts['count'].idxmax()].to_frame().T\n",
    "\n",
    "# Eng kam tug'ilgan yil (faqat bitta)\n",
    "min_birth_year = birth_year_counts.loc[birth_year_counts['count'].idxmin()].to_frame().T\n",
    "\n",
    "# Ularni birlashtiramiz\n",
    "extremes = pd.concat([max_birth_year, min_birth_year])\n",
    "\n",
    "# Tartib bo'yicha (yillar bo'yicha)\n",
    "extremes = extremes.sort_values('birth_year')\n",
    "\n",
    "fig = px.bar(\n",
    "    extremes,\n",
    "    x='birth_year',\n",
    "    y='count',\n",
    "    title='Eng ko‘p va eng kam tug‘ilgan yil',\n",
    "    labels={'birth_year': 'Tug‘ilgan yil', 'count': 'Tug‘ilganlar soni'}\n",
    ")\n",
    "\n",
    "fig.show()\n"
   ]
  },
  {
   "cell_type": "code",
   "execution_count": null,
   "id": "4733890b",
   "metadata": {},
   "outputs": [],
   "source": []
  }
 ],
 "metadata": {
  "kernelspec": {
   "display_name": "myvenv",
   "language": "python",
   "name": "python3"
  },
  "language_info": {
   "codemirror_mode": {
    "name": "ipython",
    "version": 3
   },
   "file_extension": ".py",
   "mimetype": "text/x-python",
   "name": "python",
   "nbconvert_exporter": "python",
   "pygments_lexer": "ipython3",
   "version": "3.13.7"
  }
 },
 "nbformat": 4,
 "nbformat_minor": 5
}
