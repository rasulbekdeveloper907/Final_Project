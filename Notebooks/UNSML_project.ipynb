{
 "cells": [
  {
   "cell_type": "code",
   "execution_count": 1,
   "id": "557d658f",
   "metadata": {},
   "outputs": [],
   "source": [
    "import pandas as pd\n",
    "import logging\n",
    "\n",
    "# Log fayl manzili\n",
    "log_path = r\"C:\\Users\\Rasulbek907\\Desktop\\Final_Project\\Log\\UNSML.log\"\n",
    "\n",
    "# Log sozlamalari\n",
    "logging.basicConfig(\n",
    "    filename=log_path,\n",
    "    filemode='a',  # Append mode\n",
    "    format='%(asctime)s - %(levelname)s - %(message)s',\n",
    "    level=logging.INFO\n",
    ")\n",
    "\n",
    "try:\n",
    "    logging.info(\"CSV fayl o'qilmoqda:...\")\n",
    "    df = pd.read_csv(r\"C:\\Users\\Rasulbek907\\Desktop\\Final_Project\\Data\\Preprosessed_data\\Da_Mis_Val.csv\")\n",
    "    logging.info(f\"Fayl muvaffaqiyatli o'qildi. Satırlar soni: {len(df)} ustunlar soni: {len(df.columns)}\")\n",
    "except Exception as e:\n",
    "    logging.error(f\"CSV faylni o'qishda xatolik: {e}\")"
   ]
  },
  {
   "cell_type": "markdown",
   "id": "15e8bffa",
   "metadata": {},
   "source": []
  },
  {
   "cell_type": "code",
   "execution_count": 2,
   "id": "d83c4f1f",
   "metadata": {},
   "outputs": [
    {
     "name": "stdout",
     "output_type": "stream",
     "text": [
      "<class 'pandas.core.frame.DataFrame'>\n",
      "RangeIndex: 2022 entries, 0 to 2021\n",
      "Data columns (total 12 columns):\n",
      " #   Column       Non-Null Count  Dtype \n",
      "---  ------       --------------  ----- \n",
      " 0   Unnamed: 0   2022 non-null   int64 \n",
      " 1   name         2022 non-null   object\n",
      " 2   birth_date   2022 non-null   object\n",
      " 3   birth_place  2022 non-null   object\n",
      " 4   death_date   2022 non-null   object\n",
      " 5   death_place  2022 non-null   object\n",
      " 6   occupation   2022 non-null   object\n",
      " 7   awards       2022 non-null   object\n",
      " 8   alma_mater   2022 non-null   object\n",
      " 9   education    2022 non-null   object\n",
      " 10  spouse       2022 non-null   object\n",
      " 11  children     2022 non-null   object\n",
      "dtypes: int64(1), object(11)\n",
      "memory usage: 189.7+ KB\n"
     ]
    }
   ],
   "source": [
    "df = pd.read_csv(r\"C:\\Users\\Rasulbek907\\Desktop\\Final_Project\\Data\\Preprosessed_data\\Da_Mis_Val.csv\")\n",
    "df.info()"
   ]
  },
  {
   "cell_type": "code",
   "execution_count": 3,
   "id": "f39f4e8e",
   "metadata": {},
   "outputs": [
    {
     "name": "stdout",
     "output_type": "stream",
     "text": [
      "['Unnamed: 0', 'name', 'birth_date', 'birth_place', 'death_date', 'death_place', 'occupation', 'awards', 'alma_mater', 'education', 'spouse', 'children']\n"
     ]
    }
   ],
   "source": [
    "column_names = df.columns.tolist()\n",
    "print(column_names)"
   ]
  },
  {
   "cell_type": "code",
   "execution_count": 4,
   "id": "b10612b8",
   "metadata": {},
   "outputs": [
    {
     "data": {
      "text/html": [
       "<div>\n",
       "<style scoped>\n",
       "    .dataframe tbody tr th:only-of-type {\n",
       "        vertical-align: middle;\n",
       "    }\n",
       "\n",
       "    .dataframe tbody tr th {\n",
       "        vertical-align: top;\n",
       "    }\n",
       "\n",
       "    .dataframe thead th {\n",
       "        text-align: right;\n",
       "    }\n",
       "</style>\n",
       "<table border=\"1\" class=\"dataframe\">\n",
       "  <thead>\n",
       "    <tr style=\"text-align: right;\">\n",
       "      <th></th>\n",
       "      <th>Unnamed: 0</th>\n",
       "      <th>name</th>\n",
       "      <th>birth_date</th>\n",
       "      <th>birth_place</th>\n",
       "      <th>death_date</th>\n",
       "      <th>death_place</th>\n",
       "      <th>occupation</th>\n",
       "      <th>awards</th>\n",
       "      <th>alma_mater</th>\n",
       "      <th>education</th>\n",
       "      <th>spouse</th>\n",
       "      <th>children</th>\n",
       "    </tr>\n",
       "  </thead>\n",
       "  <tbody>\n",
       "    <tr>\n",
       "      <th>0</th>\n",
       "      <td>0</td>\n",
       "      <td>Isaac Newton</td>\n",
       "      <td>{{Birth date|df=y|1643|01|04}}</td>\n",
       "      <td>{{nowrap|[[Woolsthorpe-by-Colsterworth]],}} Li...</td>\n",
       "      <td>{{Death date and age|df=y|1727|03|31|1643|01|04}}</td>\n",
       "      <td>[[Kensington]], Middlesex, England</td>\n",
       "      <td>Composer</td>\n",
       "      <td>{{unbulleted list | [[Fellow of the Royal Soci...</td>\n",
       "      <td>[[King's College London]]</td>\n",
       "      <td>[[Trinity College, Cambridge]] ([[Bachelor of ...</td>\n",
       "      <td>{{plainlist|</td>\n",
       "      <td>2</td>\n",
       "    </tr>\n",
       "    <tr>\n",
       "      <th>1</th>\n",
       "      <td>1</td>\n",
       "      <td>Marie Curie</td>\n",
       "      <td>{{birth date|df=y|1867|11|7}}</td>\n",
       "      <td>[[Warsaw]], [[Congress Poland|Poland]], Russia...</td>\n",
       "      <td>{{death date and age|df=y|1934|7|4|1867|11|7}}</td>\n",
       "      <td>[[Passy, Haute-Savoie|Passy]], [[Rhône-Alpes]]...</td>\n",
       "      <td>Composer</td>\n",
       "      <td>}}</td>\n",
       "      <td>[[University of Paris]]</td>\n",
       "      <td>[[Visva-Bharati University]] (dropped out)&lt;ref...</td>\n",
       "      <td>{{plainlist|</td>\n",
       "      <td>2</td>\n",
       "    </tr>\n",
       "    <tr>\n",
       "      <th>2</th>\n",
       "      <td>2</td>\n",
       "      <td>Albert Einstein</td>\n",
       "      <td>{{Birth date|df=yes|1879|3|14}}</td>\n",
       "      <td>[[Ulm]], [[Kingdom of Württemberg]], Germany&lt;r...</td>\n",
       "      <td>{{Death date and age|df=yes|1955|4|18|1879|3|14}}</td>\n",
       "      <td>[[Princeton, New Jersey]], U.S.</td>\n",
       "      <td>Composer</td>\n",
       "      <td>}}</td>\n",
       "      <td>[[King's College London]]</td>\n",
       "      <td>[[Visva-Bharati University]] (dropped out)&lt;ref...</td>\n",
       "      <td>{{plainlist|</td>\n",
       "      <td>{{flatlist|</td>\n",
       "    </tr>\n",
       "    <tr>\n",
       "      <th>3</th>\n",
       "      <td>3</td>\n",
       "      <td>The Countess of Lovelace</td>\n",
       "      <td>{{birth date|df=y|1815|12|10}}</td>\n",
       "      <td>London, England</td>\n",
       "      <td>{{death date and age|df=y|1852|11|27|1815|12|10}}</td>\n",
       "      <td>[[Marylebone]], London, England</td>\n",
       "      <td>Composer</td>\n",
       "      <td>}}</td>\n",
       "      <td>[[King's College London]]</td>\n",
       "      <td>[[Visva-Bharati University]] (dropped out)&lt;ref...</td>\n",
       "      <td>{{marriage|[[William King-Noel, 1st Earl of Lo...</td>\n",
       "      <td>{{plainlist|</td>\n",
       "    </tr>\n",
       "    <tr>\n",
       "      <th>4</th>\n",
       "      <td>4</td>\n",
       "      <td>Leonardo da Vinci</td>\n",
       "      <td>{{birth date|df=yes|1452|04|15}}</td>\n",
       "      <td>possibly [[Anchiano]],{{efn|name=Birthplace}} ...</td>\n",
       "      <td>{{death date and age|df=yes|1519|5|2|1452|4|15}}</td>\n",
       "      <td>[[Clos Lucé]], [[Amboise]], {{awrap|[[Kingdom ...</td>\n",
       "      <td>Composer</td>\n",
       "      <td>}}</td>\n",
       "      <td>[[King's College London]]</td>\n",
       "      <td>Studio of [[Andrea del Verrocchio]]</td>\n",
       "      <td>{{plainlist|</td>\n",
       "      <td>2</td>\n",
       "    </tr>\n",
       "  </tbody>\n",
       "</table>\n",
       "</div>"
      ],
      "text/plain": [
       "   Unnamed: 0                      name                        birth_date  \\\n",
       "0           0              Isaac Newton    {{Birth date|df=y|1643|01|04}}   \n",
       "1           1               Marie Curie     {{birth date|df=y|1867|11|7}}   \n",
       "2           2           Albert Einstein   {{Birth date|df=yes|1879|3|14}}   \n",
       "3           3  The Countess of Lovelace    {{birth date|df=y|1815|12|10}}   \n",
       "4           4         Leonardo da Vinci  {{birth date|df=yes|1452|04|15}}   \n",
       "\n",
       "                                         birth_place  \\\n",
       "0  {{nowrap|[[Woolsthorpe-by-Colsterworth]],}} Li...   \n",
       "1  [[Warsaw]], [[Congress Poland|Poland]], Russia...   \n",
       "2  [[Ulm]], [[Kingdom of Württemberg]], Germany<r...   \n",
       "3                                    London, England   \n",
       "4  possibly [[Anchiano]],{{efn|name=Birthplace}} ...   \n",
       "\n",
       "                                          death_date  \\\n",
       "0  {{Death date and age|df=y|1727|03|31|1643|01|04}}   \n",
       "1     {{death date and age|df=y|1934|7|4|1867|11|7}}   \n",
       "2  {{Death date and age|df=yes|1955|4|18|1879|3|14}}   \n",
       "3  {{death date and age|df=y|1852|11|27|1815|12|10}}   \n",
       "4   {{death date and age|df=yes|1519|5|2|1452|4|15}}   \n",
       "\n",
       "                                         death_place occupation  \\\n",
       "0                 [[Kensington]], Middlesex, England   Composer   \n",
       "1  [[Passy, Haute-Savoie|Passy]], [[Rhône-Alpes]]...   Composer   \n",
       "2                    [[Princeton, New Jersey]], U.S.   Composer   \n",
       "3                    [[Marylebone]], London, England   Composer   \n",
       "4  [[Clos Lucé]], [[Amboise]], {{awrap|[[Kingdom ...   Composer   \n",
       "\n",
       "                                              awards  \\\n",
       "0  {{unbulleted list | [[Fellow of the Royal Soci...   \n",
       "1                                                 }}   \n",
       "2                                                 }}   \n",
       "3                                                 }}   \n",
       "4                                                 }}   \n",
       "\n",
       "                  alma_mater  \\\n",
       "0  [[King's College London]]   \n",
       "1    [[University of Paris]]   \n",
       "2  [[King's College London]]   \n",
       "3  [[King's College London]]   \n",
       "4  [[King's College London]]   \n",
       "\n",
       "                                           education  \\\n",
       "0  [[Trinity College, Cambridge]] ([[Bachelor of ...   \n",
       "1  [[Visva-Bharati University]] (dropped out)<ref...   \n",
       "2  [[Visva-Bharati University]] (dropped out)<ref...   \n",
       "3  [[Visva-Bharati University]] (dropped out)<ref...   \n",
       "4                Studio of [[Andrea del Verrocchio]]   \n",
       "\n",
       "                                              spouse      children  \n",
       "0                                       {{plainlist|             2  \n",
       "1                                       {{plainlist|             2  \n",
       "2                                       {{plainlist|   {{flatlist|  \n",
       "3  {{marriage|[[William King-Noel, 1st Earl of Lo...  {{plainlist|  \n",
       "4                                       {{plainlist|             2  "
      ]
     },
     "execution_count": 4,
     "metadata": {},
     "output_type": "execute_result"
    }
   ],
   "source": [
    "df.head()"
   ]
  },
  {
   "cell_type": "markdown",
   "id": "96cdeab3",
   "metadata": {},
   "source": [
    "# Occupation-based Clustering (K-Means)"
   ]
  },
  {
   "cell_type": "code",
   "execution_count": 6,
   "id": "2b9aa763",
   "metadata": {},
   "outputs": [
    {
     "name": "stdout",
     "output_type": "stream",
     "text": [
      "                       name occupation  occupation_cluster\n",
      "0              Isaac Newton   Composer                   0\n",
      "1               Marie Curie   Composer                   0\n",
      "2           Albert Einstein   Composer                   0\n",
      "3  The Countess of Lovelace   Composer                   0\n",
      "4         Leonardo da Vinci   Composer                   0\n"
     ]
    }
   ],
   "source": [
    "from sklearn.feature_extraction.text import TfidfVectorizer\n",
    "from sklearn.cluster import KMeans\n",
    "import pandas as pd\n",
    "\n",
    "# 1. Kasb ustuni\n",
    "df = pd.read_csv(r\"C:\\Users\\Rasulbek907\\Desktop\\Final_Project\\Data\\Preprosessed_data\\Da_Mis_Val.csv\")  # o'zingizning faylingiz nomini yozing\n",
    "occupations = df['occupation'].fillna('')\n",
    "\n",
    "# 2. TF-IDF orqali raqamlashtirish\n",
    "vectorizer = TfidfVectorizer()\n",
    "X_occ = vectorizer.fit_transform(occupations)\n",
    "\n",
    "# 3. K-means\n",
    "kmeans_occ = KMeans(n_clusters=5, random_state=42)\n",
    "df['occupation_cluster'] = kmeans_occ.fit_predict(X_occ)\n",
    "\n",
    "print(df[['name', 'occupation', 'occupation_cluster']].head())\n"
   ]
  },
  {
   "cell_type": "code",
   "execution_count": 7,
   "id": "fbe8911e",
   "metadata": {},
   "outputs": [
    {
     "name": "stdout",
     "output_type": "stream",
     "text": [
      "<class 'pandas.core.frame.DataFrame'>\n",
      "RangeIndex: 2022 entries, 0 to 2021\n",
      "Data columns (total 13 columns):\n",
      " #   Column              Non-Null Count  Dtype \n",
      "---  ------              --------------  ----- \n",
      " 0   Unnamed: 0          2022 non-null   int64 \n",
      " 1   name                2022 non-null   object\n",
      " 2   birth_date          2022 non-null   object\n",
      " 3   birth_place         2022 non-null   object\n",
      " 4   death_date          2022 non-null   object\n",
      " 5   death_place         2022 non-null   object\n",
      " 6   occupation          2022 non-null   object\n",
      " 7   awards              2022 non-null   object\n",
      " 8   alma_mater          2022 non-null   object\n",
      " 9   education           2022 non-null   object\n",
      " 10  spouse              2022 non-null   object\n",
      " 11  children            2022 non-null   object\n",
      " 12  occupation_cluster  2022 non-null   int32 \n",
      "dtypes: int32(1), int64(1), object(11)\n",
      "memory usage: 197.6+ KB\n"
     ]
    }
   ],
   "source": [
    "df.info()"
   ]
  },
  {
   "cell_type": "code",
   "execution_count": 13,
   "id": "b31d7d4b",
   "metadata": {},
   "outputs": [
    {
     "name": "stdout",
     "output_type": "stream",
     "text": [
      "                         birth_date  birth_year  \\\n",
      "0    {{Birth date|df=y|1643|01|04}}      1643.0   \n",
      "1     {{birth date|df=y|1867|11|7}}      1867.0   \n",
      "2   {{Birth date|df=yes|1879|3|14}}      1879.0   \n",
      "3    {{birth date|df=y|1815|12|10}}      1815.0   \n",
      "4  {{birth date|df=yes|1452|04|15}}      1452.0   \n",
      "\n",
      "                                          death_date  death_year  life_span  \n",
      "0  {{Death date and age|df=y|1727|03|31|1643|01|04}}      1727.0       84.0  \n",
      "1     {{death date and age|df=y|1934|7|4|1867|11|7}}      1934.0       67.0  \n",
      "2  {{Death date and age|df=yes|1955|4|18|1879|3|14}}      1955.0       76.0  \n",
      "3  {{death date and age|df=y|1852|11|27|1815|12|10}}      1852.0       37.0  \n",
      "4   {{death date and age|df=yes|1519|5|2|1452|4|15}}      1519.0       67.0  \n"
     ]
    }
   ],
   "source": [
    "import pandas as pd\n",
    "\n",
    "# Faqat yil (birinchi 4 raqam) ni olish\n",
    "df['birth_year'] = df['birth_date'].astype(str).str.extract(r'(\\d{4})').astype(float)\n",
    "df['death_year'] = df['death_date'].astype(str).str.extract(r'(\\d{4})').astype(float)\n",
    "\n",
    "# Umr davomiyligini hisoblash\n",
    "df['life_span'] = df['death_year'] - df['birth_year']\n",
    "\n",
    "# Tekshirib ko‘ring\n",
    "print(df[['birth_date', 'birth_year', 'death_date', 'death_year', 'life_span']].head())\n"
   ]
  },
  {
   "cell_type": "markdown",
   "id": "8b24dc23",
   "metadata": {},
   "source": [
    "# Life Span Clustering (Hierarchical)"
   ]
  },
  {
   "cell_type": "code",
   "execution_count": 14,
   "id": "67f1a870",
   "metadata": {},
   "outputs": [
    {
     "data": {
      "image/png": "[encoded data removed]",
      "text/plain": [
       "<Figure size 1000x600 with 1 Axes>"
      ]
     },
     "metadata": {},
     "output_type": "display_data"
    },
    {
     "name": "stdout",
     "output_type": "stream",
     "text": [
      "                       name  birth_year  death_year  life_span  \\\n",
      "0              Isaac Newton      1643.0      1727.0       84.0   \n",
      "1               Marie Curie      1867.0      1934.0       67.0   \n",
      "2           Albert Einstein      1879.0      1955.0       76.0   \n",
      "3  The Countess of Lovelace      1815.0      1852.0       37.0   \n",
      "4         Leonardo da Vinci      1452.0      1519.0       67.0   \n",
      "\n",
      "   life_span_cluster  \n",
      "0                2.0  \n",
      "1                2.0  \n",
      "2                2.0  \n",
      "3                2.0  \n",
      "4                5.0  \n"
     ]
    }
   ],
   "source": [
    "from sklearn.preprocessing import StandardScaler\n",
    "from scipy.cluster.hierarchy import linkage, dendrogram, fcluster\n",
    "import matplotlib.pyplot as plt\n",
    "\n",
    "# 1. NaN bo‘lmagan satrlarni ajratish\n",
    "life_data = df[['birth_year', 'death_year', 'life_span']].dropna()\n",
    "\n",
    "# 2. Standartlashtirish\n",
    "scaler = StandardScaler()\n",
    "life_scaled = scaler.fit_transform(life_data)\n",
    "\n",
    "# 3. Hierarchical clustering\n",
    "linked = linkage(life_scaled, method='ward')\n",
    "\n",
    "# 4. Dendrogram chizish\n",
    "plt.figure(figsize=(10, 6))\n",
    "dendrogram(linked, truncate_mode='lastp', p=20)\n",
    "plt.title('Hierarchical Clustering (Life Span)')\n",
    "plt.xlabel(\"People\")\n",
    "plt.ylabel(\"Distance\")\n",
    "plt.show()\n",
    "\n",
    "# 5. Cluster raqamlarini berish\n",
    "df.loc[life_data.index, 'life_span_cluster'] = fcluster(linked, 5, criterion='maxclust')\n",
    "\n",
    "# Natijani ko‘rish\n",
    "print(df[['name', 'birth_year', 'death_year', 'life_span', 'life_span_cluster']].head())"
   ]
  },
  {
   "cell_type": "code",
   "execution_count": 12,
   "id": "b096866c",
   "metadata": {},
   "outputs": [
    {
     "name": "stdout",
     "output_type": "stream",
     "text": [
      "0                       {{Birth date|df=y|1643|01|04}}\n",
      "1                        {{birth date|df=y|1867|11|7}}\n",
      "2                      {{Birth date|df=yes|1879|3|14}}\n",
      "3                       {{birth date|df=y|1815|12|10}}\n",
      "4                     {{birth date|df=yes|1452|04|15}}\n",
      "5    {{birth date|1564|02|15|df=y}}{{sfn|Drake|1978...\n",
      "6                        {{birth date|1856|7|10|df=y}}\n",
      "7                        {{birth date|df=y|1809|2|12}}\n",
      "8                             {{Birth date|1847|2|11}}\n",
      "9                    {{Birth date and age|1984|10|18}}\n",
      "Name: birth_date, dtype: object\n",
      "0    {{Death date and age|df=y|1727|03|31|1643|01|04}}\n",
      "1       {{death date and age|df=y|1934|7|4|1867|11|7}}\n",
      "2    {{Death date and age|df=yes|1955|4|18|1879|3|14}}\n",
      "3    {{death date and age|df=y|1852|11|27|1815|12|10}}\n",
      "4     {{death date and age|df=yes|1519|5|2|1452|4|15}}\n",
      "5    {{death date and age|1642|01|08|1564|02|15|df=y}}\n",
      "6       {{death date and age|1943|1|7|1856|7|10|df=y}}\n",
      "7      {{death date and age|1882|df=y|4|19|1809|2|12}}\n",
      "8          {{Death date and age|1931|10|18|1847|2|11}}\n",
      "9    <!-- {{Death date and age|YYYY|MM|DD|YYYY|MM|D...\n",
      "Name: death_date, dtype: object\n"
     ]
    }
   ],
   "source": [
    "print(df['birth_date'].dropna().head(10))\n",
    "print(df['death_date'].dropna().head(10))\n"
   ]
  },
  {
   "cell_type": "markdown",
   "id": "5bb4c794",
   "metadata": {},
   "source": [
    "# Education & Awards Based Clustering (K-Means)"
   ]
  },
  {
   "cell_type": "code",
   "execution_count": 15,
   "id": "dd96d412",
   "metadata": {},
   "outputs": [],
   "source": [
    "from sklearn.pipeline import make_pipeline\n",
    "from sklearn.decomposition import TruncatedSVD\n",
    "\n",
    "# 1. Ta’lim va mukofotlar\n",
    "text_data = df[['education', 'awards']].fillna('').agg(' '.join, axis=1)\n",
    "\n",
    "# 2. TF-IDF\n",
    "tfidf = TfidfVectorizer()\n",
    "X_text = tfidf.fit_transform(text_data)\n",
    "\n",
    "# 3. Ixtiyoriy: o'lchamni kamaytirish\n",
    "svd = TruncatedSVD(n_components=50, random_state=42)\n",
    "X_reduced = svd.fit_transform(X_text)\n",
    "\n",
    "# 4. K-Means\n",
    "kmeans_edu_award = KMeans(n_clusters=5, random_state=42)\n",
    "df['edu_award_cluster'] = kmeans_edu_award.fit_predict(X_reduced)\n"
   ]
  },
  {
   "cell_type": "markdown",
   "id": "1c4ada99",
   "metadata": {},
   "source": [
    "# Combined Biographical Clustering (K-Means)"
   ]
  },
  {
   "cell_type": "code",
   "execution_count": 18,
   "id": "ee0b3207",
   "metadata": {},
   "outputs": [
    {
     "name": "stdout",
     "output_type": "stream",
     "text": [
      "NaN count: 6038\n"
     ]
    }
   ],
   "source": [
    "X_final_dense = X_final.toarray()\n",
    "import numpy as np\n",
    "print(f'NaN count: {np.isnan(X_final_dense).sum()}')\n",
    "\n",
    "# NaN larni 0 ga almashtirish (yoki SimpleImputer bilan to'ldirish)\n",
    "X_final_clean = np.nan_to_num(X_final_dense, nan=0)\n",
    "\n",
    "# KMeans\n",
    "from sklearn.cluster import KMeans\n",
    "kmeans_final = KMeans(n_clusters=6, random_state=42)\n",
    "combined_data['combined_cluster'] = kmeans_final.fit_predict(X_final_clean)\n"
   ]
  },
  {
   "cell_type": "code",
   "execution_count": 21,
   "id": "75d82aae",
   "metadata": {},
   "outputs": [],
   "source": [
    "import re\n",
    "\n",
    "def extract_year(date_str):\n",
    "    # Pattern: | followed by 4 raqamli yil\n",
    "    match = re.search(r'\\|(\\d{4})\\|', date_str)\n",
    "    if match:\n",
    "        return int(match.group(1))\n",
    "    else:\n",
    "        return None\n",
    "\n",
    "df['birth_year'] = df['birth_date'].apply(extract_year)\n",
    "df['death_year'] = df['death_date'].apply(extract_year)\n",
    "df['life_span'] = df['death_year'] - df['birth_year']\n"
   ]
  },
  {
   "cell_type": "code",
   "execution_count": 22,
   "id": "b2dcc3f1",
   "metadata": {},
   "outputs": [
    {
     "name": "stdout",
     "output_type": "stream",
     "text": [
      "birth_year     261\n",
      "death_year     969\n",
      "life_span     1065\n",
      "dtype: int64\n"
     ]
    }
   ],
   "source": [
    "print(df[['birth_year', 'death_year', 'life_span']].isnull().sum())\n",
    "# Null qiymatlari bo'lgan satrlarni o'chirish:\n",
    "df_clean = df.dropna(subset=['birth_year', 'death_year', 'life_span'])\n"
   ]
  },
  {
   "cell_type": "code",
   "execution_count": 23,
   "id": "13305976",
   "metadata": {},
   "outputs": [
    {
     "name": "stdout",
     "output_type": "stream",
     "text": [
      "                       name  combined_cluster\n",
      "0              Isaac Newton                 5\n",
      "1               Marie Curie                 1\n",
      "2           Albert Einstein                 1\n",
      "3  The Countess of Lovelace                 0\n",
      "4         Leonardo da Vinci                 5\n"
     ]
    },
    {
     "name": "stderr",
     "output_type": "stream",
     "text": [
      "C:\\Users\\Rasulbek907\\AppData\\Local\\Temp\\ipykernel_16316\\1036821414.py:8: SettingWithCopyWarning: \n",
      "A value is trying to be set on a copy of a slice from a DataFrame.\n",
      "Try using .loc[row_indexer,col_indexer] = value instead\n",
      "\n",
      "See the caveats in the documentation: https://pandas.pydata.org/pandas-docs/stable/user_guide/indexing.html#returning-a-view-versus-a-copy\n",
      "  df_clean['text'] = df_clean[text_cols].fillna('').agg(' '.join, axis=1)\n",
      "C:\\Users\\Rasulbek907\\AppData\\Local\\Temp\\ipykernel_16316\\1036821414.py:20: SettingWithCopyWarning: \n",
      "A value is trying to be set on a copy of a slice from a DataFrame.\n",
      "Try using .loc[row_indexer,col_indexer] = value instead\n",
      "\n",
      "See the caveats in the documentation: https://pandas.pydata.org/pandas-docs/stable/user_guide/indexing.html#returning-a-view-versus-a-copy\n",
      "  df_clean['combined_cluster'] = kmeans_final.fit_predict(X_final)\n"
     ]
    }
   ],
   "source": [
    "from sklearn.preprocessing import StandardScaler\n",
    "from sklearn.feature_extraction.text import TfidfVectorizer\n",
    "from sklearn.compose import ColumnTransformer\n",
    "from sklearn.cluster import KMeans\n",
    "\n",
    "# Matn ustunlarini birlashtirish\n",
    "text_cols = ['occupation', 'awards', 'alma_mater', 'education', 'spouse', 'children']\n",
    "df_clean['text'] = df_clean[text_cols].fillna('').agg(' '.join, axis=1)\n",
    "\n",
    "numerics = ['birth_year', 'death_year', 'life_span']\n",
    "\n",
    "preprocessor = ColumnTransformer([\n",
    "    ('num', StandardScaler(), numerics),\n",
    "    ('text', TfidfVectorizer(max_features=300), 'text')\n",
    "])\n",
    "\n",
    "X_final = preprocessor.fit_transform(df_clean)\n",
    "\n",
    "kmeans_final = KMeans(n_clusters=6, random_state=42)\n",
    "df_clean['combined_cluster'] = kmeans_final.fit_predict(X_final)\n",
    "\n",
    "print(df_clean[['name', 'combined_cluster']].head())"
   ]
  },
  {
   "cell_type": "code",
   "execution_count": 9,
   "id": "fd5f77a6",
   "metadata": {},
   "outputs": [],
   "source": [
    "import matplotlib.pyplot as plt\n",
    "from sklearn.decomposition import PCA\n",
    "\n",
    "def plot_clusters(X, labels, title='Cluster Visualization (PCA)'):\n",
    "    # Reduce dimensions\n",
    "    pca = PCA(n_components=2)\n",
    "    X_pca = pca.fit_transform(X)\n",
    "\n",
    "    # Plot\n",
    "    plt.figure(figsize=(8, 6))\n",
    "    scatter = plt.scatter(X_pca[:, 0], X_pca[:, 1], c=labels, cmap='viridis', s=50, alpha=0.7)\n",
    "    plt.title(title)\n",
    "    plt.xlabel(\"PCA 1\")\n",
    "    plt.ylabel(\"PCA 2\")\n",
    "    plt.colorbar(scatter, label='Cluster')\n",
    "    plt.grid(True)\n",
    "    plt.tight_layout()\n",
    "    plt.show()\n"
   ]
  },
  {
   "cell_type": "code",
   "execution_count": 10,
   "id": "b5349991",
   "metadata": {},
   "outputs": [
    {
     "data": {
      "image/png": "[encoded data removed]",
      "text/plain": [
       "<Figure size 800x600 with 2 Axes>"
      ]
     },
     "metadata": {},
     "output_type": "display_data"
    }
   ],
   "source": [
    "# Agar siz TF-IDF dan foydalangan bo‘lsangiz:\n",
    "plot_clusters(X_occ.toarray(), df['occupation_cluster'], title='Occupation Clusters (PCA)')\n"
   ]
  },
  {
   "cell_type": "markdown",
   "id": "d4802ba6",
   "metadata": {},
   "source": [
    "# education + awards uchun:"
   ]
  },
  {
   "cell_type": "code",
   "execution_count": 24,
   "id": "502a6406",
   "metadata": {},
   "outputs": [
    {
     "data": {
      "image/png": "[encoded data removed]",
      "text/plain": [
       "<Figure size 800x600 with 2 Axes>"
      ]
     },
     "metadata": {},
     "output_type": "display_data"
    }
   ],
   "source": [
    "plot_clusters(X_reduced, df['edu_award_cluster'], title='Education & Awards Clusters')"
   ]
  },
  {
   "cell_type": "markdown",
   "id": "eb2497c1",
   "metadata": {},
   "source": [
    "# combined biographical clustering"
   ]
  },
  {
   "cell_type": "code",
   "execution_count": 30,
   "id": "69479cd4",
   "metadata": {},
   "outputs": [
    {
     "name": "stdout",
     "output_type": "stream",
     "text": [
      "birth_year    1994\n",
      "death_year    2022\n",
      "dtype: int64\n"
     ]
    }
   ],
   "source": [
    "# NaN larni aniqlash\n",
    "print(df[['birth_year', 'death_year']].isna().sum())\n"
   ]
  },
  {
   "cell_type": "code",
   "execution_count": 31,
   "id": "6995dcdf",
   "metadata": {},
   "outputs": [],
   "source": [
    "df = df.dropna(subset=['birth_year', 'death_year'])\n"
   ]
  },
  {
   "cell_type": "code",
   "execution_count": 32,
   "id": "37117179",
   "metadata": {},
   "outputs": [],
   "source": [
    "df['life_span'] = df['death_year'] - df['birth_year']\n"
   ]
  },
  {
   "cell_type": "code",
   "execution_count": 37,
   "id": "78decd8c",
   "metadata": {},
   "outputs": [
    {
     "name": "stdout",
     "output_type": "stream",
     "text": [
      "<class 'pandas.core.frame.DataFrame'>\n",
      "Empty DataFrame\n",
      "Columns: [occupation, awards, alma_mater, education, spouse, children]\n",
      "Index: []\n",
      "(0, 6) (0, 19)\n"
     ]
    }
   ],
   "source": [
    "text_series = df[existing_text_cols].fillna('').agg(' '.join, axis=1)\n",
    "print(type(text_series))\n",
    "print(text_series.head())\n",
    "print(text_series.shape, df.shape)\n"
   ]
  },
  {
   "cell_type": "code",
   "execution_count": 38,
   "id": "794dd290",
   "metadata": {},
   "outputs": [
    {
     "name": "stdout",
     "output_type": "stream",
     "text": [
      "Original df shape: (0, 19)\n",
      "Existing text columns: ['occupation', 'awards', 'alma_mater', 'education', 'spouse', 'children']\n",
      "Empty DataFrame\n",
      "Columns: [occupation, awards, alma_mater, education, spouse, children]\n",
      "Index: []\n"
     ]
    }
   ],
   "source": [
    "# 1. df ning asl o'lchamini tekshiring\n",
    "print(\"Original df shape:\", df.shape)\n",
    "\n",
    "# 2. mavjud matn ustunlarini tekshiring\n",
    "existing_text_cols = [col for col in ['occupation', 'awards', 'alma_mater', 'education', 'spouse', 'children'] if col in df.columns]\n",
    "print(\"Existing text columns:\", existing_text_cols)\n",
    "\n",
    "# 3. df ning shu ustunlar bo'yicha boshidan bir nechta satrini ko'ring\n",
    "print(df[existing_text_cols].head())\n",
    "\n",
    "# 4. Agar df bo'sh bo'lsa, avvalgi koddan qayerda bo'shliq paydo bo'lganini tekshiring\n"
   ]
  },
  {
   "cell_type": "code",
   "execution_count": 40,
   "id": "c00f95f1",
   "metadata": {},
   "outputs": [],
   "source": [
    "import re\n",
    "\n",
    "def extract_year(date_str):\n",
    "    match = re.search(r'\\|(\\d{4})\\|', date_str)\n",
    "    if match:\n",
    "        return int(match.group(1))\n",
    "    else:\n",
    "        return None\n",
    "\n",
    "df['birth_year'] = df['birth_date'].apply(extract_year)\n",
    "df['death_year'] = df['death_date'].apply(extract_year)\n",
    "\n",
    "df = df.dropna(subset=['birth_year', 'death_year'])\n"
   ]
  },
  {
   "cell_type": "code",
   "execution_count": 42,
   "id": "ee1aa3a2",
   "metadata": {},
   "outputs": [
    {
     "name": "stdout",
     "output_type": "stream",
     "text": [
      "(0, 19)\n",
      "Empty DataFrame\n",
      "Columns: [Unnamed: 0, name, birth_date, birth_place, death_date, death_place, occupation, awards, alma_mater, education, spouse, children, occupation_cluster, birth_year, death_year, life_span, life_span_cluster, edu_award_cluster, text]\n",
      "Index: []\n",
      "<class 'pandas.core.frame.DataFrame'>\n",
      "Index: 0 entries\n",
      "Data columns (total 3 columns):\n",
      " #   Column      Non-Null Count  Dtype \n",
      "---  ------      --------------  ----- \n",
      " 0   birth_year  0 non-null      object\n",
      " 1   death_year  0 non-null      object\n",
      " 2   life_span   0 non-null      int32 \n",
      "dtypes: int32(1), object(2)\n",
      "memory usage: 0.0+ bytes\n",
      "None\n",
      "birth_year    0\n",
      "death_year    0\n",
      "life_span     0\n",
      "dtype: int64\n"
     ]
    }
   ],
   "source": [
    "print(df.shape)\n",
    "print(df.head())\n",
    "print(df[['birth_year', 'death_year', 'life_span']].info())\n",
    "print(df[['birth_year', 'death_year', 'life_span']].isna().sum())\n"
   ]
  },
  {
   "cell_type": "code",
   "execution_count": 43,
   "id": "4ae8d687",
   "metadata": {},
   "outputs": [
    {
     "name": "stdout",
     "output_type": "stream",
     "text": [
      "Empty DataFrame\n",
      "Columns: [birth_year, death_year]\n",
      "Index: []\n",
      "(0, 19)\n",
      "Empty DataFrame\n",
      "Columns: [Unnamed: 0, name, birth_date, birth_place, death_date, death_place, occupation, awards, alma_mater, education, spouse, children, occupation_cluster, birth_year, death_year, life_span, life_span_cluster, edu_award_cluster, text]\n",
      "Index: []\n"
     ]
    }
   ],
   "source": [
    "import re\n",
    "import pandas as pd\n",
    "\n",
    "def extract_year(s):\n",
    "    if pd.isna(s):\n",
    "        return None\n",
    "    match = re.search(r'\\|(\\d{4})\\|', s)\n",
    "    if match:\n",
    "        return int(match.group(1))\n",
    "    else:\n",
    "        return None\n",
    "\n",
    "df['birth_year'] = df['birth_date'].apply(extract_year)\n",
    "df['death_year'] = df['death_date'].apply(extract_year)\n",
    "\n",
    "print(df[['birth_year', 'death_year']].head(10))\n",
    "\n",
    "df = df.dropna(subset=['birth_year', 'death_year'])\n",
    "\n",
    "df['life_span'] = df['death_year'] - df['birth_year']\n",
    "\n",
    "print(df.shape)\n",
    "print(df.head())\n"
   ]
  },
  {
   "cell_type": "code",
   "execution_count": 44,
   "id": "a7042872",
   "metadata": {},
   "outputs": [
    {
     "name": "stdout",
     "output_type": "stream",
     "text": [
      "<class 'pandas.core.frame.DataFrame'>\n",
      "Index: 0 entries\n",
      "Data columns (total 19 columns):\n",
      " #   Column              Non-Null Count  Dtype  \n",
      "---  ------              --------------  -----  \n",
      " 0   Unnamed: 0          0 non-null      int64  \n",
      " 1   name                0 non-null      object \n",
      " 2   birth_date          0 non-null      object \n",
      " 3   birth_place         0 non-null      object \n",
      " 4   death_date          0 non-null      object \n",
      " 5   death_place         0 non-null      object \n",
      " 6   occupation          0 non-null      object \n",
      " 7   awards              0 non-null      object \n",
      " 8   alma_mater          0 non-null      object \n",
      " 9   education           0 non-null      object \n",
      " 10  spouse              0 non-null      object \n",
      " 11  children            0 non-null      object \n",
      " 12  occupation_cluster  0 non-null      int32  \n",
      " 13  birth_year          0 non-null      object \n",
      " 14  death_year          0 non-null      object \n",
      " 15  life_span           0 non-null      object \n",
      " 16  life_span_cluster   0 non-null      float64\n",
      " 17  edu_award_cluster   0 non-null      int32  \n",
      " 18  text                0 non-null      object \n",
      "dtypes: float64(1), int32(2), int64(1), object(15)\n",
      "memory usage: 0.0+ bytes\n"
     ]
    }
   ],
   "source": [
    "df.info()"
   ]
  },
  {
   "cell_type": "code",
   "execution_count": null,
   "id": "c55163b6",
   "metadata": {},
   "outputs": [],
   "source": []
  }
 ],
 "metadata": {
  "kernelspec": {
   "display_name": "myvenv",
   "language": "python",
   "name": "python3"
  },
  "language_info": {
   "codemirror_mode": {
    "name": "ipython",
    "version": 3
   },
   "file_extension": ".py",
   "mimetype": "text/x-python",
   "name": "python",
   "nbconvert_exporter": "python",
   "pygments_lexer": "ipython3",
   "version": "3.13.7"
  }
 },
 "nbformat": 4,
 "nbformat_minor": 5
}
