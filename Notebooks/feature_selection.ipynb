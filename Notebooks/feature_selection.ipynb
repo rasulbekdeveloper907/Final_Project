{
 "cells": [
  {
   "cell_type": "code",
   "execution_count": 9,
   "id": "e258d867",
   "metadata": {},
   "outputs": [],
   "source": [
    "import pandas as pd\n",
    "import logging\n",
    "\n",
    "# Log fayl manzili\n",
    "log_path = r\"C:\\Users\\Rasulbek907\\Desktop\\Final_Project\\Log\\feature_selection.log\"\n",
    "\n",
    "# Log sozlamalari\n",
    "logging.basicConfig(\n",
    "    filename=log_path,\n",
    "    filemode='a',  # Append mode\n",
    "    format='%(asctime)s - %(levelname)s - %(message)s',\n",
    "    level=logging.INFO\n",
    ")\n",
    "\n",
    "try:\n",
    "    logging.info(\"CSV fayl o'qilmoqda:...\")\n",
    "    df = pd.read_csv(r\"C:\\Users\\Rasulbek907\\Desktop\\Final_Project\\Data\\Preprosessed_data\\Preprosessed.csv\")\n",
    "    logging.info(f\"Fayl muvaffaqiyatli o'qildi. Satırlar soni: {len(df)} ustunlar soni: {len(df.columns)}\")\n",
    "except Exception as e:\n",
    "    logging.error(f\"CSV faylni o'qishda xatolik: {e}\")"
   ]
  },
  {
   "cell_type": "code",
   "execution_count": 2,
   "id": "fe4f841a",
   "metadata": {},
   "outputs": [],
   "source": [
    "df['life_span'] = df['life_span'].abs()"
   ]
  },
  {
   "cell_type": "code",
   "execution_count": 3,
   "id": "319b4715",
   "metadata": {},
   "outputs": [
    {
     "data": {
      "text/plain": [
       "Unnamed: 0.1          0\n",
       "Unnamed: 0            0\n",
       "name                  0\n",
       "birth_date            0\n",
       "birth_place           0\n",
       "death_date            0\n",
       "death_place           0\n",
       "occupation            0\n",
       "awards                0\n",
       "alma_mater            0\n",
       "education             0\n",
       "spouse                0\n",
       "children              0\n",
       "occupation_cluster    0\n",
       "birth_year            0\n",
       "death_year            0\n",
       "life_span             0\n",
       "life_span_cluster     0\n",
       "edu_award_cluster     0\n",
       "bio_cluster           0\n",
       "dtype: int64"
      ]
     },
     "execution_count": 3,
     "metadata": {},
     "output_type": "execute_result"
    }
   ],
   "source": [
    "df.isnull().sum()"
   ]
  },
  {
   "cell_type": "code",
   "execution_count": 4,
   "id": "a9ac7af4",
   "metadata": {},
   "outputs": [
    {
     "data": {
      "application/vnd.plotly.v1+json": {
       "config": {
        "plotlyServerURL": "https://plot.ly"
       },
       "data": [
        {
         "hovertemplate": "Xususiyatlar=%{x}<br>Korrelyatsiya qiymati=%{y}<extra></extra>",
         "legendgroup": "",
         "marker": {
          "color": "#636efa",
          "pattern": {
           "shape": ""
          }
         },
         "name": "",
         "orientation": "v",
         "showlegend": false,
         "textposition": "auto",
         "type": "bar",
         "x": [
          "life_span",
          "bio_cluster",
          "occupation_cluster",
          "birth_year",
          "Unnamed: 0.1",
          "Unnamed: 0",
          "edu_award_cluster",
          "life_span_cluster",
          "death_year"
         ],
         "xaxis": "x",
         "y": {
          "bdata": "AAAAAAAA8D9kNHM5eHy1P76/eyj7Yac/c8bKIum1mD9SuLfl9JF4P1K4t+X0kXg/HElApsoth786PBQNCSSfv2aDBRFjHce/",
          "dtype": "f8"
         },
         "yaxis": "y"
        }
       ],
       "layout": {
        "barmode": "relative",
        "legend": {
         "tracegroupgap": 0
        },
        "template": {
         "data": {
          "bar": [
           {
            "error_x": {
             "color": "#2a3f5f"
            },
            "error_y": {
             "color": "#2a3f5f"
            },
            "marker": {
             "line": {
              "color": "#E5ECF6",
              "width": 0.5
             },
             "pattern": {
              "fillmode": "overlay",
              "size": 10,
              "solidity": 0.2
             }
            },
            "type": "bar"
           }
          ],
          "barpolar": [
           {
            "marker": {
             "line": {
              "color": "#E5ECF6",
              "width": 0.5
             },
             "pattern": {
              "fillmode": "overlay",
              "size": 10,
              "solidity": 0.2
             }
            },
            "type": "barpolar"
           }
          ],
          "carpet": [
           {
            "aaxis": {
             "endlinecolor": "#2a3f5f",
             "gridcolor": "white",
             "linecolor": "white",
             "minorgridcolor": "white",
             "startlinecolor": "#2a3f5f"
            },
            "baxis": {
             "endlinecolor": "#2a3f5f",
             "gridcolor": "white",
             "linecolor": "white",
             "minorgridcolor": "white",
             "startlinecolor": "#2a3f5f"
            },
            "type": "carpet"
           }
          ],
          "choropleth": [
           {
            "colorbar": {
             "outlinewidth": 0,
             "ticks": ""
            },
            "type": "choropleth"
           }
          ],
          "contour": [
           {
            "colorbar": {
             "outlinewidth": 0,
             "ticks": ""
            },
            "colorscale": [
             [
              0,
              "#0d0887"
             ],
             [
              0.1111111111111111,
              "#46039f"
             ],
             [
              0.2222222222222222,
              "#7201a8"
             ],
             [
              0.3333333333333333,
              "#9c179e"
             ],
             [
              0.4444444444444444,
              "#bd3786"
             ],
             [
              0.5555555555555556,
              "#d8576b"
             ],
             [
              0.6666666666666666,
              "#ed7953"
             ],
             [
              0.7777777777777778,
              "#fb9f3a"
             ],
             [
              0.8888888888888888,
              "#fdca26"
             ],
             [
              1,
              "#f0f921"
             ]
            ],
            "type": "contour"
           }
          ],
          "contourcarpet": [
           {
            "colorbar": {
             "outlinewidth": 0,
             "ticks": ""
            },
            "type": "contourcarpet"
           }
          ],
          "heatmap": [
           {
            "colorbar": {
             "outlinewidth": 0,
             "ticks": ""
            },
            "colorscale": [
             [
              0,
              "#0d0887"
             ],
             [
              0.1111111111111111,
              "#46039f"
             ],
             [
              0.2222222222222222,
              "#7201a8"
             ],
             [
              0.3333333333333333,
              "#9c179e"
             ],
             [
              0.4444444444444444,
              "#bd3786"
             ],
             [
              0.5555555555555556,
              "#d8576b"
             ],
             [
              0.6666666666666666,
              "#ed7953"
             ],
             [
              0.7777777777777778,
              "#fb9f3a"
             ],
             [
              0.8888888888888888,
              "#fdca26"
             ],
             [
              1,
              "#f0f921"
             ]
            ],
            "type": "heatmap"
           }
          ],
          "histogram": [
           {
            "marker": {
             "pattern": {
              "fillmode": "overlay",
              "size": 10,
              "solidity": 0.2
             }
            },
            "type": "histogram"
           }
          ],
          "histogram2d": [
           {
            "colorbar": {
             "outlinewidth": 0,
             "ticks": ""
            },
            "colorscale": [
             [
              0,
              "#0d0887"
             ],
             [
              0.1111111111111111,
              "#46039f"
             ],
             [
              0.2222222222222222,
              "#7201a8"
             ],
             [
              0.3333333333333333,
              "#9c179e"
             ],
             [
              0.4444444444444444,
              "#bd3786"
             ],
             [
              0.5555555555555556,
              "#d8576b"
             ],
             [
              0.6666666666666666,
              "#ed7953"
             ],
             [
              0.7777777777777778,
              "#fb9f3a"
             ],
             [
              0.8888888888888888,
              "#fdca26"
             ],
             [
              1,
              "#f0f921"
             ]
            ],
            "type": "histogram2d"
           }
          ],
          "histogram2dcontour": [
           {
            "colorbar": {
             "outlinewidth": 0,
             "ticks": ""
            },
            "colorscale": [
             [
              0,
              "#0d0887"
             ],
             [
              0.1111111111111111,
              "#46039f"
             ],
             [
              0.2222222222222222,
              "#7201a8"
             ],
             [
              0.3333333333333333,
              "#9c179e"
             ],
             [
              0.4444444444444444,
              "#bd3786"
             ],
             [
              0.5555555555555556,
              "#d8576b"
             ],
             [
              0.6666666666666666,
              "#ed7953"
             ],
             [
              0.7777777777777778,
              "#fb9f3a"
             ],
             [
              0.8888888888888888,
              "#fdca26"
             ],
             [
              1,
              "#f0f921"
             ]
            ],
            "type": "histogram2dcontour"
           }
          ],
          "mesh3d": [
           {
            "colorbar": {
             "outlinewidth": 0,
             "ticks": ""
            },
            "type": "mesh3d"
           }
          ],
          "parcoords": [
           {
            "line": {
             "colorbar": {
              "outlinewidth": 0,
              "ticks": ""
             }
            },
            "type": "parcoords"
           }
          ],
          "pie": [
           {
            "automargin": true,
            "type": "pie"
           }
          ],
          "scatter": [
           {
            "fillpattern": {
             "fillmode": "overlay",
             "size": 10,
             "solidity": 0.2
            },
            "type": "scatter"
           }
          ],
          "scatter3d": [
           {
            "line": {
             "colorbar": {
              "outlinewidth": 0,
              "ticks": ""
             }
            },
            "marker": {
             "colorbar": {
              "outlinewidth": 0,
              "ticks": ""
             }
            },
            "type": "scatter3d"
           }
          ],
          "scattercarpet": [
           {
            "marker": {
             "colorbar": {
              "outlinewidth": 0,
              "ticks": ""
             }
            },
            "type": "scattercarpet"
           }
          ],
          "scattergeo": [
           {
            "marker": {
             "colorbar": {
              "outlinewidth": 0,
              "ticks": ""
             }
            },
            "type": "scattergeo"
           }
          ],
          "scattergl": [
           {
            "marker": {
             "colorbar": {
              "outlinewidth": 0,
              "ticks": ""
             }
            },
            "type": "scattergl"
           }
          ],
          "scattermap": [
           {
            "marker": {
             "colorbar": {
              "outlinewidth": 0,
              "ticks": ""
             }
            },
            "type": "scattermap"
           }
          ],
          "scattermapbox": [
           {
            "marker": {
             "colorbar": {
              "outlinewidth": 0,
              "ticks": ""
             }
            },
            "type": "scattermapbox"
           }
          ],
          "scatterpolar": [
           {
            "marker": {
             "colorbar": {
              "outlinewidth": 0,
              "ticks": ""
             }
            },
            "type": "scatterpolar"
           }
          ],
          "scatterpolargl": [
           {
            "marker": {
             "colorbar": {
              "outlinewidth": 0,
              "ticks": ""
             }
            },
            "type": "scatterpolargl"
           }
          ],
          "scatterternary": [
           {
            "marker": {
             "colorbar": {
              "outlinewidth": 0,
              "ticks": ""
             }
            },
            "type": "scatterternary"
           }
          ],
          "surface": [
           {
            "colorbar": {
             "outlinewidth": 0,
             "ticks": ""
            },
            "colorscale": [
             [
              0,
              "#0d0887"
             ],
             [
              0.1111111111111111,
              "#46039f"
             ],
             [
              0.2222222222222222,
              "#7201a8"
             ],
             [
              0.3333333333333333,
              "#9c179e"
             ],
             [
              0.4444444444444444,
              "#bd3786"
             ],
             [
              0.5555555555555556,
              "#d8576b"
             ],
             [
              0.6666666666666666,
              "#ed7953"
             ],
             [
              0.7777777777777778,
              "#fb9f3a"
             ],
             [
              0.8888888888888888,
              "#fdca26"
             ],
             [
              1,
              "#f0f921"
             ]
            ],
            "type": "surface"
           }
          ],
          "table": [
           {
            "cells": {
             "fill": {
              "color": "#EBF0F8"
             },
             "line": {
              "color": "white"
             }
            },
            "header": {
             "fill": {
              "color": "#C8D4E3"
             },
             "line": {
              "color": "white"
             }
            },
            "type": "table"
           }
          ]
         },
         "layout": {
          "annotationdefaults": {
           "arrowcolor": "#2a3f5f",
           "arrowhead": 0,
           "arrowwidth": 1
          },
          "autotypenumbers": "strict",
          "coloraxis": {
           "colorbar": {
            "outlinewidth": 0,
            "ticks": ""
           }
          },
          "colorscale": {
           "diverging": [
            [
             0,
             "#8e0152"
            ],
            [
             0.1,
             "#c51b7d"
            ],
            [
             0.2,
             "#de77ae"
            ],
            [
             0.3,
             "#f1b6da"
            ],
            [
             0.4,
             "#fde0ef"
            ],
            [
             0.5,
             "#f7f7f7"
            ],
            [
             0.6,
             "#e6f5d0"
            ],
            [
             0.7,
             "#b8e186"
            ],
            [
             0.8,
             "#7fbc41"
            ],
            [
             0.9,
             "#4d9221"
            ],
            [
             1,
             "#276419"
            ]
           ],
           "sequential": [
            [
             0,
             "#0d0887"
            ],
            [
             0.1111111111111111,
             "#46039f"
            ],
            [
             0.2222222222222222,
             "#7201a8"
            ],
            [
             0.3333333333333333,
             "#9c179e"
            ],
            [
             0.4444444444444444,
             "#bd3786"
            ],
            [
             0.5555555555555556,
             "#d8576b"
            ],
            [
             0.6666666666666666,
             "#ed7953"
            ],
            [
             0.7777777777777778,
             "#fb9f3a"
            ],
            [
             0.8888888888888888,
             "#fdca26"
            ],
            [
             1,
             "#f0f921"
            ]
           ],
           "sequentialminus": [
            [
             0,
             "#0d0887"
            ],
            [
             0.1111111111111111,
             "#46039f"
            ],
            [
             0.2222222222222222,
             "#7201a8"
            ],
            [
             0.3333333333333333,
             "#9c179e"
            ],
            [
             0.4444444444444444,
             "#bd3786"
            ],
            [
             0.5555555555555556,
             "#d8576b"
            ],
            [
             0.6666666666666666,
             "#ed7953"
            ],
            [
             0.7777777777777778,
             "#fb9f3a"
            ],
            [
             0.8888888888888888,
             "#fdca26"
            ],
            [
             1,
             "#f0f921"
            ]
           ]
          },
          "colorway": [
           "#636efa",
           "#EF553B",
           "#00cc96",
           "#ab63fa",
           "#FFA15A",
           "#19d3f3",
           "#FF6692",
           "#B6E880",
           "#FF97FF",
           "#FECB52"
          ],
          "font": {
           "color": "#2a3f5f"
          },
          "geo": {
           "bgcolor": "white",
           "lakecolor": "white",
           "landcolor": "#E5ECF6",
           "showlakes": true,
           "showland": true,
           "subunitcolor": "white"
          },
          "hoverlabel": {
           "align": "left"
          },
          "hovermode": "closest",
          "mapbox": {
           "style": "light"
          },
          "paper_bgcolor": "white",
          "plot_bgcolor": "#E5ECF6",
          "polar": {
           "angularaxis": {
            "gridcolor": "white",
            "linecolor": "white",
            "ticks": ""
           },
           "bgcolor": "#E5ECF6",
           "radialaxis": {
            "gridcolor": "white",
            "linecolor": "white",
            "ticks": ""
           }
          },
          "scene": {
           "xaxis": {
            "backgroundcolor": "#E5ECF6",
            "gridcolor": "white",
            "gridwidth": 2,
            "linecolor": "white",
            "showbackground": true,
            "ticks": "",
            "zerolinecolor": "white"
           },
           "yaxis": {
            "backgroundcolor": "#E5ECF6",
            "gridcolor": "white",
            "gridwidth": 2,
            "linecolor": "white",
            "showbackground": true,
            "ticks": "",
            "zerolinecolor": "white"
           },
           "zaxis": {
            "backgroundcolor": "#E5ECF6",
            "gridcolor": "white",
            "gridwidth": 2,
            "linecolor": "white",
            "showbackground": true,
            "ticks": "",
            "zerolinecolor": "white"
           }
          },
          "shapedefaults": {
           "line": {
            "color": "#2a3f5f"
           }
          },
          "ternary": {
           "aaxis": {
            "gridcolor": "white",
            "linecolor": "white",
            "ticks": ""
           },
           "baxis": {
            "gridcolor": "white",
            "linecolor": "white",
            "ticks": ""
           },
           "bgcolor": "#E5ECF6",
           "caxis": {
            "gridcolor": "white",
            "linecolor": "white",
            "ticks": ""
           }
          },
          "title": {
           "x": 0.05
          },
          "xaxis": {
           "automargin": true,
           "gridcolor": "white",
           "linecolor": "white",
           "ticks": "",
           "title": {
            "standoff": 15
           },
           "zerolinecolor": "white",
           "zerolinewidth": 2
          },
          "yaxis": {
           "automargin": true,
           "gridcolor": "white",
           "linecolor": "white",
           "ticks": "",
           "title": {
            "standoff": 15
           },
           "zerolinecolor": "white",
           "zerolinewidth": 2
          }
         }
        },
        "title": {
         "text": "life_span bilan boshqa raqamli ustunlar o'rtasidagi korrelyatsiya"
        },
        "xaxis": {
         "anchor": "y",
         "domain": [
          0,
          1
         ],
         "title": {
          "text": "Xususiyatlar"
         }
        },
        "yaxis": {
         "anchor": "x",
         "domain": [
          0,
          1
         ],
         "title": {
          "text": "Korrelyatsiya qiymati"
         }
        }
       }
      }
     },
     "metadata": {},
     "output_type": "display_data"
    }
   ],
   "source": [
    "import pandas as pd\n",
    "import plotly.express as px\n",
    "\n",
    "# Raqamli ustunlarni tanlash\n",
    "numeric_cols = df.select_dtypes(include=['float64', 'int64']).columns\n",
    "\n",
    "# faqat raqamli ustunlar bo'yicha korrelyatsiya\n",
    "corr_matrix = df[numeric_cols].corr()\n",
    "\n",
    "# life_span ustunining boshqa ustunlar bilan korrelyatsiyasi\n",
    "life_span_corr = corr_matrix[['life_span']].sort_values(by='life_span', ascending=False)\n",
    "\n",
    "# Heatmap uchun DataFrame ni transformatsiya qilish\n",
    "heatmap_data = life_span_corr.reset_index()\n",
    "heatmap_data.columns = ['Feature', 'Correlation_with_life_span']\n",
    "\n",
    "# Plotly Express yordamida bar grafik\n",
    "fig = px.bar(\n",
    "    heatmap_data,\n",
    "    x='Feature',\n",
    "    y='Correlation_with_life_span',\n",
    "    title='life_span bilan boshqa raqamli ustunlar o\\'rtasidagi korrelyatsiya',\n",
    "    labels={'Correlation_with_life_span': 'Korrelyatsiya qiymati', 'Feature': 'Xususiyatlar'}\n",
    ")\n",
    "\n",
    "fig.show()\n"
   ]
  },
  {
   "cell_type": "code",
   "execution_count": null,
   "id": "d3580b03",
   "metadata": {},
   "outputs": [
    {
     "data": {
      "application/vnd.plotly.v1+json": {
       "config": {
        "plotlyServerURL": "https://plot.ly"
       },
       "data": [
        {
         "colorscale": [
          [
           0,
           "#440154"
          ],
          [
           0.1111111111111111,
           "#482878"
          ],
          [
           0.2222222222222222,
           "#3e4989"
          ],
          [
           0.3333333333333333,
           "#31688e"
          ],
          [
           0.4444444444444444,
           "#26828e"
          ],
          [
           0.5555555555555556,
           "#1f9e89"
          ],
          [
           0.6666666666666666,
           "#35b779"
          ],
          [
           0.7777777777777778,
           "#6ece58"
          ],
          [
           0.8888888888888888,
           "#b5de2b"
          ],
          [
           1,
           "#fde725"
          ]
         ],
         "reversescale": false,
         "showscale": true,
         "type": "heatmap",
         "x": [
          "Unnamed: 0.1",
          "Unnamed: 0",
          "occupation_cluster",
          "birth_year",
          "death_year",
          "life_span",
          "life_span_cluster",
          "edu_award_cluster",
          "bio_cluster"
         ],
         "y": [
          "Unnamed: 0.1",
          "Unnamed: 0",
          "occupation_cluster",
          "birth_year",
          "death_year",
          "life_span",
          "life_span_cluster",
          "edu_award_cluster",
          "bio_cluster"
         ],
         "z": {
          "bdata": "AAAAAAAA8D8AAAAAAADwP2VyfmFhxrG/bH20N9bQsL/WkK6t9M7Nv1K4t+X0kXg/lDQJYGsUwT8r37vkD7erPzgsBrrDmKM/AAAAAAAA8D8AAAAAAADwP2VyfmFhxrG/bH20N9bQsL/WkK6t9M7Nv1K4t+X0kXg/lDQJYGsUwT8r37vkD7erPzgsBrrDmKM/ZXJ+YWHGsb9lcn5hYcaxvwAAAAAAAPA/1bmrcwlhsL/+4lhVgkt9v76/eyj7Yac/ccTHEqLqor+CmT3yi2avP2D0i12ENuU/bH20N9bQsL9sfbQ31tCwv9W5q3MJYbC/AAAAAAAA8D+tJsI0+S/nP3PGyiLptZg/TIV3nmr75r97iWFF10rBP8OZTFy1Z+G/1pCurfTOzb/WkK6t9M7Nv/7iWFWCS32/rSbCNPkv5z8AAAAAAADwP2aDBRFjHce/b/OSGPLo5r8Ltc8xKgPEP5/MammQmN+/Uri35fSReD9SuLfl9JF4P76/eyj7Yac/c8bKIum1mD9mgwURYx3HvwAAAAAAAPA/OjwUDQkkn78cSUCmyi2Hv2Q0czl4fLU/lDQJYGsUwT+UNAlgaxTBP3HExxKi6qK/TIV3nmr75r9v85IY8ujmvzo8FA0JJJ+/AAAAAAAA8D+7IhGN5WC6vxVO0+fqEuE/K9+75A+3qz8r37vkD7erP4KZPfKLZq8/e4lhRddKwT8Ltc8xKgPEPxxJQKbKLYe/uyIRjeVgur8AAAAAAADwP4aIyOG8jcc/OCwGusOYoz84LAa6w5ijP2D0i12ENuU/w5lMXLVn4b+fzGppkJjfv2Q0czl4fLU/FU7T5+oS4T+GiMjhvI3HPwAAAAAAAPA/",
          "dtype": "f8",
          "shape": "9, 9"
         }
        }
       ],
       "layout": {
        "annotations": [
         {
          "font": {
           "color": "#000000"
          },
          "showarrow": false,
          "text": "1.0",
          "x": "Unnamed: 0.1",
          "xref": "x",
          "y": "Unnamed: 0.1",
          "yref": "y"
         },
         {
          "font": {
           "color": "#000000"
          },
          "showarrow": false,
          "text": "1.0",
          "x": "Unnamed: 0",
          "xref": "x",
          "y": "Unnamed: 0.1",
          "yref": "y"
         },
         {
          "font": {
           "color": "#FFFFFF"
          },
          "showarrow": false,
          "text": "-0.07",
          "x": "occupation_cluster",
          "xref": "x",
          "y": "Unnamed: 0.1",
          "yref": "y"
         },
         {
          "font": {
           "color": "#FFFFFF"
          },
          "showarrow": false,
          "text": "-0.07",
          "x": "birth_year",
          "xref": "x",
          "y": "Unnamed: 0.1",
          "yref": "y"
         },
         {
          "font": {
           "color": "#FFFFFF"
          },
          "showarrow": false,
          "text": "-0.23",
          "x": "death_year",
          "xref": "x",
          "y": "Unnamed: 0.1",
          "yref": "y"
         },
         {
          "font": {
           "color": "#FFFFFF"
          },
          "showarrow": false,
          "text": "0.01",
          "x": "life_span",
          "xref": "x",
          "y": "Unnamed: 0.1",
          "yref": "y"
         },
         {
          "font": {
           "color": "#FFFFFF"
          },
          "showarrow": false,
          "text": "0.13",
          "x": "life_span_cluster",
          "xref": "x",
          "y": "Unnamed: 0.1",
          "yref": "y"
         },
         {
          "font": {
           "color": "#FFFFFF"
          },
          "showarrow": false,
          "text": "0.05",
          "x": "edu_award_cluster",
          "xref": "x",
          "y": "Unnamed: 0.1",
          "yref": "y"
         },
         {
          "font": {
           "color": "#FFFFFF"
          },
          "showarrow": false,
          "text": "0.04",
          "x": "bio_cluster",
          "xref": "x",
          "y": "Unnamed: 0.1",
          "yref": "y"
         },
         {
          "font": {
           "color": "#000000"
          },
          "showarrow": false,
          "text": "1.0",
          "x": "Unnamed: 0.1",
          "xref": "x",
          "y": "Unnamed: 0",
          "yref": "y"
         },
         {
          "font": {
           "color": "#000000"
          },
          "showarrow": false,
          "text": "1.0",
          "x": "Unnamed: 0",
          "xref": "x",
          "y": "Unnamed: 0",
          "yref": "y"
         },
         {
          "font": {
           "color": "#FFFFFF"
          },
          "showarrow": false,
          "text": "-0.07",
          "x": "occupation_cluster",
          "xref": "x",
          "y": "Unnamed: 0",
          "yref": "y"
         },
         {
          "font": {
           "color": "#FFFFFF"
          },
          "showarrow": false,
          "text": "-0.07",
          "x": "birth_year",
          "xref": "x",
          "y": "Unnamed: 0",
          "yref": "y"
         },
         {
          "font": {
           "color": "#FFFFFF"
          },
          "showarrow": false,
          "text": "-0.23",
          "x": "death_year",
          "xref": "x",
          "y": "Unnamed: 0",
          "yref": "y"
         },
         {
          "font": {
           "color": "#FFFFFF"
          },
          "showarrow": false,
          "text": "0.01",
          "x": "life_span",
          "xref": "x",
          "y": "Unnamed: 0",
          "yref": "y"
         },
         {
          "font": {
           "color": "#FFFFFF"
          },
          "showarrow": false,
          "text": "0.13",
          "x": "life_span_cluster",
          "xref": "x",
          "y": "Unnamed: 0",
          "yref": "y"
         },
         {
          "font": {
           "color": "#FFFFFF"
          },
          "showarrow": false,
          "text": "0.05",
          "x": "edu_award_cluster",
          "xref": "x",
          "y": "Unnamed: 0",
          "yref": "y"
         },
         {
          "font": {
           "color": "#FFFFFF"
          },
          "showarrow": false,
          "text": "0.04",
          "x": "bio_cluster",
          "xref": "x",
          "y": "Unnamed: 0",
          "yref": "y"
         },
         {
          "font": {
           "color": "#FFFFFF"
          },
          "showarrow": false,
          "text": "-0.07",
          "x": "Unnamed: 0.1",
          "xref": "x",
          "y": "occupation_cluster",
          "yref": "y"
         },
         {
          "font": {
           "color": "#FFFFFF"
          },
          "showarrow": false,
          "text": "-0.07",
          "x": "Unnamed: 0",
          "xref": "x",
          "y": "occupation_cluster",
          "yref": "y"
         },
         {
          "font": {
           "color": "#000000"
          },
          "showarrow": false,
          "text": "1.0",
          "x": "occupation_cluster",
          "xref": "x",
          "y": "occupation_cluster",
          "yref": "y"
         },
         {
          "font": {
           "color": "#FFFFFF"
          },
          "showarrow": false,
          "text": "-0.06",
          "x": "birth_year",
          "xref": "x",
          "y": "occupation_cluster",
          "yref": "y"
         },
         {
          "font": {
           "color": "#FFFFFF"
          },
          "showarrow": false,
          "text": "-0.01",
          "x": "death_year",
          "xref": "x",
          "y": "occupation_cluster",
          "yref": "y"
         },
         {
          "font": {
           "color": "#FFFFFF"
          },
          "showarrow": false,
          "text": "0.05",
          "x": "life_span",
          "xref": "x",
          "y": "occupation_cluster",
          "yref": "y"
         },
         {
          "font": {
           "color": "#FFFFFF"
          },
          "showarrow": false,
          "text": "-0.04",
          "x": "life_span_cluster",
          "xref": "x",
          "y": "occupation_cluster",
          "yref": "y"
         },
         {
          "font": {
           "color": "#FFFFFF"
          },
          "showarrow": false,
          "text": "0.06",
          "x": "edu_award_cluster",
          "xref": "x",
          "y": "occupation_cluster",
          "yref": "y"
         },
         {
          "font": {
           "color": "#000000"
          },
          "showarrow": false,
          "text": "0.66",
          "x": "bio_cluster",
          "xref": "x",
          "y": "occupation_cluster",
          "yref": "y"
         },
         {
          "font": {
           "color": "#FFFFFF"
          },
          "showarrow": false,
          "text": "-0.07",
          "x": "Unnamed: 0.1",
          "xref": "x",
          "y": "birth_year",
          "yref": "y"
         },
         {
          "font": {
           "color": "#FFFFFF"
          },
          "showarrow": false,
          "text": "-0.07",
          "x": "Unnamed: 0",
          "xref": "x",
          "y": "birth_year",
          "yref": "y"
         },
         {
          "font": {
           "color": "#FFFFFF"
          },
          "showarrow": false,
          "text": "-0.06",
          "x": "occupation_cluster",
          "xref": "x",
          "y": "birth_year",
          "yref": "y"
         },
         {
          "font": {
           "color": "#000000"
          },
          "showarrow": false,
          "text": "1.0",
          "x": "birth_year",
          "xref": "x",
          "y": "birth_year",
          "yref": "y"
         },
         {
          "font": {
           "color": "#000000"
          },
          "showarrow": false,
          "text": "0.72",
          "x": "death_year",
          "xref": "x",
          "y": "birth_year",
          "yref": "y"
         },
         {
          "font": {
           "color": "#FFFFFF"
          },
          "showarrow": false,
          "text": "0.02",
          "x": "life_span",
          "xref": "x",
          "y": "birth_year",
          "yref": "y"
         },
         {
          "font": {
           "color": "#FFFFFF"
          },
          "showarrow": false,
          "text": "-0.72",
          "x": "life_span_cluster",
          "xref": "x",
          "y": "birth_year",
          "yref": "y"
         },
         {
          "font": {
           "color": "#FFFFFF"
          },
          "showarrow": false,
          "text": "0.14",
          "x": "edu_award_cluster",
          "xref": "x",
          "y": "birth_year",
          "yref": "y"
         },
         {
          "font": {
           "color": "#FFFFFF"
          },
          "showarrow": false,
          "text": "-0.54",
          "x": "bio_cluster",
          "xref": "x",
          "y": "birth_year",
          "yref": "y"
         },
         {
          "font": {
           "color": "#FFFFFF"
          },
          "showarrow": false,
          "text": "-0.23",
          "x": "Unnamed: 0.1",
          "xref": "x",
          "y": "death_year",
          "yref": "y"
         },
         {
          "font": {
           "color": "#FFFFFF"
          },
          "showarrow": false,
          "text": "-0.23",
          "x": "Unnamed: 0",
          "xref": "x",
          "y": "death_year",
          "yref": "y"
         },
         {
          "font": {
           "color": "#FFFFFF"
          },
          "showarrow": false,
          "text": "-0.01",
          "x": "occupation_cluster",
          "xref": "x",
          "y": "death_year",
          "yref": "y"
         },
         {
          "font": {
           "color": "#000000"
          },
          "showarrow": false,
          "text": "0.72",
          "x": "birth_year",
          "xref": "x",
          "y": "death_year",
          "yref": "y"
         },
         {
          "font": {
           "color": "#000000"
          },
          "showarrow": false,
          "text": "1.0",
          "x": "death_year",
          "xref": "x",
          "y": "death_year",
          "yref": "y"
         },
         {
          "font": {
           "color": "#FFFFFF"
          },
          "showarrow": false,
          "text": "-0.18",
          "x": "life_span",
          "xref": "x",
          "y": "death_year",
          "yref": "y"
         },
         {
          "font": {
           "color": "#FFFFFF"
          },
          "showarrow": false,
          "text": "-0.72",
          "x": "life_span_cluster",
          "xref": "x",
          "y": "death_year",
          "yref": "y"
         },
         {
          "font": {
           "color": "#000000"
          },
          "showarrow": false,
          "text": "0.16",
          "x": "edu_award_cluster",
          "xref": "x",
          "y": "death_year",
          "yref": "y"
         },
         {
          "font": {
           "color": "#FFFFFF"
          },
          "showarrow": false,
          "text": "-0.49",
          "x": "bio_cluster",
          "xref": "x",
          "y": "death_year",
          "yref": "y"
         },
         {
          "font": {
           "color": "#FFFFFF"
          },
          "showarrow": false,
          "text": "0.01",
          "x": "Unnamed: 0.1",
          "xref": "x",
          "y": "life_span",
          "yref": "y"
         },
         {
          "font": {
           "color": "#FFFFFF"
          },
          "showarrow": false,
          "text": "0.01",
          "x": "Unnamed: 0",
          "xref": "x",
          "y": "life_span",
          "yref": "y"
         },
         {
          "font": {
           "color": "#FFFFFF"
          },
          "showarrow": false,
          "text": "0.05",
          "x": "occupation_cluster",
          "xref": "x",
          "y": "life_span",
          "yref": "y"
         },
         {
          "font": {
           "color": "#FFFFFF"
          },
          "showarrow": false,
          "text": "0.02",
          "x": "birth_year",
          "xref": "x",
          "y": "life_span",
          "yref": "y"
         },
         {
          "font": {
           "color": "#FFFFFF"
          },
          "showarrow": false,
          "text": "-0.18",
          "x": "death_year",
          "xref": "x",
          "y": "life_span",
          "yref": "y"
         },
         {
          "font": {
           "color": "#000000"
          },
          "showarrow": false,
          "text": "1.0",
          "x": "life_span",
          "xref": "x",
          "y": "life_span",
          "yref": "y"
         },
         {
          "font": {
           "color": "#FFFFFF"
          },
          "showarrow": false,
          "text": "-0.03",
          "x": "life_span_cluster",
          "xref": "x",
          "y": "life_span",
          "yref": "y"
         },
         {
          "font": {
           "color": "#FFFFFF"
          },
          "showarrow": false,
          "text": "-0.01",
          "x": "edu_award_cluster",
          "xref": "x",
          "y": "life_span",
          "yref": "y"
         },
         {
          "font": {
           "color": "#FFFFFF"
          },
          "showarrow": false,
          "text": "0.08",
          "x": "bio_cluster",
          "xref": "x",
          "y": "life_span",
          "yref": "y"
         },
         {
          "font": {
           "color": "#FFFFFF"
          },
          "showarrow": false,
          "text": "0.13",
          "x": "Unnamed: 0.1",
          "xref": "x",
          "y": "life_span_cluster",
          "yref": "y"
         },
         {
          "font": {
           "color": "#FFFFFF"
          },
          "showarrow": false,
          "text": "0.13",
          "x": "Unnamed: 0",
          "xref": "x",
          "y": "life_span_cluster",
          "yref": "y"
         },
         {
          "font": {
           "color": "#FFFFFF"
          },
          "showarrow": false,
          "text": "-0.04",
          "x": "occupation_cluster",
          "xref": "x",
          "y": "life_span_cluster",
          "yref": "y"
         },
         {
          "font": {
           "color": "#FFFFFF"
          },
          "showarrow": false,
          "text": "-0.72",
          "x": "birth_year",
          "xref": "x",
          "y": "life_span_cluster",
          "yref": "y"
         },
         {
          "font": {
           "color": "#FFFFFF"
          },
          "showarrow": false,
          "text": "-0.72",
          "x": "death_year",
          "xref": "x",
          "y": "life_span_cluster",
          "yref": "y"
         },
         {
          "font": {
           "color": "#FFFFFF"
          },
          "showarrow": false,
          "text": "-0.03",
          "x": "life_span",
          "xref": "x",
          "y": "life_span_cluster",
          "yref": "y"
         },
         {
          "font": {
           "color": "#000000"
          },
          "showarrow": false,
          "text": "1.0",
          "x": "life_span_cluster",
          "xref": "x",
          "y": "life_span_cluster",
          "yref": "y"
         },
         {
          "font": {
           "color": "#FFFFFF"
          },
          "showarrow": false,
          "text": "-0.1",
          "x": "edu_award_cluster",
          "xref": "x",
          "y": "life_span_cluster",
          "yref": "y"
         },
         {
          "font": {
           "color": "#000000"
          },
          "showarrow": false,
          "text": "0.53",
          "x": "bio_cluster",
          "xref": "x",
          "y": "life_span_cluster",
          "yref": "y"
         },
         {
          "font": {
           "color": "#FFFFFF"
          },
          "showarrow": false,
          "text": "0.05",
          "x": "Unnamed: 0.1",
          "xref": "x",
          "y": "edu_award_cluster",
          "yref": "y"
         },
         {
          "font": {
           "color": "#FFFFFF"
          },
          "showarrow": false,
          "text": "0.05",
          "x": "Unnamed: 0",
          "xref": "x",
          "y": "edu_award_cluster",
          "yref": "y"
         },
         {
          "font": {
           "color": "#FFFFFF"
          },
          "showarrow": false,
          "text": "0.06",
          "x": "occupation_cluster",
          "xref": "x",
          "y": "edu_award_cluster",
          "yref": "y"
         },
         {
          "font": {
           "color": "#FFFFFF"
          },
          "showarrow": false,
          "text": "0.14",
          "x": "birth_year",
          "xref": "x",
          "y": "edu_award_cluster",
          "yref": "y"
         },
         {
          "font": {
           "color": "#000000"
          },
          "showarrow": false,
          "text": "0.16",
          "x": "death_year",
          "xref": "x",
          "y": "edu_award_cluster",
          "yref": "y"
         },
         {
          "font": {
           "color": "#FFFFFF"
          },
          "showarrow": false,
          "text": "-0.01",
          "x": "life_span",
          "xref": "x",
          "y": "edu_award_cluster",
          "yref": "y"
         },
         {
          "font": {
           "color": "#FFFFFF"
          },
          "showarrow": false,
          "text": "-0.1",
          "x": "life_span_cluster",
          "xref": "x",
          "y": "edu_award_cluster",
          "yref": "y"
         },
         {
          "font": {
           "color": "#000000"
          },
          "showarrow": false,
          "text": "1.0",
          "x": "edu_award_cluster",
          "xref": "x",
          "y": "edu_award_cluster",
          "yref": "y"
         },
         {
          "font": {
           "color": "#000000"
          },
          "showarrow": false,
          "text": "0.18",
          "x": "bio_cluster",
          "xref": "x",
          "y": "edu_award_cluster",
          "yref": "y"
         },
         {
          "font": {
           "color": "#FFFFFF"
          },
          "showarrow": false,
          "text": "0.04",
          "x": "Unnamed: 0.1",
          "xref": "x",
          "y": "bio_cluster",
          "yref": "y"
         },
         {
          "font": {
           "color": "#FFFFFF"
          },
          "showarrow": false,
          "text": "0.04",
          "x": "Unnamed: 0",
          "xref": "x",
          "y": "bio_cluster",
          "yref": "y"
         },
         {
          "font": {
           "color": "#000000"
          },
          "showarrow": false,
          "text": "0.66",
          "x": "occupation_cluster",
          "xref": "x",
          "y": "bio_cluster",
          "yref": "y"
         },
         {
          "font": {
           "color": "#FFFFFF"
          },
          "showarrow": false,
          "text": "-0.54",
          "x": "birth_year",
          "xref": "x",
          "y": "bio_cluster",
          "yref": "y"
         },
         {
          "font": {
           "color": "#FFFFFF"
          },
          "showarrow": false,
          "text": "-0.49",
          "x": "death_year",
          "xref": "x",
          "y": "bio_cluster",
          "yref": "y"
         },
         {
          "font": {
           "color": "#FFFFFF"
          },
          "showarrow": false,
          "text": "0.08",
          "x": "life_span",
          "xref": "x",
          "y": "bio_cluster",
          "yref": "y"
         },
         {
          "font": {
           "color": "#000000"
          },
          "showarrow": false,
          "text": "0.53",
          "x": "life_span_cluster",
          "xref": "x",
          "y": "bio_cluster",
          "yref": "y"
         },
         {
          "font": {
           "color": "#000000"
          },
          "showarrow": false,
          "text": "0.18",
          "x": "edu_award_cluster",
          "xref": "x",
          "y": "bio_cluster",
          "yref": "y"
         },
         {
          "font": {
           "color": "#000000"
          },
          "showarrow": false,
          "text": "1.0",
          "x": "bio_cluster",
          "xref": "x",
          "y": "bio_cluster",
          "yref": "y"
         }
        ],
        "template": {
         "data": {
          "bar": [
           {
            "error_x": {
             "color": "#2a3f5f"
            },
            "error_y": {
             "color": "#2a3f5f"
            },
            "marker": {
             "line": {
              "color": "#E5ECF6",
              "width": 0.5
             },
             "pattern": {
              "fillmode": "overlay",
              "size": 10,
              "solidity": 0.2
             }
            },
            "type": "bar"
           }
          ],
          "barpolar": [
           {
            "marker": {
             "line": {
              "color": "#E5ECF6",
              "width": 0.5
             },
             "pattern": {
              "fillmode": "overlay",
              "size": 10,
              "solidity": 0.2
             }
            },
            "type": "barpolar"
           }
          ],
          "carpet": [
           {
            "aaxis": {
             "endlinecolor": "#2a3f5f",
             "gridcolor": "white",
             "linecolor": "white",
             "minorgridcolor": "white",
             "startlinecolor": "#2a3f5f"
            },
            "baxis": {
             "endlinecolor": "#2a3f5f",
             "gridcolor": "white",
             "linecolor": "white",
             "minorgridcolor": "white",
             "startlinecolor": "#2a3f5f"
            },
            "type": "carpet"
           }
          ],
          "choropleth": [
           {
            "colorbar": {
             "outlinewidth": 0,
             "ticks": ""
            },
            "type": "choropleth"
           }
          ],
          "contour": [
           {
            "colorbar": {
             "outlinewidth": 0,
             "ticks": ""
            },
            "colorscale": [
             [
              0,
              "#0d0887"
             ],
             [
              0.1111111111111111,
              "#46039f"
             ],
             [
              0.2222222222222222,
              "#7201a8"
             ],
             [
              0.3333333333333333,
              "#9c179e"
             ],
             [
              0.4444444444444444,
              "#bd3786"
             ],
             [
              0.5555555555555556,
              "#d8576b"
             ],
             [
              0.6666666666666666,
              "#ed7953"
             ],
             [
              0.7777777777777778,
              "#fb9f3a"
             ],
             [
              0.8888888888888888,
              "#fdca26"
             ],
             [
              1,
              "#f0f921"
             ]
            ],
            "type": "contour"
           }
          ],
          "contourcarpet": [
           {
            "colorbar": {
             "outlinewidth": 0,
             "ticks": ""
            },
            "type": "contourcarpet"
           }
          ],
          "heatmap": [
           {
            "colorbar": {
             "outlinewidth": 0,
             "ticks": ""
            },
            "colorscale": [
             [
              0,
              "#0d0887"
             ],
             [
              0.1111111111111111,
              "#46039f"
             ],
             [
              0.2222222222222222,
              "#7201a8"
             ],
             [
              0.3333333333333333,
              "#9c179e"
             ],
             [
              0.4444444444444444,
              "#bd3786"
             ],
             [
              0.5555555555555556,
              "#d8576b"
             ],
             [
              0.6666666666666666,
              "#ed7953"
             ],
             [
              0.7777777777777778,
              "#fb9f3a"
             ],
             [
              0.8888888888888888,
              "#fdca26"
             ],
             [
              1,
              "#f0f921"
             ]
            ],
            "type": "heatmap"
           }
          ],
          "histogram": [
           {
            "marker": {
             "pattern": {
              "fillmode": "overlay",
              "size": 10,
              "solidity": 0.2
             }
            },
            "type": "histogram"
           }
          ],
          "histogram2d": [
           {
            "colorbar": {
             "outlinewidth": 0,
             "ticks": ""
            },
            "colorscale": [
             [
              0,
              "#0d0887"
             ],
             [
              0.1111111111111111,
              "#46039f"
             ],
             [
              0.2222222222222222,
              "#7201a8"
             ],
             [
              0.3333333333333333,
              "#9c179e"
             ],
             [
              0.4444444444444444,
              "#bd3786"
             ],
             [
              0.5555555555555556,
              "#d8576b"
             ],
             [
              0.6666666666666666,
              "#ed7953"
             ],
             [
              0.7777777777777778,
              "#fb9f3a"
             ],
             [
              0.8888888888888888,
              "#fdca26"
             ],
             [
              1,
              "#f0f921"
             ]
            ],
            "type": "histogram2d"
           }
          ],
          "histogram2dcontour": [
           {
            "colorbar": {
             "outlinewidth": 0,
             "ticks": ""
            },
            "colorscale": [
             [
              0,
              "#0d0887"
             ],
             [
              0.1111111111111111,
              "#46039f"
             ],
             [
              0.2222222222222222,
              "#7201a8"
             ],
             [
              0.3333333333333333,
              "#9c179e"
             ],
             [
              0.4444444444444444,
              "#bd3786"
             ],
             [
              0.5555555555555556,
              "#d8576b"
             ],
             [
              0.6666666666666666,
              "#ed7953"
             ],
             [
              0.7777777777777778,
              "#fb9f3a"
             ],
             [
              0.8888888888888888,
              "#fdca26"
             ],
             [
              1,
              "#f0f921"
             ]
            ],
            "type": "histogram2dcontour"
           }
          ],
          "mesh3d": [
           {
            "colorbar": {
             "outlinewidth": 0,
             "ticks": ""
            },
            "type": "mesh3d"
           }
          ],
          "parcoords": [
           {
            "line": {
             "colorbar": {
              "outlinewidth": 0,
              "ticks": ""
             }
            },
            "type": "parcoords"
           }
          ],
          "pie": [
           {
            "automargin": true,
            "type": "pie"
           }
          ],
          "scatter": [
           {
            "fillpattern": {
             "fillmode": "overlay",
             "size": 10,
             "solidity": 0.2
            },
            "type": "scatter"
           }
          ],
          "scatter3d": [
           {
            "line": {
             "colorbar": {
              "outlinewidth": 0,
              "ticks": ""
             }
            },
            "marker": {
             "colorbar": {
              "outlinewidth": 0,
              "ticks": ""
             }
            },
            "type": "scatter3d"
           }
          ],
          "scattercarpet": [
           {
            "marker": {
             "colorbar": {
              "outlinewidth": 0,
              "ticks": ""
             }
            },
            "type": "scattercarpet"
           }
          ],
          "scattergeo": [
           {
            "marker": {
             "colorbar": {
              "outlinewidth": 0,
              "ticks": ""
             }
            },
            "type": "scattergeo"
           }
          ],
          "scattergl": [
           {
            "marker": {
             "colorbar": {
              "outlinewidth": 0,
              "ticks": ""
             }
            },
            "type": "scattergl"
           }
          ],
          "scattermap": [
           {
            "marker": {
             "colorbar": {
              "outlinewidth": 0,
              "ticks": ""
             }
            },
            "type": "scattermap"
           }
          ],
          "scattermapbox": [
           {
            "marker": {
             "colorbar": {
              "outlinewidth": 0,
              "ticks": ""
             }
            },
            "type": "scattermapbox"
           }
          ],
          "scatterpolar": [
           {
            "marker": {
             "colorbar": {
              "outlinewidth": 0,
              "ticks": ""
             }
            },
            "type": "scatterpolar"
           }
          ],
          "scatterpolargl": [
           {
            "marker": {
             "colorbar": {
              "outlinewidth": 0,
              "ticks": ""
             }
            },
            "type": "scatterpolargl"
           }
          ],
          "scatterternary": [
           {
            "marker": {
             "colorbar": {
              "outlinewidth": 0,
              "ticks": ""
             }
            },
            "type": "scatterternary"
           }
          ],
          "surface": [
           {
            "colorbar": {
             "outlinewidth": 0,
             "ticks": ""
            },
            "colorscale": [
             [
              0,
              "#0d0887"
             ],
             [
              0.1111111111111111,
              "#46039f"
             ],
             [
              0.2222222222222222,
              "#7201a8"
             ],
             [
              0.3333333333333333,
              "#9c179e"
             ],
             [
              0.4444444444444444,
              "#bd3786"
             ],
             [
              0.5555555555555556,
              "#d8576b"
             ],
             [
              0.6666666666666666,
              "#ed7953"
             ],
             [
              0.7777777777777778,
              "#fb9f3a"
             ],
             [
              0.8888888888888888,
              "#fdca26"
             ],
             [
              1,
              "#f0f921"
             ]
            ],
            "type": "surface"
           }
          ],
          "table": [
           {
            "cells": {
             "fill": {
              "color": "#EBF0F8"
             },
             "line": {
              "color": "white"
             }
            },
            "header": {
             "fill": {
              "color": "#C8D4E3"
             },
             "line": {
              "color": "white"
             }
            },
            "type": "table"
           }
          ]
         },
         "layout": {
          "annotationdefaults": {
           "arrowcolor": "#2a3f5f",
           "arrowhead": 0,
           "arrowwidth": 1
          },
          "autotypenumbers": "strict",
          "coloraxis": {
           "colorbar": {
            "outlinewidth": 0,
            "ticks": ""
           }
          },
          "colorscale": {
           "diverging": [
            [
             0,
             "#8e0152"
            ],
            [
             0.1,
             "#c51b7d"
            ],
            [
             0.2,
             "#de77ae"
            ],
            [
             0.3,
             "#f1b6da"
            ],
            [
             0.4,
             "#fde0ef"
            ],
            [
             0.5,
             "#f7f7f7"
            ],
            [
             0.6,
             "#e6f5d0"
            ],
            [
             0.7,
             "#b8e186"
            ],
            [
             0.8,
             "#7fbc41"
            ],
            [
             0.9,
             "#4d9221"
            ],
            [
             1,
             "#276419"
            ]
           ],
           "sequential": [
            [
             0,
             "#0d0887"
            ],
            [
             0.1111111111111111,
             "#46039f"
            ],
            [
             0.2222222222222222,
             "#7201a8"
            ],
            [
             0.3333333333333333,
             "#9c179e"
            ],
            [
             0.4444444444444444,
             "#bd3786"
            ],
            [
             0.5555555555555556,
             "#d8576b"
            ],
            [
             0.6666666666666666,
             "#ed7953"
            ],
            [
             0.7777777777777778,
             "#fb9f3a"
            ],
            [
             0.8888888888888888,
             "#fdca26"
            ],
            [
             1,
             "#f0f921"
            ]
           ],
           "sequentialminus": [
            [
             0,
             "#0d0887"
            ],
            [
             0.1111111111111111,
             "#46039f"
            ],
            [
             0.2222222222222222,
             "#7201a8"
            ],
            [
             0.3333333333333333,
             "#9c179e"
            ],
            [
             0.4444444444444444,
             "#bd3786"
            ],
            [
             0.5555555555555556,
             "#d8576b"
            ],
            [
             0.6666666666666666,
             "#ed7953"
            ],
            [
             0.7777777777777778,
             "#fb9f3a"
            ],
            [
             0.8888888888888888,
             "#fdca26"
            ],
            [
             1,
             "#f0f921"
            ]
           ]
          },
          "colorway": [
           "#636efa",
           "#EF553B",
           "#00cc96",
           "#ab63fa",
           "#FFA15A",
           "#19d3f3",
           "#FF6692",
           "#B6E880",
           "#FF97FF",
           "#FECB52"
          ],
          "font": {
           "color": "#2a3f5f"
          },
          "geo": {
           "bgcolor": "white",
           "lakecolor": "white",
           "landcolor": "#E5ECF6",
           "showlakes": true,
           "showland": true,
           "subunitcolor": "white"
          },
          "hoverlabel": {
           "align": "left"
          },
          "hovermode": "closest",
          "mapbox": {
           "style": "light"
          },
          "paper_bgcolor": "white",
          "plot_bgcolor": "#E5ECF6",
          "polar": {
           "angularaxis": {
            "gridcolor": "white",
            "linecolor": "white",
            "ticks": ""
           },
           "bgcolor": "#E5ECF6",
           "radialaxis": {
            "gridcolor": "white",
            "linecolor": "white",
            "ticks": ""
           }
          },
          "scene": {
           "xaxis": {
            "backgroundcolor": "#E5ECF6",
            "gridcolor": "white",
            "gridwidth": 2,
            "linecolor": "white",
            "showbackground": true,
            "ticks": "",
            "zerolinecolor": "white"
           },
           "yaxis": {
            "backgroundcolor": "#E5ECF6",
            "gridcolor": "white",
            "gridwidth": 2,
            "linecolor": "white",
            "showbackground": true,
            "ticks": "",
            "zerolinecolor": "white"
           },
           "zaxis": {
            "backgroundcolor": "#E5ECF6",
            "gridcolor": "white",
            "gridwidth": 2,
            "linecolor": "white",
            "showbackground": true,
            "ticks": "",
            "zerolinecolor": "white"
           }
          },
          "shapedefaults": {
           "line": {
            "color": "#2a3f5f"
           }
          },
          "ternary": {
           "aaxis": {
            "gridcolor": "white",
            "linecolor": "white",
            "ticks": ""
           },
           "baxis": {
            "gridcolor": "white",
            "linecolor": "white",
            "ticks": ""
           },
           "bgcolor": "#E5ECF6",
           "caxis": {
            "gridcolor": "white",
            "linecolor": "white",
            "ticks": ""
           }
          },
          "title": {
           "x": 0.05
          },
          "xaxis": {
           "automargin": true,
           "gridcolor": "white",
           "linecolor": "white",
           "ticks": "",
           "title": {
            "standoff": 15
           },
           "zerolinecolor": "white",
           "zerolinewidth": 2
          },
          "yaxis": {
           "automargin": true,
           "gridcolor": "white",
           "linecolor": "white",
           "ticks": "",
           "title": {
            "standoff": 15
           },
           "zerolinecolor": "white",
           "zerolinewidth": 2
          }
         }
        },
        "title": {
         "text": "Raqamli ustunlar o'rtasidagi korrelyatsiya matritsasi"
        },
        "xaxis": {
         "dtick": 1,
         "gridcolor": "rgb(0, 0, 0)",
         "side": "top",
         "ticks": ""
        },
        "yaxis": {
         "dtick": 1,
         "ticks": "",
         "ticksuffix": "  "
        }
       }
      }
     },
     "metadata": {},
     "output_type": "display_data"
    }
   ],
   "source": [
    "import numpy as np\n",
    "import plotly.figure_factory as ff\n",
    "\n",
    "# Qiymatlarni 2 xonagacha qisqartirish\n",
    "annot_text = np.around(corr_matrix.values, decimals=2).astype(str)\n",
    "\n",
    "fig = ff.create_annotated_heatmap(\n",
    "    z=corr_matrix.values,\n",
    "    x=list(corr_matrix.columns),\n",
    "    y=list(corr_matrix.index),\n",
    "    annotation_text=annot_text,\n",
    "    colorscale='Viridis',\n",
    "    showscale=True\n",
    ")\n",
    "\n",
    "fig.update_layout(title='Raqamli ustunlar o\\'rtasidagi korrelyatsiya matritsasi')\n",
    "fig.show()"
   ]
  },
  {
   "cell_type": "markdown",
   "id": "e1e67897",
   "metadata": {},
   "source": [
    "# Feature Selection Filtering "
   ]
  },
  {
   "cell_type": "code",
   "execution_count": 16,
   "id": "84b36288",
   "metadata": {},
   "outputs": [
    {
     "name": "stdout",
     "output_type": "stream",
     "text": [
      "                    Unnamed: 0.2  Unnamed: 0.1  Unnamed: 0      name  \\\n",
      "Unnamed: 0.2            1.000000      1.000000    1.000000  0.000949   \n",
      "Unnamed: 0.1            1.000000      1.000000    1.000000  0.000949   \n",
      "Unnamed: 0              1.000000      1.000000    1.000000  0.000949   \n",
      "name                    0.000949      0.000949    0.000949  1.000000   \n",
      "birth_date              0.091798      0.091798    0.091798  0.008020   \n",
      "birth_place             0.032052      0.032052    0.032052  0.007689   \n",
      "death_date              0.184592      0.184592    0.184592  0.080515   \n",
      "death_place             0.144519      0.144519    0.144519  0.119426   \n",
      "occupation              0.175324      0.175324    0.175324  0.001912   \n",
      "awards                  0.062499      0.062499    0.062499  0.050228   \n",
      "alma_mater              0.011318      0.011318    0.011318  0.073215   \n",
      "education               0.058320      0.058320    0.058320  0.001575   \n",
      "spouse                  0.012588      0.012588    0.012588  0.003085   \n",
      "children                0.093431      0.093431    0.093431  0.002080   \n",
      "occupation_cluster      0.069433      0.069433    0.069433  0.071298   \n",
      "birth_year              0.065687      0.065687    0.065687  0.059745   \n",
      "death_year              0.232878      0.232878    0.232878  0.049984   \n",
      "life_span               0.005999      0.005999    0.005999  0.017972   \n",
      "life_span_cluster       0.133436      0.133436    0.133436  0.017934   \n",
      "edu_award_cluster       0.054131      0.054131    0.054131  0.006207   \n",
      "bio_cluster             0.038275      0.038275    0.038275  0.015018   \n",
      "\n",
      "                    birth_date  birth_place  death_date  death_place  \\\n",
      "Unnamed: 0.2          0.091798     0.032052    0.184592     0.144519   \n",
      "Unnamed: 0.1          0.091798     0.032052    0.184592     0.144519   \n",
      "Unnamed: 0            0.091798     0.032052    0.184592     0.144519   \n",
      "name                  0.008020     0.007689    0.080515     0.119426   \n",
      "birth_date            1.000000     0.171379    0.626366     0.228103   \n",
      "birth_place           0.171379     1.000000    0.163292     0.162993   \n",
      "death_date            0.626366     0.163292    1.000000     0.428533   \n",
      "death_place           0.228103     0.162993    0.428533     1.000000   \n",
      "occupation            0.167499     0.129264    0.201176     0.104353   \n",
      "awards                0.005764     0.145171    0.083775     0.084547   \n",
      "alma_mater            0.064641     0.120712    0.003831     0.013374   \n",
      "education             0.052760     0.037476    0.025018     0.040786   \n",
      "spouse                0.104219     0.063627    0.023825     0.055015   \n",
      "children              0.113488     0.048220    0.105607     0.038331   \n",
      "occupation_cluster    0.111092     0.136518    0.135051     0.062972   \n",
      "birth_year            0.094902     0.097496    0.219550     0.251055   \n",
      "death_year            0.139380     0.035789    0.153920     0.041404   \n",
      "life_span             0.054030     0.027897    0.030067     0.085684   \n",
      "life_span_cluster     0.102051     0.006590    0.103297     0.028578   \n",
      "edu_award_cluster     0.139173     0.164520    0.003989     0.032193   \n",
      "bio_cluster           0.093254     0.187843    0.130284     0.104135   \n",
      "\n",
      "                    occupation    awards  ...  education    spouse  children  \\\n",
      "Unnamed: 0.2          0.175324  0.062499  ...   0.058320  0.012588  0.093431   \n",
      "Unnamed: 0.1          0.175324  0.062499  ...   0.058320  0.012588  0.093431   \n",
      "Unnamed: 0            0.175324  0.062499  ...   0.058320  0.012588  0.093431   \n",
      "name                  0.001912  0.050228  ...   0.001575  0.003085  0.002080   \n",
      "birth_date            0.167499  0.005764  ...   0.052760  0.104219  0.113488   \n",
      "birth_place           0.129264  0.145171  ...   0.037476  0.063627  0.048220   \n",
      "death_date            0.201176  0.083775  ...   0.025018  0.023825  0.105607   \n",
      "death_place           0.104353  0.084547  ...   0.040786  0.055015  0.038331   \n",
      "occupation            1.000000  0.002430  ...   0.044930  0.014912  0.122083   \n",
      "awards                0.002430  1.000000  ...   0.044510  0.173149  0.159653   \n",
      "alma_mater            0.060685  0.106422  ...   0.060240  0.049761  0.057600   \n",
      "education             0.044930  0.044510  ...   1.000000  0.033880  0.045168   \n",
      "spouse                0.014912  0.173149  ...   0.033880  1.000000  0.131236   \n",
      "children              0.122083  0.159653  ...   0.045168  0.131236  1.000000   \n",
      "occupation_cluster    0.759761  0.053499  ...   0.042612  0.056056  0.140031   \n",
      "birth_year            0.037084  0.134778  ...   0.019726  0.039500  0.054733   \n",
      "death_year            0.058843  0.109126  ...   0.005253  0.008767  0.056076   \n",
      "life_span             0.026229  0.019604  ...   0.000666  0.017214  0.003186   \n",
      "life_span_cluster     0.074830  0.088040  ...   0.011262  0.039237  0.030210   \n",
      "edu_award_cluster     0.023323  0.502496  ...   0.167066  0.119608  0.122924   \n",
      "bio_cluster           0.486981  0.064195  ...   0.086731  0.068332  0.094772   \n",
      "\n",
      "                    occupation_cluster  birth_year  death_year  life_span  \\\n",
      "Unnamed: 0.2                  0.069433    0.065687    0.232878   0.005999   \n",
      "Unnamed: 0.1                  0.069433    0.065687    0.232878   0.005999   \n",
      "Unnamed: 0                    0.069433    0.065687    0.232878   0.005999   \n",
      "name                          0.071298    0.059745    0.049984   0.017972   \n",
      "birth_date                    0.111092    0.094902    0.139380   0.054030   \n",
      "birth_place                   0.136518    0.097496    0.035789   0.027897   \n",
      "death_date                    0.135051    0.219550    0.153920   0.030067   \n",
      "death_place                   0.062972    0.251055    0.041404   0.085684   \n",
      "occupation                    0.759761    0.037084    0.058843   0.026229   \n",
      "awards                        0.053499    0.134778    0.109126   0.019604   \n",
      "alma_mater                    0.010792    0.069170    0.067944   0.014735   \n",
      "education                     0.042612    0.019726    0.005253   0.000666   \n",
      "spouse                        0.056056    0.039500    0.008767   0.017214   \n",
      "children                      0.140031    0.054733    0.056076   0.003186   \n",
      "occupation_cluster            1.000000    0.063981    0.007152   0.045669   \n",
      "birth_year                    0.063981    1.000000    0.724606   0.024131   \n",
      "death_year                    0.007152    0.724606    1.000000   0.180584   \n",
      "life_span                     0.045669    0.024131    0.180584   1.000000   \n",
      "life_span_cluster             0.036946    0.718190    0.715936   0.030411   \n",
      "edu_award_cluster             0.061329    0.135096    0.156347   0.011318   \n",
      "bio_cluster                   0.662905    0.543910    0.493687   0.083931   \n",
      "\n",
      "                    life_span_cluster  edu_award_cluster  bio_cluster  \n",
      "Unnamed: 0.2                 0.133436           0.054131     0.038275  \n",
      "Unnamed: 0.1                 0.133436           0.054131     0.038275  \n",
      "Unnamed: 0                   0.133436           0.054131     0.038275  \n",
      "name                         0.017934           0.006207     0.015018  \n",
      "birth_date                   0.102051           0.139173     0.093254  \n",
      "birth_place                  0.006590           0.164520     0.187843  \n",
      "death_date                   0.103297           0.003989     0.130284  \n",
      "death_place                  0.028578           0.032193     0.104135  \n",
      "occupation                   0.074830           0.023323     0.486981  \n",
      "awards                       0.088040           0.502496     0.064195  \n",
      "alma_mater                   0.055998           0.016800     0.049553  \n",
      "education                    0.011262           0.167066     0.086731  \n",
      "spouse                       0.039237           0.119608     0.068332  \n",
      "children                     0.030210           0.122924     0.094772  \n",
      "occupation_cluster           0.036946           0.061329     0.662905  \n",
      "birth_year                   0.718190           0.135096     0.543910  \n",
      "death_year                   0.715936           0.156347     0.493687  \n",
      "life_span                    0.030411           0.011318     0.083931  \n",
      "life_span_cluster            1.000000           0.103041     0.533559  \n",
      "edu_award_cluster            0.103041           1.000000     0.184013  \n",
      "bio_cluster                  0.533559           0.184013     1.000000  \n",
      "\n",
      "[21 rows x 21 columns]\n"
     ]
    }
   ],
   "source": [
    "import seaborn as sns               \n",
    "import matplotlib.pyplot as plt     \n",
    "\n",
    "\n",
    "corr_matrix = df.corr().abs()  \n",
    "\n",
    "upper = corr_matrix.where(np.triu(np.ones(corr_matrix.shape), k=1).astype(bool))  \n",
    "\n",
    "\n",
    "to_drop = [col for col in upper.columns if any(upper[col] > 0.8)]  \n",
    "corr_matrix = df.corr().abs() \n",
    "print(corr_matrix)  \n"
   ]
  },
  {
   "cell_type": "code",
   "execution_count": null,
   "id": "2d442c7e",
   "metadata": {},
   "outputs": [
    {
     "name": "stdout",
     "output_type": "stream",
     "text": [
      "\n",
      "Original shape: (2022, 21)\n",
      "Shape after dropping correlated features: (2022, 19)\n"
     ]
    }
   ],
   "source": [
    "\n",
    "import numpy as np   \n",
    "\n",
    "corr_matrix = df.corr().abs()  \n",
    "\n",
    "upper = corr_matrix.where(np.triu(np.ones(corr_matrix.shape), k=1).astype(bool))  \n",
    "\n",
    "to_drop = [col for col in upper.columns if any(upper[col] > 0.95)]  \n",
    "\n",
    "df_filtered = df.drop(columns=to_drop)  \n",
    "print(\"\\nOriginal shape:\", df.shape)  \n",
    "\n",
    "print(\"Shape after dropping correlated features:\", df_filtered.shape) \n"
   ]
  },
  {
   "cell_type": "code",
   "execution_count": 12,
   "id": "b6289eb5",
   "metadata": {},
   "outputs": [
    {
     "name": "stdout",
     "output_type": "stream",
     "text": [
      "<class 'pandas.core.frame.DataFrame'>\n",
      "RangeIndex: 2022 entries, 0 to 2021\n",
      "Data columns (total 19 columns):\n",
      " #   Column              Non-Null Count  Dtype  \n",
      "---  ------              --------------  -----  \n",
      " 0   Unnamed: 0.2        2022 non-null   int64  \n",
      " 1   name                2022 non-null   float64\n",
      " 2   birth_date          2022 non-null   float64\n",
      " 3   birth_place         2022 non-null   float64\n",
      " 4   death_date          2022 non-null   float64\n",
      " 5   death_place         2022 non-null   float64\n",
      " 6   occupation          2022 non-null   float64\n",
      " 7   awards              2022 non-null   float64\n",
      " 8   alma_mater          2022 non-null   float64\n",
      " 9   education           2022 non-null   float64\n",
      " 10  spouse              2022 non-null   float64\n",
      " 11  children            2022 non-null   float64\n",
      " 12  occupation_cluster  2022 non-null   float64\n",
      " 13  birth_year          2022 non-null   float64\n",
      " 14  death_year          2022 non-null   float64\n",
      " 15  life_span           2022 non-null   float64\n",
      " 16  life_span_cluster   2022 non-null   float64\n",
      " 17  edu_award_cluster   2022 non-null   float64\n",
      " 18  bio_cluster         2022 non-null   float64\n",
      "dtypes: float64(18), int64(1)\n",
      "memory usage: 300.3 KB\n"
     ]
    }
   ],
   "source": [
    "df_filtered.info()"
   ]
  },
  {
   "cell_type": "code",
   "execution_count": 17,
   "id": "12acc57f",
   "metadata": {},
   "outputs": [
    {
     "name": "stdout",
     "output_type": "stream",
     "text": [
      "Highly correlated feature pairs (correlation > 0.95):\n",
      "      Feature 1     Feature 2  Correlation\n",
      "0  Unnamed: 0.2  Unnamed: 0.1          1.0\n",
      "1  Unnamed: 0.2    Unnamed: 0          1.0\n",
      "2  Unnamed: 0.1    Unnamed: 0          1.0\n"
     ]
    }
   ],
   "source": [
    "# Yuqori korrelyatsiyaga ega juftliklarni saqlash uchun bo‘sh ro‘yxat yaratamiz\n",
    "high_corr_pairs = []\n",
    "\n",
    "\n",
    "for col in upper.columns:\n",
    "    \n",
    "    for row in upper.index:\n",
    "        \n",
    "        if upper.loc[row, col] is not np.nan and upper.loc[row, col] > 0.95:\n",
    "            \n",
    "            high_corr_pairs.append([row, col, round(upper.loc[row, col], 2)])\n",
    "\n",
    "\n",
    "corr_table = pd.DataFrame(high_corr_pairs, columns=['Feature 1', 'Feature 2', 'Correlation'])\n",
    "\n",
    "print(\"Highly correlated feature pairs (correlation > 0.95):\")\n",
    "print(corr_table)"
   ]
  },
  {
   "cell_type": "code",
   "execution_count": 19,
   "id": "ab6313be",
   "metadata": {},
   "outputs": [
    {
     "data": {
      "application/vnd.plotly.v1+json": {
       "config": {
        "plotlyServerURL": "https://plot.ly"
       },
       "data": [
        {
         "coloraxis": "coloraxis",
         "hovertemplate": "x: %{x}<br>y: %{y}<br>color: %{z}<extra></extra>",
         "name": "0",
         "texttemplate": "%{z:.2f}",
         "type": "heatmap",
         "x": [
          "Unnamed: 0.2",
          "Unnamed: 0.1",
          "Unnamed: 0",
          "name",
          "birth_date",
          "birth_place",
          "death_date",
          "death_place",
          "occupation",
          "awards",
          "alma_mater",
          "education",
          "spouse",
          "children",
          "occupation_cluster",
          "birth_year",
          "death_year",
          "life_span",
          "life_span_cluster",
          "edu_award_cluster",
          "bio_cluster"
         ],
         "xaxis": "x",
         "y": [
          "Unnamed: 0.2",
          "Unnamed: 0.1",
          "Unnamed: 0",
          "name",
          "birth_date",
          "birth_place",
          "death_date",
          "death_place",
          "occupation",
          "awards",
          "alma_mater",
          "education",
          "spouse",
          "children",
          "occupation_cluster",
          "birth_year",
          "death_year",
          "life_span",
          "life_span_cluster",
          "edu_award_cluster",
          "bio_cluster"
         ],
         "yaxis": "y",
         "z": {
          "bdata": "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",
          "dtype": "f8",
          "shape": "21, 21"
         }
        }
       ],
       "layout": {
        "coloraxis": {
         "cmax": 1,
         "cmin": -1,
         "colorscale": [
          [
           0,
           "rgb(5,48,97)"
          ],
          [
           0.1,
           "rgb(33,102,172)"
          ],
          [
           0.2,
           "rgb(67,147,195)"
          ],
          [
           0.3,
           "rgb(146,197,222)"
          ],
          [
           0.4,
           "rgb(209,229,240)"
          ],
          [
           0.5,
           "rgb(247,247,247)"
          ],
          [
           0.6,
           "rgb(253,219,199)"
          ],
          [
           0.7,
           "rgb(244,165,130)"
          ],
          [
           0.8,
           "rgb(214,96,77)"
          ],
          [
           0.9,
           "rgb(178,24,43)"
          ],
          [
           1,
           "rgb(103,0,31)"
          ]
         ]
        },
        "height": 800,
        "template": {
         "data": {
          "bar": [
           {
            "error_x": {
             "color": "#2a3f5f"
            },
            "error_y": {
             "color": "#2a3f5f"
            },
            "marker": {
             "line": {
              "color": "#E5ECF6",
              "width": 0.5
             },
             "pattern": {
              "fillmode": "overlay",
              "size": 10,
              "solidity": 0.2
             }
            },
            "type": "bar"
           }
          ],
          "barpolar": [
           {
            "marker": {
             "line": {
              "color": "#E5ECF6",
              "width": 0.5
             },
             "pattern": {
              "fillmode": "overlay",
              "size": 10,
              "solidity": 0.2
             }
            },
            "type": "barpolar"
           }
          ],
          "carpet": [
           {
            "aaxis": {
             "endlinecolor": "#2a3f5f",
             "gridcolor": "white",
             "linecolor": "white",
             "minorgridcolor": "white",
             "startlinecolor": "#2a3f5f"
            },
            "baxis": {
             "endlinecolor": "#2a3f5f",
             "gridcolor": "white",
             "linecolor": "white",
             "minorgridcolor": "white",
             "startlinecolor": "#2a3f5f"
            },
            "type": "carpet"
           }
          ],
          "choropleth": [
           {
            "colorbar": {
             "outlinewidth": 0,
             "ticks": ""
            },
            "type": "choropleth"
           }
          ],
          "contour": [
           {
            "colorbar": {
             "outlinewidth": 0,
             "ticks": ""
            },
            "colorscale": [
             [
              0,
              "#0d0887"
             ],
             [
              0.1111111111111111,
              "#46039f"
             ],
             [
              0.2222222222222222,
              "#7201a8"
             ],
             [
              0.3333333333333333,
              "#9c179e"
             ],
             [
              0.4444444444444444,
              "#bd3786"
             ],
             [
              0.5555555555555556,
              "#d8576b"
             ],
             [
              0.6666666666666666,
              "#ed7953"
             ],
             [
              0.7777777777777778,
              "#fb9f3a"
             ],
             [
              0.8888888888888888,
              "#fdca26"
             ],
             [
              1,
              "#f0f921"
             ]
            ],
            "type": "contour"
           }
          ],
          "contourcarpet": [
           {
            "colorbar": {
             "outlinewidth": 0,
             "ticks": ""
            },
            "type": "contourcarpet"
           }
          ],
          "heatmap": [
           {
            "colorbar": {
             "outlinewidth": 0,
             "ticks": ""
            },
            "colorscale": [
             [
              0,
              "#0d0887"
             ],
             [
              0.1111111111111111,
              "#46039f"
             ],
             [
              0.2222222222222222,
              "#7201a8"
             ],
             [
              0.3333333333333333,
              "#9c179e"
             ],
             [
              0.4444444444444444,
              "#bd3786"
             ],
             [
              0.5555555555555556,
              "#d8576b"
             ],
             [
              0.6666666666666666,
              "#ed7953"
             ],
             [
              0.7777777777777778,
              "#fb9f3a"
             ],
             [
              0.8888888888888888,
              "#fdca26"
             ],
             [
              1,
              "#f0f921"
             ]
            ],
            "type": "heatmap"
           }
          ],
          "histogram": [
           {
            "marker": {
             "pattern": {
              "fillmode": "overlay",
              "size": 10,
              "solidity": 0.2
             }
            },
            "type": "histogram"
           }
          ],
          "histogram2d": [
           {
            "colorbar": {
             "outlinewidth": 0,
             "ticks": ""
            },
            "colorscale": [
             [
              0,
              "#0d0887"
             ],
             [
              0.1111111111111111,
              "#46039f"
             ],
             [
              0.2222222222222222,
              "#7201a8"
             ],
             [
              0.3333333333333333,
              "#9c179e"
             ],
             [
              0.4444444444444444,
              "#bd3786"
             ],
             [
              0.5555555555555556,
              "#d8576b"
             ],
             [
              0.6666666666666666,
              "#ed7953"
             ],
             [
              0.7777777777777778,
              "#fb9f3a"
             ],
             [
              0.8888888888888888,
              "#fdca26"
             ],
             [
              1,
              "#f0f921"
             ]
            ],
            "type": "histogram2d"
           }
          ],
          "histogram2dcontour": [
           {
            "colorbar": {
             "outlinewidth": 0,
             "ticks": ""
            },
            "colorscale": [
             [
              0,
              "#0d0887"
             ],
             [
              0.1111111111111111,
              "#46039f"
             ],
             [
              0.2222222222222222,
              "#7201a8"
             ],
             [
              0.3333333333333333,
              "#9c179e"
             ],
             [
              0.4444444444444444,
              "#bd3786"
             ],
             [
              0.5555555555555556,
              "#d8576b"
             ],
             [
              0.6666666666666666,
              "#ed7953"
             ],
             [
              0.7777777777777778,
              "#fb9f3a"
             ],
             [
              0.8888888888888888,
              "#fdca26"
             ],
             [
              1,
              "#f0f921"
             ]
            ],
            "type": "histogram2dcontour"
           }
          ],
          "mesh3d": [
           {
            "colorbar": {
             "outlinewidth": 0,
             "ticks": ""
            },
            "type": "mesh3d"
           }
          ],
          "parcoords": [
           {
            "line": {
             "colorbar": {
              "outlinewidth": 0,
              "ticks": ""
             }
            },
            "type": "parcoords"
           }
          ],
          "pie": [
           {
            "automargin": true,
            "type": "pie"
           }
          ],
          "scatter": [
           {
            "fillpattern": {
             "fillmode": "overlay",
             "size": 10,
             "solidity": 0.2
            },
            "type": "scatter"
           }
          ],
          "scatter3d": [
           {
            "line": {
             "colorbar": {
              "outlinewidth": 0,
              "ticks": ""
             }
            },
            "marker": {
             "colorbar": {
              "outlinewidth": 0,
              "ticks": ""
             }
            },
            "type": "scatter3d"
           }
          ],
          "scattercarpet": [
           {
            "marker": {
             "colorbar": {
              "outlinewidth": 0,
              "ticks": ""
             }
            },
            "type": "scattercarpet"
           }
          ],
          "scattergeo": [
           {
            "marker": {
             "colorbar": {
              "outlinewidth": 0,
              "ticks": ""
             }
            },
            "type": "scattergeo"
           }
          ],
          "scattergl": [
           {
            "marker": {
             "colorbar": {
              "outlinewidth": 0,
              "ticks": ""
             }
            },
            "type": "scattergl"
           }
          ],
          "scattermap": [
           {
            "marker": {
             "colorbar": {
              "outlinewidth": 0,
              "ticks": ""
             }
            },
            "type": "scattermap"
           }
          ],
          "scattermapbox": [
           {
            "marker": {
             "colorbar": {
              "outlinewidth": 0,
              "ticks": ""
             }
            },
            "type": "scattermapbox"
           }
          ],
          "scatterpolar": [
           {
            "marker": {
             "colorbar": {
              "outlinewidth": 0,
              "ticks": ""
             }
            },
            "type": "scatterpolar"
           }
          ],
          "scatterpolargl": [
           {
            "marker": {
             "colorbar": {
              "outlinewidth": 0,
              "ticks": ""
             }
            },
            "type": "scatterpolargl"
           }
          ],
          "scatterternary": [
           {
            "marker": {
             "colorbar": {
              "outlinewidth": 0,
              "ticks": ""
             }
            },
            "type": "scatterternary"
           }
          ],
          "surface": [
           {
            "colorbar": {
             "outlinewidth": 0,
             "ticks": ""
            },
            "colorscale": [
             [
              0,
              "#0d0887"
             ],
             [
              0.1111111111111111,
              "#46039f"
             ],
             [
              0.2222222222222222,
              "#7201a8"
             ],
             [
              0.3333333333333333,
              "#9c179e"
             ],
             [
              0.4444444444444444,
              "#bd3786"
             ],
             [
              0.5555555555555556,
              "#d8576b"
             ],
             [
              0.6666666666666666,
              "#ed7953"
             ],
             [
              0.7777777777777778,
              "#fb9f3a"
             ],
             [
              0.8888888888888888,
              "#fdca26"
             ],
             [
              1,
              "#f0f921"
             ]
            ],
            "type": "surface"
           }
          ],
          "table": [
           {
            "cells": {
             "fill": {
              "color": "#EBF0F8"
             },
             "line": {
              "color": "white"
             }
            },
            "header": {
             "fill": {
              "color": "#C8D4E3"
             },
             "line": {
              "color": "white"
             }
            },
            "type": "table"
           }
          ]
         },
         "layout": {
          "annotationdefaults": {
           "arrowcolor": "#2a3f5f",
           "arrowhead": 0,
           "arrowwidth": 1
          },
          "autotypenumbers": "strict",
          "coloraxis": {
           "colorbar": {
            "outlinewidth": 0,
            "ticks": ""
           }
          },
          "colorscale": {
           "diverging": [
            [
             0,
             "#8e0152"
            ],
            [
             0.1,
             "#c51b7d"
            ],
            [
             0.2,
             "#de77ae"
            ],
            [
             0.3,
             "#f1b6da"
            ],
            [
             0.4,
             "#fde0ef"
            ],
            [
             0.5,
             "#f7f7f7"
            ],
            [
             0.6,
             "#e6f5d0"
            ],
            [
             0.7,
             "#b8e186"
            ],
            [
             0.8,
             "#7fbc41"
            ],
            [
             0.9,
             "#4d9221"
            ],
            [
             1,
             "#276419"
            ]
           ],
           "sequential": [
            [
             0,
             "#0d0887"
            ],
            [
             0.1111111111111111,
             "#46039f"
            ],
            [
             0.2222222222222222,
             "#7201a8"
            ],
            [
             0.3333333333333333,
             "#9c179e"
            ],
            [
             0.4444444444444444,
             "#bd3786"
            ],
            [
             0.5555555555555556,
             "#d8576b"
            ],
            [
             0.6666666666666666,
             "#ed7953"
            ],
            [
             0.7777777777777778,
             "#fb9f3a"
            ],
            [
             0.8888888888888888,
             "#fdca26"
            ],
            [
             1,
             "#f0f921"
            ]
           ],
           "sequentialminus": [
            [
             0,
             "#0d0887"
            ],
            [
             0.1111111111111111,
             "#46039f"
            ],
            [
             0.2222222222222222,
             "#7201a8"
            ],
            [
             0.3333333333333333,
             "#9c179e"
            ],
            [
             0.4444444444444444,
             "#bd3786"
            ],
            [
             0.5555555555555556,
             "#d8576b"
            ],
            [
             0.6666666666666666,
             "#ed7953"
            ],
            [
             0.7777777777777778,
             "#fb9f3a"
            ],
            [
             0.8888888888888888,
             "#fdca26"
            ],
            [
             1,
             "#f0f921"
            ]
           ]
          },
          "colorway": [
           "#636efa",
           "#EF553B",
           "#00cc96",
           "#ab63fa",
           "#FFA15A",
           "#19d3f3",
           "#FF6692",
           "#B6E880",
           "#FF97FF",
           "#FECB52"
          ],
          "font": {
           "color": "#2a3f5f"
          },
          "geo": {
           "bgcolor": "white",
           "lakecolor": "white",
           "landcolor": "#E5ECF6",
           "showlakes": true,
           "showland": true,
           "subunitcolor": "white"
          },
          "hoverlabel": {
           "align": "left"
          },
          "hovermode": "closest",
          "mapbox": {
           "style": "light"
          },
          "paper_bgcolor": "white",
          "plot_bgcolor": "#E5ECF6",
          "polar": {
           "angularaxis": {
            "gridcolor": "white",
            "linecolor": "white",
            "ticks": ""
           },
           "bgcolor": "#E5ECF6",
           "radialaxis": {
            "gridcolor": "white",
            "linecolor": "white",
            "ticks": ""
           }
          },
          "scene": {
           "xaxis": {
            "backgroundcolor": "#E5ECF6",
            "gridcolor": "white",
            "gridwidth": 2,
            "linecolor": "white",
            "showbackground": true,
            "ticks": "",
            "zerolinecolor": "white"
           },
           "yaxis": {
            "backgroundcolor": "#E5ECF6",
            "gridcolor": "white",
            "gridwidth": 2,
            "linecolor": "white",
            "showbackground": true,
            "ticks": "",
            "zerolinecolor": "white"
           },
           "zaxis": {
            "backgroundcolor": "#E5ECF6",
            "gridcolor": "white",
            "gridwidth": 2,
            "linecolor": "white",
            "showbackground": true,
            "ticks": "",
            "zerolinecolor": "white"
           }
          },
          "shapedefaults": {
           "line": {
            "color": "#2a3f5f"
           }
          },
          "ternary": {
           "aaxis": {
            "gridcolor": "white",
            "linecolor": "white",
            "ticks": ""
           },
           "baxis": {
            "gridcolor": "white",
            "linecolor": "white",
            "ticks": ""
           },
           "bgcolor": "#E5ECF6",
           "caxis": {
            "gridcolor": "white",
            "linecolor": "white",
            "ticks": ""
           }
          },
          "title": {
           "x": 0.05
          },
          "xaxis": {
           "automargin": true,
           "gridcolor": "white",
           "linecolor": "white",
           "ticks": "",
           "title": {
            "standoff": 15
           },
           "zerolinecolor": "white",
           "zerolinewidth": 2
          },
          "yaxis": {
           "automargin": true,
           "gridcolor": "white",
           "linecolor": "white",
           "ticks": "",
           "title": {
            "standoff": 15
           },
           "zerolinecolor": "white",
           "zerolinewidth": 2
          }
         }
        },
        "title": {
         "text": "Correlation Matrix Heatmap (Interactive)"
        },
        "width": 900,
        "xaxis": {
         "anchor": "y",
         "domain": [
          0,
          1
         ],
         "title": {
          "text": "Features"
         }
        },
        "yaxis": {
         "anchor": "x",
         "autorange": "reversed",
         "domain": [
          0,
          1
         ],
         "title": {
          "text": "Features"
         }
        }
       }
      }
     },
     "metadata": {},
     "output_type": "display_data"
    }
   ],
   "source": [
    "import plotly.express as px  \n",
    "\n",
    "corr_long = corr_matrix.reset_index().melt(id_vars='index')  \n",
    "\n",
    "corr_long.columns = ['Feature 1', 'Feature 2', 'Correlation']  \n",
    "\n",
    "fig = px.imshow(\n",
    "    corr_matrix,                  \n",
    "    text_auto='.2f',              \n",
    "    aspect=\"auto\",                \n",
    "    color_continuous_scale='RdBu_r',  \n",
    "    zmin=-1, zmax=1,             \n",
    "    title=\"Correlation Matrix Heatmap (Interactive)\"  \n",
    ")\n",
    "\n",
    "\n",
    "fig.update_layout(\n",
    "    width=900,          \n",
    "    height=800,          \n",
    "    xaxis_title=\"Features\",  \n",
    "    yaxis_title=\"Features\"   \n",
    ")\n",
    "\n",
    "fig.show()"
   ]
  },
  {
   "cell_type": "markdown",
   "id": "a9f20205",
   "metadata": {},
   "source": [
    "# # Low Variance"
   ]
  },
  {
   "cell_type": "code",
   "execution_count": 20,
   "id": "29772cd6",
   "metadata": {},
   "outputs": [
    {
     "name": "stdout",
     "output_type": "stream",
     "text": [
      "\n",
      "Original shape: (2022, 19)\n",
      "Shape after dropping low-variance features: (2022, 19)\n"
     ]
    }
   ],
   "source": [
    "# Low Variance\n",
    "from sklearn.feature_selection import VarianceThreshold  \n",
    "threshold = 0.01  \n",
    "selector = VarianceThreshold(threshold=threshold)  \n",
    "selector.fit(df_filtered)  \n",
    "low_variance_features = df_filtered.columns[~selector.get_support()] \n",
    "df_low_variance_filtered = df_filtered.drop(columns=low_variance_features)  \n",
    "print(\"\\nOriginal shape:\", df_filtered.shape)  \n",
    "print(\"Shape after dropping low-variance features:\", df_low_variance_filtered.shape)  "
   ]
  },
  {
   "cell_type": "code",
   "execution_count": 21,
   "id": "e2fe1aff",
   "metadata": {},
   "outputs": [
    {
     "name": "stdout",
     "output_type": "stream",
     "text": [
      "Features with low variance (to drop): []\n"
     ]
    }
   ],
   "source": [
    "# Past variansli ustunlarni aniqlash:\n",
    "\n",
    "low_variance_features = df_filtered.columns[~selector.get_support()]\n",
    "print(\"Features with low variance (to drop):\", list(low_variance_features))"
   ]
  },
  {
   "cell_type": "code",
   "execution_count": null,
   "id": "973a4212",
   "metadata": {},
   "outputs": [
    {
     "data": {
      "application/vnd.plotly.v1+json": {
       "config": {
        "plotlyServerURL": "https://plot.ly"
       },
       "data": [
        {
         "hovertemplate": "LowVariance=No<br>Feature=%{x}<br>Variance=%{text}<extra></extra>",
         "legendgroup": "No",
         "marker": {
          "color": "blue",
          "pattern": {
           "shape": ""
          }
         },
         "name": "No",
         "orientation": "v",
         "showlegend": true,
         "text": {
          "bdata": "AAAAAC7OFEH16RXXBgLwP/XpFdcGAvA/9ukV1wYC8D/26RXXBgLwP/bpFdcGAvA/9ukV1wYC8D/16RXXBgLwP/bpFdcGAvA/9ekV1wYC8D/26RXXBgLwP/XpFdcGAvA/9ekV1wYC8D/16RXXBgLwP/fpFdcGAvA/lf9tWCt02UABnqfiR0naQJ3ImaqiH6FAtJ7U11Xk4D/26RXXBgLwP/bpFdcGAvA/",
          "dtype": "f8"
         },
         "textposition": "auto",
         "type": "bar",
         "x": [
          "Unnamed: 0.2",
          "Unnamed: 0.1",
          "Unnamed: 0",
          "name",
          "birth_date",
          "birth_place",
          "death_date",
          "death_place",
          "occupation",
          "awards",
          "alma_mater",
          "education",
          "spouse",
          "children",
          "occupation_cluster",
          "birth_year",
          "death_year",
          "life_span",
          "life_span_cluster",
          "edu_award_cluster",
          "bio_cluster"
         ],
         "xaxis": "x",
         "y": {
          "bdata": "AAAAAC7OFEH16RXXBgLwP/XpFdcGAvA/9ukV1wYC8D/26RXXBgLwP/bpFdcGAvA/9ukV1wYC8D/16RXXBgLwP/bpFdcGAvA/9ekV1wYC8D/26RXXBgLwP/XpFdcGAvA/9ekV1wYC8D/16RXXBgLwP/fpFdcGAvA/lf9tWCt02UABnqfiR0naQJ3ImaqiH6FAtJ7U11Xk4D/26RXXBgLwP/bpFdcGAvA/",
          "dtype": "f8"
         },
         "yaxis": "y"
        }
       ],
       "layout": {
        "barmode": "relative",
        "height": 600,
        "legend": {
         "title": {
          "text": "LowVariance"
         },
         "tracegroupgap": 0
        },
        "template": {
         "data": {
          "bar": [
           {
            "error_x": {
             "color": "#2a3f5f"
            },
            "error_y": {
             "color": "#2a3f5f"
            },
            "marker": {
             "line": {
              "color": "#E5ECF6",
              "width": 0.5
             },
             "pattern": {
              "fillmode": "overlay",
              "size": 10,
              "solidity": 0.2
             }
            },
            "type": "bar"
           }
          ],
          "barpolar": [
           {
            "marker": {
             "line": {
              "color": "#E5ECF6",
              "width": 0.5
             },
             "pattern": {
              "fillmode": "overlay",
              "size": 10,
              "solidity": 0.2
             }
            },
            "type": "barpolar"
           }
          ],
          "carpet": [
           {
            "aaxis": {
             "endlinecolor": "#2a3f5f",
             "gridcolor": "white",
             "linecolor": "white",
             "minorgridcolor": "white",
             "startlinecolor": "#2a3f5f"
            },
            "baxis": {
             "endlinecolor": "#2a3f5f",
             "gridcolor": "white",
             "linecolor": "white",
             "minorgridcolor": "white",
             "startlinecolor": "#2a3f5f"
            },
            "type": "carpet"
           }
          ],
          "choropleth": [
           {
            "colorbar": {
             "outlinewidth": 0,
             "ticks": ""
            },
            "type": "choropleth"
           }
          ],
          "contour": [
           {
            "colorbar": {
             "outlinewidth": 0,
             "ticks": ""
            },
            "colorscale": [
             [
              0,
              "#0d0887"
             ],
             [
              0.1111111111111111,
              "#46039f"
             ],
             [
              0.2222222222222222,
              "#7201a8"
             ],
             [
              0.3333333333333333,
              "#9c179e"
             ],
             [
              0.4444444444444444,
              "#bd3786"
             ],
             [
              0.5555555555555556,
              "#d8576b"
             ],
             [
              0.6666666666666666,
              "#ed7953"
             ],
             [
              0.7777777777777778,
              "#fb9f3a"
             ],
             [
              0.8888888888888888,
              "#fdca26"
             ],
             [
              1,
              "#f0f921"
             ]
            ],
            "type": "contour"
           }
          ],
          "contourcarpet": [
           {
            "colorbar": {
             "outlinewidth": 0,
             "ticks": ""
            },
            "type": "contourcarpet"
           }
          ],
          "heatmap": [
           {
            "colorbar": {
             "outlinewidth": 0,
             "ticks": ""
            },
            "colorscale": [
             [
              0,
              "#0d0887"
             ],
             [
              0.1111111111111111,
              "#46039f"
             ],
             [
              0.2222222222222222,
              "#7201a8"
             ],
             [
              0.3333333333333333,
              "#9c179e"
             ],
             [
              0.4444444444444444,
              "#bd3786"
             ],
             [
              0.5555555555555556,
              "#d8576b"
             ],
             [
              0.6666666666666666,
              "#ed7953"
             ],
             [
              0.7777777777777778,
              "#fb9f3a"
             ],
             [
              0.8888888888888888,
              "#fdca26"
             ],
             [
              1,
              "#f0f921"
             ]
            ],
            "type": "heatmap"
           }
          ],
          "histogram": [
           {
            "marker": {
             "pattern": {
              "fillmode": "overlay",
              "size": 10,
              "solidity": 0.2
             }
            },
            "type": "histogram"
           }
          ],
          "histogram2d": [
           {
            "colorbar": {
             "outlinewidth": 0,
             "ticks": ""
            },
            "colorscale": [
             [
              0,
              "#0d0887"
             ],
             [
              0.1111111111111111,
              "#46039f"
             ],
             [
              0.2222222222222222,
              "#7201a8"
             ],
             [
              0.3333333333333333,
              "#9c179e"
             ],
             [
              0.4444444444444444,
              "#bd3786"
             ],
             [
              0.5555555555555556,
              "#d8576b"
             ],
             [
              0.6666666666666666,
              "#ed7953"
             ],
             [
              0.7777777777777778,
              "#fb9f3a"
             ],
             [
              0.8888888888888888,
              "#fdca26"
             ],
             [
              1,
              "#f0f921"
             ]
            ],
            "type": "histogram2d"
           }
          ],
          "histogram2dcontour": [
           {
            "colorbar": {
             "outlinewidth": 0,
             "ticks": ""
            },
            "colorscale": [
             [
              0,
              "#0d0887"
             ],
             [
              0.1111111111111111,
              "#46039f"
             ],
             [
              0.2222222222222222,
              "#7201a8"
             ],
             [
              0.3333333333333333,
              "#9c179e"
             ],
             [
              0.4444444444444444,
              "#bd3786"
             ],
             [
              0.5555555555555556,
              "#d8576b"
             ],
             [
              0.6666666666666666,
              "#ed7953"
             ],
             [
              0.7777777777777778,
              "#fb9f3a"
             ],
             [
              0.8888888888888888,
              "#fdca26"
             ],
             [
              1,
              "#f0f921"
             ]
            ],
            "type": "histogram2dcontour"
           }
          ],
          "mesh3d": [
           {
            "colorbar": {
             "outlinewidth": 0,
             "ticks": ""
            },
            "type": "mesh3d"
           }
          ],
          "parcoords": [
           {
            "line": {
             "colorbar": {
              "outlinewidth": 0,
              "ticks": ""
             }
            },
            "type": "parcoords"
           }
          ],
          "pie": [
           {
            "automargin": true,
            "type": "pie"
           }
          ],
          "scatter": [
           {
            "fillpattern": {
             "fillmode": "overlay",
             "size": 10,
             "solidity": 0.2
            },
            "type": "scatter"
           }
          ],
          "scatter3d": [
           {
            "line": {
             "colorbar": {
              "outlinewidth": 0,
              "ticks": ""
             }
            },
            "marker": {
             "colorbar": {
              "outlinewidth": 0,
              "ticks": ""
             }
            },
            "type": "scatter3d"
           }
          ],
          "scattercarpet": [
           {
            "marker": {
             "colorbar": {
              "outlinewidth": 0,
              "ticks": ""
             }
            },
            "type": "scattercarpet"
           }
          ],
          "scattergeo": [
           {
            "marker": {
             "colorbar": {
              "outlinewidth": 0,
              "ticks": ""
             }
            },
            "type": "scattergeo"
           }
          ],
          "scattergl": [
           {
            "marker": {
             "colorbar": {
              "outlinewidth": 0,
              "ticks": ""
             }
            },
            "type": "scattergl"
           }
          ],
          "scattermap": [
           {
            "marker": {
             "colorbar": {
              "outlinewidth": 0,
              "ticks": ""
             }
            },
            "type": "scattermap"
           }
          ],
          "scattermapbox": [
           {
            "marker": {
             "colorbar": {
              "outlinewidth": 0,
              "ticks": ""
             }
            },
            "type": "scattermapbox"
           }
          ],
          "scatterpolar": [
           {
            "marker": {
             "colorbar": {
              "outlinewidth": 0,
              "ticks": ""
             }
            },
            "type": "scatterpolar"
           }
          ],
          "scatterpolargl": [
           {
            "marker": {
             "colorbar": {
              "outlinewidth": 0,
              "ticks": ""
             }
            },
            "type": "scatterpolargl"
           }
          ],
          "scatterternary": [
           {
            "marker": {
             "colorbar": {
              "outlinewidth": 0,
              "ticks": ""
             }
            },
            "type": "scatterternary"
           }
          ],
          "surface": [
           {
            "colorbar": {
             "outlinewidth": 0,
             "ticks": ""
            },
            "colorscale": [
             [
              0,
              "#0d0887"
             ],
             [
              0.1111111111111111,
              "#46039f"
             ],
             [
              0.2222222222222222,
              "#7201a8"
             ],
             [
              0.3333333333333333,
              "#9c179e"
             ],
             [
              0.4444444444444444,
              "#bd3786"
             ],
             [
              0.5555555555555556,
              "#d8576b"
             ],
             [
              0.6666666666666666,
              "#ed7953"
             ],
             [
              0.7777777777777778,
              "#fb9f3a"
             ],
             [
              0.8888888888888888,
              "#fdca26"
             ],
             [
              1,
              "#f0f921"
             ]
            ],
            "type": "surface"
           }
          ],
          "table": [
           {
            "cells": {
             "fill": {
              "color": "#EBF0F8"
             },
             "line": {
              "color": "white"
             }
            },
            "header": {
             "fill": {
              "color": "#C8D4E3"
             },
             "line": {
              "color": "white"
             }
            },
            "type": "table"
           }
          ]
         },
         "layout": {
          "annotationdefaults": {
           "arrowcolor": "#2a3f5f",
           "arrowhead": 0,
           "arrowwidth": 1
          },
          "autotypenumbers": "strict",
          "coloraxis": {
           "colorbar": {
            "outlinewidth": 0,
            "ticks": ""
           }
          },
          "colorscale": {
           "diverging": [
            [
             0,
             "#8e0152"
            ],
            [
             0.1,
             "#c51b7d"
            ],
            [
             0.2,
             "#de77ae"
            ],
            [
             0.3,
             "#f1b6da"
            ],
            [
             0.4,
             "#fde0ef"
            ],
            [
             0.5,
             "#f7f7f7"
            ],
            [
             0.6,
             "#e6f5d0"
            ],
            [
             0.7,
             "#b8e186"
            ],
            [
             0.8,
             "#7fbc41"
            ],
            [
             0.9,
             "#4d9221"
            ],
            [
             1,
             "#276419"
            ]
           ],
           "sequential": [
            [
             0,
             "#0d0887"
            ],
            [
             0.1111111111111111,
             "#46039f"
            ],
            [
             0.2222222222222222,
             "#7201a8"
            ],
            [
             0.3333333333333333,
             "#9c179e"
            ],
            [
             0.4444444444444444,
             "#bd3786"
            ],
            [
             0.5555555555555556,
             "#d8576b"
            ],
            [
             0.6666666666666666,
             "#ed7953"
            ],
            [
             0.7777777777777778,
             "#fb9f3a"
            ],
            [
             0.8888888888888888,
             "#fdca26"
            ],
            [
             1,
             "#f0f921"
            ]
           ],
           "sequentialminus": [
            [
             0,
             "#0d0887"
            ],
            [
             0.1111111111111111,
             "#46039f"
            ],
            [
             0.2222222222222222,
             "#7201a8"
            ],
            [
             0.3333333333333333,
             "#9c179e"
            ],
            [
             0.4444444444444444,
             "#bd3786"
            ],
            [
             0.5555555555555556,
             "#d8576b"
            ],
            [
             0.6666666666666666,
             "#ed7953"
            ],
            [
             0.7777777777777778,
             "#fb9f3a"
            ],
            [
             0.8888888888888888,
             "#fdca26"
            ],
            [
             1,
             "#f0f921"
            ]
           ]
          },
          "colorway": [
           "#636efa",
           "#EF553B",
           "#00cc96",
           "#ab63fa",
           "#FFA15A",
           "#19d3f3",
           "#FF6692",
           "#B6E880",
           "#FF97FF",
           "#FECB52"
          ],
          "font": {
           "color": "#2a3f5f"
          },
          "geo": {
           "bgcolor": "white",
           "lakecolor": "white",
           "landcolor": "#E5ECF6",
           "showlakes": true,
           "showland": true,
           "subunitcolor": "white"
          },
          "hoverlabel": {
           "align": "left"
          },
          "hovermode": "closest",
          "mapbox": {
           "style": "light"
          },
          "paper_bgcolor": "white",
          "plot_bgcolor": "#E5ECF6",
          "polar": {
           "angularaxis": {
            "gridcolor": "white",
            "linecolor": "white",
            "ticks": ""
           },
           "bgcolor": "#E5ECF6",
           "radialaxis": {
            "gridcolor": "white",
            "linecolor": "white",
            "ticks": ""
           }
          },
          "scene": {
           "xaxis": {
            "backgroundcolor": "#E5ECF6",
            "gridcolor": "white",
            "gridwidth": 2,
            "linecolor": "white",
            "showbackground": true,
            "ticks": "",
            "zerolinecolor": "white"
           },
           "yaxis": {
            "backgroundcolor": "#E5ECF6",
            "gridcolor": "white",
            "gridwidth": 2,
            "linecolor": "white",
            "showbackground": true,
            "ticks": "",
            "zerolinecolor": "white"
           },
           "zaxis": {
            "backgroundcolor": "#E5ECF6",
            "gridcolor": "white",
            "gridwidth": 2,
            "linecolor": "white",
            "showbackground": true,
            "ticks": "",
            "zerolinecolor": "white"
           }
          },
          "shapedefaults": {
           "line": {
            "color": "#2a3f5f"
           }
          },
          "ternary": {
           "aaxis": {
            "gridcolor": "white",
            "linecolor": "white",
            "ticks": ""
           },
           "baxis": {
            "gridcolor": "white",
            "linecolor": "white",
            "ticks": ""
           },
           "bgcolor": "#E5ECF6",
           "caxis": {
            "gridcolor": "white",
            "linecolor": "white",
            "ticks": ""
           }
          },
          "title": {
           "x": 0.05
          },
          "xaxis": {
           "automargin": true,
           "gridcolor": "white",
           "linecolor": "white",
           "ticks": "",
           "title": {
            "standoff": 15
           },
           "zerolinecolor": "white",
           "zerolinewidth": 2
          },
          "yaxis": {
           "automargin": true,
           "gridcolor": "white",
           "linecolor": "white",
           "ticks": "",
           "title": {
            "standoff": 15
           },
           "zerolinecolor": "white",
           "zerolinewidth": 2
          }
         }
        },
        "title": {
         "text": "Feature Variance (Low-Variance Highlighted in Red)"
        },
        "width": 1000,
        "xaxis": {
         "anchor": "y",
         "domain": [
          0,
          1
         ],
         "tickangle": -45,
         "title": {
          "text": "Feature"
         }
        },
        "yaxis": {
         "anchor": "x",
         "domain": [
          0,
          1
         ],
         "title": {
          "text": "Variance"
         }
        }
       }
      }
     },
     "metadata": {},
     "output_type": "display_data"
    }
   ],
   "source": [
    "numeric_cols = df.select_dtypes(include=[np.number]).columns\n",
    "variances = df[numeric_cols].var()\n",
    "threshold = 0.01\n",
    "low_variance_features = variances[variances < threshold].index.tolist()\n",
    "var_df = pd.DataFrame({\n",
    "    'Feature': variances.index,\n",
    "    'Variance': variances.values,\n",
    "    'LowVariance': ['Yes' if f in low_variance_features else 'No' for f in variances.index]\n",
    "})\n",
    "\n",
    "\n",
    "fig = px.bar(\n",
    "    var_df,\n",
    "    x='Feature',        \n",
    "    y='Variance',       \n",
    "    color='LowVariance',  \n",
    "    color_discrete_map={'Yes': 'red', 'No': 'blue'},  \n",
    "    text='Variance',    \n",
    "    title='Feature Variance (Low-Variance Highlighted in Red)'  \n",
    ")\n",
    "\n",
    "\n",
    "fig.update_layout(\n",
    "    xaxis_tickangle=-45,\n",
    "    width=1000,\n",
    "    height=600\n",
    ")\n",
    "\n",
    "fig.show()"
   ]
  },
  {
   "cell_type": "code",
   "execution_count": 23,
   "id": "7e56b5db",
   "metadata": {},
   "outputs": [
    {
     "name": "stdout",
     "output_type": "stream",
     "text": [
      "<class 'pandas.core.frame.DataFrame'>\n",
      "RangeIndex: 2022 entries, 0 to 2021\n",
      "Data columns (total 19 columns):\n",
      " #   Column              Non-Null Count  Dtype  \n",
      "---  ------              --------------  -----  \n",
      " 0   Unnamed: 0.2        2022 non-null   int64  \n",
      " 1   name                2022 non-null   float64\n",
      " 2   birth_date          2022 non-null   float64\n",
      " 3   birth_place         2022 non-null   float64\n",
      " 4   death_date          2022 non-null   float64\n",
      " 5   death_place         2022 non-null   float64\n",
      " 6   occupation          2022 non-null   float64\n",
      " 7   awards              2022 non-null   float64\n",
      " 8   alma_mater          2022 non-null   float64\n",
      " 9   education           2022 non-null   float64\n",
      " 10  spouse              2022 non-null   float64\n",
      " 11  children            2022 non-null   float64\n",
      " 12  occupation_cluster  2022 non-null   float64\n",
      " 13  birth_year          2022 non-null   float64\n",
      " 14  death_year          2022 non-null   float64\n",
      " 15  life_span           2022 non-null   float64\n",
      " 16  life_span_cluster   2022 non-null   float64\n",
      " 17  edu_award_cluster   2022 non-null   float64\n",
      " 18  bio_cluster         2022 non-null   float64\n",
      "dtypes: float64(18), int64(1)\n",
      "memory usage: 300.3 KB\n"
     ]
    }
   ],
   "source": [
    "df_filtered.info()"
   ]
  },
  {
   "cell_type": "code",
   "execution_count": 24,
   "id": "9fe506be",
   "metadata": {},
   "outputs": [],
   "source": [
    "df_filtered.to_csv(r\"C:\\Users\\Rasulbek907\\Desktop\\Final_Project\\Data\\Feature_selection\\Filtered_Features.csv\")"
   ]
  },
  {
   "cell_type": "markdown",
   "id": "bb37f364",
   "metadata": {},
   "source": [
    "# Feature Selection Wrapper "
   ]
  },
  {
   "cell_type": "markdown",
   "id": "1d1d5596",
   "metadata": {},
   "source": [
    " # RFE + Linear Regression"
   ]
  },
  {
   "cell_type": "code",
   "execution_count": 25,
   "id": "f6c62327",
   "metadata": {},
   "outputs": [],
   "source": [
    "from sklearn.feature_selection import RFE\n",
    "from sklearn.linear_model import LinearRegression\n",
    "\n",
    "X = df.drop('life_span', axis=1)\n",
    "y = df['life_span']"
   ]
  },
  {
   "cell_type": "code",
   "execution_count": 26,
   "id": "ab67ebca",
   "metadata": {},
   "outputs": [
    {
     "name": "stdout",
     "output_type": "stream",
     "text": [
      "Selected features: Index(['Unnamed: 0.2', 'Unnamed: 0.1', 'Unnamed: 0', 'name', 'birth_date',\n",
      "       'birth_place', 'death_date', 'death_place', 'occupation', 'awards',\n",
      "       'alma_mater', 'education', 'spouse', 'children', 'occupation_cluster',\n",
      "       'birth_year', 'death_year', 'life_span_cluster', 'edu_award_cluster',\n",
      "       'bio_cluster'],\n",
      "      dtype='object')\n"
     ]
    }
   ],
   "source": [
    "# Oddiy chiziqli regressiya modelini yaratamiz (bu model RFE uchun asos bo'ladi)\n",
    "model = LinearRegression()\n",
    "rfe = RFE(model, n_features_to_select=20)\n",
    "rfe.fit(X, y)\n",
    "selected_features = X.columns[rfe.support_]\n",
    "print(\"Selected features:\", selected_features)"
   ]
  },
  {
   "cell_type": "markdown",
   "id": "ada7a1df",
   "metadata": {},
   "source": [
    "# RFE + RandomForestRegressor"
   ]
  },
  {
   "cell_type": "code",
   "execution_count": 35,
   "id": "8a74d56e",
   "metadata": {},
   "outputs": [
    {
     "name": "stdout",
     "output_type": "stream",
     "text": [
      "Selected features (RandomForest): Index(['Unnamed: 0.2', 'Unnamed: 0.1', 'Unnamed: 0', 'name', 'birth_date',\n",
      "       'birth_place', 'death_date', 'death_place', 'occupation', 'awards',\n",
      "       'alma_mater', 'education', 'spouse', 'children', 'occupation_cluster',\n",
      "       'birth_year', 'death_year', 'life_span_cluster', 'edu_award_cluster',\n",
      "       'bio_cluster'],\n",
      "      dtype='object')\n"
     ]
    }
   ],
   "source": [
    "from sklearn.ensemble import RandomForestRegressor\n",
    "from sklearn.feature_selection import RFE\n",
    "\n",
    "model = RandomForestRegressor()\n",
    "rfe = RFE(model, n_features_to_select=20)\n",
    "rfe.fit(X, y)\n",
    "\n",
    "selected_features = X.columns[rfe.support_]\n",
    "print(\"Selected features (RandomForest):\", selected_features)\n"
   ]
  },
  {
   "cell_type": "markdown",
   "id": "3dbdb770",
   "metadata": {},
   "source": [
    "# RFE + Decision Tree Regressor "
   ]
  },
  {
   "cell_type": "code",
   "execution_count": 34,
   "id": "b9e17a59",
   "metadata": {},
   "outputs": [
    {
     "name": "stdout",
     "output_type": "stream",
     "text": [
      "Selected features (DecisionTree): Index(['Unnamed: 0.2', 'Unnamed: 0.1', 'Unnamed: 0', 'name', 'birth_date',\n",
      "       'birth_place', 'death_date', 'death_place', 'occupation', 'awards',\n",
      "       'alma_mater', 'education', 'spouse', 'children', 'occupation_cluster',\n",
      "       'birth_year', 'death_year', 'life_span_cluster', 'edu_award_cluster',\n",
      "       'bio_cluster'],\n",
      "      dtype='object')\n"
     ]
    }
   ],
   "source": [
    "from sklearn.tree import DecisionTreeRegressor\n",
    "\n",
    "model = DecisionTreeRegressor()\n",
    "rfe = RFE(model, n_features_to_select=20)\n",
    "rfe.fit(X, y)\n",
    "\n",
    "selected_features = X.columns[rfe.support_]\n",
    "print(\"Selected features (DecisionTree):\", selected_features)\n"
   ]
  },
  {
   "cell_type": "code",
   "execution_count": null,
   "id": "5a40b665",
   "metadata": {},
   "outputs": [
    {
     "name": "stdout",
     "output_type": "stream",
     "text": [
      "               Model  Selected Features Count\n",
      "0  Linear Regression                       20\n",
      "1      Random Forest                       20\n",
      "2      Decision Tree                       20\n"
     ]
    }
   ],
   "source": [
    "import pandas as pd\n",
    "from sklearn.feature_selection import RFE\n",
    "from sklearn.linear_model import LinearRegression\n",
    "from sklearn.ensemble import RandomForestRegressor\n",
    "from sklearn.tree import DecisionTreeRegressor\n",
    "from sklearn.svm import SVR\n",
    "\n",
    "# Model va ustun sonlarini saqlash uchun bo'sh ro'yxat\n",
    "models = {\n",
    "    \"Linear Regression\": LinearRegression(),\n",
    "    \"Random Forest\": RandomForestRegressor(),\n",
    "    \"Decision Tree\": DecisionTreeRegressor()    \n",
    "}\n",
    "\n",
    "results = []\n",
    "\n",
    "# X va y aniq ekanligini faraz qilamiz\n",
    "for name, model in models.items():\n",
    "    rfe = RFE(model, n_features_to_select=20)  # 20 ta ustun tanlaymiz misol uchun\n",
    "    rfe.fit(X, y)\n",
    "    selected_count = sum(rfe.support_)\n",
    "    results.append({'Model': name, 'Selected Features Count': selected_count})\n",
    "\n",
    "# Natijalarni DataFrame ko'rinishida chiqaramiz\n",
    "results_df = pd.DataFrame(results)\n",
    "print(results_df)\n"
   ]
  },
  {
   "cell_type": "code",
   "execution_count": 36,
   "id": "b93e41ed",
   "metadata": {},
   "outputs": [
    {
     "name": "stdout",
     "output_type": "stream",
     "text": [
      "Tanlangan ustunlar C:\\Users\\Rasulbek907\\Desktop\\Final_Project\\Data\\Feature_selection\\Wrapper.csv ga saqlandi.\n"
     ]
    }
   ],
   "source": [
    "import pandas as pd\n",
    "from sklearn.feature_selection import RFE\n",
    "from sklearn.linear_model import LinearRegression\n",
    "import os\n",
    "\n",
    "X = df.drop('life_span', axis=1)\n",
    "y = df['life_span']\n",
    "\n",
    "model = LinearRegression()\n",
    "rfe = RFE(model, n_features_to_select=20)\n",
    "rfe.fit(X, y)\n",
    "\n",
    "selected_features = X.columns[rfe.support_]\n",
    "\n",
    "# Tanlangan ustunlarni DataFrame ga aylantirish\n",
    "selected_df = pd.DataFrame(selected_features, columns=['Selected Features'])\n",
    "\n",
    "# Saqlash uchun yo'l\n",
    "save_path = r\"C:\\Users\\Rasulbek907\\Desktop\\Final_Project\\Data\\Feature_selection\"\n",
    "os.makedirs(save_path, exist_ok=True)  # Agar papka mavjud bo'lmasa, yaratadi\n",
    "\n",
    "# To'liq fayl nomi\n",
    "file_path = os.path.join(save_path, \"Wrapper.csv\")\n",
    "\n",
    "# CSV ga saqlash\n",
    "selected_df.to_csv(file_path, index=False)\n",
    "\n",
    "print(f\"Tanlangan ustunlar {file_path} ga saqlandi.\")\n"
   ]
  },
  {
   "cell_type": "markdown",
   "id": "52c33a82",
   "metadata": {},
   "source": [
    "# Feature Selection Embedded + Lasso CV"
   ]
  },
  {
   "cell_type": "code",
   "execution_count": 38,
   "id": "754684b1",
   "metadata": {},
   "outputs": [
    {
     "name": "stdout",
     "output_type": "stream",
     "text": [
      "Selected features using Lasso (non-zero coefficients):\n",
      "['Unnamed: 0.2', 'birth_place', 'death_date', 'death_place', 'birth_year', 'death_year']\n"
     ]
    }
   ],
   "source": [
    "# Xususiyat tanlash uchun Linear Model'larda ishlatiladigan usul (LASSO regression)\n",
    "\n",
    "# LassoCV (L1-regularizatsiya) ni import qilamiz\n",
    "# CV - cross-validation, u model uchun optimal alpha (regulyarizatsiya kuchi) tanlab beradi\n",
    "from sklearn.linear_model import LassoCV\n",
    "X = df.drop('life_span', axis=1)\n",
    "y = df['life_span']\n",
    "lasso = LassoCV(cv=10, random_state=42).fit(X, y)\n",
    "importance = np.abs(lasso.coef_)\n",
    "selected_features = X.columns[importance > 0]\n",
    "print(\"Selected features using Lasso (non-zero coefficients):\")\n",
    "print(selected_features.tolist())"
   ]
  },
  {
   "cell_type": "code",
   "execution_count": null,
   "id": "dd3c9995",
   "metadata": {},
   "outputs": [
    {
     "name": "stdout",
     "output_type": "stream",
     "text": [
      "\n",
      "Top 25% important features based on Lasso coefficients:\n",
      "['death_date', 'death_place']\n"
     ]
    }
   ],
   "source": [
    "# Faqat muhim featurelarni saqlab qolish\n",
    "percentile_threshold = np.percentile(importance, 90) \n",
    "top_features = X.columns[importance >= percentile_threshold]\n",
    "print(\"\\nTop 25% important features based on Lasso coefficients:\")\n",
    "print(top_features.tolist())"
   ]
  },
  {
   "cell_type": "code",
   "execution_count": 42,
   "id": "e7835fb9",
   "metadata": {},
   "outputs": [
    {
     "name": "stdout",
     "output_type": "stream",
     "text": [
      "Feature Importance Table:\n",
      "               Feature  Importance Top15%\n",
      "7          death_place    5.816658    Yes\n",
      "6           death_date    5.063122    Yes\n",
      "5          birth_place    0.376687    Yes\n",
      "16          death_year    0.162529     No\n",
      "15          birth_year    0.141664     No\n",
      "0         Unnamed: 0.2    0.004554     No\n",
      "1         Unnamed: 0.1    0.000000     No\n",
      "2           Unnamed: 0    0.000000     No\n",
      "3                 name    0.000000     No\n",
      "9               awards    0.000000     No\n",
      "8           occupation    0.000000     No\n",
      "4           birth_date    0.000000     No\n",
      "11           education    0.000000     No\n",
      "10          alma_mater    0.000000     No\n",
      "13            children    0.000000     No\n",
      "12              spouse    0.000000     No\n",
      "14  occupation_cluster    0.000000     No\n",
      "17   life_span_cluster    0.000000     No\n",
      "18   edu_award_cluster    0.000000     No\n",
      "19         bio_cluster    0.000000     No\n"
     ]
    }
   ],
   "source": [
    "# Feature importance'ni jadval shaklida tayyorlash\n",
    "\n",
    "feat_df = pd.DataFrame({\n",
    "    'Feature': X.columns,\n",
    "    'Importance': importance\n",
    "})\n",
    "\n",
    "# Importance qiymatlariga qarab kamayish tartibida (eng muhimdan kam muhimga qarab) saralaymiz\n",
    "feat_df = feat_df.sort_values(by='Importance', ascending=False)\n",
    "percentile_threshold = np.percentile(importance, 85)\n",
    "feat_df['Top15%'] = np.where(feat_df['Importance'] >= percentile_threshold, 'Yes', 'No')\n",
    "print(\"Feature Importance Table:\")\n",
    "print(feat_df)"
   ]
  },
  {
   "cell_type": "code",
   "execution_count": 44,
   "id": "b40f8a14",
   "metadata": {},
   "outputs": [
    {
     "data": {
      "application/vnd.plotly.v1+json": {
       "config": {
        "plotlyServerURL": "https://plot.ly"
       },
       "data": [
        {
         "hovertemplate": "Top15%=Yes<br>Feature=%{x}<br>Importance=%{text}<extra></extra>",
         "legendgroup": "Yes",
         "marker": {
          "color": "red",
          "pattern": {
           "shape": ""
          }
         },
         "name": "Yes",
         "orientation": "v",
         "showlegend": true,
         "text": {
          "bdata": "7LtF7UFEF0AdugH5okAUQAfAKNqhG9g/",
          "dtype": "f8"
         },
         "textposition": "auto",
         "type": "bar",
         "x": [
          "death_place",
          "death_date",
          "birth_place"
         ],
         "xaxis": "x",
         "y": {
          "bdata": "7LtF7UFEF0AdugH5okAUQAfAKNqhG9g/",
          "dtype": "f8"
         },
         "yaxis": "y"
        },
        {
         "hovertemplate": "Top15%=No<br>Feature=%{x}<br>Importance=%{text}<extra></extra>",
         "legendgroup": "No",
         "marker": {
          "color": "blue",
          "pattern": {
           "shape": ""
          }
         },
         "name": "No",
         "orientation": "v",
         "showlegend": true,
         "text": {
          "bdata": "LnJeer/NxD+UeOYWDiLCP+pzLcE8p3I/AAAAAAAAAAAAAAAAAAAAAAAAAAAAAAAAAAAAAAAAAAAAAAAAAAAAAAAAAAAAAAAAAAAAAAAAAAAAAAAAAAAAAAAAAAAAAAAAAAAAAAAAAAAAAAAAAAAAAAAAAAAAAAAAAAAAAAAAAAAAAAAAAAAAAA==",
          "dtype": "f8"
         },
         "textposition": "auto",
         "type": "bar",
         "x": [
          "death_year",
          "birth_year",
          "Unnamed: 0.2",
          "Unnamed: 0.1",
          "Unnamed: 0",
          "name",
          "awards",
          "occupation",
          "birth_date",
          "education",
          "alma_mater",
          "children",
          "spouse",
          "occupation_cluster",
          "life_span_cluster",
          "edu_award_cluster",
          "bio_cluster"
         ],
         "xaxis": "x",
         "y": {
          "bdata": "LnJeer/NxD+UeOYWDiLCP+pzLcE8p3I/AAAAAAAAAAAAAAAAAAAAAAAAAAAAAAAAAAAAAAAAAAAAAAAAAAAAAAAAAAAAAAAAAAAAAAAAAAAAAAAAAAAAAAAAAAAAAAAAAAAAAAAAAAAAAAAAAAAAAAAAAAAAAAAAAAAAAAAAAAAAAAAAAAAAAA==",
          "dtype": "f8"
         },
         "yaxis": "y"
        }
       ],
       "layout": {
        "barmode": "relative",
        "height": 600,
        "legend": {
         "title": {
          "text": "Top15%"
         },
         "tracegroupgap": 0
        },
        "template": {
         "data": {
          "bar": [
           {
            "error_x": {
             "color": "#2a3f5f"
            },
            "error_y": {
             "color": "#2a3f5f"
            },
            "marker": {
             "line": {
              "color": "#E5ECF6",
              "width": 0.5
             },
             "pattern": {
              "fillmode": "overlay",
              "size": 10,
              "solidity": 0.2
             }
            },
            "type": "bar"
           }
          ],
          "barpolar": [
           {
            "marker": {
             "line": {
              "color": "#E5ECF6",
              "width": 0.5
             },
             "pattern": {
              "fillmode": "overlay",
              "size": 10,
              "solidity": 0.2
             }
            },
            "type": "barpolar"
           }
          ],
          "carpet": [
           {
            "aaxis": {
             "endlinecolor": "#2a3f5f",
             "gridcolor": "white",
             "linecolor": "white",
             "minorgridcolor": "white",
             "startlinecolor": "#2a3f5f"
            },
            "baxis": {
             "endlinecolor": "#2a3f5f",
             "gridcolor": "white",
             "linecolor": "white",
             "minorgridcolor": "white",
             "startlinecolor": "#2a3f5f"
            },
            "type": "carpet"
           }
          ],
          "choropleth": [
           {
            "colorbar": {
             "outlinewidth": 0,
             "ticks": ""
            },
            "type": "choropleth"
           }
          ],
          "contour": [
           {
            "colorbar": {
             "outlinewidth": 0,
             "ticks": ""
            },
            "colorscale": [
             [
              0,
              "#0d0887"
             ],
             [
              0.1111111111111111,
              "#46039f"
             ],
             [
              0.2222222222222222,
              "#7201a8"
             ],
             [
              0.3333333333333333,
              "#9c179e"
             ],
             [
              0.4444444444444444,
              "#bd3786"
             ],
             [
              0.5555555555555556,
              "#d8576b"
             ],
             [
              0.6666666666666666,
              "#ed7953"
             ],
             [
              0.7777777777777778,
              "#fb9f3a"
             ],
             [
              0.8888888888888888,
              "#fdca26"
             ],
             [
              1,
              "#f0f921"
             ]
            ],
            "type": "contour"
           }
          ],
          "contourcarpet": [
           {
            "colorbar": {
             "outlinewidth": 0,
             "ticks": ""
            },
            "type": "contourcarpet"
           }
          ],
          "heatmap": [
           {
            "colorbar": {
             "outlinewidth": 0,
             "ticks": ""
            },
            "colorscale": [
             [
              0,
              "#0d0887"
             ],
             [
              0.1111111111111111,
              "#46039f"
             ],
             [
              0.2222222222222222,
              "#7201a8"
             ],
             [
              0.3333333333333333,
              "#9c179e"
             ],
             [
              0.4444444444444444,
              "#bd3786"
             ],
             [
              0.5555555555555556,
              "#d8576b"
             ],
             [
              0.6666666666666666,
              "#ed7953"
             ],
             [
              0.7777777777777778,
              "#fb9f3a"
             ],
             [
              0.8888888888888888,
              "#fdca26"
             ],
             [
              1,
              "#f0f921"
             ]
            ],
            "type": "heatmap"
           }
          ],
          "histogram": [
           {
            "marker": {
             "pattern": {
              "fillmode": "overlay",
              "size": 10,
              "solidity": 0.2
             }
            },
            "type": "histogram"
           }
          ],
          "histogram2d": [
           {
            "colorbar": {
             "outlinewidth": 0,
             "ticks": ""
            },
            "colorscale": [
             [
              0,
              "#0d0887"
             ],
             [
              0.1111111111111111,
              "#46039f"
             ],
             [
              0.2222222222222222,
              "#7201a8"
             ],
             [
              0.3333333333333333,
              "#9c179e"
             ],
             [
              0.4444444444444444,
              "#bd3786"
             ],
             [
              0.5555555555555556,
              "#d8576b"
             ],
             [
              0.6666666666666666,
              "#ed7953"
             ],
             [
              0.7777777777777778,
              "#fb9f3a"
             ],
             [
              0.8888888888888888,
              "#fdca26"
             ],
             [
              1,
              "#f0f921"
             ]
            ],
            "type": "histogram2d"
           }
          ],
          "histogram2dcontour": [
           {
            "colorbar": {
             "outlinewidth": 0,
             "ticks": ""
            },
            "colorscale": [
             [
              0,
              "#0d0887"
             ],
             [
              0.1111111111111111,
              "#46039f"
             ],
             [
              0.2222222222222222,
              "#7201a8"
             ],
             [
              0.3333333333333333,
              "#9c179e"
             ],
             [
              0.4444444444444444,
              "#bd3786"
             ],
             [
              0.5555555555555556,
              "#d8576b"
             ],
             [
              0.6666666666666666,
              "#ed7953"
             ],
             [
              0.7777777777777778,
              "#fb9f3a"
             ],
             [
              0.8888888888888888,
              "#fdca26"
             ],
             [
              1,
              "#f0f921"
             ]
            ],
            "type": "histogram2dcontour"
           }
          ],
          "mesh3d": [
           {
            "colorbar": {
             "outlinewidth": 0,
             "ticks": ""
            },
            "type": "mesh3d"
           }
          ],
          "parcoords": [
           {
            "line": {
             "colorbar": {
              "outlinewidth": 0,
              "ticks": ""
             }
            },
            "type": "parcoords"
           }
          ],
          "pie": [
           {
            "automargin": true,
            "type": "pie"
           }
          ],
          "scatter": [
           {
            "fillpattern": {
             "fillmode": "overlay",
             "size": 10,
             "solidity": 0.2
            },
            "type": "scatter"
           }
          ],
          "scatter3d": [
           {
            "line": {
             "colorbar": {
              "outlinewidth": 0,
              "ticks": ""
             }
            },
            "marker": {
             "colorbar": {
              "outlinewidth": 0,
              "ticks": ""
             }
            },
            "type": "scatter3d"
           }
          ],
          "scattercarpet": [
           {
            "marker": {
             "colorbar": {
              "outlinewidth": 0,
              "ticks": ""
             }
            },
            "type": "scattercarpet"
           }
          ],
          "scattergeo": [
           {
            "marker": {
             "colorbar": {
              "outlinewidth": 0,
              "ticks": ""
             }
            },
            "type": "scattergeo"
           }
          ],
          "scattergl": [
           {
            "marker": {
             "colorbar": {
              "outlinewidth": 0,
              "ticks": ""
             }
            },
            "type": "scattergl"
           }
          ],
          "scattermap": [
           {
            "marker": {
             "colorbar": {
              "outlinewidth": 0,
              "ticks": ""
             }
            },
            "type": "scattermap"
           }
          ],
          "scattermapbox": [
           {
            "marker": {
             "colorbar": {
              "outlinewidth": 0,
              "ticks": ""
             }
            },
            "type": "scattermapbox"
           }
          ],
          "scatterpolar": [
           {
            "marker": {
             "colorbar": {
              "outlinewidth": 0,
              "ticks": ""
             }
            },
            "type": "scatterpolar"
           }
          ],
          "scatterpolargl": [
           {
            "marker": {
             "colorbar": {
              "outlinewidth": 0,
              "ticks": ""
             }
            },
            "type": "scatterpolargl"
           }
          ],
          "scatterternary": [
           {
            "marker": {
             "colorbar": {
              "outlinewidth": 0,
              "ticks": ""
             }
            },
            "type": "scatterternary"
           }
          ],
          "surface": [
           {
            "colorbar": {
             "outlinewidth": 0,
             "ticks": ""
            },
            "colorscale": [
             [
              0,
              "#0d0887"
             ],
             [
              0.1111111111111111,
              "#46039f"
             ],
             [
              0.2222222222222222,
              "#7201a8"
             ],
             [
              0.3333333333333333,
              "#9c179e"
             ],
             [
              0.4444444444444444,
              "#bd3786"
             ],
             [
              0.5555555555555556,
              "#d8576b"
             ],
             [
              0.6666666666666666,
              "#ed7953"
             ],
             [
              0.7777777777777778,
              "#fb9f3a"
             ],
             [
              0.8888888888888888,
              "#fdca26"
             ],
             [
              1,
              "#f0f921"
             ]
            ],
            "type": "surface"
           }
          ],
          "table": [
           {
            "cells": {
             "fill": {
              "color": "#EBF0F8"
             },
             "line": {
              "color": "white"
             }
            },
            "header": {
             "fill": {
              "color": "#C8D4E3"
             },
             "line": {
              "color": "white"
             }
            },
            "type": "table"
           }
          ]
         },
         "layout": {
          "annotationdefaults": {
           "arrowcolor": "#2a3f5f",
           "arrowhead": 0,
           "arrowwidth": 1
          },
          "autotypenumbers": "strict",
          "coloraxis": {
           "colorbar": {
            "outlinewidth": 0,
            "ticks": ""
           }
          },
          "colorscale": {
           "diverging": [
            [
             0,
             "#8e0152"
            ],
            [
             0.1,
             "#c51b7d"
            ],
            [
             0.2,
             "#de77ae"
            ],
            [
             0.3,
             "#f1b6da"
            ],
            [
             0.4,
             "#fde0ef"
            ],
            [
             0.5,
             "#f7f7f7"
            ],
            [
             0.6,
             "#e6f5d0"
            ],
            [
             0.7,
             "#b8e186"
            ],
            [
             0.8,
             "#7fbc41"
            ],
            [
             0.9,
             "#4d9221"
            ],
            [
             1,
             "#276419"
            ]
           ],
           "sequential": [
            [
             0,
             "#0d0887"
            ],
            [
             0.1111111111111111,
             "#46039f"
            ],
            [
             0.2222222222222222,
             "#7201a8"
            ],
            [
             0.3333333333333333,
             "#9c179e"
            ],
            [
             0.4444444444444444,
             "#bd3786"
            ],
            [
             0.5555555555555556,
             "#d8576b"
            ],
            [
             0.6666666666666666,
             "#ed7953"
            ],
            [
             0.7777777777777778,
             "#fb9f3a"
            ],
            [
             0.8888888888888888,
             "#fdca26"
            ],
            [
             1,
             "#f0f921"
            ]
           ],
           "sequentialminus": [
            [
             0,
             "#0d0887"
            ],
            [
             0.1111111111111111,
             "#46039f"
            ],
            [
             0.2222222222222222,
             "#7201a8"
            ],
            [
             0.3333333333333333,
             "#9c179e"
            ],
            [
             0.4444444444444444,
             "#bd3786"
            ],
            [
             0.5555555555555556,
             "#d8576b"
            ],
            [
             0.6666666666666666,
             "#ed7953"
            ],
            [
             0.7777777777777778,
             "#fb9f3a"
            ],
            [
             0.8888888888888888,
             "#fdca26"
            ],
            [
             1,
             "#f0f921"
            ]
           ]
          },
          "colorway": [
           "#636efa",
           "#EF553B",
           "#00cc96",
           "#ab63fa",
           "#FFA15A",
           "#19d3f3",
           "#FF6692",
           "#B6E880",
           "#FF97FF",
           "#FECB52"
          ],
          "font": {
           "color": "#2a3f5f"
          },
          "geo": {
           "bgcolor": "white",
           "lakecolor": "white",
           "landcolor": "#E5ECF6",
           "showlakes": true,
           "showland": true,
           "subunitcolor": "white"
          },
          "hoverlabel": {
           "align": "left"
          },
          "hovermode": "closest",
          "mapbox": {
           "style": "light"
          },
          "paper_bgcolor": "white",
          "plot_bgcolor": "#E5ECF6",
          "polar": {
           "angularaxis": {
            "gridcolor": "white",
            "linecolor": "white",
            "ticks": ""
           },
           "bgcolor": "#E5ECF6",
           "radialaxis": {
            "gridcolor": "white",
            "linecolor": "white",
            "ticks": ""
           }
          },
          "scene": {
           "xaxis": {
            "backgroundcolor": "#E5ECF6",
            "gridcolor": "white",
            "gridwidth": 2,
            "linecolor": "white",
            "showbackground": true,
            "ticks": "",
            "zerolinecolor": "white"
           },
           "yaxis": {
            "backgroundcolor": "#E5ECF6",
            "gridcolor": "white",
            "gridwidth": 2,
            "linecolor": "white",
            "showbackground": true,
            "ticks": "",
            "zerolinecolor": "white"
           },
           "zaxis": {
            "backgroundcolor": "#E5ECF6",
            "gridcolor": "white",
            "gridwidth": 2,
            "linecolor": "white",
            "showbackground": true,
            "ticks": "",
            "zerolinecolor": "white"
           }
          },
          "shapedefaults": {
           "line": {
            "color": "#2a3f5f"
           }
          },
          "ternary": {
           "aaxis": {
            "gridcolor": "white",
            "linecolor": "white",
            "ticks": ""
           },
           "baxis": {
            "gridcolor": "white",
            "linecolor": "white",
            "ticks": ""
           },
           "bgcolor": "#E5ECF6",
           "caxis": {
            "gridcolor": "white",
            "linecolor": "white",
            "ticks": ""
           }
          },
          "title": {
           "x": 0.05
          },
          "xaxis": {
           "automargin": true,
           "gridcolor": "white",
           "linecolor": "white",
           "ticks": "",
           "title": {
            "standoff": 15
           },
           "zerolinecolor": "white",
           "zerolinewidth": 2
          },
          "yaxis": {
           "automargin": true,
           "gridcolor": "white",
           "linecolor": "white",
           "ticks": "",
           "title": {
            "standoff": 15
           },
           "zerolinecolor": "white",
           "zerolinewidth": 2
          }
         }
        },
        "title": {
         "text": "Lasso Feature Importance"
        },
        "width": 1000,
        "xaxis": {
         "anchor": "y",
         "domain": [
          0,
          1
         ],
         "tickangle": -45,
         "title": {
          "text": "Feature"
         }
        },
        "yaxis": {
         "anchor": "x",
         "domain": [
          0,
          1
         ],
         "title": {
          "text": "Importance"
         }
        }
       }
      }
     },
     "metadata": {},
     "output_type": "display_data"
    }
   ],
   "source": [
    "fig = px.bar(\n",
    "    feat_df,                \n",
    "    x='Feature',            \n",
    "    y='Importance',         \n",
    "    color='Top15%',         \n",
    "    color_discrete_map={'Yes': 'red', 'No': 'blue'},  \n",
    "    text='Importance',      \n",
    "    title='Lasso Feature Importance'  \n",
    ")\n",
    "\n",
    "\n",
    "fig.update_layout(\n",
    "    xaxis_tickangle=-45,  \n",
    "    width=1000,           \n",
    "    height=600            \n",
    ")\n",
    "\n",
    "fig.show()"
   ]
  },
  {
   "cell_type": "markdown",
   "id": "49bf732c",
   "metadata": {},
   "source": [
    "# # Feature Selection Embedded + Random Forest Regression "
   ]
  },
  {
   "cell_type": "code",
   "execution_count": null,
   "id": "c023b212",
   "metadata": {},
   "outputs": [
    {
     "name": "stdout",
     "output_type": "stream",
     "text": [
      "Random Forest Feature Importance Table:\n",
      "               Feature  Importance Top15%\n",
      "15          birth_year    0.452131    Yes\n",
      "16          death_year    0.267030    Yes\n",
      "17   life_span_cluster    0.085718    Yes\n",
      "7          death_place    0.066270     No\n",
      "3                 name    0.037985     No\n",
      "6           death_date    0.022813     No\n",
      "5          birth_place    0.012972     No\n",
      "4           birth_date    0.010566     No\n",
      "19         bio_cluster    0.009892     No\n",
      "8           occupation    0.008784     No\n",
      "2           Unnamed: 0    0.005703     No\n",
      "1         Unnamed: 0.1    0.005494     No\n",
      "0         Unnamed: 0.2    0.004796     No\n",
      "12              spouse    0.003833     No\n",
      "10          alma_mater    0.002834     No\n",
      "13            children    0.001082     No\n",
      "18   edu_award_cluster    0.000789     No\n",
      "11           education    0.000482     No\n",
      "14  occupation_cluster    0.000434     No\n",
      "9               awards    0.000390     No\n"
     ]
    }
   ],
   "source": [
    "# --- Tree based (Random Forest) Feature Importance ---\n",
    "\n",
    "# Random Forest Regressorni import qilamiz\n",
    "from sklearn.ensemble import RandomForestRegressor\n",
    "\n",
    "rf = RandomForestRegressor(n_estimators=500, random_state=42)\n",
    "\n",
    "rf.fit(X, y)\n",
    "\n",
    "importances = rf.feature_importances_\n",
    "feat_df = pd.DataFrame({\n",
    "    'Feature': X.columns,       \n",
    "    'Importance': importances   \n",
    "})\n",
    "feat_df = feat_df.sort_values(by='Importance', ascending=False)\n",
    "percentile_threshold = np.percentile(importances, 85)\n",
    "feat_df['Top15%'] = np.where(feat_df['Importance'] >= percentile_threshold, 'Yes', 'No')\n",
    "print(\"Random Forest Feature Importance Table:\")\n",
    "print(feat_df)"
   ]
  },
  {
   "cell_type": "code",
   "execution_count": null,
   "id": "fdc9e042",
   "metadata": {},
   "outputs": [
    {
     "data": {
      "application/vnd.plotly.v1+json": {
       "config": {
        "plotlyServerURL": "https://plot.ly"
       },
       "data": [
        {
         "hovertemplate": "Top15%=Yes<br>Feature=%{x}<br>Importance=%{text}<extra></extra>",
         "legendgroup": "Yes",
         "marker": {
          "color": "red",
          "pattern": {
           "shape": ""
          }
         },
         "name": "Yes",
         "orientation": "v",
         "showlegend": true,
         "text": {
          "bdata": "wYNU+7fv3D8qS/okBRfRP7NRhQaa8bU/",
          "dtype": "f8"
         },
         "textposition": "auto",
         "type": "bar",
         "x": [
          "birth_year",
          "death_year",
          "life_span_cluster"
         ],
         "xaxis": "x",
         "y": {
          "bdata": "wYNU+7fv3D8qS/okBRfRP7NRhQaa8bU/",
          "dtype": "f8"
         },
         "yaxis": "y"
        },
        {
         "hovertemplate": "Top15%=No<br>Feature=%{x}<br>Importance=%{text}<extra></extra>",
         "legendgroup": "No",
         "marker": {
          "color": "blue",
          "pattern": {
           "shape": ""
          }
         },
         "name": "No",
         "orientation": "v",
         "showlegend": true,
         "text": {
          "bdata": "FJHV/Rn3sD9TyMCx0HKjP0034HBMXJc/SbO1jN2Qij/jmdBf2qOFP/kSrD5xQoQ/saNZtkP9gT/6Oymuqlt3P4j7sYQVgXY/EiSZtjilcz/b8rhKKmdvP3lCNymON2c/EHRu7oS6UT86ZNBZT95JP7KtANpEjz8/artOZ4VxPD+isn06mpE5Pw==",
          "dtype": "f8"
         },
         "textposition": "auto",
         "type": "bar",
         "x": [
          "death_place",
          "name",
          "death_date",
          "birth_place",
          "birth_date",
          "bio_cluster",
          "occupation",
          "Unnamed: 0",
          "Unnamed: 0.1",
          "Unnamed: 0.2",
          "spouse",
          "alma_mater",
          "children",
          "edu_award_cluster",
          "education",
          "occupation_cluster",
          "awards"
         ],
         "xaxis": "x",
         "y": {
          "bdata": "FJHV/Rn3sD9TyMCx0HKjP0034HBMXJc/SbO1jN2Qij/jmdBf2qOFP/kSrD5xQoQ/saNZtkP9gT/6Oymuqlt3P4j7sYQVgXY/EiSZtjilcz/b8rhKKmdvP3lCNymON2c/EHRu7oS6UT86ZNBZT95JP7KtANpEjz8/artOZ4VxPD+isn06mpE5Pw==",
          "dtype": "f8"
         },
         "yaxis": "y"
        }
       ],
       "layout": {
        "barmode": "relative",
        "height": 600,
        "legend": {
         "title": {
          "text": "Top15%"
         },
         "tracegroupgap": 0
        },
        "template": {
         "data": {
          "bar": [
           {
            "error_x": {
             "color": "#2a3f5f"
            },
            "error_y": {
             "color": "#2a3f5f"
            },
            "marker": {
             "line": {
              "color": "#E5ECF6",
              "width": 0.5
             },
             "pattern": {
              "fillmode": "overlay",
              "size": 10,
              "solidity": 0.2
             }
            },
            "type": "bar"
           }
          ],
          "barpolar": [
           {
            "marker": {
             "line": {
              "color": "#E5ECF6",
              "width": 0.5
             },
             "pattern": {
              "fillmode": "overlay",
              "size": 10,
              "solidity": 0.2
             }
            },
            "type": "barpolar"
           }
          ],
          "carpet": [
           {
            "aaxis": {
             "endlinecolor": "#2a3f5f",
             "gridcolor": "white",
             "linecolor": "white",
             "minorgridcolor": "white",
             "startlinecolor": "#2a3f5f"
            },
            "baxis": {
             "endlinecolor": "#2a3f5f",
             "gridcolor": "white",
             "linecolor": "white",
             "minorgridcolor": "white",
             "startlinecolor": "#2a3f5f"
            },
            "type": "carpet"
           }
          ],
          "choropleth": [
           {
            "colorbar": {
             "outlinewidth": 0,
             "ticks": ""
            },
            "type": "choropleth"
           }
          ],
          "contour": [
           {
            "colorbar": {
             "outlinewidth": 0,
             "ticks": ""
            },
            "colorscale": [
             [
              0,
              "#0d0887"
             ],
             [
              0.1111111111111111,
              "#46039f"
             ],
             [
              0.2222222222222222,
              "#7201a8"
             ],
             [
              0.3333333333333333,
              "#9c179e"
             ],
             [
              0.4444444444444444,
              "#bd3786"
             ],
             [
              0.5555555555555556,
              "#d8576b"
             ],
             [
              0.6666666666666666,
              "#ed7953"
             ],
             [
              0.7777777777777778,
              "#fb9f3a"
             ],
             [
              0.8888888888888888,
              "#fdca26"
             ],
             [
              1,
              "#f0f921"
             ]
            ],
            "type": "contour"
           }
          ],
          "contourcarpet": [
           {
            "colorbar": {
             "outlinewidth": 0,
             "ticks": ""
            },
            "type": "contourcarpet"
           }
          ],
          "heatmap": [
           {
            "colorbar": {
             "outlinewidth": 0,
             "ticks": ""
            },
            "colorscale": [
             [
              0,
              "#0d0887"
             ],
             [
              0.1111111111111111,
              "#46039f"
             ],
             [
              0.2222222222222222,
              "#7201a8"
             ],
             [
              0.3333333333333333,
              "#9c179e"
             ],
             [
              0.4444444444444444,
              "#bd3786"
             ],
             [
              0.5555555555555556,
              "#d8576b"
             ],
             [
              0.6666666666666666,
              "#ed7953"
             ],
             [
              0.7777777777777778,
              "#fb9f3a"
             ],
             [
              0.8888888888888888,
              "#fdca26"
             ],
             [
              1,
              "#f0f921"
             ]
            ],
            "type": "heatmap"
           }
          ],
          "histogram": [
           {
            "marker": {
             "pattern": {
              "fillmode": "overlay",
              "size": 10,
              "solidity": 0.2
             }
            },
            "type": "histogram"
           }
          ],
          "histogram2d": [
           {
            "colorbar": {
             "outlinewidth": 0,
             "ticks": ""
            },
            "colorscale": [
             [
              0,
              "#0d0887"
             ],
             [
              0.1111111111111111,
              "#46039f"
             ],
             [
              0.2222222222222222,
              "#7201a8"
             ],
             [
              0.3333333333333333,
              "#9c179e"
             ],
             [
              0.4444444444444444,
              "#bd3786"
             ],
             [
              0.5555555555555556,
              "#d8576b"
             ],
             [
              0.6666666666666666,
              "#ed7953"
             ],
             [
              0.7777777777777778,
              "#fb9f3a"
             ],
             [
              0.8888888888888888,
              "#fdca26"
             ],
             [
              1,
              "#f0f921"
             ]
            ],
            "type": "histogram2d"
           }
          ],
          "histogram2dcontour": [
           {
            "colorbar": {
             "outlinewidth": 0,
             "ticks": ""
            },
            "colorscale": [
             [
              0,
              "#0d0887"
             ],
             [
              0.1111111111111111,
              "#46039f"
             ],
             [
              0.2222222222222222,
              "#7201a8"
             ],
             [
              0.3333333333333333,
              "#9c179e"
             ],
             [
              0.4444444444444444,
              "#bd3786"
             ],
             [
              0.5555555555555556,
              "#d8576b"
             ],
             [
              0.6666666666666666,
              "#ed7953"
             ],
             [
              0.7777777777777778,
              "#fb9f3a"
             ],
             [
              0.8888888888888888,
              "#fdca26"
             ],
             [
              1,
              "#f0f921"
             ]
            ],
            "type": "histogram2dcontour"
           }
          ],
          "mesh3d": [
           {
            "colorbar": {
             "outlinewidth": 0,
             "ticks": ""
            },
            "type": "mesh3d"
           }
          ],
          "parcoords": [
           {
            "line": {
             "colorbar": {
              "outlinewidth": 0,
              "ticks": ""
             }
            },
            "type": "parcoords"
           }
          ],
          "pie": [
           {
            "automargin": true,
            "type": "pie"
           }
          ],
          "scatter": [
           {
            "fillpattern": {
             "fillmode": "overlay",
             "size": 10,
             "solidity": 0.2
            },
            "type": "scatter"
           }
          ],
          "scatter3d": [
           {
            "line": {
             "colorbar": {
              "outlinewidth": 0,
              "ticks": ""
             }
            },
            "marker": {
             "colorbar": {
              "outlinewidth": 0,
              "ticks": ""
             }
            },
            "type": "scatter3d"
           }
          ],
          "scattercarpet": [
           {
            "marker": {
             "colorbar": {
              "outlinewidth": 0,
              "ticks": ""
             }
            },
            "type": "scattercarpet"
           }
          ],
          "scattergeo": [
           {
            "marker": {
             "colorbar": {
              "outlinewidth": 0,
              "ticks": ""
             }
            },
            "type": "scattergeo"
           }
          ],
          "scattergl": [
           {
            "marker": {
             "colorbar": {
              "outlinewidth": 0,
              "ticks": ""
             }
            },
            "type": "scattergl"
           }
          ],
          "scattermap": [
           {
            "marker": {
             "colorbar": {
              "outlinewidth": 0,
              "ticks": ""
             }
            },
            "type": "scattermap"
           }
          ],
          "scattermapbox": [
           {
            "marker": {
             "colorbar": {
              "outlinewidth": 0,
              "ticks": ""
             }
            },
            "type": "scattermapbox"
           }
          ],
          "scatterpolar": [
           {
            "marker": {
             "colorbar": {
              "outlinewidth": 0,
              "ticks": ""
             }
            },
            "type": "scatterpolar"
           }
          ],
          "scatterpolargl": [
           {
            "marker": {
             "colorbar": {
              "outlinewidth": 0,
              "ticks": ""
             }
            },
            "type": "scatterpolargl"
           }
          ],
          "scatterternary": [
           {
            "marker": {
             "colorbar": {
              "outlinewidth": 0,
              "ticks": ""
             }
            },
            "type": "scatterternary"
           }
          ],
          "surface": [
           {
            "colorbar": {
             "outlinewidth": 0,
             "ticks": ""
            },
            "colorscale": [
             [
              0,
              "#0d0887"
             ],
             [
              0.1111111111111111,
              "#46039f"
             ],
             [
              0.2222222222222222,
              "#7201a8"
             ],
             [
              0.3333333333333333,
              "#9c179e"
             ],
             [
              0.4444444444444444,
              "#bd3786"
             ],
             [
              0.5555555555555556,
              "#d8576b"
             ],
             [
              0.6666666666666666,
              "#ed7953"
             ],
             [
              0.7777777777777778,
              "#fb9f3a"
             ],
             [
              0.8888888888888888,
              "#fdca26"
             ],
             [
              1,
              "#f0f921"
             ]
            ],
            "type": "surface"
           }
          ],
          "table": [
           {
            "cells": {
             "fill": {
              "color": "#EBF0F8"
             },
             "line": {
              "color": "white"
             }
            },
            "header": {
             "fill": {
              "color": "#C8D4E3"
             },
             "line": {
              "color": "white"
             }
            },
            "type": "table"
           }
          ]
         },
         "layout": {
          "annotationdefaults": {
           "arrowcolor": "#2a3f5f",
           "arrowhead": 0,
           "arrowwidth": 1
          },
          "autotypenumbers": "strict",
          "coloraxis": {
           "colorbar": {
            "outlinewidth": 0,
            "ticks": ""
           }
          },
          "colorscale": {
           "diverging": [
            [
             0,
             "#8e0152"
            ],
            [
             0.1,
             "#c51b7d"
            ],
            [
             0.2,
             "#de77ae"
            ],
            [
             0.3,
             "#f1b6da"
            ],
            [
             0.4,
             "#fde0ef"
            ],
            [
             0.5,
             "#f7f7f7"
            ],
            [
             0.6,
             "#e6f5d0"
            ],
            [
             0.7,
             "#b8e186"
            ],
            [
             0.8,
             "#7fbc41"
            ],
            [
             0.9,
             "#4d9221"
            ],
            [
             1,
             "#276419"
            ]
           ],
           "sequential": [
            [
             0,
             "#0d0887"
            ],
            [
             0.1111111111111111,
             "#46039f"
            ],
            [
             0.2222222222222222,
             "#7201a8"
            ],
            [
             0.3333333333333333,
             "#9c179e"
            ],
            [
             0.4444444444444444,
             "#bd3786"
            ],
            [
             0.5555555555555556,
             "#d8576b"
            ],
            [
             0.6666666666666666,
             "#ed7953"
            ],
            [
             0.7777777777777778,
             "#fb9f3a"
            ],
            [
             0.8888888888888888,
             "#fdca26"
            ],
            [
             1,
             "#f0f921"
            ]
           ],
           "sequentialminus": [
            [
             0,
             "#0d0887"
            ],
            [
             0.1111111111111111,
             "#46039f"
            ],
            [
             0.2222222222222222,
             "#7201a8"
            ],
            [
             0.3333333333333333,
             "#9c179e"
            ],
            [
             0.4444444444444444,
             "#bd3786"
            ],
            [
             0.5555555555555556,
             "#d8576b"
            ],
            [
             0.6666666666666666,
             "#ed7953"
            ],
            [
             0.7777777777777778,
             "#fb9f3a"
            ],
            [
             0.8888888888888888,
             "#fdca26"
            ],
            [
             1,
             "#f0f921"
            ]
           ]
          },
          "colorway": [
           "#636efa",
           "#EF553B",
           "#00cc96",
           "#ab63fa",
           "#FFA15A",
           "#19d3f3",
           "#FF6692",
           "#B6E880",
           "#FF97FF",
           "#FECB52"
          ],
          "font": {
           "color": "#2a3f5f"
          },
          "geo": {
           "bgcolor": "white",
           "lakecolor": "white",
           "landcolor": "#E5ECF6",
           "showlakes": true,
           "showland": true,
           "subunitcolor": "white"
          },
          "hoverlabel": {
           "align": "left"
          },
          "hovermode": "closest",
          "mapbox": {
           "style": "light"
          },
          "paper_bgcolor": "white",
          "plot_bgcolor": "#E5ECF6",
          "polar": {
           "angularaxis": {
            "gridcolor": "white",
            "linecolor": "white",
            "ticks": ""
           },
           "bgcolor": "#E5ECF6",
           "radialaxis": {
            "gridcolor": "white",
            "linecolor": "white",
            "ticks": ""
           }
          },
          "scene": {
           "xaxis": {
            "backgroundcolor": "#E5ECF6",
            "gridcolor": "white",
            "gridwidth": 2,
            "linecolor": "white",
            "showbackground": true,
            "ticks": "",
            "zerolinecolor": "white"
           },
           "yaxis": {
            "backgroundcolor": "#E5ECF6",
            "gridcolor": "white",
            "gridwidth": 2,
            "linecolor": "white",
            "showbackground": true,
            "ticks": "",
            "zerolinecolor": "white"
           },
           "zaxis": {
            "backgroundcolor": "#E5ECF6",
            "gridcolor": "white",
            "gridwidth": 2,
            "linecolor": "white",
            "showbackground": true,
            "ticks": "",
            "zerolinecolor": "white"
           }
          },
          "shapedefaults": {
           "line": {
            "color": "#2a3f5f"
           }
          },
          "ternary": {
           "aaxis": {
            "gridcolor": "white",
            "linecolor": "white",
            "ticks": ""
           },
           "baxis": {
            "gridcolor": "white",
            "linecolor": "white",
            "ticks": ""
           },
           "bgcolor": "#E5ECF6",
           "caxis": {
            "gridcolor": "white",
            "linecolor": "white",
            "ticks": ""
           }
          },
          "title": {
           "x": 0.05
          },
          "xaxis": {
           "automargin": true,
           "gridcolor": "white",
           "linecolor": "white",
           "ticks": "",
           "title": {
            "standoff": 15
           },
           "zerolinecolor": "white",
           "zerolinewidth": 2
          },
          "yaxis": {
           "automargin": true,
           "gridcolor": "white",
           "linecolor": "white",
           "ticks": "",
           "title": {
            "standoff": 15
           },
           "zerolinecolor": "white",
           "zerolinewidth": 2
          }
         }
        },
        "title": {
         "text": "Random Forest Feature Importance"
        },
        "width": 1000,
        "xaxis": {
         "anchor": "y",
         "domain": [
          0,
          1
         ],
         "tickangle": -45,
         "title": {
          "text": "Feature"
         }
        },
        "yaxis": {
         "anchor": "x",
         "domain": [
          0,
          1
         ],
         "title": {
          "text": "Importance"
         }
        }
       }
      }
     },
     "metadata": {},
     "output_type": "display_data"
    }
   ],
   "source": [
    "# Plotly Express yordamida Random Forest feature importance'ni grafik ko'rinishida chiqaramiz\n",
    "fig = px.bar(\n",
    "    feat_df,                \n",
    "    x='Feature',            \n",
    "    y='Importance',         \n",
    "    color='Top15%',         \n",
    "    color_discrete_map={'Yes': 'red', 'No': 'blue'},  \n",
    "    text='Importance',      \n",
    "    title='Random Forest Feature Importance'  \n",
    ")\n",
    "\n",
    "\n",
    "fig.update_layout(\n",
    "    xaxis_tickangle=-45,  \n",
    "    width=1000,           \n",
    "    height=600            \n",
    ")\n",
    "\n",
    "fig.show()"
   ]
  },
  {
   "cell_type": "code",
   "execution_count": 48,
   "id": "5230a5b2",
   "metadata": {},
   "outputs": [
    {
     "name": "stdout",
     "output_type": "stream",
     "text": [
      "Selected features using Lasso (non-zero coefficients):\n",
      "['Unnamed: 0.2', 'birth_place', 'death_date', 'death_place', 'birth_year', 'death_year']\n",
      "\n",
      "Top 10% important features based on Lasso coefficients:\n",
      "['death_date', 'death_place']\n",
      "Feature Importance Table:\n",
      "               Feature  Importance Top15%\n",
      "7          death_place    5.816658    Yes\n",
      "6           death_date    5.063122    Yes\n",
      "5          birth_place    0.376687     No\n",
      "16          death_year    0.162529     No\n",
      "15          birth_year    0.141664     No\n",
      "0         Unnamed: 0.2    0.004554     No\n",
      "1         Unnamed: 0.1    0.000000     No\n",
      "2           Unnamed: 0    0.000000     No\n",
      "3                 name    0.000000     No\n",
      "9               awards    0.000000     No\n",
      "8           occupation    0.000000     No\n",
      "4           birth_date    0.000000     No\n",
      "11           education    0.000000     No\n",
      "10          alma_mater    0.000000     No\n",
      "13            children    0.000000     No\n",
      "12              spouse    0.000000     No\n",
      "14  occupation_cluster    0.000000     No\n",
      "17   life_span_cluster    0.000000     No\n",
      "18   edu_award_cluster    0.000000     No\n",
      "19         bio_cluster    0.000000     No\n",
      "\n",
      "Tanlangan ustunlar C:\\Users\\Rasulbek907\\Desktop\\Final_Project\\Data\\Feature_selection\\Lasso_Selected_Features.csv ga saqlandi.\n",
      "Feature importance jadvali C:\\Users\\Rasulbek907\\Desktop\\Final_Project\\Data\\Feature_selection\\Lasso_Feature_Importance.csv ga saqlandi.\n"
     ]
    }
   ],
   "source": [
    "import numpy as np\n",
    "import pandas as pd\n",
    "from sklearn.linear_model import LassoCV\n",
    "import os\n",
    "\n",
    "X = df.drop('life_span', axis=1)\n",
    "y = df['life_span']\n",
    "\n",
    "# LassoCV modeli\n",
    "lasso = LassoCV(cv=10, random_state=42).fit(X, y)\n",
    "\n",
    "# Importance qiymatlari (koeffitsientlarning mutlaq qiymati)\n",
    "importance = np.abs(lasso.coef_)\n",
    "\n",
    "# Nolga teng bo'lmagan koeffitsientlar bo'yicha tanlangan ustunlar\n",
    "selected_features = X.columns[importance > 0]\n",
    "\n",
    "print(\"Selected features using Lasso (non-zero coefficients):\")\n",
    "print(selected_features.tolist())\n",
    "\n",
    "# Top 25% muhim ustunlar (percentile orqali)\n",
    "percentile_threshold = np.percentile(importance, 90)\n",
    "top_features = X.columns[importance >= percentile_threshold]\n",
    "\n",
    "print(\"\\nTop 10% important features based on Lasso coefficients:\")\n",
    "print(top_features.tolist())\n",
    "\n",
    "# Feature importance jadvali yaratish\n",
    "feat_df = pd.DataFrame({\n",
    "    'Feature': X.columns,\n",
    "    'Importance': importance\n",
    "})\n",
    "\n",
    "# Muqaddaslik bo'yicha kamayish tartibida saralash\n",
    "feat_df = feat_df.sort_values(by='Importance', ascending=False)\n",
    "\n",
    "# 85 foizlik percentile chegarasini belgilash\n",
    "percentile_threshold_85 = np.percentile(importance, 90)\n",
    "feat_df['Top15%'] = np.where(feat_df['Importance'] >= percentile_threshold_85, 'Yes', 'No')\n",
    "\n",
    "print(\"Feature Importance Table:\")\n",
    "print(feat_df)\n",
    "\n",
    "# CSV saqlash uchun papka yaratish (agar mavjud bo'lmasa)\n",
    "save_path = r\"C:\\Users\\Rasulbek907\\Desktop\\Final_Project\\Data\\Feature_selection\"\n",
    "os.makedirs(save_path, exist_ok=True)\n",
    "\n",
    "# Fayl nomlari\n",
    "selected_file = os.path.join(save_path, \"Lasso_Selected_Features.csv\")\n",
    "importance_file = os.path.join(save_path, \"Lasso_Feature_Importance.csv\")\n",
    "\n",
    "# Tanlangan ustunlarni CSV ga saqlash\n",
    "pd.DataFrame(selected_features, columns=['Selected Features']).to_csv(selected_file, index=False)\n",
    "\n",
    "# Importance jadvalini CSV ga saqlash\n",
    "feat_df.to_csv(importance_file, index=False)\n",
    "\n",
    "print(f\"\\nTanlangan ustunlar {selected_file} ga saqlandi.\")\n",
    "print(f\"Feature importance jadvali {importance_file} ga saqlandi.\")\n"
   ]
  },
  {
   "cell_type": "code",
   "execution_count": null,
   "id": "50aaa941",
   "metadata": {},
   "outputs": [],
   "source": []
  }
 ],
 "metadata": {
  "kernelspec": {
   "display_name": "myvenv",
   "language": "python",
   "name": "python3"
  },
  "language_info": {
   "codemirror_mode": {
    "name": "ipython",
    "version": 3
   },
   "file_extension": ".py",
   "mimetype": "text/x-python",
   "name": "python",
   "nbconvert_exporter": "python",
   "pygments_lexer": "ipython3",
   "version": "3.13.7"
  }
 },
 "nbformat": 4,
 "nbformat_minor": 5
}
