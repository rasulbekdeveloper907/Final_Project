{
 "cells": [
  {
   "cell_type": "code",
   "execution_count": 14,
   "id": "6f485ff6",
   "metadata": {},
   "outputs": [],
   "source": [
    "import pandas as pd\n",
    "import logging\n",
    "\n",
    "# Log fayl manzili\n",
    "log_path = r\"C:\\Users\\Rasulbek907\\Desktop\\Final_Project\\Log\\training.log\"\n",
    "\n",
    "# Log sozlamalari\n",
    "logging.basicConfig(\n",
    "    filename=log_path,\n",
    "    filemode='a',  # Append mode\n",
    "    format='%(asctime)s - %(levelname)s - %(message)s',\n",
    "    level=logging.INFO\n",
    ")\n",
    "\n",
    "try:\n",
    "    logging.info(\"CSV fayl o'qilmoqda:...\")\n",
    "    df = pd.read_csv(r\"C:\\Users\\Rasulbek907\\Desktop\\Final_Project\\Data\\Feature_selection\\Filtered_Features.csv\")\n",
    "    logging.info(f\"Fayl muvaffaqiyatli o'qildi. Satırlar soni: {len(df)} ustunlar soni: {len(df.columns)}\")\n",
    "except Exception as e:\n",
    "    logging.error(f\"CSV faylni o'qishda xatolik: {e}\")"
   ]
  },
  {
   "cell_type": "code",
   "execution_count": 15,
   "id": "062543f4",
   "metadata": {},
   "outputs": [
    {
     "data": {
      "text/html": [
       "<div>\n",
       "<style scoped>\n",
       "    .dataframe tbody tr th:only-of-type {\n",
       "        vertical-align: middle;\n",
       "    }\n",
       "\n",
       "    .dataframe tbody tr th {\n",
       "        vertical-align: top;\n",
       "    }\n",
       "\n",
       "    .dataframe thead th {\n",
       "        text-align: right;\n",
       "    }\n",
       "</style>\n",
       "<table border=\"1\" class=\"dataframe\">\n",
       "  <thead>\n",
       "    <tr style=\"text-align: right;\">\n",
       "      <th></th>\n",
       "      <th>Unnamed: 0</th>\n",
       "      <th>Unnamed: 0.2</th>\n",
       "      <th>name</th>\n",
       "      <th>birth_date</th>\n",
       "      <th>birth_place</th>\n",
       "      <th>death_date</th>\n",
       "      <th>death_place</th>\n",
       "      <th>occupation</th>\n",
       "      <th>awards</th>\n",
       "      <th>alma_mater</th>\n",
       "      <th>education</th>\n",
       "      <th>spouse</th>\n",
       "      <th>children</th>\n",
       "      <th>occupation_cluster</th>\n",
       "      <th>birth_year</th>\n",
       "      <th>death_year</th>\n",
       "      <th>life_span</th>\n",
       "      <th>life_span_cluster</th>\n",
       "      <th>edu_award_cluster</th>\n",
       "      <th>bio_cluster</th>\n",
       "    </tr>\n",
       "  </thead>\n",
       "  <tbody>\n",
       "    <tr>\n",
       "      <th>0</th>\n",
       "      <td>0</td>\n",
       "      <td>0</td>\n",
       "      <td>-0.291212</td>\n",
       "      <td>-0.327866</td>\n",
       "      <td>1.812300</td>\n",
       "      <td>0.087552</td>\n",
       "      <td>0.863551</td>\n",
       "      <td>-0.513085</td>\n",
       "      <td>-0.028915</td>\n",
       "      <td>-0.279288</td>\n",
       "      <td>-0.743137</td>\n",
       "      <td>0.472636</td>\n",
       "      <td>-0.408171</td>\n",
       "      <td>-0.628548</td>\n",
       "      <td>1643.0</td>\n",
       "      <td>1727.0</td>\n",
       "      <td>84.0</td>\n",
       "      <td>2.0</td>\n",
       "      <td>1.272170</td>\n",
       "      <td>0.101081</td>\n",
       "    </tr>\n",
       "    <tr>\n",
       "      <th>1</th>\n",
       "      <td>1</td>\n",
       "      <td>1</td>\n",
       "      <td>0.318741</td>\n",
       "      <td>1.533003</td>\n",
       "      <td>1.601048</td>\n",
       "      <td>1.914421</td>\n",
       "      <td>1.470586</td>\n",
       "      <td>-0.513085</td>\n",
       "      <td>0.391234</td>\n",
       "      <td>2.474455</td>\n",
       "      <td>0.171651</td>\n",
       "      <td>0.472636</td>\n",
       "      <td>-0.408171</td>\n",
       "      <td>-0.628548</td>\n",
       "      <td>1867.0</td>\n",
       "      <td>1934.0</td>\n",
       "      <td>67.0</td>\n",
       "      <td>2.0</td>\n",
       "      <td>-0.573778</td>\n",
       "      <td>-0.867573</td>\n",
       "    </tr>\n",
       "    <tr>\n",
       "      <th>2</th>\n",
       "      <td>2</td>\n",
       "      <td>2</td>\n",
       "      <td>-1.611324</td>\n",
       "      <td>-0.390376</td>\n",
       "      <td>1.503151</td>\n",
       "      <td>0.013399</td>\n",
       "      <td>1.563185</td>\n",
       "      <td>-0.513085</td>\n",
       "      <td>0.391234</td>\n",
       "      <td>-0.279288</td>\n",
       "      <td>0.171651</td>\n",
       "      <td>0.472636</td>\n",
       "      <td>2.971872</td>\n",
       "      <td>-0.628548</td>\n",
       "      <td>1879.0</td>\n",
       "      <td>1955.0</td>\n",
       "      <td>76.0</td>\n",
       "      <td>2.0</td>\n",
       "      <td>-0.573778</td>\n",
       "      <td>-0.867573</td>\n",
       "    </tr>\n",
       "    <tr>\n",
       "      <th>3</th>\n",
       "      <td>3</td>\n",
       "      <td>3</td>\n",
       "      <td>1.251097</td>\n",
       "      <td>1.508961</td>\n",
       "      <td>-1.304951</td>\n",
       "      <td>1.880715</td>\n",
       "      <td>1.131058</td>\n",
       "      <td>-0.513085</td>\n",
       "      <td>0.391234</td>\n",
       "      <td>-0.279288</td>\n",
       "      <td>0.171651</td>\n",
       "      <td>0.382327</td>\n",
       "      <td>3.464111</td>\n",
       "      <td>-0.628548</td>\n",
       "      <td>1815.0</td>\n",
       "      <td>1852.0</td>\n",
       "      <td>37.0</td>\n",
       "      <td>2.0</td>\n",
       "      <td>-0.573778</td>\n",
       "      <td>-0.867573</td>\n",
       "    </tr>\n",
       "    <tr>\n",
       "      <th>4</th>\n",
       "      <td>4</td>\n",
       "      <td>4</td>\n",
       "      <td>0.170609</td>\n",
       "      <td>1.316623</td>\n",
       "      <td>1.740165</td>\n",
       "      <td>1.563878</td>\n",
       "      <td>0.174206</td>\n",
       "      <td>-0.513085</td>\n",
       "      <td>0.391234</td>\n",
       "      <td>-0.279288</td>\n",
       "      <td>-4.069640</td>\n",
       "      <td>0.472636</td>\n",
       "      <td>-0.408171</td>\n",
       "      <td>-0.628548</td>\n",
       "      <td>1452.0</td>\n",
       "      <td>1519.0</td>\n",
       "      <td>67.0</td>\n",
       "      <td>5.0</td>\n",
       "      <td>1.272170</td>\n",
       "      <td>2.038390</td>\n",
       "    </tr>\n",
       "  </tbody>\n",
       "</table>\n",
       "</div>"
      ],
      "text/plain": [
       "   Unnamed: 0  Unnamed: 0.2      name  birth_date  birth_place  death_date  \\\n",
       "0           0             0 -0.291212   -0.327866     1.812300    0.087552   \n",
       "1           1             1  0.318741    1.533003     1.601048    1.914421   \n",
       "2           2             2 -1.611324   -0.390376     1.503151    0.013399   \n",
       "3           3             3  1.251097    1.508961    -1.304951    1.880715   \n",
       "4           4             4  0.170609    1.316623     1.740165    1.563878   \n",
       "\n",
       "   death_place  occupation    awards  alma_mater  education    spouse  \\\n",
       "0     0.863551   -0.513085 -0.028915   -0.279288  -0.743137  0.472636   \n",
       "1     1.470586   -0.513085  0.391234    2.474455   0.171651  0.472636   \n",
       "2     1.563185   -0.513085  0.391234   -0.279288   0.171651  0.472636   \n",
       "3     1.131058   -0.513085  0.391234   -0.279288   0.171651  0.382327   \n",
       "4     0.174206   -0.513085  0.391234   -0.279288  -4.069640  0.472636   \n",
       "\n",
       "   children  occupation_cluster  birth_year  death_year  life_span  \\\n",
       "0 -0.408171           -0.628548      1643.0      1727.0       84.0   \n",
       "1 -0.408171           -0.628548      1867.0      1934.0       67.0   \n",
       "2  2.971872           -0.628548      1879.0      1955.0       76.0   \n",
       "3  3.464111           -0.628548      1815.0      1852.0       37.0   \n",
       "4 -0.408171           -0.628548      1452.0      1519.0       67.0   \n",
       "\n",
       "   life_span_cluster  edu_award_cluster  bio_cluster  \n",
       "0                2.0           1.272170     0.101081  \n",
       "1                2.0          -0.573778    -0.867573  \n",
       "2                2.0          -0.573778    -0.867573  \n",
       "3                2.0          -0.573778    -0.867573  \n",
       "4                5.0           1.272170     2.038390  "
      ]
     },
     "execution_count": 15,
     "metadata": {},
     "output_type": "execute_result"
    }
   ],
   "source": [
    "df.head()"
   ]
  },
  {
   "cell_type": "markdown",
   "id": "9a4c4fd4",
   "metadata": {},
   "source": [
    "# SKEWNESNI ANIQLASH "
   ]
  },
  {
   "cell_type": "code",
   "execution_count": 16,
   "id": "4611c8b7",
   "metadata": {},
   "outputs": [
    {
     "name": "stdout",
     "output_type": "stream",
     "text": [
      "📊 Skewness (egiklik) qiymatlari:\n",
      "\n",
      "Unnamed: 0             0.000000\n",
      "Unnamed: 0.2           0.000000\n",
      "name                  -0.031662\n",
      "birth_date             0.221459\n",
      "birth_place            0.179944\n",
      "death_date             0.715997\n",
      "death_place            0.965856\n",
      "occupation             1.795307\n",
      "awards                -2.587517\n",
      "alma_mater             2.983751\n",
      "education             -1.841190\n",
      "spouse                -1.612245\n",
      "children               2.461172\n",
      "occupation_cluster     1.094339\n",
      "birth_year            -3.049797\n",
      "death_year            -2.995022\n",
      "life_span             15.159016\n",
      "life_span_cluster      2.874947\n",
      "edu_award_cluster      1.155188\n",
      "bio_cluster            0.671113\n",
      "dtype: float64\n"
     ]
    }
   ],
   "source": [
    "# faqat raqamli ustunlar uchun\n",
    "skewness = df.select_dtypes(include=['number']).skew()\n",
    "\n",
    "# Natijani ko‘rish\n",
    "print(\"📊 Skewness (egiklik) qiymatlari:\\n\")\n",
    "print(skewness)\n"
   ]
  },
  {
   "cell_type": "markdown",
   "id": "b04d0764",
   "metadata": {},
   "source": [
    "| Ustun                        | Skewness qiymati | Tahlil                                                                              |\n",
    "| ---------------------------- | ---------------- | ----------------------------------------------------------------------------------- |\n",
    "| `Unnamed: 0`, `Unnamed: 0.2` | 0.000000         | Mutlaq simmetrik, hech qanday egiklik yo'q.                                         |\n",
    "| `name`                       | -0.031662        | Deyarli simmetrik, taqsimot normalga yaqin.                                         |\n",
    "| `birth_date`                 | 0.221459         | Past darajadagi musbat egiklik.                                                     |\n",
    "| `birth_place`                | 0.179944         | Past darajadagi musbat egiklik.                                                     |\n",
    "| `death_date`                 | 0.715997         | O'rtacha musbat egiklik.                                                            |\n",
    "| `death_place`                | 0.965856         | O'rtacha musbat egiklikga yaqin.                                                    |\n",
    "| `occupation`                 | 1.795307         | Kuchli musbat egiklik (taqsimot o'ngga cho'zilgan).                                 |\n",
    "| `awards`                     | -2.587517        | Kuchli manfiy egiklik (taqsimot chapga cho'zilgan).                                 |\n",
    "| `alma_mater`                 | 2.983751         | Juda kuchli musbat egiklik.                                                         |\n",
    "| `education`                  | -1.841190        | Kuchli manfiy egiklik.                                                              |\n",
    "| `spouse`                     | -1.612245        | Kuchli manfiy egiklik.                                                              |\n",
    "| `children`                   | 2.461172         | Kuchli musbat egiklik.                                                              |\n",
    "| `occupation_cluster`         | 1.094339         | Kuchli musbat egiklik.                                                              |\n",
    "| `birth_year`                 | -3.049797        | Juda kuchli manfiy egiklik.                                                         |\n",
    "| `death_year`                 | -2.995022        | Juda kuchli manfiy egiklik.                                                         |\n",
    "| `life_span`                  | 15.159016        | Juda juda kuchli musbat egiklik (chunki bu ustun ehtimol o'ngga keskin cho'zilgan). |\n",
    "| `life_span_cluster`          | 2.874947         | Juda kuchli musbat egiklik.                                                         |\n",
    "| `edu_award_cluster`          | 1.155188         | Kuchli musbat egiklik.                                                              |\n",
    "| `bio_cluster`                | 0.671113         | O'rtacha musbat egiklik.                                                            |\n"
   ]
  },
  {
   "cell_type": "markdown",
   "id": "913fdcc0",
   "metadata": {},
   "source": [
    "# Log transform faqat musbat qiymatlar uchun "
   ]
  },
  {
   "cell_type": "code",
   "execution_count": null,
   "id": "019c2a63",
   "metadata": {},
   "outputs": [],
   "source": [
    "import numpy as np\n",
    "df['life_span_log'] = np.log1p(df['life_span']) "
   ]
  },
  {
   "cell_type": "markdown",
   "id": "2e2aa7c1",
   "metadata": {},
   "source": [
    "# Box -Cox transform"
   ]
  },
  {
   "cell_type": "code",
   "execution_count": 18,
   "id": "e7e389fa",
   "metadata": {},
   "outputs": [
    {
     "name": "stdout",
     "output_type": "stream",
     "text": [
      "Optimal lambda for Box-Cox: 0.32628236480256345\n"
     ]
    }
   ],
   "source": [
    "from scipy.stats import boxcox\n",
    "df['life_span_boxcox'], fitted_lambda = boxcox(df['life_span'] + 1)  \n",
    "print(f\"Optimal lambda for Box-Cox: {fitted_lambda}\")\n"
   ]
  },
  {
   "cell_type": "code",
   "execution_count": 20,
   "id": "dfef5e8c",
   "metadata": {},
   "outputs": [],
   "source": [
    "from scipy.stats import boxcox\n",
    "import numpy as np\n",
    "\n",
    "skewed_cols = ['life_span', 'birth_year', 'death_year', 'alma_mater', 'children']  # misol uchun\n",
    "\n",
    "for col in skewed_cols:\n",
    "    min_val = df[col].min()\n",
    "    if min_val <= 0:\n",
    "        # Minimal qiymatni musbatga ko'chirish uchun\n",
    "        shifted = df[col] + abs(min_val) + 1\n",
    "        df[col+'_boxcox'], _ = boxcox(shifted)\n",
    "    else:\n",
    "        df[col+'_boxcox'], _ = boxcox(df[col])\n"
   ]
  },
  {
   "cell_type": "code",
   "execution_count": 21,
   "id": "3478df67",
   "metadata": {},
   "outputs": [
    {
     "name": "stdout",
     "output_type": "stream",
     "text": [
      "📊 Random Forest Validation R2: 0.9165592009861138\n",
      "📉 Validation MSE: 167.6321619367435\n"
     ]
    }
   ],
   "source": [
    "from sklearn.model_selection import train_test_split\n",
    "from sklearn.ensemble import RandomForestRegressor\n",
    "from sklearn.metrics import mean_squared_error, r2_score\n",
    "\n",
    "# X va y ajratamiz\n",
    "X = df.drop('life_span', axis=1)\n",
    "y = df['life_span']\n",
    "\n",
    "# Train / Validation / Test (60/20/20)\n",
    "X_temp, X_test, y_temp, y_test = train_test_split(X, y, test_size=0.2, random_state=42)\n",
    "X_train, X_val, y_train, y_val = train_test_split(X_temp, y_temp, test_size=0.25, random_state=42)  \n",
    "\n",
    "# Model\n",
    "rf = RandomForestRegressor(n_estimators=100, random_state=42)\n",
    "rf.fit(X_train, y_train)\n",
    "\n",
    "# Baholash\n",
    "y_pred = rf.predict(X_val)\n",
    "print(\"📊 Random Forest Validation R2:\", r2_score(y_val, y_pred))\n",
    "print(\"📉 Validation MSE:\", mean_squared_error(y_val, y_pred))\n"
   ]
  },
  {
   "cell_type": "code",
   "execution_count": 22,
   "id": "66f27e37",
   "metadata": {},
   "outputs": [
    {
     "name": "stdout",
     "output_type": "stream",
     "text": [
      "📊 Decision Tree Validation R2: 0.999939777030668\n",
      "📉 Validation MSE: 0.12098765432098765\n"
     ]
    }
   ],
   "source": [
    "from sklearn.tree import DecisionTreeRegressor\n",
    "\n",
    "# Model\n",
    "dt = DecisionTreeRegressor(random_state=42)\n",
    "dt.fit(X_train, y_train)\n",
    "\n",
    "# Baholash\n",
    "y_pred_dt = dt.predict(X_val)\n",
    "print(\"📊 Decision Tree Validation R2:\", r2_score(y_val, y_pred_dt))\n",
    "print(\"📉 Validation MSE:\", mean_squared_error(y_val, y_pred_dt))\n"
   ]
  },
  {
   "cell_type": "code",
   "execution_count": 25,
   "id": "635dec46",
   "metadata": {},
   "outputs": [
    {
     "name": "stdout",
     "output_type": "stream",
     "text": [
      "📊 XGBoost Validation R2: 0.9994325559100786\n",
      "📉 Validation MSE: 1.139992434107966\n"
     ]
    }
   ],
   "source": [
    "from xgboost import XGBRegressor\n",
    "\n",
    "# Model\n",
    "xgb = XGBRegressor(n_estimators=100, learning_rate=0.1, random_state=42)\n",
    "xgb.fit(X_train, y_train)\n",
    "\n",
    "# Baholash\n",
    "y_pred_xgb = xgb.predict(X_val)\n",
    "print(\"📊 XGBoost Validation R2:\", r2_score(y_val, y_pred_xgb))\n",
    "print(\"📉 Validation MSE:\", mean_squared_error(y_val, y_pred_xgb))\n"
   ]
  },
  {
   "cell_type": "code",
   "execution_count": 26,
   "id": "6775cc9d",
   "metadata": {},
   "outputs": [
    {
     "name": "stdout",
     "output_type": "stream",
     "text": [
      "📊 Linear Regression Validation R2: -0.003267307191419544\n",
      "📉 Validation MSE: 2015.5591712030966\n"
     ]
    }
   ],
   "source": [
    "from sklearn.linear_model import LinearRegression\n",
    "\n",
    "lr = LinearRegression()\n",
    "lr.fit(X_train, y_train)\n",
    "\n",
    "y_pred_lr = lr.predict(X_val)\n",
    "print(\"📊 Linear Regression Validation R2:\", r2_score(y_val, y_pred_lr))\n",
    "print(\"📉 Validation MSE:\", mean_squared_error(y_val, y_pred_lr))\n"
   ]
  },
  {
   "cell_type": "code",
   "execution_count": 27,
   "id": "58985ca7",
   "metadata": {},
   "outputs": [
    {
     "data": {
      "application/vnd.plotly.v1+json": {
       "config": {
        "plotlyServerURL": "https://plot.ly"
       },
       "data": [
        {
         "cells": {
          "align": "left",
          "fill": {
           "color": [
            [
             "lightgray",
             "lightgray",
             "crimson",
             "lightgray"
            ],
            [
             "lightgray",
             "lightgray",
             "crimson",
             "lightgray"
            ],
            [
             "lightgray",
             "lightgray",
             "crimson",
             "lightgray"
            ]
           ]
          },
          "values": [
           [
            "Linear Regression",
            "Random Forest",
            "Decision Tree",
            "XGBoost"
           ],
           [
            -0.003267307191419544,
            0.9165592009861138,
            0.999939777030668,
            0.9994325559100786
           ],
           [
            2015.5591712030966,
            167.6321619367435,
            0.12098765432098765,
            1.139992434107966
           ]
          ]
         },
         "header": {
          "align": "left",
          "fill": {
           "color": "paleturquoise"
          },
          "values": [
           "Model",
           "R2 Score",
           "MSE"
          ]
         },
         "type": "table"
        }
       ],
       "layout": {
        "template": {
         "data": {
          "bar": [
           {
            "error_x": {
             "color": "#2a3f5f"
            },
            "error_y": {
             "color": "#2a3f5f"
            },
            "marker": {
             "line": {
              "color": "#E5ECF6",
              "width": 0.5
             },
             "pattern": {
              "fillmode": "overlay",
              "size": 10,
              "solidity": 0.2
             }
            },
            "type": "bar"
           }
          ],
          "barpolar": [
           {
            "marker": {
             "line": {
              "color": "#E5ECF6",
              "width": 0.5
             },
             "pattern": {
              "fillmode": "overlay",
              "size": 10,
              "solidity": 0.2
             }
            },
            "type": "barpolar"
           }
          ],
          "carpet": [
           {
            "aaxis": {
             "endlinecolor": "#2a3f5f",
             "gridcolor": "white",
             "linecolor": "white",
             "minorgridcolor": "white",
             "startlinecolor": "#2a3f5f"
            },
            "baxis": {
             "endlinecolor": "#2a3f5f",
             "gridcolor": "white",
             "linecolor": "white",
             "minorgridcolor": "white",
             "startlinecolor": "#2a3f5f"
            },
            "type": "carpet"
           }
          ],
          "choropleth": [
           {
            "colorbar": {
             "outlinewidth": 0,
             "ticks": ""
            },
            "type": "choropleth"
           }
          ],
          "contour": [
           {
            "colorbar": {
             "outlinewidth": 0,
             "ticks": ""
            },
            "colorscale": [
             [
              0,
              "#0d0887"
             ],
             [
              0.1111111111111111,
              "#46039f"
             ],
             [
              0.2222222222222222,
              "#7201a8"
             ],
             [
              0.3333333333333333,
              "#9c179e"
             ],
             [
              0.4444444444444444,
              "#bd3786"
             ],
             [
              0.5555555555555556,
              "#d8576b"
             ],
             [
              0.6666666666666666,
              "#ed7953"
             ],
             [
              0.7777777777777778,
              "#fb9f3a"
             ],
             [
              0.8888888888888888,
              "#fdca26"
             ],
             [
              1,
              "#f0f921"
             ]
            ],
            "type": "contour"
           }
          ],
          "contourcarpet": [
           {
            "colorbar": {
             "outlinewidth": 0,
             "ticks": ""
            },
            "type": "contourcarpet"
           }
          ],
          "heatmap": [
           {
            "colorbar": {
             "outlinewidth": 0,
             "ticks": ""
            },
            "colorscale": [
             [
              0,
              "#0d0887"
             ],
             [
              0.1111111111111111,
              "#46039f"
             ],
             [
              0.2222222222222222,
              "#7201a8"
             ],
             [
              0.3333333333333333,
              "#9c179e"
             ],
             [
              0.4444444444444444,
              "#bd3786"
             ],
             [
              0.5555555555555556,
              "#d8576b"
             ],
             [
              0.6666666666666666,
              "#ed7953"
             ],
             [
              0.7777777777777778,
              "#fb9f3a"
             ],
             [
              0.8888888888888888,
              "#fdca26"
             ],
             [
              1,
              "#f0f921"
             ]
            ],
            "type": "heatmap"
           }
          ],
          "histogram": [
           {
            "marker": {
             "pattern": {
              "fillmode": "overlay",
              "size": 10,
              "solidity": 0.2
             }
            },
            "type": "histogram"
           }
          ],
          "histogram2d": [
           {
            "colorbar": {
             "outlinewidth": 0,
             "ticks": ""
            },
            "colorscale": [
             [
              0,
              "#0d0887"
             ],
             [
              0.1111111111111111,
              "#46039f"
             ],
             [
              0.2222222222222222,
              "#7201a8"
             ],
             [
              0.3333333333333333,
              "#9c179e"
             ],
             [
              0.4444444444444444,
              "#bd3786"
             ],
             [
              0.5555555555555556,
              "#d8576b"
             ],
             [
              0.6666666666666666,
              "#ed7953"
             ],
             [
              0.7777777777777778,
              "#fb9f3a"
             ],
             [
              0.8888888888888888,
              "#fdca26"
             ],
             [
              1,
              "#f0f921"
             ]
            ],
            "type": "histogram2d"
           }
          ],
          "histogram2dcontour": [
           {
            "colorbar": {
             "outlinewidth": 0,
             "ticks": ""
            },
            "colorscale": [
             [
              0,
              "#0d0887"
             ],
             [
              0.1111111111111111,
              "#46039f"
             ],
             [
              0.2222222222222222,
              "#7201a8"
             ],
             [
              0.3333333333333333,
              "#9c179e"
             ],
             [
              0.4444444444444444,
              "#bd3786"
             ],
             [
              0.5555555555555556,
              "#d8576b"
             ],
             [
              0.6666666666666666,
              "#ed7953"
             ],
             [
              0.7777777777777778,
              "#fb9f3a"
             ],
             [
              0.8888888888888888,
              "#fdca26"
             ],
             [
              1,
              "#f0f921"
             ]
            ],
            "type": "histogram2dcontour"
           }
          ],
          "mesh3d": [
           {
            "colorbar": {
             "outlinewidth": 0,
             "ticks": ""
            },
            "type": "mesh3d"
           }
          ],
          "parcoords": [
           {
            "line": {
             "colorbar": {
              "outlinewidth": 0,
              "ticks": ""
             }
            },
            "type": "parcoords"
           }
          ],
          "pie": [
           {
            "automargin": true,
            "type": "pie"
           }
          ],
          "scatter": [
           {
            "fillpattern": {
             "fillmode": "overlay",
             "size": 10,
             "solidity": 0.2
            },
            "type": "scatter"
           }
          ],
          "scatter3d": [
           {
            "line": {
             "colorbar": {
              "outlinewidth": 0,
              "ticks": ""
             }
            },
            "marker": {
             "colorbar": {
              "outlinewidth": 0,
              "ticks": ""
             }
            },
            "type": "scatter3d"
           }
          ],
          "scattercarpet": [
           {
            "marker": {
             "colorbar": {
              "outlinewidth": 0,
              "ticks": ""
             }
            },
            "type": "scattercarpet"
           }
          ],
          "scattergeo": [
           {
            "marker": {
             "colorbar": {
              "outlinewidth": 0,
              "ticks": ""
             }
            },
            "type": "scattergeo"
           }
          ],
          "scattergl": [
           {
            "marker": {
             "colorbar": {
              "outlinewidth": 0,
              "ticks": ""
             }
            },
            "type": "scattergl"
           }
          ],
          "scattermap": [
           {
            "marker": {
             "colorbar": {
              "outlinewidth": 0,
              "ticks": ""
             }
            },
            "type": "scattermap"
           }
          ],
          "scattermapbox": [
           {
            "marker": {
             "colorbar": {
              "outlinewidth": 0,
              "ticks": ""
             }
            },
            "type": "scattermapbox"
           }
          ],
          "scatterpolar": [
           {
            "marker": {
             "colorbar": {
              "outlinewidth": 0,
              "ticks": ""
             }
            },
            "type": "scatterpolar"
           }
          ],
          "scatterpolargl": [
           {
            "marker": {
             "colorbar": {
              "outlinewidth": 0,
              "ticks": ""
             }
            },
            "type": "scatterpolargl"
           }
          ],
          "scatterternary": [
           {
            "marker": {
             "colorbar": {
              "outlinewidth": 0,
              "ticks": ""
             }
            },
            "type": "scatterternary"
           }
          ],
          "surface": [
           {
            "colorbar": {
             "outlinewidth": 0,
             "ticks": ""
            },
            "colorscale": [
             [
              0,
              "#0d0887"
             ],
             [
              0.1111111111111111,
              "#46039f"
             ],
             [
              0.2222222222222222,
              "#7201a8"
             ],
             [
              0.3333333333333333,
              "#9c179e"
             ],
             [
              0.4444444444444444,
              "#bd3786"
             ],
             [
              0.5555555555555556,
              "#d8576b"
             ],
             [
              0.6666666666666666,
              "#ed7953"
             ],
             [
              0.7777777777777778,
              "#fb9f3a"
             ],
             [
              0.8888888888888888,
              "#fdca26"
             ],
             [
              1,
              "#f0f921"
             ]
            ],
            "type": "surface"
           }
          ],
          "table": [
           {
            "cells": {
             "fill": {
              "color": "#EBF0F8"
             },
             "line": {
              "color": "white"
             }
            },
            "header": {
             "fill": {
              "color": "#C8D4E3"
             },
             "line": {
              "color": "white"
             }
            },
            "type": "table"
           }
          ]
         },
         "layout": {
          "annotationdefaults": {
           "arrowcolor": "#2a3f5f",
           "arrowhead": 0,
           "arrowwidth": 1
          },
          "autotypenumbers": "strict",
          "coloraxis": {
           "colorbar": {
            "outlinewidth": 0,
            "ticks": ""
           }
          },
          "colorscale": {
           "diverging": [
            [
             0,
             "#8e0152"
            ],
            [
             0.1,
             "#c51b7d"
            ],
            [
             0.2,
             "#de77ae"
            ],
            [
             0.3,
             "#f1b6da"
            ],
            [
             0.4,
             "#fde0ef"
            ],
            [
             0.5,
             "#f7f7f7"
            ],
            [
             0.6,
             "#e6f5d0"
            ],
            [
             0.7,
             "#b8e186"
            ],
            [
             0.8,
             "#7fbc41"
            ],
            [
             0.9,
             "#4d9221"
            ],
            [
             1,
             "#276419"
            ]
           ],
           "sequential": [
            [
             0,
             "#0d0887"
            ],
            [
             0.1111111111111111,
             "#46039f"
            ],
            [
             0.2222222222222222,
             "#7201a8"
            ],
            [
             0.3333333333333333,
             "#9c179e"
            ],
            [
             0.4444444444444444,
             "#bd3786"
            ],
            [
             0.5555555555555556,
             "#d8576b"
            ],
            [
             0.6666666666666666,
             "#ed7953"
            ],
            [
             0.7777777777777778,
             "#fb9f3a"
            ],
            [
             0.8888888888888888,
             "#fdca26"
            ],
            [
             1,
             "#f0f921"
            ]
           ],
           "sequentialminus": [
            [
             0,
             "#0d0887"
            ],
            [
             0.1111111111111111,
             "#46039f"
            ],
            [
             0.2222222222222222,
             "#7201a8"
            ],
            [
             0.3333333333333333,
             "#9c179e"
            ],
            [
             0.4444444444444444,
             "#bd3786"
            ],
            [
             0.5555555555555556,
             "#d8576b"
            ],
            [
             0.6666666666666666,
             "#ed7953"
            ],
            [
             0.7777777777777778,
             "#fb9f3a"
            ],
            [
             0.8888888888888888,
             "#fdca26"
            ],
            [
             1,
             "#f0f921"
            ]
           ]
          },
          "colorway": [
           "#636efa",
           "#EF553B",
           "#00cc96",
           "#ab63fa",
           "#FFA15A",
           "#19d3f3",
           "#FF6692",
           "#B6E880",
           "#FF97FF",
           "#FECB52"
          ],
          "font": {
           "color": "#2a3f5f"
          },
          "geo": {
           "bgcolor": "white",
           "lakecolor": "white",
           "landcolor": "#E5ECF6",
           "showlakes": true,
           "showland": true,
           "subunitcolor": "white"
          },
          "hoverlabel": {
           "align": "left"
          },
          "hovermode": "closest",
          "mapbox": {
           "style": "light"
          },
          "paper_bgcolor": "white",
          "plot_bgcolor": "#E5ECF6",
          "polar": {
           "angularaxis": {
            "gridcolor": "white",
            "linecolor": "white",
            "ticks": ""
           },
           "bgcolor": "#E5ECF6",
           "radialaxis": {
            "gridcolor": "white",
            "linecolor": "white",
            "ticks": ""
           }
          },
          "scene": {
           "xaxis": {
            "backgroundcolor": "#E5ECF6",
            "gridcolor": "white",
            "gridwidth": 2,
            "linecolor": "white",
            "showbackground": true,
            "ticks": "",
            "zerolinecolor": "white"
           },
           "yaxis": {
            "backgroundcolor": "#E5ECF6",
            "gridcolor": "white",
            "gridwidth": 2,
            "linecolor": "white",
            "showbackground": true,
            "ticks": "",
            "zerolinecolor": "white"
           },
           "zaxis": {
            "backgroundcolor": "#E5ECF6",
            "gridcolor": "white",
            "gridwidth": 2,
            "linecolor": "white",
            "showbackground": true,
            "ticks": "",
            "zerolinecolor": "white"
           }
          },
          "shapedefaults": {
           "line": {
            "color": "#2a3f5f"
           }
          },
          "ternary": {
           "aaxis": {
            "gridcolor": "white",
            "linecolor": "white",
            "ticks": ""
           },
           "baxis": {
            "gridcolor": "white",
            "linecolor": "white",
            "ticks": ""
           },
           "bgcolor": "#E5ECF6",
           "caxis": {
            "gridcolor": "white",
            "linecolor": "white",
            "ticks": ""
           }
          },
          "title": {
           "x": 0.05
          },
          "xaxis": {
           "automargin": true,
           "gridcolor": "white",
           "linecolor": "white",
           "ticks": "",
           "title": {
            "standoff": 15
           },
           "zerolinecolor": "white",
           "zerolinewidth": 2
          },
          "yaxis": {
           "automargin": true,
           "gridcolor": "white",
           "linecolor": "white",
           "ticks": "",
           "title": {
            "standoff": 15
           },
           "zerolinecolor": "white",
           "zerolinewidth": 2
          }
         }
        },
        "title": {
         "text": "Model Natijalari: R2 Score va MSE"
        }
       }
      }
     },
     "metadata": {},
     "output_type": "display_data"
    }
   ],
   "source": [
    "import pandas as pd\n",
    "from sklearn.model_selection import train_test_split\n",
    "from sklearn.linear_model import LinearRegression\n",
    "from sklearn.ensemble import RandomForestRegressor\n",
    "from sklearn.tree import DecisionTreeRegressor\n",
    "from xgboost import XGBRegressor\n",
    "from sklearn.metrics import mean_squared_error, r2_score\n",
    "import plotly.graph_objects as go\n",
    "\n",
    "# 1. X va y\n",
    "X = df.drop('life_span', axis=1)\n",
    "y = df['life_span']\n",
    "\n",
    "# 2. Train, validation, test bo'lish\n",
    "X_temp, X_test, y_temp, y_test = train_test_split(X, y, test_size=0.2, random_state=42)\n",
    "X_train, X_val, y_train, y_val = train_test_split(X_temp, y_temp, test_size=0.25, random_state=42)\n",
    "\n",
    "# 3. Modellar\n",
    "models = {\n",
    "    'Linear Regression': LinearRegression(),\n",
    "    'Random Forest': RandomForestRegressor(n_estimators=100, random_state=42),\n",
    "    'Decision Tree': DecisionTreeRegressor(random_state=42),\n",
    "    'XGBoost': XGBRegressor(n_estimators=100, learning_rate=0.1, random_state=42)\n",
    "}\n",
    "\n",
    "results = []\n",
    "\n",
    "for name, model in models.items():\n",
    "    model.fit(X_train, y_train)\n",
    "    preds = model.predict(X_val)\n",
    "    r2 = r2_score(y_val, preds)\n",
    "    mse = mean_squared_error(y_val, preds)\n",
    "    results.append({'Model': name, 'R2 Score': r2, 'MSE': mse})\n",
    "\n",
    "# 4. Natijalarni DataFrame ga yig'ish\n",
    "results_df = pd.DataFrame(results)\n",
    "\n",
    "# 5. Eng yaxshi R2 topish\n",
    "best_model_index = results_df['R2 Score'].idxmax()\n",
    "\n",
    "# 6. Jadvalni chizish (qizil bilan eng yaxshisi)\n",
    "colors = ['lightgray'] * len(results_df)\n",
    "colors[best_model_index] = 'crimson'  # eng yaxshi R2 uchun qizil rang\n",
    "\n",
    "fig = go.Figure(data=[go.Table(\n",
    "    header=dict(values=list(results_df.columns),\n",
    "                fill_color='paleturquoise',\n",
    "                align='left'),\n",
    "    cells=dict(values=[results_df[col] for col in results_df.columns],\n",
    "               fill_color=[colors, colors, colors],\n",
    "               align='left'))\n",
    "])\n",
    "\n",
    "fig.update_layout(title='Model Natijalari: R2 Score va MSE')\n",
    "fig.show()"
   ]
  },
  {
   "cell_type": "code",
   "execution_count": 28,
   "id": "d470b102",
   "metadata": {},
   "outputs": [
    {
     "name": "stdout",
     "output_type": "stream",
     "text": [
      "📊 R2 (5-fold): [0.99999762 0.92447817 0.98060882 0.9998322  0.99995797]\n",
      "📈 R2 O'rtacha: 0.9809749580528285\n",
      "📉 Cross-Validated MSE: 39.89418411706064\n"
     ]
    }
   ],
   "source": [
    "from sklearn.model_selection import cross_val_score, cross_val_predict\n",
    "from sklearn.metrics import mean_squared_error, r2_score\n",
    "from sklearn.tree import DecisionTreeRegressor\n",
    "import numpy as np\n",
    "\n",
    "# Model\n",
    "dt = DecisionTreeRegressor(random_state=42)\n",
    "\n",
    "# R2 Score bo‘yicha 5-fold cross-validation\n",
    "r2_scores = cross_val_score(dt, X, y, cv=5, scoring='r2')\n",
    "print(\"📊 R2 (5-fold):\", r2_scores)\n",
    "print(\"📈 R2 O'rtacha:\", np.mean(r2_scores))\n",
    "\n",
    "# Cross-val prediction orqali MSE hisoblash\n",
    "y_pred_cv = cross_val_predict(dt, X, y, cv=5)\n",
    "mse = mean_squared_error(y, y_pred_cv)\n",
    "print(\"📉 Cross-Validated MSE:\", mse)\n"
   ]
  },
  {
   "cell_type": "code",
   "execution_count": null,
   "id": "2988a2c1",
   "metadata": {},
   "outputs": [],
   "source": []
  }
 ],
 "metadata": {
  "kernelspec": {
   "display_name": "myvenv",
   "language": "python",
   "name": "python3"
  },
  "language_info": {
   "codemirror_mode": {
    "name": "ipython",
    "version": 3
   },
   "file_extension": ".py",
   "mimetype": "text/x-python",
   "name": "python",
   "nbconvert_exporter": "python",
   "pygments_lexer": "ipython3",
   "version": "3.13.7"
  }
 },
 "nbformat": 4,
 "nbformat_minor": 5
}
