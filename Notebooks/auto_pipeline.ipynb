{
 "cells": [
  {
   "cell_type": "code",
   "execution_count": 7,
   "id": "3a606988",
   "metadata": {},
   "outputs": [],
   "source": [
    "import sys\n",
    "import os\n",
    "import logging\n",
    "\n",
    "# To‘g‘ri yo‘lni sys.path ga qo‘shish\n",
    "sys.path.append(r\"C:\\Users\\Rasulbek907\\Desktop\\Final_Project\\Source\")\n",
    "\n",
    "# Fayl nomi: Auto_Pipeline.py, shuning uchun import ham shunday bo'lishi kerak\n",
    "from pipeline import DataLoader\n",
    "\n",
    "# Log fayl manzili\n",
    "log_path = r\"C:\\Users\\Rasulbek907\\Desktop\\Final_Project\\Log\\auto_pipeline.log\"\n",
    "\n",
    "# Log sozlamalari\n",
    "logging.basicConfig(\n",
    "    filename=log_path,\n",
    "    filemode='a',\n",
    "    format='%(asctime)s - %(levelname)s - %(message)s',\n",
    "    level=logging.INFO\n",
    ")\n",
    "\n",
    "# Ma'lumot faylining manzili\n",
    "data_path = r\"C:\\Users\\Rasulbek907\\Desktop\\Final_Project\\Data\\Preprosessed_data\\Clustering.csv\"\n",
    "\n",
    "try:\n",
    "    logging.info(\"Ma'lumot fayli yuklanmoqda...\")\n",
    "    df = DataLoader.load_csv(data_path)\n",
    "    logging.info(f\"Fayl muvaffaqiyatli yuklandi. Satrlar soni: {len(df)}, ustunlar soni: {len(df.columns)}\")\n",
    "except Exception as e:\n",
    "    logging.error(f\"Ma'lumot faylini yuklashda xatolik yuz berdi: {e}\")\n"
   ]
  },
  {
   "cell_type": "code",
   "execution_count": 12,
   "id": "1e50f3b6",
   "metadata": {},
   "outputs": [
    {
     "name": "stdout",
     "output_type": "stream",
     "text": [
      "   Unnamed: 0.1  Unnamed: 0                      name  \\\n",
      "0             0           0              Isaac Newton   \n",
      "1             1           1               Marie Curie   \n",
      "2             2           2           Albert Einstein   \n",
      "3             3           3  The Countess of Lovelace   \n",
      "4             4           4         Leonardo da Vinci   \n",
      "\n",
      "                         birth_date  \\\n",
      "0    {{Birth date|df=y|1643|01|04}}   \n",
      "1     {{birth date|df=y|1867|11|7}}   \n",
      "2   {{Birth date|df=yes|1879|3|14}}   \n",
      "3    {{birth date|df=y|1815|12|10}}   \n",
      "4  {{birth date|df=yes|1452|04|15}}   \n",
      "\n",
      "                                         birth_place  \\\n",
      "0  {{nowrap|[[Woolsthorpe-by-Colsterworth]],}} Li...   \n",
      "1  [[Warsaw]], [[Congress Poland|Poland]], Russia...   \n",
      "2  [[Ulm]], [[Kingdom of Württemberg]], Germany<r...   \n",
      "3                                    London, England   \n",
      "4  possibly [[Anchiano]],{{efn|name=Birthplace}} ...   \n",
      "\n",
      "                                          death_date  \\\n",
      "0  {{Death date and age|df=y|1727|03|31|1643|01|04}}   \n",
      "1     {{death date and age|df=y|1934|7|4|1867|11|7}}   \n",
      "2  {{Death date and age|df=yes|1955|4|18|1879|3|14}}   \n",
      "3  {{death date and age|df=y|1852|11|27|1815|12|10}}   \n",
      "4   {{death date and age|df=yes|1519|5|2|1452|4|15}}   \n",
      "\n",
      "                                         death_place occupation  \\\n",
      "0                 [[Kensington]], Middlesex, England   Composer   \n",
      "1  [[Passy, Haute-Savoie|Passy]], [[Rhône-Alpes]]...   Composer   \n",
      "2                    [[Princeton, New Jersey]], U.S.   Composer   \n",
      "3                    [[Marylebone]], London, England   Composer   \n",
      "4  [[Clos Lucé]], [[Amboise]], {{awrap|[[Kingdom ...   Composer   \n",
      "\n",
      "                                              awards  \\\n",
      "0  {{unbulleted list | [[Fellow of the Royal Soci...   \n",
      "1                                                 }}   \n",
      "2                                                 }}   \n",
      "3                                                 }}   \n",
      "4                                                 }}   \n",
      "\n",
      "                  alma_mater  \\\n",
      "0  [[King's College London]]   \n",
      "1    [[University of Paris]]   \n",
      "2  [[King's College London]]   \n",
      "3  [[King's College London]]   \n",
      "4  [[King's College London]]   \n",
      "\n",
      "                                           education  \\\n",
      "0  [[Trinity College, Cambridge]] ([[Bachelor of ...   \n",
      "1  [[Visva-Bharati University]] (dropped out)<ref...   \n",
      "2  [[Visva-Bharati University]] (dropped out)<ref...   \n",
      "3  [[Visva-Bharati University]] (dropped out)<ref...   \n",
      "4                Studio of [[Andrea del Verrocchio]]   \n",
      "\n",
      "                                              spouse      children  \\\n",
      "0                                       {{plainlist|             2   \n",
      "1                                       {{plainlist|             2   \n",
      "2                                       {{plainlist|   {{flatlist|   \n",
      "3  {{marriage|[[William King-Noel, 1st Earl of Lo...  {{plainlist|   \n",
      "4                                       {{plainlist|             2   \n",
      "\n",
      "   occupation_cluster  birth_year  death_year  life_span  life_span_cluster  \\\n",
      "0                   0      1643.0      1727.0       84.0                2.0   \n",
      "1                   0      1867.0      1934.0       67.0                2.0   \n",
      "2                   0      1879.0      1955.0       76.0                2.0   \n",
      "3                   0      1815.0      1852.0       37.0                2.0   \n",
      "4                   0      1452.0      1519.0       67.0                5.0   \n",
      "\n",
      "   edu_award_cluster  bio_cluster  \n",
      "0                  3            1  \n",
      "1                  1            0  \n",
      "2                  1            0  \n",
      "3                  1            0  \n",
      "4                  3            3  \n"
     ]
    }
   ],
   "source": [
    "import sys\n",
    "import os\n",
    "import importlib\n",
    "\n",
    "# 1. path qo‘shish\n",
    "source_path = r'C:\\Users\\Rasulbek907\\Desktop\\amaliyot\\Source'\n",
    "if source_path not in sys.path:\n",
    "    sys.path.append(source_path)\n",
    "\n",
    "# 2. Import va reload\n",
    "import pipeline\n",
    "importlib.reload(pipeline)  # 🔄 MUHIM: o‘zgargan faylni yangilaydi\n",
    "\n",
    "# 3. DataLoader ni olish\n",
    "from pipeline import DataLoader\n",
    "\n",
    "# 4. Foydalanish\n",
    "data_path = r'C:\\Users\\Rasulbek907\\Desktop\\Final_Project\\Data\\Preprosessed_data\\Clustering.csv'\n",
    "loader = DataLoader(data_path)\n",
    "\n",
    "# 5. Endi ishlaydi!\n",
    "df = loader.load_dataset()\n",
    "print(df.head()) "
   ]
  },
  {
   "cell_type": "code",
   "execution_count": 13,
   "id": "e9285629",
   "metadata": {},
   "outputs": [
    {
     "name": "stdout",
     "output_type": "stream",
     "text": [
      "<class 'pandas.core.frame.DataFrame'>\n",
      "RangeIndex: 2022 entries, 0 to 2021\n",
      "Data columns (total 20 columns):\n",
      " #   Column              Non-Null Count  Dtype  \n",
      "---  ------              --------------  -----  \n",
      " 0   Unnamed: 0.1        2022 non-null   int64  \n",
      " 1   Unnamed: 0          2022 non-null   int64  \n",
      " 2   name                2022 non-null   object \n",
      " 3   birth_date          2022 non-null   object \n",
      " 4   birth_place         2022 non-null   object \n",
      " 5   death_date          2022 non-null   object \n",
      " 6   death_place         2022 non-null   object \n",
      " 7   occupation          2022 non-null   object \n",
      " 8   awards              2022 non-null   object \n",
      " 9   alma_mater          2022 non-null   object \n",
      " 10  education           2022 non-null   object \n",
      " 11  spouse              2022 non-null   object \n",
      " 12  children            2022 non-null   object \n",
      " 13  occupation_cluster  2022 non-null   int64  \n",
      " 14  birth_year          2022 non-null   float64\n",
      " 15  death_year          2022 non-null   float64\n",
      " 16  life_span           2022 non-null   float64\n",
      " 17  life_span_cluster   2022 non-null   float64\n",
      " 18  edu_award_cluster   2022 non-null   int64  \n",
      " 19  bio_cluster         2022 non-null   int64  \n",
      "dtypes: float64(4), int64(5), object(11)\n",
      "memory usage: 316.1+ KB\n"
     ]
    }
   ],
   "source": [
    "df.info()"
   ]
  },
  {
   "cell_type": "code",
   "execution_count": 14,
   "id": "7981f06b",
   "metadata": {},
   "outputs": [
    {
     "data": {
      "text/html": [
       "<div>\n",
       "<style scoped>\n",
       "    .dataframe tbody tr th:only-of-type {\n",
       "        vertical-align: middle;\n",
       "    }\n",
       "\n",
       "    .dataframe tbody tr th {\n",
       "        vertical-align: top;\n",
       "    }\n",
       "\n",
       "    .dataframe thead th {\n",
       "        text-align: right;\n",
       "    }\n",
       "</style>\n",
       "<table border=\"1\" class=\"dataframe\">\n",
       "  <thead>\n",
       "    <tr style=\"text-align: right;\">\n",
       "      <th></th>\n",
       "      <th>Unnamed: 0.1</th>\n",
       "      <th>Unnamed: 0</th>\n",
       "      <th>name</th>\n",
       "      <th>birth_date</th>\n",
       "      <th>birth_place</th>\n",
       "      <th>death_date</th>\n",
       "      <th>death_place</th>\n",
       "      <th>occupation</th>\n",
       "      <th>awards</th>\n",
       "      <th>alma_mater</th>\n",
       "      <th>education</th>\n",
       "      <th>spouse</th>\n",
       "      <th>children</th>\n",
       "      <th>occupation_cluster</th>\n",
       "      <th>birth_year</th>\n",
       "      <th>death_year</th>\n",
       "      <th>life_span</th>\n",
       "      <th>life_span_cluster</th>\n",
       "      <th>edu_award_cluster</th>\n",
       "      <th>bio_cluster</th>\n",
       "    </tr>\n",
       "  </thead>\n",
       "  <tbody>\n",
       "    <tr>\n",
       "      <th>0</th>\n",
       "      <td>0</td>\n",
       "      <td>0</td>\n",
       "      <td>Isaac Newton</td>\n",
       "      <td>{{Birth date|df=y|1643|01|04}}</td>\n",
       "      <td>{{nowrap|[[Woolsthorpe-by-Colsterworth]],}} Li...</td>\n",
       "      <td>{{Death date and age|df=y|1727|03|31|1643|01|04}}</td>\n",
       "      <td>[[Kensington]], Middlesex, England</td>\n",
       "      <td>Composer</td>\n",
       "      <td>{{unbulleted list | [[Fellow of the Royal Soci...</td>\n",
       "      <td>[[King's College London]]</td>\n",
       "      <td>[[Trinity College, Cambridge]] ([[Bachelor of ...</td>\n",
       "      <td>{{plainlist|</td>\n",
       "      <td>2</td>\n",
       "      <td>0</td>\n",
       "      <td>1643.0</td>\n",
       "      <td>1727.0</td>\n",
       "      <td>84.0</td>\n",
       "      <td>2.0</td>\n",
       "      <td>3</td>\n",
       "      <td>1</td>\n",
       "    </tr>\n",
       "    <tr>\n",
       "      <th>1</th>\n",
       "      <td>1</td>\n",
       "      <td>1</td>\n",
       "      <td>Marie Curie</td>\n",
       "      <td>{{birth date|df=y|1867|11|7}}</td>\n",
       "      <td>[[Warsaw]], [[Congress Poland|Poland]], Russia...</td>\n",
       "      <td>{{death date and age|df=y|1934|7|4|1867|11|7}}</td>\n",
       "      <td>[[Passy, Haute-Savoie|Passy]], [[Rhône-Alpes]]...</td>\n",
       "      <td>Composer</td>\n",
       "      <td>}}</td>\n",
       "      <td>[[University of Paris]]</td>\n",
       "      <td>[[Visva-Bharati University]] (dropped out)&lt;ref...</td>\n",
       "      <td>{{plainlist|</td>\n",
       "      <td>2</td>\n",
       "      <td>0</td>\n",
       "      <td>1867.0</td>\n",
       "      <td>1934.0</td>\n",
       "      <td>67.0</td>\n",
       "      <td>2.0</td>\n",
       "      <td>1</td>\n",
       "      <td>0</td>\n",
       "    </tr>\n",
       "    <tr>\n",
       "      <th>2</th>\n",
       "      <td>2</td>\n",
       "      <td>2</td>\n",
       "      <td>Albert Einstein</td>\n",
       "      <td>{{Birth date|df=yes|1879|3|14}}</td>\n",
       "      <td>[[Ulm]], [[Kingdom of Württemberg]], Germany&lt;r...</td>\n",
       "      <td>{{Death date and age|df=yes|1955|4|18|1879|3|14}}</td>\n",
       "      <td>[[Princeton, New Jersey]], U.S.</td>\n",
       "      <td>Composer</td>\n",
       "      <td>}}</td>\n",
       "      <td>[[King's College London]]</td>\n",
       "      <td>[[Visva-Bharati University]] (dropped out)&lt;ref...</td>\n",
       "      <td>{{plainlist|</td>\n",
       "      <td>{{flatlist|</td>\n",
       "      <td>0</td>\n",
       "      <td>1879.0</td>\n",
       "      <td>1955.0</td>\n",
       "      <td>76.0</td>\n",
       "      <td>2.0</td>\n",
       "      <td>1</td>\n",
       "      <td>0</td>\n",
       "    </tr>\n",
       "    <tr>\n",
       "      <th>3</th>\n",
       "      <td>3</td>\n",
       "      <td>3</td>\n",
       "      <td>The Countess of Lovelace</td>\n",
       "      <td>{{birth date|df=y|1815|12|10}}</td>\n",
       "      <td>London, England</td>\n",
       "      <td>{{death date and age|df=y|1852|11|27|1815|12|10}}</td>\n",
       "      <td>[[Marylebone]], London, England</td>\n",
       "      <td>Composer</td>\n",
       "      <td>}}</td>\n",
       "      <td>[[King's College London]]</td>\n",
       "      <td>[[Visva-Bharati University]] (dropped out)&lt;ref...</td>\n",
       "      <td>{{marriage|[[William King-Noel, 1st Earl of Lo...</td>\n",
       "      <td>{{plainlist|</td>\n",
       "      <td>0</td>\n",
       "      <td>1815.0</td>\n",
       "      <td>1852.0</td>\n",
       "      <td>37.0</td>\n",
       "      <td>2.0</td>\n",
       "      <td>1</td>\n",
       "      <td>0</td>\n",
       "    </tr>\n",
       "    <tr>\n",
       "      <th>4</th>\n",
       "      <td>4</td>\n",
       "      <td>4</td>\n",
       "      <td>Leonardo da Vinci</td>\n",
       "      <td>{{birth date|df=yes|1452|04|15}}</td>\n",
       "      <td>possibly [[Anchiano]],{{efn|name=Birthplace}} ...</td>\n",
       "      <td>{{death date and age|df=yes|1519|5|2|1452|4|15}}</td>\n",
       "      <td>[[Clos Lucé]], [[Amboise]], {{awrap|[[Kingdom ...</td>\n",
       "      <td>Composer</td>\n",
       "      <td>}}</td>\n",
       "      <td>[[King's College London]]</td>\n",
       "      <td>Studio of [[Andrea del Verrocchio]]</td>\n",
       "      <td>{{plainlist|</td>\n",
       "      <td>2</td>\n",
       "      <td>0</td>\n",
       "      <td>1452.0</td>\n",
       "      <td>1519.0</td>\n",
       "      <td>67.0</td>\n",
       "      <td>5.0</td>\n",
       "      <td>3</td>\n",
       "      <td>3</td>\n",
       "    </tr>\n",
       "  </tbody>\n",
       "</table>\n",
       "</div>"
      ],
      "text/plain": [
       "   Unnamed: 0.1  Unnamed: 0                      name  \\\n",
       "0             0           0              Isaac Newton   \n",
       "1             1           1               Marie Curie   \n",
       "2             2           2           Albert Einstein   \n",
       "3             3           3  The Countess of Lovelace   \n",
       "4             4           4         Leonardo da Vinci   \n",
       "\n",
       "                         birth_date  \\\n",
       "0    {{Birth date|df=y|1643|01|04}}   \n",
       "1     {{birth date|df=y|1867|11|7}}   \n",
       "2   {{Birth date|df=yes|1879|3|14}}   \n",
       "3    {{birth date|df=y|1815|12|10}}   \n",
       "4  {{birth date|df=yes|1452|04|15}}   \n",
       "\n",
       "                                         birth_place  \\\n",
       "0  {{nowrap|[[Woolsthorpe-by-Colsterworth]],}} Li...   \n",
       "1  [[Warsaw]], [[Congress Poland|Poland]], Russia...   \n",
       "2  [[Ulm]], [[Kingdom of Württemberg]], Germany<r...   \n",
       "3                                    London, England   \n",
       "4  possibly [[Anchiano]],{{efn|name=Birthplace}} ...   \n",
       "\n",
       "                                          death_date  \\\n",
       "0  {{Death date and age|df=y|1727|03|31|1643|01|04}}   \n",
       "1     {{death date and age|df=y|1934|7|4|1867|11|7}}   \n",
       "2  {{Death date and age|df=yes|1955|4|18|1879|3|14}}   \n",
       "3  {{death date and age|df=y|1852|11|27|1815|12|10}}   \n",
       "4   {{death date and age|df=yes|1519|5|2|1452|4|15}}   \n",
       "\n",
       "                                         death_place occupation  \\\n",
       "0                 [[Kensington]], Middlesex, England   Composer   \n",
       "1  [[Passy, Haute-Savoie|Passy]], [[Rhône-Alpes]]...   Composer   \n",
       "2                    [[Princeton, New Jersey]], U.S.   Composer   \n",
       "3                    [[Marylebone]], London, England   Composer   \n",
       "4  [[Clos Lucé]], [[Amboise]], {{awrap|[[Kingdom ...   Composer   \n",
       "\n",
       "                                              awards  \\\n",
       "0  {{unbulleted list | [[Fellow of the Royal Soci...   \n",
       "1                                                 }}   \n",
       "2                                                 }}   \n",
       "3                                                 }}   \n",
       "4                                                 }}   \n",
       "\n",
       "                  alma_mater  \\\n",
       "0  [[King's College London]]   \n",
       "1    [[University of Paris]]   \n",
       "2  [[King's College London]]   \n",
       "3  [[King's College London]]   \n",
       "4  [[King's College London]]   \n",
       "\n",
       "                                           education  \\\n",
       "0  [[Trinity College, Cambridge]] ([[Bachelor of ...   \n",
       "1  [[Visva-Bharati University]] (dropped out)<ref...   \n",
       "2  [[Visva-Bharati University]] (dropped out)<ref...   \n",
       "3  [[Visva-Bharati University]] (dropped out)<ref...   \n",
       "4                Studio of [[Andrea del Verrocchio]]   \n",
       "\n",
       "                                              spouse      children  \\\n",
       "0                                       {{plainlist|             2   \n",
       "1                                       {{plainlist|             2   \n",
       "2                                       {{plainlist|   {{flatlist|   \n",
       "3  {{marriage|[[William King-Noel, 1st Earl of Lo...  {{plainlist|   \n",
       "4                                       {{plainlist|             2   \n",
       "\n",
       "   occupation_cluster  birth_year  death_year  life_span  life_span_cluster  \\\n",
       "0                   0      1643.0      1727.0       84.0                2.0   \n",
       "1                   0      1867.0      1934.0       67.0                2.0   \n",
       "2                   0      1879.0      1955.0       76.0                2.0   \n",
       "3                   0      1815.0      1852.0       37.0                2.0   \n",
       "4                   0      1452.0      1519.0       67.0                5.0   \n",
       "\n",
       "   edu_award_cluster  bio_cluster  \n",
       "0                  3            1  \n",
       "1                  1            0  \n",
       "2                  1            0  \n",
       "3                  1            0  \n",
       "4                  3            3  "
      ]
     },
     "execution_count": 14,
     "metadata": {},
     "output_type": "execute_result"
    }
   ],
   "source": [
    "df.head()\n"
   ]
  },
  {
   "cell_type": "code",
   "execution_count": 30,
   "id": "bd08443c",
   "metadata": {},
   "outputs": [],
   "source": [
    "from Auto_Pipeline import PlayerPipeline\n",
    "from sklearn.ensemble import RandomForestRegressor"
   ]
  },
  {
   "cell_type": "markdown",
   "id": "04ba5b95",
   "metadata": {},
   "source": [
    "# Avto Pipeline RandomForestRegressor"
   ]
  },
  {
   "cell_type": "code",
   "execution_count": 27,
   "id": "0b4223ee",
   "metadata": {},
   "outputs": [
    {
     "name": "stdout",
     "output_type": "stream",
     "text": [
      "R2 score: 0.9793657324895086\n"
     ]
    }
   ],
   "source": [
    "from sklearn.ensemble import RandomForestRegressor\n",
    "\n",
    "pipeline_rf = PlayerPipeline(df=df, target=\"life_span\", model=RandomForestRegressor(n_estimators=100))\n",
    "pipeline_rf.fit()\n",
    "y_pred = pipeline_rf.predict()\n",
    "\n",
    "# R2 ballini olish\n",
    "r2_score = pipeline_rf.score()\n",
    "print(\"R2 score:\", r2_score)"
   ]
  },
  {
   "cell_type": "code",
   "execution_count": 34,
   "id": "97b1ec71",
   "metadata": {},
   "outputs": [
    {
     "name": "stdout",
     "output_type": "stream",
     "text": [
      "✅ Model muvaffaqiyatli saqlandi: C:\\Users\\Rasulbek907\\Desktop\\Final_Project\\Models\\Pipeline_models\\RandomForestRegressor.joblib\n"
     ]
    }
   ],
   "source": [
    "import joblib\n",
    "import os\n",
    "\n",
    "model_path = r\"C:\\Users\\Rasulbek907\\Desktop\\Final_Project\\Models\\Pipeline_models\\RandomForestRegressor.joblib\"\n",
    "os.makedirs(os.path.dirname(model_path), exist_ok=True)\n",
    "\n",
    "joblib.dump(pipeline_rf, model_path)\n",
    "print(f\"✅ Model muvaffaqiyatli saqlandi: {model_path}\")  "
   ]
  },
  {
   "cell_type": "markdown",
   "id": "22e43791",
   "metadata": {},
   "source": [
    "# Avto Pipeline DecisionTreeRegressor"
   ]
  },
  {
   "cell_type": "code",
   "execution_count": 35,
   "id": "4112b6a9",
   "metadata": {},
   "outputs": [
    {
     "name": "stdout",
     "output_type": "stream",
     "text": [
      "Decision Tree R2 score: 1.0\n"
     ]
    }
   ],
   "source": [
    "from sklearn.tree import DecisionTreeRegressor\n",
    "\n",
    "pipeline_dt = PlayerPipeline(df=df, target=\"life_span\", model=DecisionTreeRegressor())\n",
    "pipeline_dt.fit()\n",
    "y_pred = pipeline_dt.predict()\n",
    "\n",
    "r2_score = pipeline_dt.score()\n",
    "print(\"Decision Tree R2 score:\", r2_score)"
   ]
  },
  {
   "cell_type": "code",
   "execution_count": 36,
   "id": "6b672371",
   "metadata": {},
   "outputs": [
    {
     "name": "stdout",
     "output_type": "stream",
     "text": [
      "✅ Model muvaffaqiyatli saqlandi: C:\\Users\\Rasulbek907\\Desktop\\Final_Project\\Models\\Pipeline_models\\DecisionTreeRegressor.joblib\n"
     ]
    }
   ],
   "source": [
    "import joblib\n",
    "import os\n",
    "\n",
    "model_path = r\"C:\\Users\\Rasulbek907\\Desktop\\Final_Project\\Models\\Pipeline_models\\DecisionTreeRegressor.joblib\"\n",
    "os.makedirs(os.path.dirname(model_path), exist_ok=True)\n",
    "\n",
    "joblib.dump(pipeline_dt, model_path)\n",
    "print(f\"✅ Model muvaffaqiyatli saqlandi: {model_path}\")  "
   ]
  },
  {
   "cell_type": "markdown",
   "id": "bf0ed689",
   "metadata": {},
   "source": [
    "# Avto Pipeline LinearRegression"
   ]
  },
  {
   "cell_type": "code",
   "execution_count": 37,
   "id": "ef05486d",
   "metadata": {},
   "outputs": [
    {
     "name": "stdout",
     "output_type": "stream",
     "text": [
      "Linear Regression R2 score: 0.28072223391048257\n"
     ]
    }
   ],
   "source": [
    "from sklearn.linear_model import LinearRegression\n",
    "\n",
    "pipeline_lr = PlayerPipeline(df=df, target=\"life_span\", model=LinearRegression())\n",
    "pipeline_lr.fit()\n",
    "y_pred = pipeline_lr.predict()\n",
    "\n",
    "r2_score = pipeline_lr.score()\n",
    "print(\"Linear Regression R2 score:\", r2_score)\n"
   ]
  },
  {
   "cell_type": "code",
   "execution_count": 38,
   "id": "ce3399c8",
   "metadata": {},
   "outputs": [
    {
     "name": "stdout",
     "output_type": "stream",
     "text": [
      "✅ Model muvaffaqiyatli saqlandi: C:\\Users\\Rasulbek907\\Desktop\\Final_Project\\Models\\Pipeline_models\\LinearRegression.joblib\n"
     ]
    }
   ],
   "source": [
    "import joblib\n",
    "import os\n",
    "\n",
    "model_path = r\"C:\\Users\\Rasulbek907\\Desktop\\Final_Project\\Models\\Pipeline_models\\LinearRegression.joblib\"\n",
    "os.makedirs(os.path.dirname(model_path), exist_ok=True)\n",
    "\n",
    "joblib.dump(pipeline_lr, model_path)\n",
    "print(f\"✅ Model muvaffaqiyatli saqlandi: {model_path}\")  "
   ]
  },
  {
   "cell_type": "markdown",
   "id": "753a5534",
   "metadata": {},
   "source": [
    "# Avto Pipeline XGBRegressor"
   ]
  },
  {
   "cell_type": "code",
   "execution_count": 39,
   "id": "a3949e24",
   "metadata": {},
   "outputs": [
    {
     "name": "stdout",
     "output_type": "stream",
     "text": [
      "XGBoost R2 score: 0.9999890598280091\n"
     ]
    }
   ],
   "source": [
    "from xgboost import XGBRegressor\n",
    "\n",
    "pipeline_xgb = PlayerPipeline(df=df, target=\"life_span\", model=XGBRegressor())\n",
    "pipeline_xgb.fit()\n",
    "y_pred = pipeline_xgb.predict()\n",
    "\n",
    "r2_score = pipeline_xgb.score()\n",
    "print(\"XGBoost R2 score:\", r2_score)\n"
   ]
  },
  {
   "cell_type": "code",
   "execution_count": 40,
   "id": "55e59f3d",
   "metadata": {},
   "outputs": [
    {
     "name": "stdout",
     "output_type": "stream",
     "text": [
      "✅ Model muvaffaqiyatli saqlandi: C:\\Users\\Rasulbek907\\Desktop\\Final_Project\\Models\\Pipeline_models\\XGBRegressor.joblib\n"
     ]
    }
   ],
   "source": [
    "import joblib\n",
    "import os\n",
    "\n",
    "model_path = r\"C:\\Users\\Rasulbek907\\Desktop\\Final_Project\\Models\\Pipeline_models\\XGBRegressor.joblib\"\n",
    "os.makedirs(os.path.dirname(model_path), exist_ok=True)\n",
    "\n",
    "joblib.dump(pipeline_xgb, model_path)\n",
    "print(f\"✅ Model muvaffaqiyatli saqlandi: {model_path}\")  "
   ]
  },
  {
   "cell_type": "markdown",
   "id": "fd52d4ee",
   "metadata": {},
   "source": [
    "# Natijalarni Taqqoslash "
   ]
  },
  {
   "cell_type": "code",
   "execution_count": 26,
   "id": "62fe7175",
   "metadata": {},
   "outputs": [
    {
     "name": "stderr",
     "output_type": "stream",
     "text": [
      "C:\\Users\\Rasulbek907\\AppData\\Local\\Temp\\ipykernel_8640\\2281722370.py:8: FutureWarning: \n",
      "\n",
      "Passing `palette` without assigning `hue` is deprecated and will be removed in v0.14.0. Assign the `x` variable to `hue` and set `legend=False` for the same effect.\n",
      "\n",
      "  sns.barplot(x=\"Model\", y=\"R2 Score\", data=results_df, palette=palette)\n"
     ]
    },
    {
     "data": {
      "image/png": "[encoded data removed]",
      "text/plain": [
       "<Figure size 800x600 with 1 Axes>"
      ]
     },
     "metadata": {},
     "output_type": "display_data"
    }
   ],
   "source": [
    "# Ranglar ro'yxatini yaratamiz (qizil - eng yaxshisi, ko'k - boshqalari)\n",
    "colors = results_df[\"R2 Score\"].apply(lambda x: 'red' if x == max_r2 else 'blue')\n",
    "\n",
    "# Palette uchun dictionary yaratamiz: model nomi -> rang\n",
    "palette = dict(zip(results_df[\"Model\"], colors))\n",
    "\n",
    "plt.figure(figsize=(8, 6))\n",
    "sns.barplot(x=\"Model\", y=\"R2 Score\", data=results_df, palette=palette)\n",
    "\n",
    "plt.title(\"Modellarning R2 baholari\")\n",
    "plt.ylim(0, 1)\n",
    "plt.ylabel(\"R2 Score\")\n",
    "plt.xlabel(\"Model\")\n",
    "\n",
    "for i, (r2, color) in enumerate(zip(results_df[\"R2 Score\"], colors)):\n",
    "    plt.text(i, r2 + 0.02, f\"{r2:.3f}\", ha='center', color=color, fontweight='bold')\n",
    "\n",
    "plt.show()\n"
   ]
  },
  {
   "cell_type": "code",
   "execution_count": null,
   "id": "98c7347a",
   "metadata": {},
   "outputs": [],
   "source": []
  }
 ],
 "metadata": {
  "kernelspec": {
   "display_name": "myvenv",
   "language": "python",
   "name": "python3"
  },
  "language_info": {
   "codemirror_mode": {
    "name": "ipython",
    "version": 3
   },
   "file_extension": ".py",
   "mimetype": "text/x-python",
   "name": "python",
   "nbconvert_exporter": "python",
   "pygments_lexer": "ipython3",
   "version": "3.13.7"
  }
 },
 "nbformat": 4,
 "nbformat_minor": 5
}
